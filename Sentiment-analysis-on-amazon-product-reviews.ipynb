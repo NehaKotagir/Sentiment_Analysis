<!DOCTYPE html>
<!-- saved from url=(0073)https://colab.research.google.com/drive/1t3MxhL-UGpniI56v79xwwTF6j2P-G-km -->
<html lang="en" theme="adaptive" editor="Default Light"><head><meta http-equiv="Content-Type" content="text/html; charset=UTF-8"><meta http-equiv="origin-trial" content="A/kargTFyk8MR5ueravczef/wIlTkbVk1qXQesp39nV+xNECPdLBVeYffxrM8TmZT6RArWGQVCJ0LRivD7glcAUAAACQeyJvcmlnaW4iOiJodHRwczovL2dvb2dsZS5jb206NDQzIiwiZmVhdHVyZSI6IkRpc2FibGVUaGlyZFBhcnR5U3RvcmFnZVBhcnRpdGlvbmluZzIiLCJleHBpcnkiOjE3NDIzNDIzOTksImlzU3ViZG9tYWluIjp0cnVlLCJpc1RoaXJkUGFydHkiOnRydWV9"><meta http-equiv="origin-trial" content="A/kargTFyk8MR5ueravczef/wIlTkbVk1qXQesp39nV+xNECPdLBVeYffxrM8TmZT6RArWGQVCJ0LRivD7glcAUAAACQeyJvcmlnaW4iOiJodHRwczovL2dvb2dsZS5jb206NDQzIiwiZmVhdHVyZSI6IkRpc2FibGVUaGlyZFBhcnR5U3RvcmFnZVBhcnRpdGlvbmluZzIiLCJleHBpcnkiOjE3NDIzNDIzOTksImlzU3ViZG9tYWluIjp0cnVlLCJpc1RoaXJkUGFydHkiOnRydWV9"><script type="text/javascript" async="" charset="utf-8" src="./Sentiment-analysis-on-amazon-product-reviews_files/recaptcha__en.js.download" crossorigin="anonymous" integrity="sha384-CUWl3AwpNax4J2/ffIDxMr+sLnEFg8pkj5QqZtMtJZtrL5bS5QTkIoza4qZakWjL" nonce=""></script><script type="text/javascript" async="" charset="utf-8" src="./Sentiment-analysis-on-amazon-product-reviews_files/recaptcha__en.js.download" crossorigin="anonymous" integrity="sha384-CUWl3AwpNax4J2/ffIDxMr+sLnEFg8pkj5QqZtMtJZtrL5bS5QTkIoza4qZakWjL" nonce=""></script><script src="./Sentiment-analysis-on-amazon-product-reviews_files/cb=gapi.loaded_1" nonce="" async=""></script><script src="./Sentiment-analysis-on-amazon-product-reviews_files/cb=gapi.loaded_0" nonce="" async=""></script><script type="text/javascript" async="" src="./Sentiment-analysis-on-amazon-product-reviews_files/js" nonce=""></script><script async="" src="./Sentiment-analysis-on-amazon-product-reviews_files/analytics.js.download"></script><script nonce="">
      document.addEventListener('keydown', (e) => {
        // Stop propagation on ESC because otherwise it will halt outbound XHRs
        // See b/131755324 for more info.
        if (e.key === 'Escape') {
          e.stopPropagation();
          e.preventDefault();
        }
      });
    </script><meta name="referrer" content="origin"><meta name="viewport" content="width=device-width, initial-scale=1"><title>sentiment-analysis-on-amazon-product-reviews.ipynb - Colab</title><link href="./Sentiment-analysis-on-amazon-product-reviews_files/css2" rel="stylesheet"><link href="./Sentiment-analysis-on-amazon-product-reviews_files/css" rel="stylesheet"><link rel="search" type="application/opensearchdescription+xml" href="https://colab.research.google.com/opensearch.xml" title="Google Colab"><style>.gb_9a:not(.gb_bd){font:13px/27px Roboto,Arial,sans-serif;z-index:986}@-webkit-keyframes gb__a{0%{opacity:0}50%{opacity:1}}@keyframes gb__a{0%{opacity:0}50%{opacity:1}}.gb_Fd{display:inline-block;padding:4px 4px 4px 4px;vertical-align:middle}.gb_Id .gb_r{bottom:-3px;right:-5px}.gb_Fd:first-child,#gbsfw:first-child+.gb_Fd{padding-left:0}.gb_f{position:relative}.gb_d{display:inline-block;outline:none;vertical-align:middle;border-radius:2px;box-sizing:border-box;height:40px;width:40px;cursor:pointer;text-decoration:none}#gb#gb a.gb_d{cursor:pointer;text-decoration:none}.gb_d,a.gb_d{color:#000}.gb_4e{border-color:transparent;border-bottom-color:#fff;border-style:dashed dashed solid;border-width:0 8.5px 8.5px;display:none;position:absolute;left:11.5px;top:33px;z-index:1;height:0;width:0;-webkit-animation:gb__a .2s;animation:gb__a .2s}.gb_5e{border-color:transparent;border-style:dashed dashed solid;border-width:0 8.5px 8.5px;display:none;position:absolute;left:11.5px;z-index:1;height:0;width:0;-webkit-animation:gb__a .2s;animation:gb__a .2s;border-bottom-color:rgba(0,0,0,.2);top:32px}x:-o-prefocus,div.gb_5e{border-bottom-color:#ccc}.gb_W{background:#fff;border:1px solid #ccc;border-color:rgba(0,0,0,.2);color:#000;-webkit-box-shadow:0 2px 10px rgba(0,0,0,.2);box-shadow:0 2px 10px rgba(0,0,0,.2);display:none;outline:none;overflow:hidden;position:absolute;right:8px;top:62px;-webkit-animation:gb__a .2s;animation:gb__a .2s;border-radius:2px;-webkit-user-select:text}.gb_Fd.gb_Ea .gb_4e,.gb_Fd.gb_Ea .gb_5e,.gb_Fd.gb_Ea .gb_W,.gb_Ea.gb_W{display:block}.gb_Fd.gb_Ea.gb_6e .gb_4e,.gb_Fd.gb_Ea.gb_6e .gb_5e{display:none}.gb_Jd{position:absolute;right:8px;top:62px;z-index:-1}.gb_0a .gb_4e,.gb_0a .gb_5e,.gb_0a .gb_W{margin-top:-10px}a.gb_ra{border:none;color:#4285f4;cursor:default;font-weight:bold;outline:none;position:relative;text-align:center;text-decoration:none;text-transform:uppercase;white-space:nowrap;-webkit-user-select:none}a.gb_ra:hover:after,a.gb_ra:focus:after{background-color:rgba(0,0,0,.12);content:"";height:100%;left:0;position:absolute;top:0;width:100%}a.gb_ra:hover,a.gb_ra:focus{text-decoration:none}a.gb_ra:active{background-color:rgba(153,153,153,.4);text-decoration:none}a.gb_sa{background-color:#4285f4;color:#fff}a.gb_sa:active{background-color:#0043b2}.gb_ta{box-shadow:0 1px 1px rgba(0,0,0,.16)}.gb_ra,.gb_sa,.gb_ua,.gb_va{display:inline-block;line-height:28px;padding:0 12px;border-radius:2px}.gb_ua{background:#f8f8f8;border:1px solid #c6c6c6}.gb_va{background:#f8f8f8}.gb_ua,#gb a.gb_ua.gb_ua,.gb_va{color:#666;cursor:default;text-decoration:none}#gb a.gb_va{cursor:default;text-decoration:none}.gb_va{border:1px solid #4285f4;font-weight:bold;outline:none;background:#4285f4;background:-webkit-gradient(linear,left top,left bottom,from(top),color-stop(#4387fd),to(#4683ea));background:-webkit-linear-gradient(top,#4387fd,#4683ea);background:linear-gradient(top,#4387fd,#4683ea);filter:progid:DXImageTransform.Microsoft.gradient(startColorstr=#4387fd,endColorstr=#4683ea,GradientType=0)}#gb a.gb_va{color:#fff}.gb_va:hover{box-shadow:0 1px 0 rgba(0,0,0,.15)}.gb_va:active{box-shadow:inset 0 2px 0 rgba(0,0,0,.15);background:#3c78dc;background:-webkit-gradient(linear,left top,left bottom,from(top),color-stop(#3c7ae4),to(#3f76d3));background:-webkit-linear-gradient(top,#3c7ae4,#3f76d3);background:linear-gradient(top,#3c7ae4,#3f76d3);filter:progid:DXImageTransform.Microsoft.gradient(startColorstr=#3c7ae4,endColorstr=#3f76d3,GradientType=0)}#gb .gb_wa{background:#fff;border:1px solid #dadce0;color:#1a73e8;display:inline-block;text-decoration:none}#gb .gb_wa:hover{background:#f8fbff;border-color:#dadce0;color:#174ea6}#gb .gb_wa:focus{background:#f4f8ff;color:#174ea6;outline:1px solid #174ea6}#gb .gb_wa:active,#gb .gb_wa:focus:active{background:#ecf3fe;color:#174ea6}#gb .gb_wa.gb_i{background:transparent;border:1px solid #5f6368;color:#8ab4f8;text-decoration:none}#gb .gb_wa.gb_i:hover{background:rgba(255,255,255,.04);color:#e8eaed}#gb .gb_wa.gb_i:focus{background:rgba(232,234,237,.12);color:#e8eaed;outline:1px solid #e8eaed}#gb .gb_wa.gb_i:active,#gb .gb_wa.gb_i:focus:active{background:rgba(232,234,237,.1);color:#e8eaed}.gb_Fd:first-child,#gbsfw:first-child+.gb_Fd{padding-left:4px}.gb_ha.gb_Kd .gb_Fd:first-child{padding-left:0}.gb_Ld{position:relative}.gb_Xc .gb_Ld,.gb_dd .gb_Ld{float:right}.gb_d{padding:8px;cursor:pointer}.gb_d:after{content:"";position:absolute;top:-4px;bottom:-4px;left:-4px;right:-4px}.gb_ha .gb_9d:not(.gb_ra):focus img{background-color:rgba(0,0,0,.2);outline:none;-webkit-border-radius:50%;border-radius:50%}.gb_Md button svg,.gb_d{-webkit-border-radius:50%;border-radius:50%}.gb_Md button:focus:not(:focus-visible) svg,.gb_Md button:hover svg,.gb_Md button:active svg,.gb_d:focus:not(:focus-visible),.gb_d:hover,.gb_d:active,.gb_d[aria-expanded=true]{outline:none}.gb_Hc .gb_Md.gb_ie button:focus-visible svg,.gb_Md button:focus-visible svg,.gb_d:focus-visible{outline:1px solid #202124}.gb_Hc .gb_Md button:focus-visible svg,.gb_Hc .gb_d:focus-visible{outline:1px solid #f1f3f4}@media (forced-colors:active){.gb_Hc .gb_Md.gb_ie button:focus-visible svg,.gb_Md button:focus-visible svg,.gb_Hc .gb_Md button:focus-visible svg{outline:1px solid currentcolor}}.gb_Hc .gb_Md.gb_ie button:focus svg,.gb_Hc .gb_Md.gb_ie button:focus:hover svg,.gb_Md button:focus svg,.gb_Md button:focus:hover svg,.gb_d:focus,.gb_d:focus:hover{background-color:rgba(60,64,67,.1)}.gb_Hc .gb_Md.gb_ie button:active svg,.gb_Md button:active svg,.gb_d:active{background-color:rgba(60,64,67,.12)}.gb_Hc .gb_Md.gb_ie button:hover svg,.gb_Md button:hover svg,.gb_d:hover{background-color:rgba(60,64,67,.08)}.gb_xa .gb_d.gb_za:hover{background-color:transparent}.gb_d[aria-expanded=true],.gb_d:hover[aria-expanded=true]{background-color:rgba(95,99,104,.24)}.gb_d[aria-expanded=true] .gb_h{fill:#5f6368;opacity:1}.gb_Hc .gb_Md button:hover svg,.gb_Hc .gb_d:hover{background-color:rgba(232,234,237,.08)}.gb_Hc .gb_Md button:focus svg,.gb_Hc .gb_Md button:focus:hover svg,.gb_Hc .gb_d:focus,.gb_Hc .gb_d:focus:hover{background-color:rgba(232,234,237,.1)}.gb_Hc .gb_Md button:active svg,.gb_Hc .gb_d:active{background-color:rgba(232,234,237,.12)}.gb_Hc .gb_d[aria-expanded=true],.gb_Hc .gb_d:hover[aria-expanded=true]{background-color:rgba(255,255,255,.12)}.gb_Hc .gb_d[aria-expanded=true] .gb_h{fill:#fff;opacity:1}.gb_Fd{padding:4px}.gb_ha.gb_Kd .gb_Fd{padding:4px 2px}.gb_ha.gb_Kd .gb_b.gb_Fd{padding-left:6px}.gb_W{z-index:991;line-height:normal}.gb_W.gb_Nd{left:0;right:auto}@media (max-width:350px){.gb_W.gb_Nd{left:0}}.gb_Od .gb_W{top:56px}.gb_m{display:none!important}.gb_Ta{visibility:hidden}.gb_k .gb_d,.gb_V .gb_k .gb_d{background-position:-64px -29px}.gb_B .gb_k .gb_d{background-position:-29px -29px;opacity:1}.gb_k .gb_d,.gb_k .gb_d:hover,.gb_k .gb_d:focus{opacity:1}.gb_n{display:none}@media screen and (max-width:319px){.gb_jd:not(.gb_pd) .gb_k{display:none;visibility:hidden}}.gb_r{display:none}.gb_6c{font-family:Google Sans,Roboto,Helvetica,Arial,sans-serif;font-size:20px;font-weight:400;letter-spacing:0.25px;line-height:48px;margin-bottom:2px;opacity:1;overflow:hidden;padding-left:16px;position:relative;text-overflow:ellipsis;vertical-align:middle;top:2px;white-space:nowrap;-webkit-flex:1 1 auto;-webkit-box-flex:1;flex:1 1 auto}.gb_6c.gb_7c{color:#3c4043}.gb_ha.gb_Ja .gb_6c{margin-bottom:0}.gb_8c.gb_9c .gb_6c{padding-left:4px}.gb_ha.gb_Ja .gb_ad{position:relative;top:-2px}.gb_ha{color:black;min-width:160px;position:relative;-webkit-transition:box-shadow 250ms;transition:box-shadow 250ms}.gb_ha.gb_Pc{min-width:120px}.gb_ha.gb_hd .gb_id{display:none}.gb_ha.gb_hd .gb_jd{height:56px}header.gb_ha{display:block}.gb_ha svg{fill:currentColor}.gb_kd{position:fixed;top:0;width:100%}.gb_ld{-webkit-box-shadow:0 4px 5px 0 rgba(0,0,0,.14),0 1px 10px 0 rgba(0,0,0,.12),0 2px 4px -1px rgba(0,0,0,.2);box-shadow:0 4px 5px 0 rgba(0,0,0,.14),0 1px 10px 0 rgba(0,0,0,.12),0 2px 4px -1px rgba(0,0,0,.2)}.gb_md{height:64px}.gb_jd{-webkit-box-sizing:border-box;box-sizing:border-box;position:relative;width:100%;display:-webkit-box;display:-webkit-flex;display:flex;-webkit-box-pack:space-between;-webkit-justify-content:space-between;justify-content:space-between;min-width:-webkit-min-content;min-width:min-content}.gb_ha:not(.gb_Ja) .gb_jd{padding:8px}.gb_ha.gb_od .gb_jd{-webkit-flex:1 0 auto;-webkit-box-flex:1;flex:1 0 auto}.gb_ha .gb_jd.gb_pd.gb_qd{min-width:0}.gb_ha.gb_Ja .gb_jd{padding:4px;padding-left:8px;min-width:0}.gb_id{height:48px;vertical-align:middle;white-space:nowrap;-webkit-box-align:center;-webkit-align-items:center;align-items:center;display:-webkit-box;display:-webkit-flex;display:flex;-webkit-user-select:none}.gb_sd>.gb_id{display:table-cell;width:100%}.gb_8c{padding-right:30px;box-sizing:border-box;-webkit-flex:1 0 auto;-webkit-box-flex:1;flex:1 0 auto}.gb_ha.gb_Ja .gb_8c{padding-right:14px}.gb_td{-webkit-flex:1 1 100%;-webkit-box-flex:1;flex:1 1 100%}.gb_td>:only-child{display:inline-block}.gb_ud.gb_Zc{padding-left:4px}.gb_ud.gb_vd,.gb_ha.gb_od .gb_ud,.gb_ha.gb_Ja:not(.gb_dd) .gb_ud{padding-left:0}.gb_ha.gb_Ja .gb_ud.gb_vd{padding-right:0}.gb_ha.gb_Ja .gb_ud.gb_vd .gb_xa{margin-left:10px}.gb_Zc{display:inline}.gb_ha.gb_Sc .gb_ud.gb_wd,.gb_ha.gb_dd .gb_ud.gb_wd{padding-left:2px}.gb_6c{display:inline-block}.gb_ud{-webkit-box-sizing:border-box;box-sizing:border-box;height:48px;line-height:normal;padding:0 4px;padding-left:30px;-webkit-flex:0 0 auto;-webkit-box-flex:0;flex:0 0 auto;-webkit-box-pack:flex-end;-webkit-justify-content:flex-end;justify-content:flex-end}.gb_dd{height:48px}.gb_ha.gb_dd{min-width:auto}.gb_dd .gb_ud{float:right;padding-left:32px}.gb_dd .gb_ud.gb_xd{padding-left:0}.gb_yd{font-size:14px;max-width:200px;overflow:hidden;padding:0 12px;text-overflow:ellipsis;white-space:nowrap;-webkit-user-select:text}.gb_cd{-webkit-transition:background-color .4s;-webkit-transition:background-color .4s;transition:background-color .4s}.gb_Dd{color:black}.gb_Hc{color:white}.gb_ha a,.gb_Mc a{color:inherit}.gb_M{color:rgba(0,0,0,.87)}.gb_ha svg,.gb_Mc svg,.gb_8c .gb_gd,.gb_Xc .gb_gd{color:#5f6368;opacity:1}.gb_Hc svg,.gb_Mc.gb_Qc svg,.gb_Hc .gb_8c .gb_gd,.gb_Hc .gb_8c .gb_Fc,.gb_Hc .gb_8c .gb_ad,.gb_Mc.gb_Qc .gb_gd{color:rgba(255,255,255,.87)}.gb_Hc .gb_8c .gb_Ec:not(.gb_Ed){opacity:.87}.gb_7c{color:inherit;opacity:1;text-rendering:optimizeLegibility;-webkit-font-smoothing:antialiased}.gb_Hc .gb_7c,.gb_Dd .gb_7c{opacity:1}.gb_zd{position:relative}.gb_o{font-family:arial,sans-serif;line-height:normal;padding-right:15px}a.gb_y,span.gb_y{color:rgba(0,0,0,.87);text-decoration:none}.gb_Hc a.gb_y,.gb_Hc span.gb_y{color:white}a.gb_y:focus{outline-offset:2px}a.gb_y:hover{text-decoration:underline}.gb_z{display:inline-block;padding-left:15px}.gb_z .gb_y{display:inline-block;line-height:24px;vertical-align:middle}.gb_ed{font-family:Google Sans,Roboto,Helvetica,Arial,sans-serif;font-weight:500;font-size:14px;letter-spacing:.25px;line-height:16px;margin-left:10px;margin-right:8px;min-width:96px;padding:9px 23px;text-align:center;vertical-align:middle;border-radius:4px;box-sizing:border-box}.gb_ha.gb_dd .gb_ed{margin-left:8px}#gb a.gb_va.gb_ed{cursor:pointer}.gb_va.gb_ed:hover{background:#1b66c9;-webkit-box-shadow:0 1px 3px 1px rgba(66,64,67,.15),0 1px 2px 0 rgba(60,64,67,.3);box-shadow:0 1px 3px 1px rgba(66,64,67,.15),0 1px 2px 0 rgba(60,64,67,.3)}.gb_va.gb_ed:focus,.gb_va.gb_ed:hover:focus{background:#1c5fba;-webkit-box-shadow:0 1px 3px 1px rgba(66,64,67,.15),0 1px 2px 0 rgba(60,64,67,.3);box-shadow:0 1px 3px 1px rgba(66,64,67,.15),0 1px 2px 0 rgba(60,64,67,.3)}.gb_va.gb_ed:active{background:#1b63c1;-webkit-box-shadow:0 1px 3px 1px rgba(66,64,67,.15),0 1px 2px 0 rgba(60,64,67,.3);box-shadow:0 1px 3px 1px rgba(66,64,67,.15),0 1px 2px 0 rgba(60,64,67,.3)}.gb_ed{background:#1a73e8;border:1px solid transparent}.gb_ha.gb_Ja .gb_ed{padding:9px 15px;min-width:80px}.gb_Ad{text-align:left}#gb .gb_Hc a.gb_ed:not(.gb_i),#gb.gb_Hc a.gb_ed{background:#fff;border-color:#dadce0;-webkit-box-shadow:none;box-shadow:none;color:#1a73e8}#gb a.gb_va.gb_i.gb_ed{background:#8ab4f8;border:1px solid transparent;-webkit-box-shadow:none;box-shadow:none;color:#202124}#gb .gb_Hc a.gb_ed:hover:not(.gb_i),#gb.gb_Hc a.gb_ed:hover{background:#f8fbff;border-color:#cce0fc}#gb a.gb_va.gb_i.gb_ed:hover{background:#93baf9;border-color:transparent;-webkit-box-shadow:0 1px 3px 1px rgba(0,0,0,.15),0 1px 2px rgba(0,0,0,.3);box-shadow:0 1px 3px 1px rgba(0,0,0,.15),0 1px 2px rgba(0,0,0,.3)}#gb .gb_Hc a.gb_ed:focus:not(.gb_i),#gb .gb_Hc a.gb_ed:focus:hover:not(.gb_i),#gb.gb_Hc a.gb_ed:focus:not(.gb_i),#gb.gb_Hc a.gb_ed:focus:hover:not(.gb_i){background:#f4f8ff;outline:1px solid #c9ddfc}#gb a.gb_va.gb_i.gb_ed:focus,#gb a.gb_va.gb_i.gb_ed:focus:hover{background:#a6c6fa;border-color:transparent;-webkit-box-shadow:none;box-shadow:none}#gb .gb_Hc a.gb_ed:active:not(.gb_i),#gb.gb_Hc a.gb_ed:active{background:#ecf3fe}#gb a.gb_va.gb_i.gb_ed:active{background:#a1c3f9;-webkit-box-shadow:0 1px 2px rgba(60,64,67,.3),0 2px 6px 2px rgba(60,64,67,.15);box-shadow:0 1px 2px rgba(60,64,67,.3),0 2px 6px 2px rgba(60,64,67,.15)}.gb_l{display:none}@media screen and (max-width:319px){.gb_jd:not(.gb_pd) .gb_k{display:none;visibility:hidden}}.gb_xa{background-color:rgba(255,255,255,.88);border:1px solid #dadce0;-webkit-box-sizing:border-box;box-sizing:border-box;cursor:pointer;display:inline-block;max-height:48px;overflow:hidden;outline:none;padding:0;vertical-align:middle;width:134px;-webkit-border-radius:8px;border-radius:8px}.gb_xa.gb_i{background-color:transparent;border:1px solid #5f6368}.gb_Da{display:inherit}.gb_xa.gb_i .gb_Da{background:#fff;-webkit-border-radius:4px;border-radius:4px;display:inline-block;left:8px;margin-right:5px;position:relative;padding:3px;top:-1px}.gb_xa:hover{border:1px solid #d2e3fc;background-color:rgba(248,250,255,.88)}.gb_xa.gb_i:hover{background-color:rgba(241,243,244,.04);border:1px solid #5f6368}.gb_xa:focus-visible,.gb_xa:focus{background-color:#fff;outline:1px solid #202124;-webkit-box-shadow:0 1px 2px 0 rgba(60,64,67,.3),0 1px 3px 1px rgba(60,64,67,.15);box-shadow:0 1px 2px 0 rgba(60,64,67,.3),0 1px 3px 1px rgba(60,64,67,.15)}.gb_xa.gb_i:focus-visible,.gb_xa.gb_i:focus{background-color:rgba(241,243,244,.12);outline:1px solid #f1f3f4;-webkit-box-shadow:0 1px 3px 1px rgba(0,0,0,.15),0 1px 2px 0 rgba(0,0,0,.3);box-shadow:0 1px 3px 1px rgba(0,0,0,.15),0 1px 2px 0 rgba(0,0,0,.3)}.gb_xa.gb_i:active,.gb_xa.gb_Ea.gb_i:focus{background-color:rgba(241,243,244,.1);border:1px solid #5f6368}.gb_Fa{display:inline-block;padding-bottom:2px;padding-left:7px;padding-top:2px;text-align:center;vertical-align:middle;line-height:32px;width:78px}.gb_xa.gb_i .gb_Fa{line-height:26px;margin-left:0;padding-bottom:0;padding-left:0;padding-top:0;width:72px}.gb_Fa.gb_Ha{background-color:#f1f3f4;-webkit-border-radius:4px;border-radius:4px;margin-left:8px;padding-left:0;line-height:30px}.gb_Fa.gb_Ha .gb_Ia{vertical-align:middle}.gb_ha:not(.gb_Ja) .gb_xa{margin-left:10px;margin-right:4px}.gb_Ka{max-height:32px;width:78px}.gb_xa.gb_i .gb_Ka{max-height:26px;width:72px}.gb_q{-webkit-background-size:32px 32px;background-size:32px 32px;border:0;-webkit-border-radius:50%;border-radius:50%;display:block;margin:0px;position:relative;height:32px;width:32px;z-index:0}.gb_Ua{background-color:#e8f0fe;border:1px solid rgba(32,33,36,.08);position:relative}.gb_Ua.gb_q{height:30px;width:30px}.gb_Ua.gb_q:hover,.gb_Ua.gb_q:active{-webkit-box-shadow:none;box-shadow:none}.gb_Va{background:#fff;border:none;-webkit-border-radius:50%;border-radius:50%;bottom:2px;-webkit-box-shadow:0px 1px 2px 0px rgba(60,64,67,.30),0px 1px 3px 1px rgba(60,64,67,.15);box-shadow:0px 1px 2px 0px rgba(60,64,67,.30),0px 1px 3px 1px rgba(60,64,67,.15);height:14px;margin:2px;position:absolute;right:0;width:14px}.gb_Wa{color:#1f71e7;font:400 22px/32px Google Sans,Roboto,Helvetica,Arial,sans-serif;text-align:center;text-transform:uppercase}@media (-webkit-min-device-pixel-ratio:1.25),(min-resolution:1.25dppx),(min-device-pixel-ratio:1.25){.gb_q::before,.gb_Xa::before{display:inline-block;-webkit-transform:scale(0.5);-webkit-transform:scale(0.5);transform:scale(0.5);-webkit-transform-origin:left 0;-webkit-transform-origin:left 0;transform-origin:left 0}.gb_D .gb_Xa::before{-webkit-transform:scale(scale(0.416666667));-webkit-transform:scale(scale(0.416666667));transform:scale(scale(0.416666667))}}.gb_q:hover,.gb_q:focus{-webkit-box-shadow:0 1px 0 rgba(0,0,0,.15);box-shadow:0 1px 0 rgba(0,0,0,.15)}.gb_q:active{-webkit-box-shadow:inset 0 2px 0 rgba(0,0,0,.15);box-shadow:inset 0 2px 0 rgba(0,0,0,.15)}.gb_q:active::after{background:rgba(0,0,0,.1);-webkit-border-radius:50%;border-radius:50%;content:"";display:block;height:100%}.gb_Za{cursor:pointer;line-height:40px;min-width:30px;opacity:.75;overflow:hidden;vertical-align:middle;text-overflow:ellipsis}.gb_d.gb_Za{width:auto}.gb_Za:hover,.gb_Za:focus{opacity:.85}.gb_0a .gb_Za,.gb_0a .gb_1a{line-height:26px}#gb#gb.gb_0a a.gb_Za,.gb_0a .gb_1a{font-size:11px;height:auto}.gb_2a{border-top:4px solid #000;border-left:4px dashed transparent;border-right:4px dashed transparent;display:inline-block;margin-left:6px;opacity:.75;vertical-align:middle}.gb_za:hover .gb_2a{opacity:.85}.gb_xa>.gb_b{padding:3px 3px 3px 4px}.gb_3a.gb_Ta{color:#fff}.gb_B .gb_Za,.gb_B .gb_2a{opacity:1}#gb#gb.gb_B.gb_B a.gb_Za,#gb#gb .gb_B.gb_B a.gb_Za{color:#fff}.gb_B.gb_B .gb_2a{border-top-color:#fff;opacity:1}.gb_V .gb_q:hover,.gb_B .gb_q:hover,.gb_V .gb_q:focus,.gb_B .gb_q:focus{-webkit-box-shadow:0 1px 0 rgba(0,0,0,.15),0 1px 2px rgba(0,0,0,.2);box-shadow:0 1px 0 rgba(0,0,0,.15),0 1px 2px rgba(0,0,0,.2)}.gb_4a .gb_b,.gb_5a .gb_b{position:absolute;right:1px}.gb_b.gb_A,.gb_6a.gb_A,.gb_za.gb_A{-webkit-flex:0 1 auto;-webkit-box-flex:0;flex:0 1 auto}.gb_7a.gb_8a .gb_Za{width:30px!important}.gb_p{height:40px;position:absolute;right:-5px;top:-5px;width:40px}.gb_9a .gb_p,.gb_ab .gb_p{right:0;top:0}.gb_b .gb_d{padding:4px}.gb_s{display:none}sentinel{}</style><script nonce="">;this.gbar_={CONFIG:[[[0,"www.gstatic.com","og.qtm.en_US.KZAWJ1ProoE.2019.O","co.in","en","425",0,[4,2,"","","","662508795","0"],null,"ERDCZt7hELK4p84P7f2gmAw",null,0,"og.qtm.mfypcKMzPvw.L.W.O","AA2YrTv0taM5qVgw38gU_15kX9WFXe5TPw","AA2YrTsXU5hjdOZrxXehYcpWx5cYm18ejw","",2,1,200,"IND",null,null,"425","425",1,null,null,114591953,1],null,[1,0.1000000014901161,2,1],null,[1,0,0,null,"0","kotagirineha09@gmail.com","","AONCo6pRaYdzSX252vIo7O5DL7VltFC28urNmmGTYktrg6M0HEk1YdPBJ0pbY_r5es_nnpGQ6gRkiUvrI-wCaWPpiQckauZpTw",0,0,0,""],[0,0,"",1,0,0,0,0,0,0,null,0,0,null,0,0,null,null,0,0,0,"","","","","","",null,0,0,0,0,0,null,null,null,"rgba(32,33,36,1)","rgba(255,255,255,1)",0,0,0,null,null,null,0,null,null,0],["%1$s (default)","Brand account",1,"%1$s (delegated)",1,null,83,"https://colab.research.google.com/drive/1t3MxhL-UGpniI56v79xwwTF6j2P-G-km?authuser=$authuser",null,null,null,1,"https://accounts.google.com/ListAccounts?listPages=0\u0026authuser=0\u0026pid=425\u0026gpsia=1\u0026source=ogb\u0026atic=1\u0026mo=1\u0026mn=1\u0026hl=en\u0026ts=250",0,"dashboard",null,null,null,null,"Profile","",1,null,"Signed out","https://accounts.google.com/AccountChooser?source=ogb\u0026continue=$continue\u0026Email=$email\u0026ec=GAhAqQM","https://accounts.google.com/RemoveLocalAccount?source=ogb","Remove","Sign in",0,1,1,0,1,1,0,null,null,null,"Session expired",null,null,null,"Visitor",null,"Default","Delegated","Sign out of all accounts",1,null,null,0,null,null,"myaccount.google.com","https",0,1,0],null,["1","gci_91f30755d6a6b787dcc2a4062e6e9824.js","googleapis.client:gapi.iframes","0","en"],null,null,null,null,["m;/_/scs/abc-static/_/js/k=gapi.gapi.en.MGCxJbnW_Xw.O/am=AAAg/d=1/rs=AHpOoo9xa4htLEVH9xe6c4ToUehtTaLWvA/m=__features__","https://apis.google.com","","","1","",null,1,"es_plusone_gc_20240708.1_p2","en",null,0],[0.009999999776482582,"co.in","425",[null,"","0",null,1,5184000,null,null,"",null,null,null,null,null,0,null,0,null,1,0,0,0,null,null,0,0,null,0,0,0,0,0],null,null,null,0],[1,null,null,40400,425,"IND","en","662508795.0",8,null,1,0,null,null,null,null,"3700949,3701242,3701246,3701389,3701438",null,null,null,"ERDCZt7hELK4p84P7f2gmAw",0,0,0,null,2,5,"nn",19,0,0,0,0,1,114591953,0,0],[[null,null,null,"https://www.gstatic.com/og/_/js/k=og.qtm.en_US.KZAWJ1ProoE.2019.O/rt=j/m=qabr,qgl,q_dnp,qcwid,qbd,qapid,qads,qrcd,q_dg/exm=qaaw,qadd,qaid,qein,qhaw,qhba,qhbr,qhch,qhga,qhid,qhin/d=1/ed=1/rs=AA2YrTv0taM5qVgw38gU_15kX9WFXe5TPw"],[null,null,null,"https://www.gstatic.com/og/_/ss/k=og.qtm.mfypcKMzPvw.L.W.O/m=qcwid/excm=qaaw,qadd,qaid,qein,qhaw,qhba,qhbr,qhch,qhga,qhid,qhin/d=1/ed=1/ct=zgms/rs=AA2YrTsXU5hjdOZrxXehYcpWx5cYm18ejw"]],null,null,null,[[[null,null,[null,null,null,"https://ogs.google.com/u/0/widget/account?yac=1\u0026amb=1"],0,414,436,57,4,1,0,0,65,66,8000,"https://accounts.google.com/SignOutOptions?hl=en\u0026continue=https://colab.research.google.com/drive/1t3MxhL-UGpniI56v79xwwTF6j2P-G-km\u0026ec=GBRAqQM",68,2,null,null,1,113,"Something went wrong.%1$s Refresh to try again or %2$schoose another account%3$s.",3,null,null,75,0,null,null,null,null,null,null,null,"/widget/account",["https","myaccount.google.com",0,32,83,0],0,0,1,["Critical security alert","Important account alert","Storage usage alert"],0,1,null,1,1,1,1,null,null,0,0,0,0,0,0],[null,null,[null,null,null,"https://ogs.google.com/u/0/widget/callout/sid?dc=1"],null,280,420,70,25,0,null,0,null,null,8000,null,71,4,null,null,null,null,null,null,null,null,76,null,null,null,107,108,109,"",null,null,null,null,null,null,null,null,null,null,null,null,null,null,null,null,null,null,null,null,0]],null,null,"425","425",1,0,null,"en",0,["https://colab.research.google.com/drive/1t3MxhL-UGpniI56v79xwwTF6j2P-G-km?authuser=$authuser","https://accounts.google.com/AddSession?hl=en\u0026continue=https://colab.research.google.com/drive/1t3MxhL-UGpniI56v79xwwTF6j2P-G-km\u0026ec=GAlAqQM","https://accounts.google.com/Logout?hl=en\u0026continue=https://colab.research.google.com/drive/1t3MxhL-UGpniI56v79xwwTF6j2P-G-km\u0026timeStmp=1723994129\u0026secTok=.AG5fkS8yivkCFqwcYpsTjMwcvFB18pKeZQ\u0026ec=GAdAqQM","https://accounts.google.com/ListAccounts?listPages=0\u0026authuser=0\u0026pid=425\u0026gpsia=1\u0026source=ogb\u0026atic=1\u0026mo=1\u0026mn=1\u0026hl=en\u0026ts=250",0,0,"",0,0,null,0,0,"https://accounts.google.com/ServiceLogin?passive=true\u0026continue=https%3A%2F%2Fcolab.research.google.com%2Fdrive%2F1t3MxhL-UGpniI56v79xwwTF6j2P-G-km\u0026ec=GAZAqQM",1,1,0,0],0,0,0,[null,"https://colab.research.google.com/drive/1t3MxhL-UGpniI56v79xwwTF6j2P-G-km",null,null,null,1,null,0,0,"","","23","https://ogads-pa.clients6.google.com",0,0,0,"","",0,0,0,86400,0,0,1,0],0,null,null,null,0],null,[["mousedown","touchstart","touchmove","wheel","keydown"],300000],[[null,null,null,"https://accounts.google.com/RotateCookiesPage"],3,null,null,null,0,1]]],};this.gbar_=this.gbar_||{};(function(_){var window=this;
try{
_._F_toggles_initialize=function(a){(typeof globalThis!=="undefined"?globalThis:typeof self!=="undefined"?self:this)._F_toggles=a||[]};(0,_._F_toggles_initialize)([]);
/*

 Copyright The Closure Library Authors.
 SPDX-License-Identifier: Apache-2.0
*/
var fa,ha,ma,oa,pa,ya,za,Ba,Ca,Da,Ga,La,Ya,Xa,$a,bb,ab,cb,db,gb,hb,lb,ob,ib,nb,mb,kb,jb,pb,qb,zb,Bb,Cb,Db,Eb;_.aa=function(a,b){if(Error.captureStackTrace)Error.captureStackTrace(this,_.aa);else{const c=Error().stack;c&&(this.stack=c)}a&&(this.message=String(a));b!==void 0&&(this.cause=b)};_.ba=function(a){_.t.setTimeout(()=>{throw a;},0)};_.ca=function(){var a=_.t.navigator;return a&&(a=a.userAgent)?a:""};fa=function(a){return da?ea?ea.brands.some(({brand:b})=>b&&b.indexOf(a)!=-1):!1:!1};
_.u=function(a){return _.ca().indexOf(a)!=-1};ha=function(){return da?!!ea&&ea.brands.length>0:!1};_.ia=function(){return ha()?!1:_.u("Opera")};_.ka=function(){return ha()?!1:_.u("Trident")||_.u("MSIE")};_.la=function(){return _.u("Firefox")||_.u("FxiOS")};_.na=function(){return _.u("Safari")&&!(ma()||(ha()?0:_.u("Coast"))||_.ia()||(ha()?0:_.u("Edge"))||(ha()?fa("Microsoft Edge"):_.u("Edg/"))||(ha()?fa("Opera"):_.u("OPR"))||_.la()||_.u("Silk")||_.u("Android"))};
ma=function(){return ha()?fa("Chromium"):(_.u("Chrome")||_.u("CriOS"))&&!(ha()?0:_.u("Edge"))||_.u("Silk")};oa=function(){return da?!!ea&&!!ea.platform:!1};pa=function(){return _.u("iPhone")&&!_.u("iPod")&&!_.u("iPad")};_.qa=function(){return pa()||_.u("iPad")||_.u("iPod")};_.ra=function(){return oa()?ea.platform==="macOS":_.u("Macintosh")};_.ta=function(a,b){return _.sa(a,b)>=0};
_.ua=function(a){let b="",c=0;const d=a.length-10240;for(;c<d;)b+=String.fromCharCode.apply(null,a.subarray(c,c+=10240));b+=String.fromCharCode.apply(null,c?a.subarray(c):a);return btoa(b)};_.va=function(a){return a!=null&&a instanceof Uint8Array};_.wa=function(a){return Array.prototype.slice.call(a)};_.xa=function(a){return!!((a[_.v]|0)&2)};ya=function(a,b){b[_.v]=(a|0)&-14591};za=function(a,b){b[_.v]=(a|34)&-14557};Ba=function(a){return!(!a||typeof a!=="object"||a.i!==Aa)};
Ca=function(a){return a!==null&&typeof a==="object"&&!Array.isArray(a)&&a.constructor===Object};Da=function(a,b,c){if(!Array.isArray(a)||a.length)return!1;const d=a[_.v]|0;if(d&1)return!0;if(!(b&&(Array.isArray(b)?b.includes(c):b.has(c))))return!1;a[_.v]=d|1;return!0};_.Ea=function(a){if(a&2)throw Error();};Ga=function(a,b){(b=_.Fa?b[_.Fa]:void 0)&&(a[_.Fa]=_.wa(b))};_.Ia=function(){const a=Error();Ha(a,"incident");_.ba(a)};_.Ja=function(a){a=Error(a);Ha(a,"warning");return a};
_.Ka=function(a){a.mj=!0;return a};La=function(a,b){if(a.length>b.length)return!1;if(a.length<b.length||a===b)return!0;for(let c=0;c<a.length;c++){const d=a[c],e=b[c];if(d>e)return!1;if(d<e)return!0}};_.Na=function(a){if(typeof a!=="boolean")throw Error("s`"+_.Ma(a)+"`"+a);return a};_.Oa=function(a){if(!Number.isFinite(a))throw _.Ja("enum");return a|0};_.Pa=function(a){if(typeof a!=="number")throw _.Ja("int32");if(!Number.isFinite(a))throw _.Ja("int32");return a|0};
_.Qa=function(a){if(a!=null&&typeof a!=="string")throw Error();return a};_.Ra=function(a){return a==null||typeof a==="string"?a:void 0};_.Ta=function(a,b,c){if(a!=null&&typeof a==="object"&&a.Bd===_.Sa)return a;if(Array.isArray(a)){var d=a[_.v]|0,e=d;e===0&&(e|=c&32);e|=c&2;e!==d&&(a[_.v]=e);return new b(a)}};_.Va=function(a,b){Ua=b;a=new a(b);Ua=void 0;return a};
_.Wa=function(a,b,c){a==null&&(a=Ua);Ua=void 0;if(a==null){var d=96;c?(a=[c],d|=512):a=[];b&&(d=d&-16760833|(b&1023)<<14)}else{if(!Array.isArray(a))throw Error("t");d=a[_.v]|0;if(d&2048)throw Error("u");if(d&64)return a;d|=64;if(c&&(d|=512,c!==a[0]))throw Error("v");a:{c=a;const e=c.length;if(e){const f=e-1;if(Ca(c[f])){d|=256;b=f-(+!!(d&512)-1);if(b>=1024)throw Error("w");d=d&-16760833|(b&1023)<<14;break a}}if(b){b=Math.max(b,e-(+!!(d&512)-1));if(b>1024)throw Error("x");d=d&-16760833|(b&1023)<<14}}}a[_.v]=
d;return a};Ya=function(a,b){return Xa(b)};Xa=function(a){switch(typeof a){case "number":return isFinite(a)?a:String(a);case "boolean":return a?1:0;case "object":if(a)if(Array.isArray(a)){if(Da(a,void 0,0))return}else{if(_.va(a))return _.ua(a);if("function"==typeof _.Za&&a instanceof _.Za)return a.j()}}return a};$a=function(a,b,c){const d=_.wa(a);var e=d.length;const f=b&256?d[e-1]:void 0;e+=f?-1:0;for(b=b&512?1:0;b<e;b++)d[b]=c(d[b]);if(f){b=d[b]={};for(const g in f)b[g]=c(f[g])}Ga(d,a);return d};
bb=function(a,b,c,d,e){if(a!=null){if(Array.isArray(a))a=Da(a,void 0,0)?void 0:e&&(a[_.v]|0)&2?a:ab(a,b,c,d!==void 0,e);else if(Ca(a)){const f={};for(let g in a)f[g]=bb(a[g],b,c,d,e);a=f}else a=b(a,d);return a}};ab=function(a,b,c,d,e){const f=d||c?a[_.v]|0:0;d=d?!!(f&32):void 0;const g=_.wa(a);for(let h=0;h<g.length;h++)g[h]=bb(g[h],b,c,d,e);c&&(Ga(g,a),c(f,g));return g};cb=function(a){return a.Bd===_.Sa?a.toJSON():Xa(a)};
db=function(a,b,c=za){if(a!=null){if(a instanceof Uint8Array)return b?a:new Uint8Array(a);if(Array.isArray(a)){var d=a[_.v]|0;if(d&2)return a;b&&(b=d===0||!!(d&32)&&!(d&64||!(d&16)));return b?(a[_.v]=(d|34)&-12293,a):ab(a,db,d&4?za:c,!0,!0)}a.Bd===_.Sa&&(c=a.ha,d=c[_.v],a=d&2?a:_.Va(a.constructor,_.eb(c,d,!0)));return a}};_.eb=function(a,b,c){const d=c||b&2?za:ya,e=!!(b&32);a=$a(a,b,f=>db(f,e,d));a[_.v]=a[_.v]|32|(c?2:0);return a};
_.fb=function(a){const b=a.ha,c=b[_.v];return c&2?_.Va(a.constructor,_.eb(b,c,!1)):a};gb=function(a){return a};hb=function(a){return a};lb=function(a,b,c,d){return ib(a,b,c,d,jb,kb)};ob=function(a,b,c,d){return ib(a,b,c,d,mb,nb)};
ib=function(a,b,c,d,e,f){if(!c.length&&!d)return 0;var g=0;let h=0,k=0;var l=0;let m=0;for(var p=c.length-1;p>=0;p--){var r=c[p];d&&p===c.length-1&&r===d||(l++,r!=null&&k++)}if(d)for(var q in d)p=+q,isNaN(p)||(m+=pb(p),h++,p>g&&(g=p));l=e(l,k)+f(h,g,m);q=k;p=h;r=g;let y=m;for(let B=c.length-1;B>=0;B--){var D=c[B];if(D==null||d&&B===c.length-1&&D===d)continue;D=B-b;const H=e(D,q)+f(p,r,y);H<l&&(a=1+D,l=H);p++;q--;y+=pb(D);r=Math.max(r,D)}b=e(0,0)+f(p,r,y);b<l&&(a=0,l=b);if(d){p=h;r=g;y=m;q=k;for(const B in d)d=
+B,isNaN(d)||d>=1024||(p--,q++,y-=B.length,g=e(d,q)+f(p,r,y),g<l&&(a=1+d,l=g))}return a};nb=function(a,b,c){return c+a*3+(a>1?a-1:0)};mb=function(a,b){return(a>1?a-1:0)+(a-b)*4};kb=function(a,b){return a==0?0:9*Math.max(1<<32-Math.clz32(a+a/2-1),4)<=b?a==0?0:a<4?100+(a-1)*16:a<6?148+(a-4)*16:a<12?244+(a-6)*16:a<22?436+(a-12)*19:a<44?820+(a-22)*17:52+32*a:40+4*b};jb=function(a){return 40+4*a};pb=function(a){return a>=100?a>=1E4?Math.ceil(Math.log10(1+a)):a<1E3?3:4:a<10?1:2};
qb=function(a,b,c,d){b=d+(+!!(b&512)-1);if(!(b<0||b>=a.length||b>=c))return a[b]};_.sb=function(a,b,c,d,e){const f=b>>14&1023||536870912;if(c>=f||e&&!rb){let g=b;if(b&256)e=a[a.length-1];else{if(d==null)return g;e=a[f+(+!!(b&512)-1)]={};g|=256}e[c]=d;c<f&&(a[c+(+!!(b&512)-1)]=void 0);g!==b&&(a[_.v]=g);return g}a[c+(+!!(b&512)-1)]=d;b&256&&(a=a[a.length-1],c in a&&delete a[c]);return b};_.ub=function(a,b,c,d){a=a.ha;let e=a[_.v];const f=_.tb(a,e,c,d);b=_.Ta(f,b,e);b!==f&&b!=null&&_.sb(a,e,c,b,d);return b};
_.vb=function(a,b){return a!=null?a:b};
zb=function(a){var b=wb?a.ha:ab(a.ha,cb,void 0,void 0,!1);{var c=!wb;var d=xb?void 0:a.constructor.xj;var e=(c?a.ha:b)[_.v];let E=b.length;if(E){var f=b[E-1],g=Ca(f);g?E--:f=void 0;a=+!!(e&512)-1;var h=E-a,k=!!yb&&rb&&!(e&512),l;e=(l=yb)!=null?l:hb;e=k?e(h,a,b,f):h;l=(h=k&&h!==e)?Array.prototype.slice.call(b,0,E):b;if(g||h){b:{var m=l;var p=f;g={};k=!1;if(h)for(var r=Math.max(0,e+a);r<m.length;r++){var q=m[r],y=r-a;q==null||Da(q,d,y)||Ba(q)&&q.size===0||(m[r]=void 0,g[y]=q,k=!0)}if(p)for(var D in p)if(r=
+D,isNaN(r))g[D]=p[D];else if(q=p[D],Array.isArray(q)&&(Da(q,d,+D)||Ba(q)&&q.size===0)&&(q=null),q==null&&(k=!0),h&&r<e){k=!0;q=r+a;for(y=m.length;y<=q;y++)m.push(void 0);m[q]=p[r]}else q!=null&&(g[D]=q);if(k){for(var B in g){p=g;break b}p=null}}m=p==null?f!=null:p!==f}h&&(E=l.length);for(var H;E>0;E--){B=E-1;D=l[B];B-=a;if(!(D==null||Da(D,d,B)||Ba(D)&&D.size===0))break;H=!0}if(l!==b||m||H){if(!h&&!c)l=Array.prototype.slice.call(l,0,E);else if(H||m||p)l.length=E;p&&l.push(p)}b=l}}return b};
_.w=function(a,b){return a!=null?!!a:!!b};_.x=function(a,b){b==void 0&&(b="");return a!=null?a:b};_.Ab=function(a){for(const b in a)return!1;return!0};Bb=typeof Object.defineProperties=="function"?Object.defineProperty:function(a,b,c){if(a==Array.prototype||a==Object.prototype)return a;a[b]=c.value;return a};
Cb=function(a){a=["object"==typeof globalThis&&globalThis,a,"object"==typeof window&&window,"object"==typeof self&&self,"object"==typeof global&&global];for(var b=0;b<a.length;++b){var c=a[b];if(c&&c.Math==Math)return c}throw Error("a");};Db=Cb(this);Eb=function(a,b){if(b)a:{var c=Db;a=a.split(".");for(var d=0;d<a.length-1;d++){var e=a[d];if(!(e in c))break a;c=c[e]}a=a[a.length-1];d=c[a];b=b(d);b!=d&&b!=null&&Bb(c,a,{configurable:!0,writable:!0,value:b})}};
Eb("Symbol.dispose",function(a){return a?a:Symbol("b")});Eb("globalThis",function(a){return a||Db});Eb("Promise.prototype.finally",function(a){return a?a:function(b){return this.then(function(c){return Promise.resolve(b()).then(function(){return c})},function(c){return Promise.resolve(b()).then(function(){throw c;})})}});var Hb,Ib,Lb;_.Fb=_.Fb||{};_.t=this||self;Hb=function(a,b){var c=_.Gb("WIZ_global_data.oxN3nb");a=c&&c[a];return a!=null?a:b};Ib=_.t._F_toggles||[];_.Gb=function(a,b){a=a.split(".");b=b||_.t;for(var c=0;c<a.length;c++)if(b=b[a[c]],b==null)return null;return b};_.Ma=function(a){var b=typeof a;return b!="object"?b:a?Array.isArray(a)?"array":b:"null"};_.Jb=function(a){var b=typeof a;return b=="object"&&a!=null||b=="function"};_.Kb="closure_uid_"+(Math.random()*1E9>>>0);
Lb=function(a,b,c){return a.call.apply(a.bind,arguments)};_.z=function(a,b,c){_.z=Lb;return _.z.apply(null,arguments)};_.A=function(a,b){a=a.split(".");var c=_.t;a[0]in c||typeof c.execScript=="undefined"||c.execScript("var "+a[0]);for(var d;a.length&&(d=a.shift());)a.length||b===void 0?c[d]&&c[d]!==Object.prototype[d]?c=c[d]:c=c[d]={}:c[d]=b};
_.C=function(a,b){function c(){}c.prototype=b.prototype;a.W=b.prototype;a.prototype=new c;a.prototype.constructor=a;a.ej=function(d,e,f){for(var g=Array(arguments.length-2),h=2;h<arguments.length;h++)g[h-2]=arguments[h];return b.prototype[e].apply(d,g)}};_.C(_.aa,Error);_.aa.prototype.name="CustomError";var Mb=!!(Ib[0]&8192),Nb=!!(Ib[0]&256),Ob=!!(Ib[0]>>14&1),Pb=!!(Ib[0]&128),Qb=!!(Ib[0]&16);var Rb=Hb(1,!0),da=Mb?Ob:Hb(610401301,!1),rb=Mb?Nb||!Qb:Hb(645172343,Rb);var xb=Mb?Nb||!Pb:Hb(188588736,!0);_.Sb=typeof TextDecoder!=="undefined";_.Tb=typeof TextEncoder!=="undefined";_.Vb=function(){return _.ca().toLowerCase().indexOf("webkit")!=-1};var ea,Wb=_.t.navigator;ea=Wb?Wb.userAgentData||null:null;_.sa=function(a,b){return Array.prototype.indexOf.call(a,b,void 0)};_.Xb=function(a,b,c){Array.prototype.forEach.call(a,b,c)};_.Yb=function(a){_.Yb[" "](a);return a};_.Yb[" "]=function(){};var kc;_.Zb=_.ia();_.$b=_.ka();_.ac=_.u("Edge");_.bc=_.u("Gecko")&&!(_.Vb()&&!_.u("Edge"))&&!(_.u("Trident")||_.u("MSIE"))&&!_.u("Edge");_.cc=_.Vb()&&!_.u("Edge");_.dc=_.ra();_.ec=oa()?ea.platform==="Windows":_.u("Windows");_.fc=oa()?ea.platform==="Android":_.u("Android");_.gc=pa();_.hc=_.u("iPad");_.ic=_.u("iPod");_.jc=_.qa();
a:{var lc="",mc=function(){var a=_.ca();if(_.bc)return/rv:([^\);]+)(\)|;)/.exec(a);if(_.ac)return/Edge\/([\d\.]+)/.exec(a);if(_.$b)return/\b(?:MSIE|rv)[: ]([^\);]+)(\)|;)/.exec(a);if(_.cc)return/WebKit\/(\S+)/.exec(a);if(_.Zb)return/(?:Version)[ \/]?(\S+)/.exec(a)}();mc&&(lc=mc?mc[1]:"");if(_.$b){var nc,oc=_.t.document;nc=oc?oc.documentMode:void 0;if(nc!=null&&nc>parseFloat(lc)){kc=String(nc);break a}}kc=lc}_.pc=kc;_.qc=_.la();_.rc=pa()||_.u("iPod");_.sc=_.u("iPad");_.tc=_.u("Android")&&!(ma()||_.la()||_.ia()||_.u("Silk"));_.uc=ma();_.vc=_.na()&&!_.qa();var wc;_.v=Symbol();wc=Symbol();_.xc=Symbol();_.yc=Symbol();var Aa,Ac;_.Sa={};Aa={};Ac=[];Ac[_.v]=55;_.zc=Object.freeze(Ac);_.Bc=Object.freeze({});Object.freeze({});_.Cc=Object.freeze({});var Ha=function(a,b){a.__closure__error__context__984382||(a.__closure__error__context__984382={});a.__closure__error__context__984382.severity=b};var Dc;_.Ec=_.Ka(a=>typeof a==="number");_.Fc=_.Ka(a=>typeof a==="string");_.Gc=_.Ka(a=>typeof a==="boolean");_.Hc=typeof _.t.BigInt==="function"&&typeof _.t.BigInt(0)==="bigint";var Kc,Ic,Lc,Jc;_.Mc=_.Ka(a=>_.Hc?a>=Ic&&a<=Jc:a[0]==="-"?La(a,Kc):La(a,Lc));Kc=Number.MIN_SAFE_INTEGER.toString();Ic=_.Hc?BigInt(Number.MIN_SAFE_INTEGER):void 0;Lc=Number.MAX_SAFE_INTEGER.toString();Jc=_.Hc?BigInt(Number.MAX_SAFE_INTEGER):void 0;var Ua;_.Nc=function(a,b){a=a.ha;return _.tb(a,a[_.v],b)};_.tb=function(a,b,c,d){if(c===-1)return null;const e=b>>14&1023||536870912;if(c>=e){if(b&256)return a[a.length-1][c]}else{var f=a.length;if(d&&b&256&&(d=a[f-1][c],d!=null)){if(qb(a,b,e,c)&&wc!=null){var g;a=(g=Dc)!=null?g:Dc={};g=a[wc]||0;g>=4||(a[wc]=g+1,_.Ia())}return d}return qb(a,b,e,c)}};_.Oc=function(a,b,c){const d=a.ha;let e=d[_.v];_.Ea(e);_.sb(d,e,b,c);return a};
_.F=function(a,b,c,d=!1){b=_.ub(a,b,c,d);if(b==null)return b;a=a.ha;let e=a[_.v];if(!(e&2)){const f=_.fb(b);f!==b&&(b=f,_.sb(a,e,c,b,d))}return b};_.G=function(a,b,c){c==null&&(c=void 0);return _.Oc(a,b,c)};_.I=function(a,b){a=_.Nc(a,b);return a==null||typeof a==="boolean"?a:typeof a==="number"?!!a:void 0};_.J=function(a,b){return _.Ra(_.Nc(a,b))};_.K=function(a,b,c=!1){return _.vb(_.I(a,b),c)};_.L=function(a,b){return _.vb(_.J(a,b),"")};_.M=function(a,b,c){return _.Oc(a,b,c==null?c:_.Na(c))};
_.N=function(a,b,c){return _.Oc(a,b,c==null?c:_.Pa(c))};_.O=function(a,b,c){return _.Oc(a,b,_.Qa(c))};_.P=function(a,b,c){return _.Oc(a,b,c==null?c:_.Oa(c))};var yb,wb;_.Q=class{constructor(a,b,c){this.ha=_.Wa(a,b,c)}toJSON(){return zb(this)}Ca(a){try{return wb=!0,a&&(yb=a===hb||a!==gb&&a!==lb&&a!==ob?hb:a),JSON.stringify(zb(this),Ya)}finally{a&&(yb=void 0),wb=!1}}rc(){return _.xa(this.ha)}};_.Q.prototype.Bd=_.Sa;_.Q.prototype.toString=function(){try{return wb=!0,zb(this).toString()}finally{wb=!1}};_.Pc=Symbol();_.Qc=Symbol();_.Rc=Symbol();_.Sc=Symbol();_.Tc=Symbol();var Uc=class extends _.Q{constructor(){super()}};_.Vc=class extends _.Q{constructor(){super()}D(a){return _.N(this,3,a)}};var Wc=class extends _.Q{constructor(a){super(a)}Jc(a){return _.O(this,24,a)}};_.Xc=class extends _.Q{constructor(a){super(a)}};_.R=function(){this.qa=this.qa;this.Y=this.Y};_.R.prototype.qa=!1;_.R.prototype.isDisposed=function(){return this.qa};_.R.prototype.dispose=function(){this.qa||(this.qa=!0,this.R())};_.R.prototype[Symbol.dispose]=function(){this.dispose()};_.R.prototype.R=function(){if(this.Y)for(;this.Y.length;)this.Y.shift()()};var Yc=class extends _.R{constructor(){var a=window;super();this.o=a;this.i=[];this.j={}}resolve(a){var b=this.o;a=a.split(".");for(var c=a.length,d=0;d<c;++d)if(b[a[d]])b=b[a[d]];else return null;return b instanceof Function?b:null}yb(){for(var a=this.i.length,b=this.i,c=[],d=0;d<a;++d){var e=b[d].i(),f=this.resolve(e);if(f&&f!=this.j[e])try{b[d].yb(f)}catch(g){}else c.push(b[d])}this.i=c.concat(b.slice(a))}};var $c=class extends _.R{constructor(){var a=_.Zc;super();this.o=a;this.A=this.i=null;this.v=0;this.B={};this.j=!1;a=window.navigator.userAgent;a.indexOf("MSIE")>=0&&a.indexOf("Trident")>=0&&(a=/\b(?:MSIE|rv)[: ]([^\);]+)(\)|;)/.exec(a))&&a[1]&&parseFloat(a[1])<9&&(this.j=!0)}C(a,b){this.i=b;this.A=a;b.preventDefault?b.preventDefault():b.returnValue=!1}};_.ad=class extends _.Q{constructor(a){super(a)}};var bd=class extends _.Q{constructor(a){super(a)}};var ed;_.cd=function(a,b,c=98,d=new _.Vc){if(a.i){const e=new Uc;_.O(e,1,b.message);_.O(e,2,b.stack);_.N(e,3,b.lineNumber);_.P(e,5,1);_.G(d,40,e);a.i.log(c,d)}};ed=class{constructor(){var a=dd;this.i=null;_.K(a,4,!0)}log(a,b,c=new _.Vc){_.cd(this,a,98,c)}};var fd,gd;fd=function(a){if(a.o.length>0){var b=a.i!==void 0,c=a.j!==void 0;if(b||c){b=b?a.v:a.A;c=a.o;a.o=[];try{_.Xb(c,b,a)}catch(d){console.error(d)}}}};_.hd=class{constructor(a){this.i=a;this.j=void 0;this.o=[]}then(a,b,c){this.o.push(new gd(a,b,c));fd(this)}resolve(a){if(this.i!==void 0||this.j!==void 0)throw Error("B");this.i=a;fd(this)}reject(a){if(this.i!==void 0||this.j!==void 0)throw Error("B");this.j=a;fd(this)}v(a){a.j&&a.j.call(a.i,this.i)}A(a){a.o&&a.o.call(a.i,this.j)}};
gd=class{constructor(a,b,c){this.j=a;this.o=b;this.i=c}};_.id=a=>{var b="oc";if(a.oc&&a.hasOwnProperty(b))return a.oc;b=new a;return a.oc=b};_.jd=class{constructor(){this.v=new _.hd;this.i=new _.hd;this.D=new _.hd;this.B=new _.hd;this.C=new _.hd;this.A=new _.hd;this.o=new _.hd;this.j=new _.hd;this.F=new _.hd}K(){return this.v}M(){return this.i}N(){return this.D}L(){return this.B}qa(){return this.C}Y(){return this.A}J(){return this.o}G(){return this.j}static i(){return _.id(_.jd)}};var od;_.ld=function(){return _.F(_.kd,Wc,1)};_.md=function(){return _.F(_.kd,_.Xc,5)};od=class extends _.Q{constructor(){super(nd)}};var nd;window.gbar_&&window.gbar_.CONFIG?nd=window.gbar_.CONFIG[0]||{}:nd=[];_.kd=new od;var dd=_.F(_.kd,bd,3)||new bd;_.ld()||new Wc;_.Zc=new ed;_.A("gbar_._DumpException",function(a){_.Zc?_.Zc.log(a):console.error(a)});_.pd=new $c;var rd;_.sd=function(a,b){var c=_.qd.i();if(a in c.i){if(c.i[a]!=b)throw new rd;}else{c.i[a]=b;const h=c.j[a];if(h)for(let k=0,l=h.length;k<l;k++){b=h[k];var d=c.i;delete b.i[a];if(_.Ab(b.i)){for(var e=b.j.length,f=Array(e),g=0;g<e;g++)f[g]=d[b.j[g]];b.o.apply(b.v,f)}}delete c.j[a]}};_.qd=class{constructor(){this.i={};this.j={}}static i(){return _.id(_.qd)}};_.td=class extends _.aa{constructor(){super()}};rd=class extends _.td{};_.A("gbar.A",_.hd);_.hd.prototype.aa=_.hd.prototype.then;_.A("gbar.B",_.jd);_.jd.prototype.ba=_.jd.prototype.M;_.jd.prototype.bb=_.jd.prototype.N;_.jd.prototype.bd=_.jd.prototype.qa;_.jd.prototype.bf=_.jd.prototype.K;_.jd.prototype.bg=_.jd.prototype.L;_.jd.prototype.bh=_.jd.prototype.Y;_.jd.prototype.bj=_.jd.prototype.J;_.jd.prototype.bk=_.jd.prototype.G;_.A("gbar.a",_.jd.i());window.gbar&&window.gbar.ap&&window.gbar.ap(window.gbar.a);var ud=new Yc;_.sd("api",ud);
var vd=_.md()||new _.Xc,wd=window,xd=_.x(_.J(vd,8));wd.__PVT=xd;_.sd("eq",_.pd);
}catch(e){_._DumpException(e)}
try{
_.yd=class extends _.Q{constructor(a){super(a)}};
}catch(e){_._DumpException(e)}
try{
var zd=class extends _.Q{constructor(){super()}};var Ad=class extends _.R{constructor(){super();this.j=[];this.i=[]}o(a,b){this.j.push({features:a,options:b})}init(a,b,c){window.gapi={};var d=window.___jsl={};d.h=_.x(_.J(a,1));_.I(a,12)!=null&&(d.dpo=_.w(_.K(a,12)));d.ms=_.x(_.J(a,2));d.m=_.x(_.J(a,3));d.l=[];_.L(b,1)&&(a=_.J(b,3))&&this.i.push(a);_.L(c,1)&&(c=_.J(c,2))&&this.i.push(c);_.A("gapi.load",(0,_.z)(this.o,this));return this}};var Bd=_.F(_.kd,_.ad,14);if(Bd){var Cd=_.F(_.kd,_.yd,9)||new _.yd,Dd=new zd,Ed=new Ad;Ed.init(Bd,Cd,Dd);_.sd("gs",Ed)};
}catch(e){_._DumpException(e)}
})(this.gbar_);
// Google Inc.
</script><script nonce="">try {const preferences = JSON.parse(window.localStorage.getItem("datalab_prefs_kotagirineha09@gmail.com")); document.querySelector('html') .setAttribute('theme', preferences['siteTheme'] || 'default');} catch (e) {}</script><script nonce="">window.performance.mark('head_start');</script><link rel="stylesheet" href="./Sentiment-analysis-on-amazon-product-reviews_files/bundle.css"><script nonce="">var colabVersionTag = 'colab_20240814-060115_RC00_662843208'; var colabScsVersion = '99fd84ceba3211aa3a41cb549a65f83c'; var hl = 'en'; var colabExperiments = JSON.parse('\x7b\x22add_prompt_cell\x22: false, \x22ai_unsubscribed_warning\x22: false, \x22aida_complete_code_model_id\x22: \x22\x22, \x22aida_do_conversation_model_id\x22: \x22\x22, \x22aida_generate_code_model_id\x22: \x22\x22, \x22aida_in_editor\x22: false, \x22allowed_public_url_domains\x22: \x5b\x22huggingface.co\x22, \x22dagshub.com\x22, \x22storage.googleapis.com\x22\x5d, \x22backend_version\x22: \x22next\x22, \x22backtracking_strategy\x22: \x22non-literals\x22, \x22cell_tags\x22: false, \x22chat_model_id_override\x22: \x22\x22, \x22classified_generate\x22: false, \x22classroom_iframe_parent_origin\x22: \x22\x22, \x22client_text_compose\x22: true, \x22client_trim_completion_text\x22: 400, \x22cloud_origin\x22: \x22\x22, \x22commands_in_toolbar\x22: false, \x22comment_poll_long\x22: 900000, \x22comment_poll_short\x22: 60000, \x22compose_skip_suffix_check\x22: false, \x22converse_server_side_history\x22: false, \x22converse_temp\x22: \x22\x22, \x22crawler\x22: false, \x22critique_comments\x22: false, \x22dbu\x22: \x22\x22, \x22debug_external\x22: \x22external\x22, \x22debug_prod\x22: \x22prod\x22, \x22dep_cells_commands\x22: false, \x22dep_graph\x22: false, \x22development\x22: false, \x22document_change_poll_interval\x22: 30000, \x22drive_anon_api_key\x22: \x22AIzaSyB10s2vWUTwP0pj20wZoxmpZIt3rRodYeg\x22, \x22drive_api_key\x22: \x22AIzaSyCN_sSPJMpYrAzC5AtTrltNC8oRmLtoqBk\x22, \x22drive_background_save_project_number\x22: \x22948411933973\x22, \x22drive_realtime_project_number\x22: \x22\x22, \x22drop_chat_links\x22: true, \x22embedded_connection_poll\x22: false, \x22embedding_app\x22: \x22\x22, \x22enable_adhoc_backends\x22: false, \x22enable_dasher_subscription_ui\x22: true, \x22enable_more_reprs\x22: true, \x22execution_status_propagation\x22: true, \x22explain_cell\x22: false, \x22explain_error\x22: true, \x22explain_error_model_id_override\x22: \x22\x22, \x22explain_error_trim_traceback\x22: true, \x22explicit_ai_backend\x22: \x22\x22, \x22external_trusted_github_org_repos_quick_add\x22: \x22GoogleChrome\/CrUX,google\/generative-ai-docs\x22, \x22file_browser_poll_interval_millis\x22: 60000, \x22file_upload_rate_limit\x22: 5, \x22filter_repetitive_suggestions\x22: false, \x22first_party_auth\x22: true, \x22fix_imports\x22: false, \x22gemini_rebrand\x22: true, \x22generate_code\x22: true, \x22generate_df\x22: true, \x22generate_prompt_reduce_blank_responses\x22: false, \x22generate_prompt_reduce_duplicate_code\x22: false, \x22generate_prompt_reduce_name_errors\x22: false, \x22generate_temp\x22: \x22\x22, \x22get_started\x22: false, \x22gis_auth\x22: true, \x22github_client_id\x22: \x225036cf6d81e65aaa6340\x22, \x22gpu_utilization_check_interval_ms\x22: 600000, \x22granular_browser_permissions\x22: true, \x22hats_surveys\x22: true, \x22hrc\x22: false, \x22import_data\x22: false, \x22interactive_sheet_next_steps\x22: true, \x22internal_chat\x22: false, \x22internal_schedule\x22: false, \x22is_prober\x22: false, \x22jsraw\x22: \x22compiled\x22, \x22key_promoter\x22: false, \x22kr\x22: false, \x22link_id_assignments\x22: true, \x22link_imports_to_installs\x22: true, \x22local_cloud_apis\x22: false, \x22local_service_worker\x22: false, \x22log_preferences_on_change\x22: true, \x22lsp_diagnostics_reporting\x22: false, \x22lsp_inlay_hint\x22: false, \x22lsrp\x22: 0, \x22ml_enabled\x22: true, \x22mlpp\x22: false, \x22mlpp_multiline\x22: false, \x22mlpp_on_by_default\x22: true, \x22mobile\x22: false, \x22next_steps\x22: true, \x22nl2code_missing_imports\x22: true, \x22no_fun\x22: false, \x22notebook_context_length\x22: 40000, \x22outage_notification\x22: \x22\x22, \x22outage_notification_link\x22: \x22\x22, \x22outputframe_version\x22: \x22\x22, \x22override_suf_params_for_test\x22: false, \x22prereq_cells_next_steps\x22: false, \x22recaptcha_polling_frequency_ms\x22: 300000, \x22recaptcha_v2_site_key\x22: \x226LfQttQUAAAAADuPanA_VZMaZgBAOnHZNuuqUewp\x22, \x22recaptcha_v3_site_key\x22: \x226LfQPtEUAAAAAHBpAdFng54jyuB1V5w5dofknpip\x22, \x22reconnect_max_delay_seconds\x22: 300, \x22reduce_chat_not_answering\x22: true, \x22require_ai_consent\x22: true, \x22resource_poll_interval_ms\x22: 10000, \x22rp_dap\x22: false, \x22rp_kxhr\x22: true, \x22rp_lsp\x22: true, \x22rp_serve_kernel_port\x22: false, \x22rp_term\x22: true, \x22rp_token_refresh_headroom_millis\x22: 300000, \x22rt\x22: false, \x22run_button_tooltip\x22: false, \x22run_mode\x22: false, \x22runtime_env_overrides\x22: \x22\\n          \x5b\\n            \x5b\\\x22ENABLE_DIRECTORYPREFETCHER\\\x22, \\\x221\\\x22\x5d\\n          \x5d\\n        \x22, \x22runtime_type_for_test\x22: \x22\x22, \x22server_execution_queue\x22: true, \x22server_side_generate_prompt_formatting\x22: false, \x22session_resume_coalesce\x22: true, \x22show_create_gemini_api_key_link\x22: true, \x22show_payments_interstitial\x22: false, \x22show_rel_notes_on_open\x22: true, \x22show_signup_survey\x22: true, \x22show_subscription_renewal_time\x22: false, \x22show_switch_to_prod_link\x22: false, \x22smartpaste\x22: false, \x22smartpaste_serving_config\x22: \x22pl_700m_smart_paste_3.0.25\x22, \x22sql_cell\x22: false, \x22sql_cell_buttons\x22: false, \x22storage_partition_trial\x22: true, \x22storage_partition_trial_token\x22: \x22AmUpB2+Hlwk73pYiEMbnkef\/dprJi1I9rClec33apyFsbVOaCIRN29Rk9M4ht5Otgbp+thCc3MMD73GyCNfEWAkAAAB3eyJvcmlnaW4iOiJodHRwczovL2NvbGFiLnJlc2VhcmNoLmdvb2dsZS5jb206NDQzIiwiZmVhdHVyZSI6IkRpc2FibGVUaGlyZFBhcnR5U3RvcmFnZVBhcnRpdGlvbmluZyIsImV4cGlyeSI6MTcyNTQwNzk5OX0\x3d\x22, \x22suspicious_code_matches\x22: \x22\x22, \x22suspicious_code_regexs\x22: \x22\x22, \x22term4all\x22: false, \x22text_compose_report_changes_millis\x22: 10000, \x22text_span_comments\x22: false, \x22tpu_node_deprecation_warning\x22: true, \x22tpu_node_redirect\x22: true, \x22tpu_node_selector_grayed_out\x22: true, \x22tpu_node_selector_visible\x22: false, \x22tpu_vm\x22: true, \x22unmanaged_vm_min_label_block\x22: \x22\x22, \x22unmanaged_vm_min_label_warn\x22: \x22\x22, \x22unmanaged_vm_min_release_tag_block\x22: \x22\x22, \x22unmanaged_vm_min_release_tag_warn\x22: \x22\x22, \x22unsupported_magics_check\x22: true, \x22use_corplogin\x22: true, \x22use_dm_sql_lsp\x22: false, \x22user_visible_gpu_types\x22: \x5b\x22T4\x22, \x22A100\x22, \x22L4\x22\x5d, \x22v_100_redirect\x22: true, \x22verbose_warnings\x22: false, \x22vertex_ai_api_environment_override\x22: \x22\x22, \x22waffle\x22: false, \x22workstations\x22: false, \x22ids\x22: \x5b20730230, 20730297, 20730186, 20730265, 20730150, 20730262, 20730177, 20730277, 20730183\x5d, \x22flag_ids\x22: \x7b\x22add_prompt_cell\x22: 45644995, \x22ai_unsubscribed_warning\x22: 45504730, \x22aida_complete_code_model_id\x22: 45427660, \x22aida_do_conversation_model_id\x22: 45427664, \x22aida_generate_code_model_id\x22: 45427663, \x22aida_in_editor\x22: 45425507, \x22allowed_public_url_domains\x22: 45425558, \x22backend_version\x22: 45425541, \x22backtracking_strategy\x22: 45644832, \x22cell_tags\x22: 45425779, \x22chat_model_id_override\x22: 45631876, \x22classified_generate\x22: 45425499, \x22classroom_iframe_parent_origin\x22: 45425537, \x22client_text_compose\x22: 45425512, \x22client_trim_completion_text\x22: 45425628, \x22cloud_origin\x22: 45425538, \x22commands_in_toolbar\x22: 45425502, \x22comment_poll_long\x22: 45425588, \x22comment_poll_short\x22: 45425587, \x22compose_skip_suffix_check\x22: 45615470, \x22converse_server_side_history\x22: 45634472, \x22converse_temp\x22: 45425509, \x22crawler\x22: 45425491, \x22critique_comments\x22: 45612076, \x22dbu\x22: 45425545, \x22debug_external\x22: 45425470, \x22debug_prod\x22: 45425471, \x22dep_cells_commands\x22: 45622249, \x22dep_graph\x22: 45629071, \x22development\x22: 45425544, \x22document_change_poll_interval\x22: 45425589, \x22drive_anon_api_key\x22: 45425478, \x22drive_api_key\x22: 45425473, \x22drive_background_save_project_number\x22: 45425479, \x22drive_realtime_project_number\x22: 45425629, \x22drop_chat_links\x22: 45646864, \x22embedded_connection_poll\x22: 45491618, \x22enable_adhoc_backends\x22: 45425506, \x22enable_dasher_subscription_ui\x22: 45639531, \x22enable_more_reprs\x22: 45613354, \x22execution_status_propagation\x22: 45644828, \x22explain_cell\x22: 45425505, \x22explain_error\x22: 45425487, \x22explain_error_model_id_override\x22: 45631875, \x22explain_error_trim_traceback\x22: 45618831, \x22explicit_ai_backend\x22: 45638548, \x22external_trusted_github_org_repos_quick_add\x22: 45425555, \x22file_browser_poll_interval_millis\x22: 45643722, \x22file_upload_rate_limit\x22: 45637799, \x22filter_repetitive_suggestions\x22: 45615781, \x22first_party_auth\x22: 45425560, \x22fix_imports\x22: 45624140, \x22gemini_rebrand\x22: 45631310, \x22generate_code\x22: 45425492, \x22generate_df\x22: 45425503, \x22generate_prompt_reduce_blank_responses\x22: 45643396, \x22generate_prompt_reduce_duplicate_code\x22: 45646291, \x22generate_prompt_reduce_name_errors\x22: 45634392, \x22generate_temp\x22: 45425508, \x22get_started\x22: 45430267, \x22gis_auth\x22: 45425625, \x22github_client_id\x22: 45425556, \x22gpu_utilization_check_interval_ms\x22: 45425561, \x22granular_browser_permissions\x22: 45630936, \x22hats_surveys\x22: 45425559, \x22import_data\x22: 45430411, \x22interactive_sheet_next_steps\x22: 45634324, \x22internal_chat\x22: 45622872, \x22internal_schedule\x22: 45425578, \x22is_prober\x22: 45429104, \x22jsraw\x22: 45425557, \x22key_promoter\x22: 45425570, \x22link_id_assignments\x22: 45644831, \x22link_imports_to_installs\x22: 45644830, \x22local_cloud_apis\x22: 45425630, \x22local_service_worker\x22: 45425550, \x22log_preferences_on_change\x22: 45643817, \x22lsp_diagnostics_reporting\x22: 45425604, \x22lsp_inlay_hint\x22: 45614695, \x22lsrp\x22: 45425612, \x22ml_enabled\x22: 45425493, \x22mlpp\x22: 45425608, \x22mlpp_multiline\x22: 45425623, \x22mlpp_on_by_default\x22: 45425609, \x22mobile\x22: 45425562, \x22next_steps\x22: 45428239, \x22nl2code_missing_imports\x22: 45615676, \x22no_fun\x22: 45425540, \x22notebook_context_length\x22: 45633457, \x22outage_notification\x22: 45425584, \x22outage_notification_link\x22: 45425585, \x22outputframe_version\x22: 45425591, \x22override_suf_params_for_test\x22: 45425592, \x22prereq_cells_next_steps\x22: 45640400, \x22recaptcha_polling_frequency_ms\x22: 45425582, \x22recaptcha_v2_site_key\x22: 45425581, \x22recaptcha_v3_site_key\x22: 45425580, \x22reconnect_max_delay_seconds\x22: 45425539, \x22reduce_chat_not_answering\x22: 45640977, \x22require_ai_consent\x22: 45425489, \x22resource_poll_interval_ms\x22: 45425590, \x22rp_dap\x22: 45649113, \x22rp_kxhr\x22: 45491686, \x22rp_lsp\x22: 45462965, \x22rp_serve_kernel_port\x22: 45572083, \x22rp_term\x22: 45426219, \x22rp_token_refresh_headroom_millis\x22: 45517773, \x22rt\x22: 45425624, \x22run_button_tooltip\x22: 45646515, \x22run_mode\x22: 45642857, \x22runtime_env_overrides\x22: 45425583, \x22runtime_type_for_test\x22: 45425586, \x22server_execution_queue\x22: 45425600, \x22server_side_generate_prompt_formatting\x22: 45647313, \x22session_resume_coalesce\x22: 45425603, \x22show_create_gemini_api_key_link\x22: 45644190, \x22show_payments_interstitial\x22: 45425543, \x22show_rel_notes_on_open\x22: 45644210, \x22show_signup_survey\x22: 45425620, \x22show_subscription_renewal_time\x22: 45425569, \x22show_switch_to_prod_link\x22: 45425483, \x22smartpaste\x22: 45627425, \x22smartpaste_serving_config\x22: 45630585, \x22sql_cell\x22: 45425497, \x22sql_cell_buttons\x22: 45425498, \x22suspicious_code_matches\x22: 45425615, \x22suspicious_code_regexs\x22: 45425616, \x22term4all\x22: 45425542, \x22text_compose_report_changes_millis\x22: 45425568, \x22text_span_comments\x22: 45545873, \x22tpu_node_deprecation_warning\x22: 45630619, \x22tpu_node_redirect\x22: 45634372, \x22tpu_node_selector_grayed_out\x22: 45630664, \x22tpu_node_selector_visible\x22: 45630663, \x22tpu_vm\x22: 45614812, \x22unmanaged_vm_min_label_block\x22: 45425546, \x22unmanaged_vm_min_label_warn\x22: 45425547, \x22unmanaged_vm_min_release_tag_block\x22: 45425548, \x22unmanaged_vm_min_release_tag_warn\x22: 45425549, \x22unsupported_magics_check\x22: 45644829, \x22use_corplogin\x22: 45425606, \x22use_dm_sql_lsp\x22: 45425610, \x22user_visible_gpu_types\x22: 45620529, \x22v_100_redirect\x22: 45644963, \x22verbose_warnings\x22: 45425551, \x22vertex_ai_api_environment_override\x22: 45612077, \x22waffle\x22: 45446491, \x22workstations\x22: 45425626\x7d\x7d'); var colabUserEmail = 'kotagirineha09@gmail.com'; var colabRenderDataToken = 'AFWLbD2bRwJEL0sKaeLgIQovyxfG_er1BnHnxAoJYxI6dFs_-SNtkmnsgTuqRQHStKv1XXYwZQV7Ea3BI5RuGrknb6hgoWLu6sl4'; var colabConfig = '\x5b\x5b\x22kotagirineha09@gmail.com\x22,\x5b1,\x22AHXL0D1nrOzYf7innOAmFLt3nb1IA348eoWkS0+qwBak+xNYtj6D9f3NKPiILDlYD+0rtiynkCbVpT3O0S+UZrfPlo4vs76b6qwj1qgdiabG\/VlvIe8fxqB5clui5KvY5vRK59\/c\/DfXbQmrLJyW9gd\/ofifjtZPXfOKIWObugfeMvKu6RjnYaopl8LTKqEKFaomHAY5pF4+fBPxhM9JJj9MOBbZHtPdtyqG5U5qpDAIL8NAcio3bfrwsbi8281pPHzW8JBRGluvjg1yz3vbZpT5mVTeCa0nQGJ57W98huBD76NKgCzM7CuzdwE0iL\/0kP+BRfHPqYuXk5rqiRLnICK15V27JF4qivNGaf5E7il0OPO6EfSAxTQDkdOYmYF4snWbYw2EKwGlP3QwFPlb1Azb0jK7BoRnqwRIW9H6secTTIsgRkJ\/Y2vbTc0o5ODYIWNIC1ExXGtKQZjdnsXxRMHfpOTf9Ds9fvmm8nOafUCKNeQ7kQht2Ns1qRz+hdTu\/e36Sk5y8w8r7EnRAouegbUOl4mhe+6r8c3EMYdZThOcIIy1MtdGV9x1afS6g7PWgG0kWDguuKwELrTH5hBXyteuo0ux3ZkIz5BmL+Acfm65KZtEg+vSRHre8hNcQPX5mZ6eFBdx4xIiBj4N1KBn7j7BztpaB6Q6p\/N3Kl3T3E1ET9EQXTI73kXwwL6nxkWJ6Ikjj4TzRrxJNlLsrTgXYjt6kXv5+5Q4M4SjJKPEkIARRsOofpjJ0DND8x++Z0FwMExhYEfYIk33QKuNfFfXiHXfFAivfi5pwmLSDf+GWWIT0PqbTmi2cFKOFNSCJG8r5clUmlgqhvdz+EtdL84G8q6ed2lN\/0wKh+xf74l4muiKlE4U4RkpJVmHbFZzg0O0BoPDxIS2\/4BjcuRD+onFfHWGyt5DWfaK348kO2wA+Um7\/TISABtIg++d4ItdUcG87ywIKhDXwhFEVqN3OdRgfbj1zEfzmzEpgPlIZ4y454Wgx+KLGaA+YhfCtCuWikzmrp4oMlVWu6UGxgEi99x0NR2tdzeRtfAurKaWephuXGRCwcU1+5aYXGgvKsVJcMBXkSED+HThCiXwhxGgkE4pCnSUodA7ZlmOP4x3Tvnl8Bbw3pDo0wSBK2oQzMspoqyVwhWcCM2mFuEV4KfMPB8WXtVh8HZDzy8VNgG7CfONaPRYscxIksEwlyCl8RX1DcvttHVe466YAIKhF9N2Wlif7qLIaGZrDDi0TTJnZ9Gvdyb4JDLrCAwtErtWOW1zqevupQ441DxwpMES0XhR2lMPGcoXvuO7131xp16lD0wPC8xfNouVU4ohuvYnb8wzyNgBIX53SFz1kG9m2dlrQgrxyTmDVUV7N53FWGUfCnHmk0SLHHF1aHXMi\/Z8tv8eL8axMwKWPDb9DUh0AvhqmneLcaSJXH03hxbeyVgc1H9sA0x2qAK3wBecogl6cV3MZg+wMN8yh\/7z5G+WcsNHDdQC0xs\/X1yR3xG6TAxn6hlYw\/e3jRj84AU\/DqCxdU4YydRLKsJu0uXzQZWyGDD\/jpCZFyu1tOtVAr5nvukt0LEFNuGm7JNjuveWnfs\/T7SZQJf8lxHRvgnMdaFC3l2JjP0YKTxSfiTkmFcOCsCIJmr3OTj6Gczt8sL8eE7yYGno1Vr+dW8v3ODNmLOOTxZdvphqlmBXTFWKRB297XO024RKkWRj5q5SmsakAG+yd\/ylFv5oNuRZCdsj4lfF9K1H5ZobD9WAjBYOlGe\/uhZB16sPJf+lWWgHRwcI0hxmYS0Z\/NVVQ6ryaL+7AefwZTdvF6MAoUTh3qmbNgib8afnC14vskOGMdULbZfIJbyo7mX4yy5DSFcqoBCrbeUN\/E5iQK\/3sQmBY+uoTiPBQvk3N+4lFJtNGNKpOnUkink\x3d\x22,\x22AJ9oCCxt+c4ttJCtSyt4AJqb+atsuA3XLwRlZW8EprnXqWCaqmz\/tRQzo7eVKQx7hVUim5b47u2g4iZhxvUtwEkQpj5oj\/gtCyJKNS3DX5FQzvlM1eB43aM2AD6NjajJdCZiqOM7F4Ak\x22,\x22https:\/\/payments.google.com\/payments\x22,0,0,null,null,null,\x22$11.79\x22,\x22$58.99\x22,\x22$11.79\x22,\x22$58.99\x22\x5d,\x5b1,4,5\x5d,\x22IN\x22,0\x5d\x5d';</script><link id="favicon-link" rel="shortcut icon" href="https://ssl.gstatic.com/colaboratory-static/common/99fd84ceba3211aa3a41cb549a65f83c/img/favicon.ico"><meta name="google-site-verification" content="wRgpUU3mIRZPD1GORBPNonaotM72092B_DsqQFWNa4s"><meta name="google-site-verification" content="f5qdvL6RAXlBgHezvCLpPtvx2wU5ZgIzzPULroprlnA"><meta name="google-site-verification" content="-wL8iYJTC7X0zF9qBNDQUAd-P1ZkQUK-OhSgv4Wkf1M"><meta name="google-site-verification" content="o-EECwEDQeUpZv0jTmoGfCDX7dUI8Kul4ESepXmDnO0"><meta name="google-site-verification" content="sNOroO9gXrazN-oMODOm0Bs0_vw1R5QwZ-BfrSHn8Io"><meta name="google-site-verification" content="K1UdZBHJXQYnJGXIK1KuutmVy6dn3vG2sEyV9D1C6dM"><meta name="google-site-verification" content="wdGthzzfu0IjM3qpFqTuQL9poAQZAvAaFKyuzetLpIM"><meta name="google-site-verification" content="qZJ77guHGO0TObHUBRYVdXQlIhXBBuz8dahJVmIlzCo"><meta name="google-site-verification" content="7ahoeOOKT2ZR781GZ5xK4L9t7yO1ZOHc-gaoUALEYgw"><meta name="google-site-verification" content="PHgaSKwdxZELS21aixtLhfpvaHtKen9pnVJ25EI35Zs"><meta name="google-site-verification" content="Ozey1ptWUQW13_lCEhpPMOcmRBLqdyB3WEL-TJUjskU"><meta name="google-site-verification" content="rF5iXzWe9KZXJes1dQNhOUkS4_z_e97IrsVoCx2trek"><meta name="google-site-verification" content="z-WR3zzv8XZ5FFfBLLDbyTiN35UXm01nWUS2Uej5pwg"><meta name="google-site-verification" content="cpB5oulaGwqSxsg4E-9q2MVbK87iE9NAUUVxdveucPw"><meta name="google-site-verification" content="8P-D5fVWgUIhw8X2BxnKJbf5itK0zxX0QhoBjbJFTe8"><meta name="google-site-verification" content="88fgsZDoVRBuRnDPMIEjcHCxsEXzODOqEsJoqtvQsDc"><meta name="google-site-verification" content="sMarhZgb4va_L_7UTdMR43gDZ2gVqc_5GHN4REpQPGY"><meta name="google-site-verification" content="26aKGBCw3XblB5Ou01UhxY5WDtMqHjoTm6P-lvF6AqE"><meta name="google-site-verification" content="DGionF7db9g0dOgeBXwOAN2tmCzWBdo5yOdc_-5UcuE"><meta name="google-site-verification" content="Q9LlidR0toR7UtSyVO23xNeaqJmRp8I6r4ghBQTtntU"><meta name="google-site-verification" content="rQawcZaTEK_UrDG30cz_7nVKOVvBass61QEes0Tm04g"><meta name="google-site-verification" content="8L3ghjzKIj241AYAmEygniTe604tsXFkIrb1v-DBtGo"><meta name="google-site-verification" content="KiunYPvrY5x8umvAWcjhwPrB677xCar2LeT_8yaVrDg"><meta name="google-site-verification" content="b6bOMRzMVX2bJABYDGBPtpGcB_AUZ-o2SOTggQXErkg"><meta name="google-site-verification" content="v2MQvJk6wTiBarKTbe1mdivqYCVtw-5m6w0HDzV5X_4"><meta name="google-site-verification" content="-N1hdkiHJQ6kwJALkHVh2ZzV2fFNER0schZl2AU6zvc"><meta property="og:type" content="article"><meta property="og:image" content="https://colab.research.google.com/img/colab_favicon_256px.png"><meta property="og:title" content="Google Colab"><meta http-equiv="origin-trial" content="AmUpB2+Hlwk73pYiEMbnkef/dprJi1I9rClec33apyFsbVOaCIRN29Rk9M4ht5Otgbp+thCc3MMD73GyCNfEWAkAAAB3eyJvcmlnaW4iOiJodHRwczovL2NvbGFiLnJlc2VhcmNoLmdvb2dsZS5jb206NDQzIiwiZmVhdHVyZSI6IkRpc2FibGVUaGlyZFBhcnR5U3RvcmFnZVBhcnRpdGlvbmluZyIsImV4cGlyeSI6MTcyNTQwNzk5OX0="><script nonce="">window.performance.mark('head_end'); window.performance.measure('head', 'head_start', 'head_end');</script><script async="" src="./Sentiment-analysis-on-amazon-product-reviews_files/lazy.min.js.download" nonce=""></script><style id="inert-style">
[inert] {
  pointer-events: none;
  cursor: default;
}

[inert], [inert] * {
  user-select: none;
  -webkit-user-select: none;
  -moz-user-select: none;
  -ms-user-select: none;
}
</style><script async="async" type="text/javascript" src="./Sentiment-analysis-on-amazon-product-reviews_files/editor.main.js.download"></script><script async="" type="text/javascript" charset="UTF-8" src="./Sentiment-analysis-on-amazon-product-reviews_files/rs=AA2YrTv0taM5qVgw38gU_15kX9WFXe5TPw" nonce=""></script><link type="text/css" href="./Sentiment-analysis-on-amazon-product-reviews_files/rs=AA2YrTsXU5hjdOZrxXehYcpWx5cYm18ejw" rel="stylesheet"><link rel="stylesheet" type="text/css" data-name="vs/editor/editor.main" href="./Sentiment-analysis-on-amazon-product-reviews_files/editor.main.css"><script async="async" type="text/javascript" src="./Sentiment-analysis-on-amazon-product-reviews_files/editor.main.nls.js.download"></script><script async="async" type="text/javascript" src="./Sentiment-analysis-on-amazon-product-reviews_files/markdown.js.download"></script><script src="./Sentiment-analysis-on-amazon-product-reviews_files/api.js.download" nonce=""></script><script src="./Sentiment-analysis-on-amazon-product-reviews_files/api(1).js.download" nonce=""></script><style type="text/css" media="screen" class="monaco-colors">.codicon-add:before { content: '\ea60'; }
.codicon-plus:before { content: '\ea60'; }
.codicon-gist-new:before { content: '\ea60'; }
.codicon-repo-create:before { content: '\ea60'; }
.codicon-lightbulb:before { content: '\ea61'; }
.codicon-light-bulb:before { content: '\ea61'; }
.codicon-repo:before { content: '\ea62'; }
.codicon-repo-delete:before { content: '\ea62'; }
.codicon-gist-fork:before { content: '\ea63'; }
.codicon-repo-forked:before { content: '\ea63'; }
.codicon-git-pull-request:before { content: '\ea64'; }
.codicon-git-pull-request-abandoned:before { content: '\ea64'; }
.codicon-record-keys:before { content: '\ea65'; }
.codicon-keyboard:before { content: '\ea65'; }
.codicon-tag:before { content: '\ea66'; }
.codicon-tag-add:before { content: '\ea66'; }
.codicon-tag-remove:before { content: '\ea66'; }
.codicon-person:before { content: '\ea67'; }
.codicon-person-follow:before { content: '\ea67'; }
.codicon-person-outline:before { content: '\ea67'; }
.codicon-person-filled:before { content: '\ea67'; }
.codicon-git-branch:before { content: '\ea68'; }
.codicon-git-branch-create:before { content: '\ea68'; }
.codicon-git-branch-delete:before { content: '\ea68'; }
.codicon-source-control:before { content: '\ea68'; }
.codicon-mirror:before { content: '\ea69'; }
.codicon-mirror-public:before { content: '\ea69'; }
.codicon-star:before { content: '\ea6a'; }
.codicon-star-add:before { content: '\ea6a'; }
.codicon-star-delete:before { content: '\ea6a'; }
.codicon-star-empty:before { content: '\ea6a'; }
.codicon-comment:before { content: '\ea6b'; }
.codicon-comment-add:before { content: '\ea6b'; }
.codicon-alert:before { content: '\ea6c'; }
.codicon-warning:before { content: '\ea6c'; }
.codicon-search:before { content: '\ea6d'; }
.codicon-search-save:before { content: '\ea6d'; }
.codicon-log-out:before { content: '\ea6e'; }
.codicon-sign-out:before { content: '\ea6e'; }
.codicon-log-in:before { content: '\ea6f'; }
.codicon-sign-in:before { content: '\ea6f'; }
.codicon-eye:before { content: '\ea70'; }
.codicon-eye-unwatch:before { content: '\ea70'; }
.codicon-eye-watch:before { content: '\ea70'; }
.codicon-circle-filled:before { content: '\ea71'; }
.codicon-primitive-dot:before { content: '\ea71'; }
.codicon-close-dirty:before { content: '\ea71'; }
.codicon-debug-breakpoint:before { content: '\ea71'; }
.codicon-debug-breakpoint-disabled:before { content: '\ea71'; }
.codicon-debug-hint:before { content: '\ea71'; }
.codicon-primitive-square:before { content: '\ea72'; }
.codicon-edit:before { content: '\ea73'; }
.codicon-pencil:before { content: '\ea73'; }
.codicon-info:before { content: '\ea74'; }
.codicon-issue-opened:before { content: '\ea74'; }
.codicon-gist-private:before { content: '\ea75'; }
.codicon-git-fork-private:before { content: '\ea75'; }
.codicon-lock:before { content: '\ea75'; }
.codicon-mirror-private:before { content: '\ea75'; }
.codicon-close:before { content: '\ea76'; }
.codicon-remove-close:before { content: '\ea76'; }
.codicon-x:before { content: '\ea76'; }
.codicon-repo-sync:before { content: '\ea77'; }
.codicon-sync:before { content: '\ea77'; }
.codicon-clone:before { content: '\ea78'; }
.codicon-desktop-download:before { content: '\ea78'; }
.codicon-beaker:before { content: '\ea79'; }
.codicon-microscope:before { content: '\ea79'; }
.codicon-vm:before { content: '\ea7a'; }
.codicon-device-desktop:before { content: '\ea7a'; }
.codicon-file:before { content: '\ea7b'; }
.codicon-file-text:before { content: '\ea7b'; }
.codicon-more:before { content: '\ea7c'; }
.codicon-ellipsis:before { content: '\ea7c'; }
.codicon-kebab-horizontal:before { content: '\ea7c'; }
.codicon-mail-reply:before { content: '\ea7d'; }
.codicon-reply:before { content: '\ea7d'; }
.codicon-organization:before { content: '\ea7e'; }
.codicon-organization-filled:before { content: '\ea7e'; }
.codicon-organization-outline:before { content: '\ea7e'; }
.codicon-new-file:before { content: '\ea7f'; }
.codicon-file-add:before { content: '\ea7f'; }
.codicon-new-folder:before { content: '\ea80'; }
.codicon-file-directory-create:before { content: '\ea80'; }
.codicon-trash:before { content: '\ea81'; }
.codicon-trashcan:before { content: '\ea81'; }
.codicon-history:before { content: '\ea82'; }
.codicon-clock:before { content: '\ea82'; }
.codicon-folder:before { content: '\ea83'; }
.codicon-file-directory:before { content: '\ea83'; }
.codicon-symbol-folder:before { content: '\ea83'; }
.codicon-logo-github:before { content: '\ea84'; }
.codicon-mark-github:before { content: '\ea84'; }
.codicon-github:before { content: '\ea84'; }
.codicon-terminal:before { content: '\ea85'; }
.codicon-console:before { content: '\ea85'; }
.codicon-repl:before { content: '\ea85'; }
.codicon-zap:before { content: '\ea86'; }
.codicon-symbol-event:before { content: '\ea86'; }
.codicon-error:before { content: '\ea87'; }
.codicon-stop:before { content: '\ea87'; }
.codicon-variable:before { content: '\ea88'; }
.codicon-symbol-variable:before { content: '\ea88'; }
.codicon-array:before { content: '\ea8a'; }
.codicon-symbol-array:before { content: '\ea8a'; }
.codicon-symbol-module:before { content: '\ea8b'; }
.codicon-symbol-package:before { content: '\ea8b'; }
.codicon-symbol-namespace:before { content: '\ea8b'; }
.codicon-symbol-object:before { content: '\ea8b'; }
.codicon-symbol-method:before { content: '\ea8c'; }
.codicon-symbol-function:before { content: '\ea8c'; }
.codicon-symbol-constructor:before { content: '\ea8c'; }
.codicon-symbol-boolean:before { content: '\ea8f'; }
.codicon-symbol-null:before { content: '\ea8f'; }
.codicon-symbol-numeric:before { content: '\ea90'; }
.codicon-symbol-number:before { content: '\ea90'; }
.codicon-symbol-structure:before { content: '\ea91'; }
.codicon-symbol-struct:before { content: '\ea91'; }
.codicon-symbol-parameter:before { content: '\ea92'; }
.codicon-symbol-type-parameter:before { content: '\ea92'; }
.codicon-symbol-key:before { content: '\ea93'; }
.codicon-symbol-text:before { content: '\ea93'; }
.codicon-symbol-reference:before { content: '\ea94'; }
.codicon-go-to-file:before { content: '\ea94'; }
.codicon-symbol-enum:before { content: '\ea95'; }
.codicon-symbol-value:before { content: '\ea95'; }
.codicon-symbol-ruler:before { content: '\ea96'; }
.codicon-symbol-unit:before { content: '\ea96'; }
.codicon-activate-breakpoints:before { content: '\ea97'; }
.codicon-archive:before { content: '\ea98'; }
.codicon-arrow-both:before { content: '\ea99'; }
.codicon-arrow-down:before { content: '\ea9a'; }
.codicon-arrow-left:before { content: '\ea9b'; }
.codicon-arrow-right:before { content: '\ea9c'; }
.codicon-arrow-small-down:before { content: '\ea9d'; }
.codicon-arrow-small-left:before { content: '\ea9e'; }
.codicon-arrow-small-right:before { content: '\ea9f'; }
.codicon-arrow-small-up:before { content: '\eaa0'; }
.codicon-arrow-up:before { content: '\eaa1'; }
.codicon-bell:before { content: '\eaa2'; }
.codicon-bold:before { content: '\eaa3'; }
.codicon-book:before { content: '\eaa4'; }
.codicon-bookmark:before { content: '\eaa5'; }
.codicon-debug-breakpoint-conditional-unverified:before { content: '\eaa6'; }
.codicon-debug-breakpoint-conditional:before { content: '\eaa7'; }
.codicon-debug-breakpoint-conditional-disabled:before { content: '\eaa7'; }
.codicon-debug-breakpoint-data-unverified:before { content: '\eaa8'; }
.codicon-debug-breakpoint-data:before { content: '\eaa9'; }
.codicon-debug-breakpoint-data-disabled:before { content: '\eaa9'; }
.codicon-debug-breakpoint-log-unverified:before { content: '\eaaa'; }
.codicon-debug-breakpoint-log:before { content: '\eaab'; }
.codicon-debug-breakpoint-log-disabled:before { content: '\eaab'; }
.codicon-briefcase:before { content: '\eaac'; }
.codicon-broadcast:before { content: '\eaad'; }
.codicon-browser:before { content: '\eaae'; }
.codicon-bug:before { content: '\eaaf'; }
.codicon-calendar:before { content: '\eab0'; }
.codicon-case-sensitive:before { content: '\eab1'; }
.codicon-check:before { content: '\eab2'; }
.codicon-checklist:before { content: '\eab3'; }
.codicon-chevron-down:before { content: '\eab4'; }
.codicon-drop-down-button:before { content: '\eab4'; }
.codicon-chevron-left:before { content: '\eab5'; }
.codicon-chevron-right:before { content: '\eab6'; }
.codicon-chevron-up:before { content: '\eab7'; }
.codicon-chrome-close:before { content: '\eab8'; }
.codicon-chrome-maximize:before { content: '\eab9'; }
.codicon-chrome-minimize:before { content: '\eaba'; }
.codicon-chrome-restore:before { content: '\eabb'; }
.codicon-circle:before { content: '\eabc'; }
.codicon-circle-outline:before { content: '\eabc'; }
.codicon-debug-breakpoint-unverified:before { content: '\eabc'; }
.codicon-circle-slash:before { content: '\eabd'; }
.codicon-circuit-board:before { content: '\eabe'; }
.codicon-clear-all:before { content: '\eabf'; }
.codicon-clippy:before { content: '\eac0'; }
.codicon-close-all:before { content: '\eac1'; }
.codicon-cloud-download:before { content: '\eac2'; }
.codicon-cloud-upload:before { content: '\eac3'; }
.codicon-code:before { content: '\eac4'; }
.codicon-collapse-all:before { content: '\eac5'; }
.codicon-color-mode:before { content: '\eac6'; }
.codicon-comment-discussion:before { content: '\eac7'; }
.codicon-compare-changes:before { content: '\eafd'; }
.codicon-credit-card:before { content: '\eac9'; }
.codicon-dash:before { content: '\eacc'; }
.codicon-dashboard:before { content: '\eacd'; }
.codicon-database:before { content: '\eace'; }
.codicon-debug-continue:before { content: '\eacf'; }
.codicon-debug-disconnect:before { content: '\ead0'; }
.codicon-debug-pause:before { content: '\ead1'; }
.codicon-debug-restart:before { content: '\ead2'; }
.codicon-debug-start:before { content: '\ead3'; }
.codicon-debug-step-into:before { content: '\ead4'; }
.codicon-debug-step-out:before { content: '\ead5'; }
.codicon-debug-step-over:before { content: '\ead6'; }
.codicon-debug-stop:before { content: '\ead7'; }
.codicon-debug:before { content: '\ead8'; }
.codicon-device-camera-video:before { content: '\ead9'; }
.codicon-device-camera:before { content: '\eada'; }
.codicon-device-mobile:before { content: '\eadb'; }
.codicon-diff-added:before { content: '\eadc'; }
.codicon-diff-ignored:before { content: '\eadd'; }
.codicon-diff-modified:before { content: '\eade'; }
.codicon-diff-removed:before { content: '\eadf'; }
.codicon-diff-renamed:before { content: '\eae0'; }
.codicon-diff:before { content: '\eae1'; }
.codicon-discard:before { content: '\eae2'; }
.codicon-editor-layout:before { content: '\eae3'; }
.codicon-empty-window:before { content: '\eae4'; }
.codicon-exclude:before { content: '\eae5'; }
.codicon-extensions:before { content: '\eae6'; }
.codicon-eye-closed:before { content: '\eae7'; }
.codicon-file-binary:before { content: '\eae8'; }
.codicon-file-code:before { content: '\eae9'; }
.codicon-file-media:before { content: '\eaea'; }
.codicon-file-pdf:before { content: '\eaeb'; }
.codicon-file-submodule:before { content: '\eaec'; }
.codicon-file-symlink-directory:before { content: '\eaed'; }
.codicon-file-symlink-file:before { content: '\eaee'; }
.codicon-file-zip:before { content: '\eaef'; }
.codicon-files:before { content: '\eaf0'; }
.codicon-filter:before { content: '\eaf1'; }
.codicon-flame:before { content: '\eaf2'; }
.codicon-fold-down:before { content: '\eaf3'; }
.codicon-fold-up:before { content: '\eaf4'; }
.codicon-fold:before { content: '\eaf5'; }
.codicon-folder-active:before { content: '\eaf6'; }
.codicon-folder-opened:before { content: '\eaf7'; }
.codicon-gear:before { content: '\eaf8'; }
.codicon-gift:before { content: '\eaf9'; }
.codicon-gist-secret:before { content: '\eafa'; }
.codicon-gist:before { content: '\eafb'; }
.codicon-git-commit:before { content: '\eafc'; }
.codicon-git-compare:before { content: '\eafd'; }
.codicon-git-merge:before { content: '\eafe'; }
.codicon-github-action:before { content: '\eaff'; }
.codicon-github-alt:before { content: '\eb00'; }
.codicon-globe:before { content: '\eb01'; }
.codicon-grabber:before { content: '\eb02'; }
.codicon-graph:before { content: '\eb03'; }
.codicon-gripper:before { content: '\eb04'; }
.codicon-heart:before { content: '\eb05'; }
.codicon-home:before { content: '\eb06'; }
.codicon-horizontal-rule:before { content: '\eb07'; }
.codicon-hubot:before { content: '\eb08'; }
.codicon-inbox:before { content: '\eb09'; }
.codicon-issue-closed:before { content: '\eba4'; }
.codicon-issue-reopened:before { content: '\eb0b'; }
.codicon-issues:before { content: '\eb0c'; }
.codicon-italic:before { content: '\eb0d'; }
.codicon-jersey:before { content: '\eb0e'; }
.codicon-json:before { content: '\eb0f'; }
.codicon-bracket:before { content: '\eb0f'; }
.codicon-kebab-vertical:before { content: '\eb10'; }
.codicon-key:before { content: '\eb11'; }
.codicon-law:before { content: '\eb12'; }
.codicon-lightbulb-autofix:before { content: '\eb13'; }
.codicon-link-external:before { content: '\eb14'; }
.codicon-link:before { content: '\eb15'; }
.codicon-list-ordered:before { content: '\eb16'; }
.codicon-list-unordered:before { content: '\eb17'; }
.codicon-live-share:before { content: '\eb18'; }
.codicon-loading:before { content: '\eb19'; }
.codicon-location:before { content: '\eb1a'; }
.codicon-mail-read:before { content: '\eb1b'; }
.codicon-mail:before { content: '\eb1c'; }
.codicon-markdown:before { content: '\eb1d'; }
.codicon-megaphone:before { content: '\eb1e'; }
.codicon-mention:before { content: '\eb1f'; }
.codicon-milestone:before { content: '\eb20'; }
.codicon-mortar-board:before { content: '\eb21'; }
.codicon-move:before { content: '\eb22'; }
.codicon-multiple-windows:before { content: '\eb23'; }
.codicon-mute:before { content: '\eb24'; }
.codicon-no-newline:before { content: '\eb25'; }
.codicon-note:before { content: '\eb26'; }
.codicon-octoface:before { content: '\eb27'; }
.codicon-open-preview:before { content: '\eb28'; }
.codicon-package:before { content: '\eb29'; }
.codicon-paintcan:before { content: '\eb2a'; }
.codicon-pin:before { content: '\eb2b'; }
.codicon-play:before { content: '\eb2c'; }
.codicon-run:before { content: '\eb2c'; }
.codicon-plug:before { content: '\eb2d'; }
.codicon-preserve-case:before { content: '\eb2e'; }
.codicon-preview:before { content: '\eb2f'; }
.codicon-project:before { content: '\eb30'; }
.codicon-pulse:before { content: '\eb31'; }
.codicon-question:before { content: '\eb32'; }
.codicon-quote:before { content: '\eb33'; }
.codicon-radio-tower:before { content: '\eb34'; }
.codicon-reactions:before { content: '\eb35'; }
.codicon-references:before { content: '\eb36'; }
.codicon-refresh:before { content: '\eb37'; }
.codicon-regex:before { content: '\eb38'; }
.codicon-remote-explorer:before { content: '\eb39'; }
.codicon-remote:before { content: '\eb3a'; }
.codicon-remove:before { content: '\eb3b'; }
.codicon-replace-all:before { content: '\eb3c'; }
.codicon-replace:before { content: '\eb3d'; }
.codicon-repo-clone:before { content: '\eb3e'; }
.codicon-repo-force-push:before { content: '\eb3f'; }
.codicon-repo-pull:before { content: '\eb40'; }
.codicon-repo-push:before { content: '\eb41'; }
.codicon-report:before { content: '\eb42'; }
.codicon-request-changes:before { content: '\eb43'; }
.codicon-rocket:before { content: '\eb44'; }
.codicon-root-folder-opened:before { content: '\eb45'; }
.codicon-root-folder:before { content: '\eb46'; }
.codicon-rss:before { content: '\eb47'; }
.codicon-ruby:before { content: '\eb48'; }
.codicon-save-all:before { content: '\eb49'; }
.codicon-save-as:before { content: '\eb4a'; }
.codicon-save:before { content: '\eb4b'; }
.codicon-screen-full:before { content: '\eb4c'; }
.codicon-screen-normal:before { content: '\eb4d'; }
.codicon-search-stop:before { content: '\eb4e'; }
.codicon-server:before { content: '\eb50'; }
.codicon-settings-gear:before { content: '\eb51'; }
.codicon-settings:before { content: '\eb52'; }
.codicon-shield:before { content: '\eb53'; }
.codicon-smiley:before { content: '\eb54'; }
.codicon-sort-precedence:before { content: '\eb55'; }
.codicon-split-horizontal:before { content: '\eb56'; }
.codicon-split-vertical:before { content: '\eb57'; }
.codicon-squirrel:before { content: '\eb58'; }
.codicon-star-full:before { content: '\eb59'; }
.codicon-star-half:before { content: '\eb5a'; }
.codicon-symbol-class:before { content: '\eb5b'; }
.codicon-symbol-color:before { content: '\eb5c'; }
.codicon-symbol-customcolor:before { content: '\eb5c'; }
.codicon-symbol-constant:before { content: '\eb5d'; }
.codicon-symbol-enum-member:before { content: '\eb5e'; }
.codicon-symbol-field:before { content: '\eb5f'; }
.codicon-symbol-file:before { content: '\eb60'; }
.codicon-symbol-interface:before { content: '\eb61'; }
.codicon-symbol-keyword:before { content: '\eb62'; }
.codicon-symbol-misc:before { content: '\eb63'; }
.codicon-symbol-operator:before { content: '\eb64'; }
.codicon-symbol-property:before { content: '\eb65'; }
.codicon-wrench:before { content: '\eb65'; }
.codicon-wrench-subaction:before { content: '\eb65'; }
.codicon-symbol-snippet:before { content: '\eb66'; }
.codicon-tasklist:before { content: '\eb67'; }
.codicon-telescope:before { content: '\eb68'; }
.codicon-text-size:before { content: '\eb69'; }
.codicon-three-bars:before { content: '\eb6a'; }
.codicon-thumbsdown:before { content: '\eb6b'; }
.codicon-thumbsup:before { content: '\eb6c'; }
.codicon-tools:before { content: '\eb6d'; }
.codicon-triangle-down:before { content: '\eb6e'; }
.codicon-triangle-left:before { content: '\eb6f'; }
.codicon-triangle-right:before { content: '\eb70'; }
.codicon-triangle-up:before { content: '\eb71'; }
.codicon-twitter:before { content: '\eb72'; }
.codicon-unfold:before { content: '\eb73'; }
.codicon-unlock:before { content: '\eb74'; }
.codicon-unmute:before { content: '\eb75'; }
.codicon-unverified:before { content: '\eb76'; }
.codicon-verified:before { content: '\eb77'; }
.codicon-versions:before { content: '\eb78'; }
.codicon-vm-active:before { content: '\eb79'; }
.codicon-vm-outline:before { content: '\eb7a'; }
.codicon-vm-running:before { content: '\eb7b'; }
.codicon-watch:before { content: '\eb7c'; }
.codicon-whitespace:before { content: '\eb7d'; }
.codicon-whole-word:before { content: '\eb7e'; }
.codicon-window:before { content: '\eb7f'; }
.codicon-word-wrap:before { content: '\eb80'; }
.codicon-zoom-in:before { content: '\eb81'; }
.codicon-zoom-out:before { content: '\eb82'; }
.codicon-list-filter:before { content: '\eb83'; }
.codicon-list-flat:before { content: '\eb84'; }
.codicon-list-selection:before { content: '\eb85'; }
.codicon-selection:before { content: '\eb85'; }
.codicon-list-tree:before { content: '\eb86'; }
.codicon-debug-breakpoint-function-unverified:before { content: '\eb87'; }
.codicon-debug-breakpoint-function:before { content: '\eb88'; }
.codicon-debug-breakpoint-function-disabled:before { content: '\eb88'; }
.codicon-debug-stackframe-active:before { content: '\eb89'; }
.codicon-circle-small-filled:before { content: '\eb8a'; }
.codicon-debug-stackframe-dot:before { content: '\eb8a'; }
.codicon-debug-stackframe:before { content: '\eb8b'; }
.codicon-debug-stackframe-focused:before { content: '\eb8b'; }
.codicon-debug-breakpoint-unsupported:before { content: '\eb8c'; }
.codicon-symbol-string:before { content: '\eb8d'; }
.codicon-debug-reverse-continue:before { content: '\eb8e'; }
.codicon-debug-step-back:before { content: '\eb8f'; }
.codicon-debug-restart-frame:before { content: '\eb90'; }
.codicon-call-incoming:before { content: '\eb92'; }
.codicon-call-outgoing:before { content: '\eb93'; }
.codicon-menu:before { content: '\eb94'; }
.codicon-expand-all:before { content: '\eb95'; }
.codicon-feedback:before { content: '\eb96'; }
.codicon-group-by-ref-type:before { content: '\eb97'; }
.codicon-ungroup-by-ref-type:before { content: '\eb98'; }
.codicon-account:before { content: '\eb99'; }
.codicon-bell-dot:before { content: '\eb9a'; }
.codicon-debug-console:before { content: '\eb9b'; }
.codicon-library:before { content: '\eb9c'; }
.codicon-output:before { content: '\eb9d'; }
.codicon-run-all:before { content: '\eb9e'; }
.codicon-sync-ignored:before { content: '\eb9f'; }
.codicon-pinned:before { content: '\eba0'; }
.codicon-github-inverted:before { content: '\eba1'; }
.codicon-debug-alt:before { content: '\eb91'; }
.codicon-server-process:before { content: '\eba2'; }
.codicon-server-environment:before { content: '\eba3'; }
.codicon-pass:before { content: '\eba4'; }
.codicon-stop-circle:before { content: '\eba5'; }
.codicon-play-circle:before { content: '\eba6'; }
.codicon-record:before { content: '\eba7'; }
.codicon-debug-alt-small:before { content: '\eba8'; }
.codicon-vm-connect:before { content: '\eba9'; }
.codicon-cloud:before { content: '\ebaa'; }
.codicon-merge:before { content: '\ebab'; }
.codicon-export:before { content: '\ebac'; }
.codicon-graph-left:before { content: '\ebad'; }
.codicon-magnet:before { content: '\ebae'; }
.codicon-notebook:before { content: '\ebaf'; }
.codicon-redo:before { content: '\ebb0'; }
.codicon-check-all:before { content: '\ebb1'; }
.codicon-pinned-dirty:before { content: '\ebb2'; }
.codicon-pass-filled:before { content: '\ebb3'; }
.codicon-circle-large-filled:before { content: '\ebb4'; }
.codicon-circle-large:before { content: '\ebb5'; }
.codicon-circle-large-outline:before { content: '\ebb5'; }
.codicon-combine:before { content: '\ebb6'; }
.codicon-gather:before { content: '\ebb6'; }
.codicon-table:before { content: '\ebb7'; }
.codicon-variable-group:before { content: '\ebb8'; }
.codicon-type-hierarchy:before { content: '\ebb9'; }
.codicon-type-hierarchy-sub:before { content: '\ebba'; }
.codicon-type-hierarchy-super:before { content: '\ebbb'; }
.codicon-git-pull-request-create:before { content: '\ebbc'; }
.codicon-run-above:before { content: '\ebbd'; }
.codicon-run-below:before { content: '\ebbe'; }
.codicon-notebook-template:before { content: '\ebbf'; }
.codicon-debug-rerun:before { content: '\ebc0'; }
.codicon-workspace-trusted:before { content: '\ebc1'; }
.codicon-workspace-untrusted:before { content: '\ebc2'; }
.codicon-workspace-unspecified:before { content: '\ebc3'; }
.codicon-terminal-cmd:before { content: '\ebc4'; }
.codicon-terminal-debian:before { content: '\ebc5'; }
.codicon-terminal-linux:before { content: '\ebc6'; }
.codicon-terminal-powershell:before { content: '\ebc7'; }
.codicon-terminal-tmux:before { content: '\ebc8'; }
.codicon-terminal-ubuntu:before { content: '\ebc9'; }
.codicon-terminal-bash:before { content: '\ebca'; }
.codicon-arrow-swap:before { content: '\ebcb'; }
.codicon-copy:before { content: '\ebcc'; }
.codicon-person-add:before { content: '\ebcd'; }
.codicon-filter-filled:before { content: '\ebce'; }
.codicon-wand:before { content: '\ebcf'; }
.codicon-debug-line-by-line:before { content: '\ebd0'; }
.codicon-inspect:before { content: '\ebd1'; }
.codicon-layers:before { content: '\ebd2'; }
.codicon-layers-dot:before { content: '\ebd3'; }
.codicon-layers-active:before { content: '\ebd4'; }
.codicon-compass:before { content: '\ebd5'; }
.codicon-compass-dot:before { content: '\ebd6'; }
.codicon-compass-active:before { content: '\ebd7'; }
.codicon-azure:before { content: '\ebd8'; }
.codicon-issue-draft:before { content: '\ebd9'; }
.codicon-git-pull-request-closed:before { content: '\ebda'; }
.codicon-git-pull-request-draft:before { content: '\ebdb'; }
.codicon-debug-all:before { content: '\ebdc'; }
.codicon-debug-coverage:before { content: '\ebdd'; }
.codicon-run-errors:before { content: '\ebde'; }
.codicon-folder-library:before { content: '\ebdf'; }
.codicon-debug-continue-small:before { content: '\ebe0'; }
.codicon-beaker-stop:before { content: '\ebe1'; }
.codicon-graph-line:before { content: '\ebe2'; }
.codicon-graph-scatter:before { content: '\ebe3'; }
.codicon-pie-chart:before { content: '\ebe4'; }
.codicon-bracket-dot:before { content: '\ebe5'; }
.codicon-bracket-error:before { content: '\ebe6'; }
.codicon-lock-small:before { content: '\ebe7'; }
.codicon-azure-devops:before { content: '\ebe8'; }
.codicon-verified-filled:before { content: '\ebe9'; }
.codicon-newline:before { content: '\ebea'; }
.codicon-layout:before { content: '\ebeb'; }
.codicon-layout-activitybar-left:before { content: '\ebec'; }
.codicon-layout-activitybar-right:before { content: '\ebed'; }
.codicon-layout-panel-left:before { content: '\ebee'; }
.codicon-layout-panel-center:before { content: '\ebef'; }
.codicon-layout-panel-justify:before { content: '\ebf0'; }
.codicon-layout-panel-right:before { content: '\ebf1'; }
.codicon-layout-panel:before { content: '\ebf2'; }
.codicon-layout-sidebar-left:before { content: '\ebf3'; }
.codicon-layout-sidebar-right:before { content: '\ebf4'; }
.codicon-layout-statusbar:before { content: '\ebf5'; }
.codicon-layout-menubar:before { content: '\ebf6'; }
.codicon-layout-centered:before { content: '\ebf7'; }
.codicon-layout-sidebar-right-off:before { content: '\ec00'; }
.codicon-layout-panel-off:before { content: '\ec01'; }
.codicon-layout-sidebar-left-off:before { content: '\ec02'; }
.codicon-target:before { content: '\ebf8'; }
.codicon-indent:before { content: '\ebf9'; }
.codicon-record-small:before { content: '\ebfa'; }
.codicon-error-small:before { content: '\ebfb'; }
.codicon-arrow-circle-down:before { content: '\ebfc'; }
.codicon-arrow-circle-left:before { content: '\ebfd'; }
.codicon-arrow-circle-right:before { content: '\ebfe'; }
.codicon-arrow-circle-up:before { content: '\ebff'; }
.codicon-heart-filled:before { content: '\ec04'; }
.codicon-map:before { content: '\ec05'; }
.codicon-map-filled:before { content: '\ec06'; }
.codicon-circle-small:before { content: '\ec07'; }
.codicon-bell-slash:before { content: '\ec08'; }
.codicon-bell-slash-dot:before { content: '\ec09'; }
.codicon-comment-unresolved:before { content: '\ec0a'; }
.codicon-git-pull-request-go-to-changes:before { content: '\ec0b'; }
.codicon-git-pull-request-new-changes:before { content: '\ec0c'; }
.codicon-search-fuzzy:before { content: '\ec0d'; }
.codicon-comment-draft:before { content: '\ec0e'; }
.codicon-send:before { content: '\ec0f'; }
.codicon-sparkle:before { content: '\ec10'; }
.codicon-insert:before { content: '\ec11'; }
.codicon-dialog-error:before { content: '\ea87'; }
.codicon-dialog-warning:before { content: '\ea6c'; }
.codicon-dialog-info:before { content: '\ea74'; }
.codicon-dialog-close:before { content: '\ea76'; }
.codicon-tree-item-expanded:before { content: '\eab4'; }
.codicon-tree-filter-on-type-on:before { content: '\eb83'; }
.codicon-tree-filter-on-type-off:before { content: '\eb85'; }
.codicon-tree-filter-clear:before { content: '\ea76'; }
.codicon-tree-item-loading:before { content: '\eb19'; }
.codicon-menu-selection:before { content: '\eab2'; }
.codicon-menu-submenu:before { content: '\eab6'; }
.codicon-menubar-more:before { content: '\ea7c'; }
.codicon-scrollbar-button-left:before { content: '\eb6f'; }
.codicon-scrollbar-button-right:before { content: '\eb70'; }
.codicon-scrollbar-button-up:before { content: '\eb71'; }
.codicon-scrollbar-button-down:before { content: '\eb6e'; }
.codicon-toolbar-more:before { content: '\ea7c'; }
.codicon-quick-input-back:before { content: '\ea9b'; }
.codicon-widget-close:before { content: '\ea76'; }
.codicon-goto-previous-location:before { content: '\eaa1'; }
.codicon-goto-next-location:before { content: '\ea9a'; }
.codicon-diff-review-insert:before { content: '\ea60'; }
.codicon-diff-review-remove:before { content: '\eb3b'; }
.codicon-diff-review-close:before { content: '\ea76'; }
.codicon-parameter-hints-next:before { content: '\eab4'; }
.codicon-parameter-hints-previous:before { content: '\eab7'; }
.codicon-suggest-more-info:before { content: '\eab6'; }
.codicon-inline-suggestion-hints-next:before { content: '\eab6'; }
.codicon-inline-suggestion-hints-previous:before { content: '\eab5'; }
.codicon-diff-insert:before { content: '\ea60'; }
.codicon-diff-remove:before { content: '\eb3b'; }
.codicon-find-selection:before { content: '\eb85'; }
.codicon-find-collapsed:before { content: '\eab6'; }
.codicon-find-expanded:before { content: '\eab4'; }
.codicon-find-replace:before { content: '\eb3d'; }
.codicon-find-replace-all:before { content: '\eb3c'; }
.codicon-find-previous-match:before { content: '\eaa1'; }
.codicon-find-next-match:before { content: '\ea9a'; }
.codicon-folding-expanded:before { content: '\eab4'; }
.codicon-folding-collapsed:before { content: '\eab6'; }
.codicon-folding-manual-collapsed:before { content: '\eab6'; }
.codicon-folding-manual-expanded:before { content: '\eab4'; }
.codicon-marker-navigation-next:before { content: '\ea9a'; }
.codicon-marker-navigation-previous:before { content: '\eaa1'; }
.codicon-extensions-warning-message:before { content: '\ea6c'; }
.monaco-editor .inputarea.ime-input { background-color: #f7f7f7; }
.monaco-editor .view-overlays .current-line { border: 2px solid #eeeeee; }
.monaco-editor .margin-view-overlays .current-line-margin { border: 2px solid #eeeeee; }
.monaco-editor .bracket-indent-guide.lvl-0 { --guide-color: rgba(4, 49, 250, 0.3); --guide-color-active: #0431fa; }
.monaco-editor .bracket-indent-guide.lvl-1 { --guide-color: rgba(49, 147, 49, 0.3); --guide-color-active: #319331; }
.monaco-editor .bracket-indent-guide.lvl-2 { --guide-color: rgba(123, 56, 20, 0.3); --guide-color-active: #7b3814; }
.monaco-editor .bracket-indent-guide.lvl-3 { --guide-color: rgba(4, 49, 250, 0.3); --guide-color-active: #0431fa; }
.monaco-editor .bracket-indent-guide.lvl-4 { --guide-color: rgba(49, 147, 49, 0.3); --guide-color-active: #319331; }
.monaco-editor .bracket-indent-guide.lvl-5 { --guide-color: rgba(123, 56, 20, 0.3); --guide-color-active: #7b3814; }
.monaco-editor .bracket-indent-guide.lvl-6 { --guide-color: rgba(4, 49, 250, 0.3); --guide-color-active: #0431fa; }
.monaco-editor .bracket-indent-guide.lvl-7 { --guide-color: rgba(49, 147, 49, 0.3); --guide-color-active: #319331; }
.monaco-editor .bracket-indent-guide.lvl-8 { --guide-color: rgba(123, 56, 20, 0.3); --guide-color-active: #7b3814; }
.monaco-editor .bracket-indent-guide.lvl-9 { --guide-color: rgba(4, 49, 250, 0.3); --guide-color-active: #0431fa; }
.monaco-editor .bracket-indent-guide.lvl-10 { --guide-color: rgba(49, 147, 49, 0.3); --guide-color-active: #319331; }
.monaco-editor .bracket-indent-guide.lvl-11 { --guide-color: rgba(123, 56, 20, 0.3); --guide-color-active: #7b3814; }
.monaco-editor .bracket-indent-guide.lvl-12 { --guide-color: rgba(4, 49, 250, 0.3); --guide-color-active: #0431fa; }
.monaco-editor .bracket-indent-guide.lvl-13 { --guide-color: rgba(49, 147, 49, 0.3); --guide-color-active: #319331; }
.monaco-editor .bracket-indent-guide.lvl-14 { --guide-color: rgba(123, 56, 20, 0.3); --guide-color-active: #7b3814; }
.monaco-editor .bracket-indent-guide.lvl-15 { --guide-color: rgba(4, 49, 250, 0.3); --guide-color-active: #0431fa; }
.monaco-editor .bracket-indent-guide.lvl-16 { --guide-color: rgba(49, 147, 49, 0.3); --guide-color-active: #319331; }
.monaco-editor .bracket-indent-guide.lvl-17 { --guide-color: rgba(123, 56, 20, 0.3); --guide-color-active: #7b3814; }
.monaco-editor .bracket-indent-guide.lvl-18 { --guide-color: rgba(4, 49, 250, 0.3); --guide-color-active: #0431fa; }
.monaco-editor .bracket-indent-guide.lvl-19 { --guide-color: rgba(49, 147, 49, 0.3); --guide-color-active: #319331; }
.monaco-editor .bracket-indent-guide.lvl-20 { --guide-color: rgba(123, 56, 20, 0.3); --guide-color-active: #7b3814; }
.monaco-editor .bracket-indent-guide.lvl-21 { --guide-color: rgba(4, 49, 250, 0.3); --guide-color-active: #0431fa; }
.monaco-editor .bracket-indent-guide.lvl-22 { --guide-color: rgba(49, 147, 49, 0.3); --guide-color-active: #319331; }
.monaco-editor .bracket-indent-guide.lvl-23 { --guide-color: rgba(123, 56, 20, 0.3); --guide-color-active: #7b3814; }
.monaco-editor .bracket-indent-guide.lvl-24 { --guide-color: rgba(4, 49, 250, 0.3); --guide-color-active: #0431fa; }
.monaco-editor .bracket-indent-guide.lvl-25 { --guide-color: rgba(49, 147, 49, 0.3); --guide-color-active: #319331; }
.monaco-editor .bracket-indent-guide.lvl-26 { --guide-color: rgba(123, 56, 20, 0.3); --guide-color-active: #7b3814; }
.monaco-editor .bracket-indent-guide.lvl-27 { --guide-color: rgba(4, 49, 250, 0.3); --guide-color-active: #0431fa; }
.monaco-editor .bracket-indent-guide.lvl-28 { --guide-color: rgba(49, 147, 49, 0.3); --guide-color-active: #319331; }
.monaco-editor .bracket-indent-guide.lvl-29 { --guide-color: rgba(123, 56, 20, 0.3); --guide-color-active: #7b3814; }
.monaco-editor .vertical { box-shadow: 1px 0 0 0 var(--guide-color) inset; }
.monaco-editor .horizontal-top { border-top: 1px solid var(--guide-color); }
.monaco-editor .horizontal-bottom { border-bottom: 1px solid var(--guide-color); }
.monaco-editor .vertical.indent-active { box-shadow: 1px 0 0 0 var(--guide-color-active) inset; }
.monaco-editor .horizontal-top.indent-active { border-top: 1px solid var(--guide-color-active); }
.monaco-editor .horizontal-bottom.indent-active { border-bottom: 1px solid var(--guide-color-active); }
.monaco-editor .line-numbers.dimmed-line-number { color: rgba(153, 153, 153, 0.4); }
.monaco-editor .cursors-layer .cursor { background-color: #000000; border-color: #000000; color: #ffffff; }
.monaco-editor .unexpected-closing-bracket { color: rgba(255, 18, 18, 0.8); }
.monaco-editor .bracket-highlighting-0 { color: #0431fa; }
.monaco-editor .bracket-highlighting-1 { color: #319331; }
.monaco-editor .bracket-highlighting-2 { color: #7b3814; }
.monaco-editor .bracket-highlighting-3 { color: #0431fa; }
.monaco-editor .bracket-highlighting-4 { color: #319331; }
.monaco-editor .bracket-highlighting-5 { color: #7b3814; }
.monaco-editor .bracket-highlighting-6 { color: #0431fa; }
.monaco-editor .bracket-highlighting-7 { color: #319331; }
.monaco-editor .bracket-highlighting-8 { color: #7b3814; }
.monaco-editor .bracket-highlighting-9 { color: #0431fa; }
.monaco-editor .bracket-highlighting-10 { color: #319331; }
.monaco-editor .bracket-highlighting-11 { color: #7b3814; }
.monaco-editor .bracket-highlighting-12 { color: #0431fa; }
.monaco-editor .bracket-highlighting-13 { color: #319331; }
.monaco-editor .bracket-highlighting-14 { color: #7b3814; }
.monaco-editor .bracket-highlighting-15 { color: #0431fa; }
.monaco-editor .bracket-highlighting-16 { color: #319331; }
.monaco-editor .bracket-highlighting-17 { color: #7b3814; }
.monaco-editor .bracket-highlighting-18 { color: #0431fa; }
.monaco-editor .bracket-highlighting-19 { color: #319331; }
.monaco-editor .bracket-highlighting-20 { color: #7b3814; }
.monaco-editor .bracket-highlighting-21 { color: #0431fa; }
.monaco-editor .bracket-highlighting-22 { color: #319331; }
.monaco-editor .bracket-highlighting-23 { color: #7b3814; }
.monaco-editor .bracket-highlighting-24 { color: #0431fa; }
.monaco-editor .bracket-highlighting-25 { color: #319331; }
.monaco-editor .bracket-highlighting-26 { color: #7b3814; }
.monaco-editor .bracket-highlighting-27 { color: #0431fa; }
.monaco-editor .bracket-highlighting-28 { color: #319331; }
.monaco-editor .bracket-highlighting-29 { color: #7b3814; }
.monaco-editor .squiggly-error { background: url("data:image/svg+xml,%3Csvg%20xmlns%3D'http%3A%2F%2Fwww.w3.org%2F2000%2Fsvg'%20viewBox%3D'0%200%206%203'%20enable-background%3D'new%200%200%206%203'%20height%3D'3'%20width%3D'6'%3E%3Cg%20fill%3D'%23e51400'%3E%3Cpolygon%20points%3D'5.5%2C0%202.5%2C3%201.1%2C3%204.1%2C0'%2F%3E%3Cpolygon%20points%3D'4%2C0%206%2C2%206%2C0.6%205.4%2C0'%2F%3E%3Cpolygon%20points%3D'0%2C2%201%2C3%202.4%2C3%200%2C0.6'%2F%3E%3C%2Fg%3E%3C%2Fsvg%3E") repeat-x bottom left; }
.monaco-editor .squiggly-warning { background: url("data:image/svg+xml,%3Csvg%20xmlns%3D'http%3A%2F%2Fwww.w3.org%2F2000%2Fsvg'%20viewBox%3D'0%200%206%203'%20enable-background%3D'new%200%200%206%203'%20height%3D'3'%20width%3D'6'%3E%3Cg%20fill%3D'%23bf8803'%3E%3Cpolygon%20points%3D'5.5%2C0%202.5%2C3%201.1%2C3%204.1%2C0'%2F%3E%3Cpolygon%20points%3D'4%2C0%206%2C2%206%2C0.6%205.4%2C0'%2F%3E%3Cpolygon%20points%3D'0%2C2%201%2C3%202.4%2C3%200%2C0.6'%2F%3E%3C%2Fg%3E%3C%2Fsvg%3E") repeat-x bottom left; }
.monaco-editor .squiggly-info { background: url("data:image/svg+xml,%3Csvg%20xmlns%3D'http%3A%2F%2Fwww.w3.org%2F2000%2Fsvg'%20viewBox%3D'0%200%206%203'%20enable-background%3D'new%200%200%206%203'%20height%3D'3'%20width%3D'6'%3E%3Cg%20fill%3D'%231a85ff'%3E%3Cpolygon%20points%3D'5.5%2C0%202.5%2C3%201.1%2C3%204.1%2C0'%2F%3E%3Cpolygon%20points%3D'4%2C0%206%2C2%206%2C0.6%205.4%2C0'%2F%3E%3Cpolygon%20points%3D'0%2C2%201%2C3%202.4%2C3%200%2C0.6'%2F%3E%3C%2Fg%3E%3C%2Fsvg%3E") repeat-x bottom left; }
.monaco-editor .squiggly-hint { background: url("data:image/svg+xml,%3Csvg%20xmlns%3D%22http%3A%2F%2Fwww.w3.org%2F2000%2Fsvg%22%20height%3D%223%22%20width%3D%2212%22%3E%3Cg%20fill%3D%22%236c6c6c%22%3E%3Ccircle%20cx%3D%221%22%20cy%3D%221%22%20r%3D%221%22%2F%3E%3Ccircle%20cx%3D%225%22%20cy%3D%221%22%20r%3D%221%22%2F%3E%3Ccircle%20cx%3D%229%22%20cy%3D%221%22%20r%3D%221%22%2F%3E%3C%2Fg%3E%3C%2Fsvg%3E") no-repeat bottom left; }
.monaco-editor.showUnused .squiggly-inline-unnecessary { opacity: 0.467; }
.monaco-editor .selectionHighlight { background-color: rgba(173, 214, 255, 0.15); }

	.monaco-editor .diagonal-fill {
		background-image: linear-gradient(
			-45deg,
			rgba(34, 34, 34, 0.2) 12.5%,
			#0000 12.5%, #0000 50%,
			rgba(34, 34, 34, 0.2) 50%, rgba(34, 34, 34, 0.2) 62.5%,
			#0000 62.5%, #0000 100%
		);
		background-size: 8px 8px;
	}
	
.monaco-editor .findMatch { background-color: rgba(234, 92, 0, 0.33); }
.monaco-editor .currentFindMatch { background-color: #a8ac94; }
.monaco-editor .findScope { background-color: rgba(180, 180, 180, 0.3); }
.monaco-editor .find-widget { background-color: #f3f3f3; }
.monaco-editor .find-widget { box-shadow: 0 0 8px 2px rgba(0, 0, 0, 0.16); }
.monaco-editor .find-widget { color: #616161; }
.monaco-editor .find-widget.no-results .matchesCount { color: #a1260d; }
.monaco-editor .find-widget .monaco-sash { background-color: #c8c8c8; }

		.monaco-editor .find-widget .button:not(.disabled):hover,
		.monaco-editor .find-widget .codicon-find-selection:hover {
			background-color: rgba(184, 184, 184, 0.31) !important;
		}
	
.monaco-editor .find-widget .monaco-inputbox.synthetic-focus { outline-color: #0090f1; }
.monaco-editor .monaco-hover .hover-row:not(:first-child):not(:empty) { border-top: 1px solid rgba(200, 200, 200, 0.5); }
.monaco-editor .monaco-hover hr { border-top: 1px solid rgba(200, 200, 200, 0.5); }
.monaco-editor .monaco-hover hr { border-bottom: 0px solid rgba(200, 200, 200, 0.5); }
.monaco-editor { --vscode-foreground: #616161;
--vscode-disabledForeground: rgba(97, 97, 97, 0.5);
--vscode-errorForeground: #a1260d;
--vscode-descriptionForeground: #717171;
--vscode-icon-foreground: #424242;
--vscode-focusBorder: #0090f1;
--vscode-textSeparator-foreground: rgba(0, 0, 0, 0.18);
--vscode-textLink-foreground: #006ab1;
--vscode-textLink-activeForeground: #006ab1;
--vscode-textPreformat-foreground: #a31515;
--vscode-textBlockQuote-background: rgba(127, 127, 127, 0.1);
--vscode-textBlockQuote-border: rgba(0, 122, 204, 0.5);
--vscode-textCodeBlock-background: rgba(220, 220, 220, 0.4);
--vscode-widget-shadow: rgba(0, 0, 0, 0.16);
--vscode-input-background: #ffffff;
--vscode-input-foreground: #616161;
--vscode-inputOption-activeBorder: #007acc;
--vscode-inputOption-hoverBackground: rgba(184, 184, 184, 0.31);
--vscode-inputOption-activeBackground: rgba(0, 144, 241, 0.2);
--vscode-inputOption-activeForeground: #000000;
--vscode-input-placeholderForeground: rgba(97, 97, 97, 0.5);
--vscode-inputValidation-infoBackground: #d6ecf2;
--vscode-inputValidation-infoBorder: #007acc;
--vscode-inputValidation-warningBackground: #f6f5d2;
--vscode-inputValidation-warningBorder: #b89500;
--vscode-inputValidation-errorBackground: #f2dede;
--vscode-inputValidation-errorBorder: #be1100;
--vscode-dropdown-background: #ffffff;
--vscode-dropdown-foreground: #616161;
--vscode-dropdown-border: #cecece;
--vscode-button-foreground: #ffffff;
--vscode-button-separator: rgba(255, 255, 255, 0.4);
--vscode-button-background: #007acc;
--vscode-button-hoverBackground: #0062a3;
--vscode-button-secondaryForeground: #ffffff;
--vscode-button-secondaryBackground: #5f6a79;
--vscode-button-secondaryHoverBackground: #4c5561;
--vscode-badge-background: #c4c4c4;
--vscode-badge-foreground: #333333;
--vscode-scrollbar-shadow: #dddddd;
--vscode-scrollbarSlider-background: rgba(100, 100, 100, 0.4);
--vscode-scrollbarSlider-hoverBackground: rgba(100, 100, 100, 0.7);
--vscode-scrollbarSlider-activeBackground: rgba(0, 0, 0, 0.6);
--vscode-progressBar-background: #0e70c0;
--vscode-editorError-foreground: #e51400;
--vscode-editorWarning-foreground: #bf8803;
--vscode-editorInfo-foreground: #1a85ff;
--vscode-editorHint-foreground: #6c6c6c;
--vscode-sash-hoverBorder: #0090f1;
--vscode-editor-background: #f7f7f7;
--vscode-editor-foreground: #000000;
--vscode-editorStickyScroll-background: #f7f7f7;
--vscode-editorStickyScrollHover-background: #f0f0f0;
--vscode-editorWidget-background: #f3f3f3;
--vscode-editorWidget-foreground: #616161;
--vscode-editorWidget-border: #c8c8c8;
--vscode-quickInput-background: #f3f3f3;
--vscode-quickInput-foreground: #616161;
--vscode-quickInputTitle-background: rgba(0, 0, 0, 0.06);
--vscode-pickerGroup-foreground: #0066bf;
--vscode-pickerGroup-border: #cccedb;
--vscode-keybindingLabel-background: rgba(221, 221, 221, 0.4);
--vscode-keybindingLabel-foreground: #555555;
--vscode-keybindingLabel-border: rgba(204, 204, 204, 0.4);
--vscode-keybindingLabel-bottomBorder: rgba(187, 187, 187, 0.4);
--vscode-editor-selectionBackground: #add6ff;
--vscode-editor-inactiveSelectionBackground: #e5ebf1;
--vscode-editor-selectionHighlightBackground: rgba(173, 214, 255, 0.3);
--vscode-editor-findMatchBackground: #a8ac94;
--vscode-editor-findMatchHighlightBackground: rgba(234, 92, 0, 0.33);
--vscode-editor-findRangeHighlightBackground: rgba(180, 180, 180, 0.3);
--vscode-searchEditor-findMatchBackground: rgba(234, 92, 0, 0.22);
--vscode-search-resultsInfoForeground: #616161;
--vscode-editor-hoverHighlightBackground: rgba(173, 214, 255, 0.15);
--vscode-editorHoverWidget-background: #f3f3f3;
--vscode-editorHoverWidget-foreground: #616161;
--vscode-editorHoverWidget-border: #c8c8c8;
--vscode-editorHoverWidget-statusBarBackground: #e7e7e7;
--vscode-editorLink-activeForeground: #0000ff;
--vscode-editorInlayHint-foreground: #616161;
--vscode-editorInlayHint-background: rgba(196, 196, 196, 0.3);
--vscode-editorInlayHint-typeForeground: #616161;
--vscode-editorInlayHint-typeBackground: rgba(196, 196, 196, 0.3);
--vscode-editorInlayHint-parameterForeground: #616161;
--vscode-editorInlayHint-parameterBackground: rgba(196, 196, 196, 0.3);
--vscode-editorLightBulb-foreground: #ddb100;
--vscode-editorLightBulbAutoFix-foreground: #007acc;
--vscode-diffEditor-insertedTextBackground: rgba(155, 185, 85, 0.09);
--vscode-diffEditor-removedTextBackground: rgba(255, 0, 0, 0.03);
--vscode-diffEditor-insertedLineBackground: rgba(155, 185, 85, 0.09);
--vscode-diffEditor-removedLineBackground: rgba(255, 0, 0, 0.03);
--vscode-diffEditor-diagonalFill: rgba(34, 34, 34, 0.2);
--vscode-diffEditor-unchangedRegionBackground: #e4e4e4;
--vscode-diffEditor-unchangedRegionForeground: #4d4c4c;
--vscode-diffEditor-unchangedCodeBackground: rgba(184, 184, 184, 0.16);
--vscode-list-focusOutline: #0090f1;
--vscode-list-activeSelectionBackground: #d6ebff;
--vscode-list-activeSelectionForeground: #000000;
--vscode-list-inactiveSelectionBackground: #e4e6f1;
--vscode-list-hoverBackground: #f0f0f0;
--vscode-list-dropBackground: #d6ebff;
--vscode-list-highlightForeground: #0066bf;
--vscode-list-focusHighlightForeground: #0066bf;
--vscode-list-invalidItemForeground: #b89500;
--vscode-list-errorForeground: #b01011;
--vscode-list-warningForeground: #855f00;
--vscode-listFilterWidget-background: #f3f3f3;
--vscode-listFilterWidget-outline: rgba(0, 0, 0, 0);
--vscode-listFilterWidget-noMatchesOutline: #be1100;
--vscode-listFilterWidget-shadow: rgba(0, 0, 0, 0.16);
--vscode-list-filterMatchBackground: rgba(234, 92, 0, 0.33);
--vscode-tree-indentGuidesStroke: #a9a9a9;
--vscode-tree-inactiveIndentGuidesStroke: rgba(169, 169, 169, 0.4);
--vscode-tree-tableColumnsBorder: rgba(97, 97, 97, 0.13);
--vscode-tree-tableOddRowsBackground: rgba(97, 97, 97, 0.04);
--vscode-list-deemphasizedForeground: #8e8e90;
--vscode-checkbox-background: #ffffff;
--vscode-checkbox-selectBackground: #f3f3f3;
--vscode-checkbox-foreground: #616161;
--vscode-checkbox-border: #cecece;
--vscode-checkbox-selectBorder: #424242;
--vscode-quickInputList-focusForeground: #000000;
--vscode-quickInputList-focusBackground: #d6ebff;
--vscode-menu-foreground: #616161;
--vscode-menu-background: #ffffff;
--vscode-menu-selectionForeground: #000000;
--vscode-menu-selectionBackground: #d6ebff;
--vscode-menu-separatorBackground: #d4d4d4;
--vscode-toolbar-hoverBackground: rgba(184, 184, 184, 0.31);
--vscode-toolbar-activeBackground: rgba(166, 166, 166, 0.31);
--vscode-editor-snippetTabstopHighlightBackground: rgba(10, 50, 100, 0.2);
--vscode-editor-snippetFinalTabstopHighlightBorder: rgba(10, 50, 100, 0.5);
--vscode-breadcrumb-foreground: rgba(97, 97, 97, 0.8);
--vscode-breadcrumb-background: #f7f7f7;
--vscode-breadcrumb-focusForeground: #4e4e4e;
--vscode-breadcrumb-activeSelectionForeground: #4e4e4e;
--vscode-breadcrumbPicker-background: #f3f3f3;
--vscode-merge-currentHeaderBackground: rgba(64, 200, 174, 0.5);
--vscode-merge-currentContentBackground: rgba(64, 200, 174, 0.2);
--vscode-merge-incomingHeaderBackground: rgba(64, 166, 255, 0.5);
--vscode-merge-incomingContentBackground: rgba(64, 166, 255, 0.2);
--vscode-merge-commonHeaderBackground: rgba(96, 96, 96, 0.4);
--vscode-merge-commonContentBackground: rgba(96, 96, 96, 0.16);
--vscode-editorOverviewRuler-currentContentForeground: rgba(64, 200, 174, 0.5);
--vscode-editorOverviewRuler-incomingContentForeground: rgba(64, 166, 255, 0.5);
--vscode-editorOverviewRuler-commonContentForeground: rgba(96, 96, 96, 0.4);
--vscode-editorOverviewRuler-findMatchForeground: rgba(209, 134, 22, 0.49);
--vscode-editorOverviewRuler-selectionHighlightForeground: rgba(0, 0, 0, 0);
--vscode-minimap-findMatchHighlight: #d18616;
--vscode-minimap-selectionOccurrenceHighlight: #c9c9c9;
--vscode-minimap-selectionHighlight: #add6ff;
--vscode-minimap-errorHighlight: rgba(255, 18, 18, 0.7);
--vscode-minimap-warningHighlight: #bf8803;
--vscode-minimap-foregroundOpacity: #000000;
--vscode-minimapSlider-background: rgba(100, 100, 100, 0.2);
--vscode-minimapSlider-hoverBackground: rgba(100, 100, 100, 0.35);
--vscode-minimapSlider-activeBackground: rgba(0, 0, 0, 0.3);
--vscode-problemsErrorIcon-foreground: #e51400;
--vscode-problemsWarningIcon-foreground: #bf8803;
--vscode-problemsInfoIcon-foreground: #1a85ff;
--vscode-charts-foreground: #616161;
--vscode-charts-lines: rgba(97, 97, 97, 0.5);
--vscode-charts-red: #e51400;
--vscode-charts-blue: #1a85ff;
--vscode-charts-yellow: #bf8803;
--vscode-charts-orange: #d18616;
--vscode-charts-green: #388a34;
--vscode-charts-purple: #652d90;
--vscode-symbolIcon-arrayForeground: #616161;
--vscode-symbolIcon-booleanForeground: #616161;
--vscode-symbolIcon-classForeground: #d67e00;
--vscode-symbolIcon-colorForeground: #616161;
--vscode-symbolIcon-constantForeground: #616161;
--vscode-symbolIcon-constructorForeground: #652d90;
--vscode-symbolIcon-enumeratorForeground: #d67e00;
--vscode-symbolIcon-enumeratorMemberForeground: #007acc;
--vscode-symbolIcon-eventForeground: #d67e00;
--vscode-symbolIcon-fieldForeground: #007acc;
--vscode-symbolIcon-fileForeground: #616161;
--vscode-symbolIcon-folderForeground: #616161;
--vscode-symbolIcon-functionForeground: #652d90;
--vscode-symbolIcon-interfaceForeground: #007acc;
--vscode-symbolIcon-keyForeground: #616161;
--vscode-symbolIcon-keywordForeground: #616161;
--vscode-symbolIcon-methodForeground: #652d90;
--vscode-symbolIcon-moduleForeground: #616161;
--vscode-symbolIcon-namespaceForeground: #616161;
--vscode-symbolIcon-nullForeground: #616161;
--vscode-symbolIcon-numberForeground: #616161;
--vscode-symbolIcon-objectForeground: #616161;
--vscode-symbolIcon-operatorForeground: #616161;
--vscode-symbolIcon-packageForeground: #616161;
--vscode-symbolIcon-propertyForeground: #616161;
--vscode-symbolIcon-referenceForeground: #616161;
--vscode-symbolIcon-snippetForeground: #616161;
--vscode-symbolIcon-stringForeground: #616161;
--vscode-symbolIcon-structForeground: #616161;
--vscode-symbolIcon-textForeground: #616161;
--vscode-symbolIcon-typeParameterForeground: #616161;
--vscode-symbolIcon-unitForeground: #616161;
--vscode-symbolIcon-variableForeground: #007acc;
--vscode-editor-lineHighlightBorder: #eeeeee;
--vscode-editor-rangeHighlightBackground: rgba(253, 255, 0, 0.2);
--vscode-editor-symbolHighlightBackground: rgba(234, 92, 0, 0.33);
--vscode-editorCursor-foreground: #000000;
--vscode-editorWhitespace-foreground: rgba(51, 51, 51, 0.2);
--vscode-editorIndentGuide-background: #d3d3d3;
--vscode-editorIndentGuide-activeBackground: #939393;
--vscode-editorLineNumber-foreground: #999999;
--vscode-editorActiveLineNumber-foreground: #0b216f;
--vscode-editorLineNumber-activeForeground: #0b216f;
--vscode-editorRuler-foreground: #d3d3d3;
--vscode-editorCodeLens-foreground: #919191;
--vscode-editorBracketMatch-background: rgba(0, 100, 0, 0.1);
--vscode-editorBracketMatch-border: #b9b9b9;
--vscode-editorOverviewRuler-border: rgba(127, 127, 127, 0.3);
--vscode-editorGutter-background: #f7f7f7;
--vscode-editorUnnecessaryCode-opacity: rgba(0, 0, 0, 0.47);
--vscode-editorGhostText-foreground: rgba(0, 0, 0, 0.47);
--vscode-editorOverviewRuler-rangeHighlightForeground: rgba(0, 122, 204, 0.6);
--vscode-editorOverviewRuler-errorForeground: rgba(255, 18, 18, 0.7);
--vscode-editorOverviewRuler-warningForeground: #bf8803;
--vscode-editorOverviewRuler-infoForeground: #1a85ff;
--vscode-editorBracketHighlight-foreground1: #0431fa;
--vscode-editorBracketHighlight-foreground2: #319331;
--vscode-editorBracketHighlight-foreground3: #7b3814;
--vscode-editorBracketHighlight-foreground4: rgba(0, 0, 0, 0);
--vscode-editorBracketHighlight-foreground5: rgba(0, 0, 0, 0);
--vscode-editorBracketHighlight-foreground6: rgba(0, 0, 0, 0);
--vscode-editorBracketHighlight-unexpectedBracket-foreground: rgba(255, 18, 18, 0.8);
--vscode-editorBracketPairGuide-background1: rgba(0, 0, 0, 0);
--vscode-editorBracketPairGuide-background2: rgba(0, 0, 0, 0);
--vscode-editorBracketPairGuide-background3: rgba(0, 0, 0, 0);
--vscode-editorBracketPairGuide-background4: rgba(0, 0, 0, 0);
--vscode-editorBracketPairGuide-background5: rgba(0, 0, 0, 0);
--vscode-editorBracketPairGuide-background6: rgba(0, 0, 0, 0);
--vscode-editorBracketPairGuide-activeBackground1: rgba(0, 0, 0, 0);
--vscode-editorBracketPairGuide-activeBackground2: rgba(0, 0, 0, 0);
--vscode-editorBracketPairGuide-activeBackground3: rgba(0, 0, 0, 0);
--vscode-editorBracketPairGuide-activeBackground4: rgba(0, 0, 0, 0);
--vscode-editorBracketPairGuide-activeBackground5: rgba(0, 0, 0, 0);
--vscode-editorBracketPairGuide-activeBackground6: rgba(0, 0, 0, 0);
--vscode-editorUnicodeHighlight-border: #cea33d;
--vscode-editorUnicodeHighlight-background: rgba(206, 163, 61, 0.08);
--vscode-editorOverviewRuler-bracketMatchForeground: #a0a0a0;
--vscode-editor-linkedEditingBackground: rgba(255, 0, 0, 0.3);
--vscode-editor-wordHighlightBackground: rgba(87, 87, 87, 0.25);
--vscode-editor-wordHighlightStrongBackground: #d6ebff;
--vscode-editor-wordHighlightTextBackground: rgba(173, 214, 255, 0.45);
--vscode-editorOverviewRuler-wordHighlightForeground: rgba(160, 160, 160, 0.8);
--vscode-editorOverviewRuler-wordHighlightStrongForeground: rgba(192, 160, 192, 0.8);
--vscode-editorOverviewRuler-wordHighlightTextForeground: rgba(0, 0, 0, 0);
--vscode-peekViewTitle-background: #f3f3f3;
--vscode-peekViewTitleLabel-foreground: #000000;
--vscode-peekViewTitleDescription-foreground: #616161;
--vscode-peekView-border: #1a85ff;
--vscode-peekViewResult-background: #f3f3f3;
--vscode-peekViewResult-lineForeground: #646465;
--vscode-peekViewResult-fileForeground: #1e1e1e;
--vscode-peekViewResult-selectionBackground: rgba(51, 153, 255, 0.2);
--vscode-peekViewResult-selectionForeground: #6c6c6c;
--vscode-peekViewEditor-background: #f2f8fc;
--vscode-peekViewEditorGutter-background: #f2f8fc;
--vscode-peekViewEditorStickyScroll-background: #f2f8fc;
--vscode-peekViewResult-matchHighlightBackground: rgba(234, 92, 0, 0.3);
--vscode-peekViewEditor-matchHighlightBackground: rgba(245, 216, 2, 0.87);
--vscode-editorMarkerNavigationError-background: #e51400;
--vscode-editorMarkerNavigationError-headerBackground: rgba(229, 20, 0, 0.1);
--vscode-editorMarkerNavigationWarning-background: #bf8803;
--vscode-editorMarkerNavigationWarning-headerBackground: rgba(191, 136, 3, 0.1);
--vscode-editorMarkerNavigationInfo-background: #1a85ff;
--vscode-editorMarkerNavigationInfo-headerBackground: rgba(26, 133, 255, 0.1);
--vscode-editorMarkerNavigation-background: #f7f7f7;
--vscode-editorHoverWidget-highlightForeground: #0066bf;
--vscode-editorSuggestWidget-background: #f3f3f3;
--vscode-editorSuggestWidget-border: #c8c8c8;
--vscode-editorSuggestWidget-foreground: #000000;
--vscode-editorSuggestWidget-selectedForeground: #000000;
--vscode-editorSuggestWidget-selectedBackground: #d6ebff;
--vscode-editorSuggestWidget-highlightForeground: #0066bf;
--vscode-editorSuggestWidget-focusHighlightForeground: #0066bf;
--vscode-editorSuggestWidgetStatus-foreground: rgba(0, 0, 0, 0.5);
--vscode-editor-foldBackground: rgba(173, 214, 255, 0.3);
--vscode-editorGutter-foldingControlForeground: #424242; }

.mtk1 { color: #000000; }
.mtk2 { color: #f7f7f7; }
.mtk3 { color: #808080; }
.mtk4 { color: #ff0000; }
.mtk5 { color: #0451a5; }
.mtk6 { color: #0000ff; }
.mtk7 { color: #098658; }
.mtk8 { color: #008000; }
.mtk9 { color: #dd0000; }
.mtk10 { color: #811f3f; }
.mtk11 { color: #e00000; }
.mtk12 { color: #116644; }
.mtk13 { color: #383838; }
.mtk14 { color: #257693; }
.mtk15 { color: #795e26; }
.mtk16 { color: #001080; }
.mtk17 { color: #cd3131; }
.mtk18 { color: #863b00; }
.mtk19 { color: #af00db; }
.mtk20 { color: #c43b3b; }
.mtk21 { color: #800000; }
.mtk22 { color: #3030c0; }
.mtk23 { color: #666666; }
.mtk24 { color: #778899; }
.mtk25 { color: #c700c7; }
.mtk26 { color: #a31515; }
.mtk27 { color: #4f76ac; }
.mtk28 { color: #008080; }
.mtk29 { color: #001188; }
.mtk30 { color: #4864aa; }
.mtki { font-style: italic; }
.mtkb { font-weight: bold; }
.mtku { text-decoration: underline; text-underline-position: under; }
.mtks { text-decoration: line-through; }
.mtks.mtku { text-decoration: underline line-through; text-underline-position: under; }</style><style type="text/css">.MathJax_Hover_Frame {border-radius: .25em; -webkit-border-radius: .25em; -moz-border-radius: .25em; -khtml-border-radius: .25em; box-shadow: 0px 0px 15px #83A; -webkit-box-shadow: 0px 0px 15px #83A; -moz-box-shadow: 0px 0px 15px #83A; -khtml-box-shadow: 0px 0px 15px #83A; border: 1px solid #A6D ! important; display: inline-block; position: absolute}
.MathJax_Menu_Button .MathJax_Hover_Arrow {position: absolute; cursor: pointer; display: inline-block; border: 2px solid #AAA; border-radius: 4px; -webkit-border-radius: 4px; -moz-border-radius: 4px; -khtml-border-radius: 4px; font-family: 'Courier New',Courier; font-size: 9px; color: #F0F0F0}
.MathJax_Menu_Button .MathJax_Hover_Arrow span {display: block; background-color: #AAA; border: 1px solid; border-radius: 3px; line-height: 0; padding: 4px}
.MathJax_Hover_Arrow:hover {color: white!important; border: 2px solid #CCC!important}
.MathJax_Hover_Arrow:hover span {background-color: #CCC!important}
</style><style type="text/css">#MathJax_About {position: fixed; left: 50%; width: auto; text-align: center; border: 3px outset; padding: 1em 2em; background-color: #DDDDDD; color: black; cursor: default; font-family: message-box; font-size: 120%; font-style: normal; text-indent: 0; text-transform: none; line-height: normal; letter-spacing: normal; word-spacing: normal; word-wrap: normal; white-space: nowrap; float: none; z-index: 201; border-radius: 15px; -webkit-border-radius: 15px; -moz-border-radius: 15px; -khtml-border-radius: 15px; box-shadow: 0px 10px 20px #808080; -webkit-box-shadow: 0px 10px 20px #808080; -moz-box-shadow: 0px 10px 20px #808080; -khtml-box-shadow: 0px 10px 20px #808080; filter: progid:DXImageTransform.Microsoft.dropshadow(OffX=2, OffY=2, Color='gray', Positive='true')}
#MathJax_About.MathJax_MousePost {outline: none}
.MathJax_Menu {position: absolute; background-color: white; color: black; width: auto; padding: 2px; border: 1px solid #CCCCCC; margin: 0; cursor: default; font: menu; text-align: left; text-indent: 0; text-transform: none; line-height: normal; letter-spacing: normal; word-spacing: normal; word-wrap: normal; white-space: nowrap; float: none; z-index: 201; box-shadow: 0px 10px 20px #808080; -webkit-box-shadow: 0px 10px 20px #808080; -moz-box-shadow: 0px 10px 20px #808080; -khtml-box-shadow: 0px 10px 20px #808080; filter: progid:DXImageTransform.Microsoft.dropshadow(OffX=2, OffY=2, Color='gray', Positive='true')}
.MathJax_MenuItem {padding: 2px 2em; background: transparent}
.MathJax_MenuArrow {position: absolute; right: .5em; padding-top: .25em; color: #666666; font-size: .75em}
.MathJax_MenuActive .MathJax_MenuArrow {color: white}
.MathJax_MenuArrow.RTL {left: .5em; right: auto}
.MathJax_MenuCheck {position: absolute; left: .7em}
.MathJax_MenuCheck.RTL {right: .7em; left: auto}
.MathJax_MenuRadioCheck {position: absolute; left: 1em}
.MathJax_MenuRadioCheck.RTL {right: 1em; left: auto}
.MathJax_MenuLabel {padding: 2px 2em 4px 1.33em; font-style: italic}
.MathJax_MenuRule {border-top: 1px solid #CCCCCC; margin: 4px 1px 0px}
.MathJax_MenuDisabled {color: GrayText}
.MathJax_MenuActive {background-color: Highlight; color: HighlightText}
.MathJax_MenuDisabled:focus, .MathJax_MenuLabel:focus {background-color: #E8E8E8}
.MathJax_ContextMenu:focus {outline: none}
.MathJax_ContextMenu .MathJax_MenuItem:focus {outline: none}
#MathJax_AboutClose {top: .2em; right: .2em}
.MathJax_Menu .MathJax_MenuClose {top: -10px; left: -10px}
.MathJax_MenuClose {position: absolute; cursor: pointer; display: inline-block; border: 2px solid #AAA; border-radius: 18px; -webkit-border-radius: 18px; -moz-border-radius: 18px; -khtml-border-radius: 18px; font-family: 'Courier New',Courier; font-size: 24px; color: #F0F0F0}
.MathJax_MenuClose span {display: block; background-color: #AAA; border: 1.5px solid; border-radius: 18px; -webkit-border-radius: 18px; -moz-border-radius: 18px; -khtml-border-radius: 18px; line-height: 0; padding: 8px 0 6px}
.MathJax_MenuClose:hover {color: white!important; border: 2px solid #CCC!important}
.MathJax_MenuClose:hover span {background-color: #CCC!important}
.MathJax_MenuClose:hover:focus {outline: none}
</style><style type="text/css">.MJX_Assistive_MathML {position: absolute!important; top: 0; left: 0; clip: rect(1px, 1px, 1px, 1px); padding: 1px 0 0 0!important; border: 0!important; height: 1px!important; width: 1px!important; overflow: hidden!important; display: block!important; -webkit-touch-callout: none; -webkit-user-select: none; -khtml-user-select: none; -moz-user-select: none; -ms-user-select: none; user-select: none}
.MJX_Assistive_MathML.MJX_Assistive_MathML_Block {width: 100%!important}
</style><style type="text/css">#MathJax_Zoom {position: absolute; background-color: #F0F0F0; overflow: auto; display: block; z-index: 301; padding: .5em; border: 1px solid black; margin: 0; font-weight: normal; font-style: normal; text-align: left; text-indent: 0; text-transform: none; line-height: normal; letter-spacing: normal; word-spacing: normal; word-wrap: normal; white-space: nowrap; float: none; -webkit-box-sizing: content-box; -moz-box-sizing: content-box; box-sizing: content-box; box-shadow: 5px 5px 15px #AAAAAA; -webkit-box-shadow: 5px 5px 15px #AAAAAA; -moz-box-shadow: 5px 5px 15px #AAAAAA; -khtml-box-shadow: 5px 5px 15px #AAAAAA; filter: progid:DXImageTransform.Microsoft.dropshadow(OffX=2, OffY=2, Color='gray', Positive='true')}
#MathJax_ZoomOverlay {position: absolute; left: 0; top: 0; z-index: 300; display: inline-block; width: 100%; height: 100%; border: 0; padding: 0; margin: 0; background-color: white; opacity: 0; filter: alpha(opacity=0)}
#MathJax_ZoomFrame {position: relative; display: inline-block; height: 0; width: 0}
#MathJax_ZoomEventTrap {position: absolute; left: 0; top: 0; z-index: 302; display: inline-block; border: 0; padding: 0; margin: 0; background-color: white; opacity: 0; filter: alpha(opacity=0)}
</style><style type="text/css">.MathJax_Preview {color: #888}
#MathJax_Message {position: fixed; left: 1em; bottom: 1.5em; background-color: #E6E6E6; border: 1px solid #959595; margin: 0px; padding: 2px 8px; z-index: 102; color: black; font-size: 80%; width: auto; white-space: nowrap}
#MathJax_MSIE_Frame {position: absolute; top: 0; left: 0; width: 0px; z-index: 101; border: 0px; margin: 0px; padding: 0px}
.MathJax_Error {color: #CC0000; font-style: italic}
</style><style type="text/css">.MJXp-script {font-size: .8em}
.MJXp-right {-webkit-transform-origin: right; -moz-transform-origin: right; -ms-transform-origin: right; -o-transform-origin: right; transform-origin: right}
.MJXp-bold {font-weight: bold}
.MJXp-italic {font-style: italic}
.MJXp-scr {font-family: MathJax_Script,'Times New Roman',Times,STIXGeneral,serif}
.MJXp-frak {font-family: MathJax_Fraktur,'Times New Roman',Times,STIXGeneral,serif}
.MJXp-sf {font-family: MathJax_SansSerif,'Times New Roman',Times,STIXGeneral,serif}
.MJXp-cal {font-family: MathJax_Caligraphic,'Times New Roman',Times,STIXGeneral,serif}
.MJXp-mono {font-family: MathJax_Typewriter,'Times New Roman',Times,STIXGeneral,serif}
.MJXp-largeop {font-size: 150%}
.MJXp-largeop.MJXp-int {vertical-align: -.2em}
.MJXp-math {display: inline-block; line-height: 1.2; text-indent: 0; font-family: 'Times New Roman',Times,STIXGeneral,serif; white-space: nowrap; border-collapse: collapse}
.MJXp-display {display: block; text-align: center; margin: 1em 0}
.MJXp-math span {display: inline-block}
.MJXp-box {display: block!important; text-align: center}
.MJXp-box:after {content: " "}
.MJXp-rule {display: block!important; margin-top: .1em}
.MJXp-char {display: block!important}
.MJXp-mo {margin: 0 .15em}
.MJXp-mfrac {margin: 0 .125em; vertical-align: .25em}
.MJXp-denom {display: inline-table!important; width: 100%}
.MJXp-denom > * {display: table-row!important}
.MJXp-surd {vertical-align: top}
.MJXp-surd > * {display: block!important}
.MJXp-script-box > *  {display: table!important; height: 50%}
.MJXp-script-box > * > * {display: table-cell!important; vertical-align: top}
.MJXp-script-box > *:last-child > * {vertical-align: bottom}
.MJXp-script-box > * > * > * {display: block!important}
.MJXp-mphantom {visibility: hidden}
.MJXp-munderover, .MJXp-munder {display: inline-table!important}
.MJXp-over {display: inline-block!important; text-align: center}
.MJXp-over > * {display: block!important}
.MJXp-munderover > *, .MJXp-munder > * {display: table-row!important}
.MJXp-mtable {vertical-align: .25em; margin: 0 .125em}
.MJXp-mtable > * {display: inline-table!important; vertical-align: middle}
.MJXp-mtr {display: table-row!important}
.MJXp-mtd {display: table-cell!important; text-align: center; padding: .5em 0 0 .5em}
.MJXp-mtr > .MJXp-mtd:first-child {padding-left: 0}
.MJXp-mtr:first-child > .MJXp-mtd {padding-top: 0}
.MJXp-mlabeledtr {display: table-row!important}
.MJXp-mlabeledtr > .MJXp-mtd:first-child {padding-left: 0}
.MJXp-mlabeledtr:first-child > .MJXp-mtd {padding-top: 0}
.MJXp-merror {background-color: #FFFF88; color: #CC0000; border: 1px solid #CC0000; padding: 1px 3px; font-style: normal; font-size: 90%}
.MJXp-scale0 {-webkit-transform: scaleX(.0); -moz-transform: scaleX(.0); -ms-transform: scaleX(.0); -o-transform: scaleX(.0); transform: scaleX(.0)}
.MJXp-scale1 {-webkit-transform: scaleX(.1); -moz-transform: scaleX(.1); -ms-transform: scaleX(.1); -o-transform: scaleX(.1); transform: scaleX(.1)}
.MJXp-scale2 {-webkit-transform: scaleX(.2); -moz-transform: scaleX(.2); -ms-transform: scaleX(.2); -o-transform: scaleX(.2); transform: scaleX(.2)}
.MJXp-scale3 {-webkit-transform: scaleX(.3); -moz-transform: scaleX(.3); -ms-transform: scaleX(.3); -o-transform: scaleX(.3); transform: scaleX(.3)}
.MJXp-scale4 {-webkit-transform: scaleX(.4); -moz-transform: scaleX(.4); -ms-transform: scaleX(.4); -o-transform: scaleX(.4); transform: scaleX(.4)}
.MJXp-scale5 {-webkit-transform: scaleX(.5); -moz-transform: scaleX(.5); -ms-transform: scaleX(.5); -o-transform: scaleX(.5); transform: scaleX(.5)}
.MJXp-scale6 {-webkit-transform: scaleX(.6); -moz-transform: scaleX(.6); -ms-transform: scaleX(.6); -o-transform: scaleX(.6); transform: scaleX(.6)}
.MJXp-scale7 {-webkit-transform: scaleX(.7); -moz-transform: scaleX(.7); -ms-transform: scaleX(.7); -o-transform: scaleX(.7); transform: scaleX(.7)}
.MJXp-scale8 {-webkit-transform: scaleX(.8); -moz-transform: scaleX(.8); -ms-transform: scaleX(.8); -o-transform: scaleX(.8); transform: scaleX(.8)}
.MJXp-scale9 {-webkit-transform: scaleX(.9); -moz-transform: scaleX(.9); -ms-transform: scaleX(.9); -o-transform: scaleX(.9); transform: scaleX(.9)}
.MathJax_PHTML .noError {vertical-align: ; font-size: 90%; text-align: left; color: black; padding: 1px 3px; border: 1px solid}
</style><style type="text/css">.MathJax_Display {text-align: center; margin: 0; position: relative; display: block!important; text-indent: 0; max-width: none; max-height: none; min-width: 0; min-height: 0; width: 100%}
.MathJax .merror {background-color: #FFFF88; color: #CC0000; border: 1px solid #CC0000; padding: 1px 3px; font-style: normal; font-size: 90%}
.MathJax .MJX-monospace {font-family: monospace}
.MathJax .MJX-sans-serif {font-family: sans-serif}
#MathJax_Tooltip {background-color: InfoBackground; color: InfoText; border: 1px solid black; box-shadow: 2px 2px 5px #AAAAAA; -webkit-box-shadow: 2px 2px 5px #AAAAAA; -moz-box-shadow: 2px 2px 5px #AAAAAA; -khtml-box-shadow: 2px 2px 5px #AAAAAA; filter: progid:DXImageTransform.Microsoft.dropshadow(OffX=2, OffY=2, Color='gray', Positive='true'); padding: 3px 4px; z-index: 401; position: absolute; left: 0; top: 0; width: auto; height: auto; display: none}
.MathJax {display: inline; font-style: normal; font-weight: normal; line-height: normal; font-size: 100%; font-size-adjust: none; text-indent: 0; text-align: left; text-transform: none; letter-spacing: normal; word-spacing: normal; word-wrap: normal; white-space: nowrap; float: none; direction: ltr; max-width: none; max-height: none; min-width: 0; min-height: 0; border: 0; padding: 0; margin: 0}
.MathJax:focus, body :focus .MathJax {display: inline-table}
.MathJax.MathJax_FullWidth {text-align: center; display: table-cell!important; width: 10000em!important}
.MathJax img, .MathJax nobr, .MathJax a {border: 0; padding: 0; margin: 0; max-width: none; max-height: none; min-width: 0; min-height: 0; vertical-align: 0; line-height: normal; text-decoration: none}
img.MathJax_strut {border: 0!important; padding: 0!important; margin: 0!important; vertical-align: 0!important}
.MathJax span {display: inline; position: static; border: 0; padding: 0; margin: 0; vertical-align: 0; line-height: normal; text-decoration: none; box-sizing: content-box}
.MathJax nobr {white-space: nowrap!important}
.MathJax img {display: inline!important; float: none!important}
.MathJax * {transition: none; -webkit-transition: none; -moz-transition: none; -ms-transition: none; -o-transition: none}
.MathJax_Processing {visibility: hidden; position: fixed; width: 0; height: 0; overflow: hidden}
.MathJax_Processed {display: none!important}
.MathJax_test {font-style: normal; font-weight: normal; font-size: 100%; font-size-adjust: none; text-indent: 0; text-transform: none; letter-spacing: normal; word-spacing: normal; overflow: hidden; height: 1px}
.MathJax_test.mjx-test-display {display: table!important}
.MathJax_test.mjx-test-inline {display: inline!important; margin-right: -1px}
.MathJax_test.mjx-test-default {display: block!important; clear: both}
.MathJax_ex_box {display: inline-block!important; position: absolute; overflow: hidden; min-height: 0; max-height: none; padding: 0; border: 0; margin: 0; width: 1px; height: 60ex}
.MathJax_em_box {display: inline-block!important; position: absolute; overflow: hidden; min-height: 0; max-height: none; padding: 0; border: 0; margin: 0; width: 1px; height: 60em}
.mjx-test-inline .MathJax_left_box {display: inline-block; width: 0; float: left}
.mjx-test-inline .MathJax_right_box {display: inline-block; width: 0; float: right}
.mjx-test-display .MathJax_right_box {display: table-cell!important; width: 10000em!important; min-width: 0; max-width: none; padding: 0; border: 0; margin: 0}
.MathJax .MathJax_HitBox {cursor: text; background: white; opacity: 0; filter: alpha(opacity=0)}
.MathJax .MathJax_HitBox * {filter: none; opacity: 1; background: transparent}
#MathJax_Tooltip * {filter: none; opacity: 1; background: transparent}
@font-face {font-family: MathJax_Main; src: url('https://colab.research.google.com/static/mathjax/fonts/HTML-CSS/TeX/woff/MathJax_Main-Regular.woff?V=2.7.5') format('woff'), url('https://colab.research.google.com/static/mathjax/fonts/HTML-CSS/TeX/otf/MathJax_Main-Regular.otf?V=2.7.5') format('opentype')}
@font-face {font-family: MathJax_Main-bold; src: url('https://colab.research.google.com/static/mathjax/fonts/HTML-CSS/TeX/woff/MathJax_Main-Bold.woff?V=2.7.5') format('woff'), url('https://colab.research.google.com/static/mathjax/fonts/HTML-CSS/TeX/otf/MathJax_Main-Bold.otf?V=2.7.5') format('opentype')}
@font-face {font-family: MathJax_Main-italic; src: url('https://colab.research.google.com/static/mathjax/fonts/HTML-CSS/TeX/woff/MathJax_Main-Italic.woff?V=2.7.5') format('woff'), url('https://colab.research.google.com/static/mathjax/fonts/HTML-CSS/TeX/otf/MathJax_Main-Italic.otf?V=2.7.5') format('opentype')}
@font-face {font-family: MathJax_Math-italic; src: url('https://colab.research.google.com/static/mathjax/fonts/HTML-CSS/TeX/woff/MathJax_Math-Italic.woff?V=2.7.5') format('woff'), url('https://colab.research.google.com/static/mathjax/fonts/HTML-CSS/TeX/otf/MathJax_Math-Italic.otf?V=2.7.5') format('opentype')}
@font-face {font-family: MathJax_Caligraphic; src: url('https://colab.research.google.com/static/mathjax/fonts/HTML-CSS/TeX/woff/MathJax_Caligraphic-Regular.woff?V=2.7.5') format('woff'), url('https://colab.research.google.com/static/mathjax/fonts/HTML-CSS/TeX/otf/MathJax_Caligraphic-Regular.otf?V=2.7.5') format('opentype')}
@font-face {font-family: MathJax_Size1; src: url('https://colab.research.google.com/static/mathjax/fonts/HTML-CSS/TeX/woff/MathJax_Size1-Regular.woff?V=2.7.5') format('woff'), url('https://colab.research.google.com/static/mathjax/fonts/HTML-CSS/TeX/otf/MathJax_Size1-Regular.otf?V=2.7.5') format('opentype')}
@font-face {font-family: MathJax_Size2; src: url('https://colab.research.google.com/static/mathjax/fonts/HTML-CSS/TeX/woff/MathJax_Size2-Regular.woff?V=2.7.5') format('woff'), url('https://colab.research.google.com/static/mathjax/fonts/HTML-CSS/TeX/otf/MathJax_Size2-Regular.otf?V=2.7.5') format('opentype')}
@font-face {font-family: MathJax_Size3; src: url('https://colab.research.google.com/static/mathjax/fonts/HTML-CSS/TeX/woff/MathJax_Size3-Regular.woff?V=2.7.5') format('woff'), url('https://colab.research.google.com/static/mathjax/fonts/HTML-CSS/TeX/otf/MathJax_Size3-Regular.otf?V=2.7.5') format('opentype')}
@font-face {font-family: MathJax_Size4; src: url('https://colab.research.google.com/static/mathjax/fonts/HTML-CSS/TeX/woff/MathJax_Size4-Regular.woff?V=2.7.5') format('woff'), url('https://colab.research.google.com/static/mathjax/fonts/HTML-CSS/TeX/otf/MathJax_Size4-Regular.otf?V=2.7.5') format('opentype')}
.MathJax .noError {vertical-align: ; font-size: 90%; text-align: left; color: black; padding: 1px 3px; border: 1px solid}
</style></head><body class="" style="overflow: hidden;"><div inert="" aria-hidden="true" style="visibility: hidden; overflow: hidden; position: absolute; top: 0px; height: 1px; width: auto; padding: 0px; border: 0px; margin: 0px; text-align: left; text-indent: 0px; text-transform: none; line-height: normal; letter-spacing: normal; word-spacing: normal;"><div id="MathJax_Hidden"></div></div><div id="MathJax_Message" inert="" aria-hidden="true" style="display: none;"></div><div class="scripts" inert="" aria-hidden="true"><script nonce="">window.performance.mark('external_scripts_start');</script><script src="./Sentiment-analysis-on-amazon-product-reviews_files/gapi_loader.js.download" nonce=""></script><script src="./Sentiment-analysis-on-amazon-product-reviews_files/socketio_binary.js.download" nonce=""></script><script src="./Sentiment-analysis-on-amazon-product-reviews_files/analytics_binary.js.download" nonce=""></script><script src="./Sentiment-analysis-on-amazon-product-reviews_files/MathJax.js.download" nonce=""></script><script src="./Sentiment-analysis-on-amazon-product-reviews_files/js_monaco_editor_vs_loader.js.download" nonce=""></script><script nonce="">window.performance.mark('external_scripts_end'); window.performance.measure('external_scripts', 'external_scripts_start', 'external_scripts_end'); window.performance.mark('colab_load_start');</script><script src="./Sentiment-analysis-on-amazon-product-reviews_files/external_binary.js.download" nonce=""></script><script nonce="">
          window.performance.mark('colab_load_end');
          window.performance.measure('colab_load', 'colab_load_start', 'colab_load_end');
        </script></div><colab-snackbar leading="" labeltext="" id="message-area" class="message-area" inert="" aria-hidden="true"><template shadowrootmode="open"><!----><style>
        :host .mdc-snackbar__surface {
          background-color: var(--colab-snackbar-surface-color);
        }
      </style>
      <!--?lit$896484614$-->
      <div class="mdc-snackbar  mdc-snackbar--leading ">
        <div class="mdc-snackbar__surface">
          <!--?lit$896484614$-->
          <div class="mdc-snackbar__actions">
            <slot name="action"></slot>
            <slot name="dismiss"></slot>
          </div>
        </div>
      </div><!--?--></template>
      <md-icon-button class="close" slot="dismiss" title="Close" data-aria-label="Close" value=""><template shadowrootmode="open" shadowrootdelegatesfocus><!----><button id="button" class="icon-button  standard " aria-label="Close" tabindex="-1">
        <!--?lit$896484614$--><md-focus-ring part="focus-ring" for="button" aria-hidden="true"><template shadowrootmode="open"><!----></template></md-focus-ring>
        <!--?lit$896484614$--><md-ripple aria-hidden="true"><template shadowrootmode="open"><!----><div class="surface   "></div></template></md-ripple>
        <!--?lit$896484614$--><span class="icon"><slot></slot></span>
        <!--?lit$896484614$-->
        <!--?lit$896484614$--><span class="touch"></span>
        <!--?lit$896484614$-->
  </button></template>
        <md-icon aria-hidden="true"><template shadowrootmode="open"><!----><slot></slot></template>close</md-icon>
      </md-icon-button>
    </colab-snackbar><colab-snackbar leading="" labeltext="" id="message-area-secondary" class="message-area startup" inert="" aria-hidden="true"><template shadowrootmode="open"><!----><style>
        :host .mdc-snackbar__surface {
          background-color: var(--colab-snackbar-surface-color);
        }
      </style>
      <!--?lit$896484614$-->
      <div class="mdc-snackbar mdc-snackbar--leading">
        <div class="mdc-snackbar__surface">
          <!--?lit$896484614$-->
          <div class="mdc-snackbar__actions">
            <slot name="action"></slot>
            <slot name="dismiss"></slot>
          </div>
        </div>
      </div><!--?--></template>
      <md-icon-button class="close" slot="dismiss" title="Close" data-aria-label="Close" value=""><template shadowrootmode="open" shadowrootdelegatesfocus><!----><button id="button" class="icon-button  standard " aria-label="Close" tabindex="-1">
        <!--?lit$896484614$--><md-focus-ring part="focus-ring" for="button" aria-hidden="true"><template shadowrootmode="open"><!----></template></md-focus-ring>
        <!--?lit$896484614$--><md-ripple aria-hidden="true"><template shadowrootmode="open"><!----><div class="surface   "></div></template></md-ripple>
        <!--?lit$896484614$--><span class="icon"><slot></slot></span>
        <!--?lit$896484614$-->
        <!--?lit$896484614$--><span class="touch"></span>
        <!--?lit$896484614$-->
  </button></template>
        <md-icon aria-hidden="true"><template shadowrootmode="open"><!----><slot></slot></template>close</md-icon>
      </md-icon-button>
    </colab-snackbar><div ng-non-bindable="" inert="" aria-hidden="true"></div><div class="gb_s" ng-non-bindable="" inert="" aria-hidden="true"><div class="gb_xc"><div>Google Account</div><div class="gb_xb">Neha Kotagiri</div><div>kotagirineha09@gmail.com</div></div></div><script nonce="">this.gbar_=this.gbar_||{};(function(_){var window=this;
try{
var Id;Id=class extends _.td{};_.Jd=function(a,b){if(b in a.i)return a.i[b];throw new Id;};_.Kd=function(a){return _.Jd(_.qd.i(),a)};
}catch(e){_._DumpException(e)}
try{
/*

 SPDX-License-Identifier: Apache-2.0
*/
var Qd,$d;_.Ld=function(a){if(a==null)return a;if(typeof a==="string"){if(!a)return;a=+a}if(typeof a==="number")return Number.isFinite(a)?a|0:void 0};_.Md=function(a){const b=a.length;if(b>0){const c=Array(b);for(let d=0;d<b;d++)c[d]=a[d];return c}return[]};_.Od=function(a){if(a instanceof _.Nd)return a.i;throw Error("D");};Qd=function(a){return new Pd(b=>b.substr(0,a.length+1).toLowerCase()===a+":")};
_.Sd=function(a,b=_.Rd){if(a instanceof _.Nd)return a;for(let c=0;c<b.length;++c){const d=b[c];if(d instanceof Pd&&d.Wg(a))return new _.Nd(a)}};_.Ud=function(a){if(Td.test(a))return a};_.Vd=function(a){return a instanceof _.Nd?_.Od(a):_.Ud(a)};_.Wd=function(a,b){var c=Array.prototype.slice.call(arguments,1);return function(){var d=c.slice();d.push.apply(d,arguments);return a.apply(this,d)}};_.Xd=function(a,b,c){return _.ub(a,b,c,!1)!==void 0};_.Yd=function(a,b){return _.Ld(_.Nc(a,b))};
_.S=function(a,b){a=_.Nc(a,b);return a==null?a:Number.isFinite(a)?a|0:void 0};_.T=function(a,b,c=0){return _.vb(_.Yd(a,b),c)};_.Zd=function(a,b,c=0){return _.vb(_.S(a,b),c)};$d=function(a){return a};_.ae=function(a){var b=null,c=_.t.trustedTypes;if(!c||!c.createPolicy)return b;try{b=c.createPolicy(a,{createHTML:$d,createScript:$d,createScriptURL:$d})}catch(d){_.t.console&&_.t.console.error(d.message)}return b};_.be=function(a,b){return a.lastIndexOf(b,0)==0};
_.ce=function(a,b){return Array.prototype.some.call(a,b,void 0)};var de;_.ee=function(){de===void 0&&(de=_.ae("ogb-qtm#html"));return de};var he;_.fe=class{constructor(a){this.i=a}toString(){return this.i+""}};_.ge=function(a){return a instanceof _.fe&&a.constructor===_.fe?a.i:"type_error:TrustedResourceUrl"};he={};_.ie=function(a){const b=_.ee();a=b?b.createScriptURL(a):a;return new _.fe(a,he)};_.Nd=class{constructor(a){this.i=a}toString(){return this.i}};_.je=new _.Nd("about:invalid#zClosurez");var Pd,Td;Pd=class{constructor(a){this.Wg=a}};_.Rd=[Qd("data"),Qd("http"),Qd("https"),Qd("mailto"),Qd("ftp"),new Pd(a=>/^[^:]*([/?#]|$)/.test(a))];Td=/^\s*(?!javascript:)(?:[\w+.-]+:|[^:/?#]*(?:[/?#]|$))/i;_.ke={};_.le=class{constructor(a){this.i=a}toString(){return this.i.toString()}};_.me=new _.le("",_.ke);_.ne=RegExp("^[-+,.\"'%_!#/ a-zA-Z0-9\\[\\]]+$");_.oe=RegExp("\\b(url\\([ \t\n]*)('[ -&(-\\[\\]-~]*'|\"[ !#-\\[\\]-~]*\"|[!#-&*-\\[\\]-~]*)([ \t\n]*\\))","g");_.pe=RegExp("\\b(calc|cubic-bezier|fit-content|hsl|hsla|linear-gradient|matrix|minmax|radial-gradient|repeat|rgb|rgba|(rotate|scale|translate)(X|Y|Z|3d)?|steps|var)\\([-+*/0-9a-zA-Z.%#\\[\\], ]+\\)","g");_.qe={};_.se=function(a){return a instanceof _.re&&a.constructor===_.re?a.i:"type_error:SafeHtml"};_.re=class{constructor(a){this.i=a}toString(){return this.i.toString()}};_.te=new _.re(_.t.trustedTypes&&_.t.trustedTypes.emptyHTML||"",_.qe);_.ue=function(a){let b=!1,c;return function(){b||(c=a(),b=!0);return c}}(function(){var a=document.createElement("div"),b=document.createElement("div");b.appendChild(document.createElement("div"));a.appendChild(b);b=a.firstChild.firstChild;a.innerHTML=_.se(_.te);return!b.parentElement});_.ve=function(a,b){this.width=a;this.height=b};_.n=_.ve.prototype;_.n.aspectRatio=function(){return this.width/this.height};_.n.Bb=function(){return!(this.width*this.height)};_.n.ceil=function(){this.width=Math.ceil(this.width);this.height=Math.ceil(this.height);return this};_.n.floor=function(){this.width=Math.floor(this.width);this.height=Math.floor(this.height);return this};_.n.round=function(){this.width=Math.round(this.width);this.height=Math.round(this.height);return this};_.U=function(a,b){var c=b||document;if(c.getElementsByClassName)a=c.getElementsByClassName(a)[0];else{c=document;var d=b||c;a=d.querySelectorAll&&d.querySelector&&a?d.querySelector(a?"."+a:""):_.we(c,a,b)[0]||null}return a||null};
_.we=function(a,b,c){var d;a=c||a;if(a.querySelectorAll&&a.querySelector&&b)return a.querySelectorAll(b?"."+b:"");if(b&&a.getElementsByClassName){var e=a.getElementsByClassName(b);return e}e=a.getElementsByTagName("*");if(b){var f={};for(c=d=0;a=e[c];c++){var g=a.className;typeof g.split=="function"&&_.ta(g.split(/\s+/),b)&&(f[d++]=a)}f.length=d;return f}return e};_.ye=function(a){return _.xe(document,a)};
_.xe=function(a,b){b=String(b);a.contentType==="application/xhtml+xml"&&(b=b.toLowerCase());return a.createElement(b)};_.ze=function(a){for(var b;b=a.firstChild;)a.removeChild(b)};_.Ae=function(a){return a.nodeType==9?a:a.ownerDocument||a.document};
}catch(e){_._DumpException(e)}
try{
_.Zi=function(a,b){let c,d;return(b=(d=(c=b.document).querySelector)==null?void 0:d.call(c,`${a}[nonce]`))?b.nonce||b.getAttribute("nonce")||"":""};_.$i=function(a){const b=_.Zi("script",a.ownerDocument&&a.ownerDocument.defaultView||window);b&&a.setAttribute("nonce",b)};_.aj=function(a){if(!a)return null;a=_.J(a,4);var b;a===null||a===void 0?b=null:b=_.ie(a);return b};_.bj=class extends _.Q{constructor(a){super(a)}};_.cj=function(a,b){return(b||document).getElementsByTagName(String(a))};
}catch(e){_._DumpException(e)}
try{
var ej=function(a,b,c){a<b?dj(a+1,b):_.Zc.log(Error("ca`"+a+"`"+b),{url:c})},dj=function(a,b){if(fj){const c=_.ye("SCRIPT");c.async=!0;c.type="text/javascript";c.charset="UTF-8";c.src=_.ge(fj);_.$i(c);c.onerror=_.Wd(ej,a,b,c.src);_.cj("HEAD")[0].appendChild(c)}},gj=class extends _.Q{constructor(a){super(a)}};var hj=_.F(_.kd,gj,17)||new gj,ij,fj=(ij=_.F(hj,_.bj,1))?_.aj(ij):null,jj,kj=(jj=_.F(hj,_.bj,2))?_.aj(jj):null,lj=function(){dj(1,2);if(kj){const a=_.ye("LINK");a.setAttribute("type","text/css");a.href=_.ge(kj).toString();a.rel="stylesheet";let b=_.Zi("style",window);b&&a.setAttribute("nonce",b);_.cj("HEAD")[0].appendChild(a)}};(function(){const a=_.ld();if(_.I(a,18))lj();else{const b=_.Yd(a,19)||0;window.addEventListener("load",()=>{window.setTimeout(lj,b)})}})();
}catch(e){_._DumpException(e)}
})(this.gbar_);
// Google Inc.
</script><div class="notebook-vertical" inert="" aria-hidden="true" style="position: relative;">
      <div class="top-floater"><div role="banner">
    <colab-header-skip-button><template shadowrootmode="open"><!----><a id="skiplink" class="skip-link" href="https://colab.research.google.com/drive/1t3MxhL-UGpniI56v79xwwTF6j2P-G-km#top-toolbar" tabindex="-1"><!--?lit$896484614$-->Skip to main content</a></template></colab-header-skip-button>
    <!--?lit$896484614$-->
    <!--?lit$896484614$-->
    <!--?lit$896484614$-->
          <div id="private-outputs-warning" class="header-warning private-outputs-warning hidden">
            <!--?lit$896484614$-->This notebook is open with private outputs. Outputs will not be saved. You can disable this in <a href="https://colab.research.google.com/drive/1t3MxhL-UGpniI56v79xwwTF6j2P-G-km#" id="private-outputs-notebook-info-link" command="notebook-settings" aria-describedby="private-outputs-notebook-info-link-tooltip" tabindex="-1">Notebook settings</a><colab-tooltip-trigger aria-hidden="true" for="private-outputs-notebook-info-link" id="private-outputs-notebook-info-link-tooltip"><template shadowrootmode="open"><!----><!--?lit$896484614$--><!----><div><!--?lit$896484614$-->Open notebook settings</div><!----><!--?--></template>
        </colab-tooltip-trigger>.
          <mwc-icon-button class="close" icon="close" title="Close"><template shadowrootmode="open"><!----><button class="mdc-icon-button mdc-icon-button--display-flex" aria-label="Close" tabindex="-1"><!--?lit$896484614$-->
    <!--?lit$896484614$--><i class="material-icons"><!--?lit$896484614$-->close</i>
    <span><slot></slot></span>
  </button></template></mwc-icon-button></div>
        

    <div id="header" class="horizontal layout">
      <div id="header-background"><div></div></div>
      <div id="header-content">
        <!--?lit$896484614$-->
        <!--?lit$896484614$--><div id="header-logo">
              <!--?lit$896484614$--> <!--?lit$896484614$--><a href="https://drive.google.com/drive/search?q=owner%3Ame%20(type%3Aapplication%2Fvnd.google.colaboratory%20%7C%7C%20type%3Aapplication%2Fvnd.google.colab)&amp;authuser=0" aria-label="View in Google Drive" tabindex="-1">
        <!--?lit$896484614$--><md-icon class="colab-large-icon" aria-hidden="true"><template shadowrootmode="open"><!----><slot></slot></template><!--?lit$896484614$--><svg viewBox="0 0 24 24"><!--?lit$896484614$-->
      <g id="colab-logo">
        <path d="M4.54,9.46,2.19,7.1a6.93,6.93,0,0,0,0,9.79l2.36-2.36A3.59,3.59,0,0,1,4.54,9.46Z" style="fill:var(--colab-logo-dark)"></path>
        <path d="M2.19,7.1,4.54,9.46a3.59,3.59,0,0,1,5.08,0l1.71-2.93h0l-.1-.08h0A6.93,6.93,0,0,0,2.19,7.1Z" style="fill:var(--colab-logo-light)"></path>
        <path d="M11.34,17.46h0L9.62,14.54a3.59,3.59,0,0,1-5.08,0L2.19,16.9a6.93,6.93,0,0,0,9,.65l.11-.09" style="fill:var(--colab-logo-light)"></path>
        <path d="M12,7.1a6.93,6.93,0,0,0,0,9.79l2.36-2.36a3.59,3.59,0,1,1,5.08-5.08L21.81,7.1A6.93,6.93,0,0,0,12,7.1Z" style="fill:var(--colab-logo-light)"></path>
        <path d="M21.81,7.1,19.46,9.46a3.59,3.59,0,0,1-5.08,5.08L12,16.9A6.93,6.93,0,0,0,21.81,7.1Z" style="fill:var(--colab-logo-dark)"></path>
      </g></svg></md-icon>
      </a><!--?-->
            </div>
        <div id="header-doc-toolbar" class="flex">
          <div id="document-info">
            <!--?lit$896484614$--> <!--?lit$896484614$--><md-icon class="file-location-icon" id="file-type" aria-hidden="true" title="Notebook stored in Google Drive"><template shadowrootmode="open"><!----><slot></slot></template><!--?lit$896484614$-->
      <svg viewBox="0 0 192 192">
        <path d="M128.33,122l7.59,26.17l19.89,21.42c0,0,0,0,0,0v0c2.69-1.55,4.98-3.8,6.59-6.59l18.48-32 c1.61-2.78,2.41-5.89,2.41-9l-28.38-5.5L128.33,122z" fill="#EA4335"></path>
        <path d="M123.48,18.41c-2.69-1.55-5.78-2.41-9-2.41H77.53c-3.2,0-6.32,0.88-9,2.41l0,0l7.96,26.81l19.44,20.64 L96,66l0,0l19.58-20.89L123.48,18.41C123.48,18.41,123.48,18.41,123.48,18.41C123.48,18.41,123.48,18.41,123.48,18.41z" fill="#188038"></path>
        <path d="M63.67,122l-28.33-6.5L8.72,122c0,3.1,0.8,6.2,2.4,8.99L29.6,163c1.61,2.78,3.9,5.03,6.59,6.59 l19.59-20.18L63.67,122L63.67,122z" fill="#1967D2"></path>
        <path d="M155.47,69l-25.4-44c-1.61-2.79-3.9-5.04-6.59-6.59L96,66l32.33,56h54.95c0-3.11-0.8-6.21-2.41-9 L155.47,69z" fill="#FBBC04"></path><path d="M128.33,122H63.67l-27.48,47.59c2.69,1.55,5.78,2.41,9,2.41h101.61c3.22,0,6.31-0.86,9-2.41L128.33,122z" fill="#4285F4"></path>
        <path d="M96,66L68.53,18.41c-2.69,1.55-4.97,3.79-6.58,6.57l-50.83,88.05c-1.6,2.78-2.4,5.88-2.4,8.97h54.95L96,66 z" fill="#34A853"></path>
      </svg></md-icon>
    <input id="doc-name" class="doc-name" maxlength="259" autocomplete="off" aria-label="Notebook name" disabled="" style="width: 452.859px;"><colab-input-sizer aria-hidden="true" style="left: -1000%; position: absolute; font-family: &quot;Google Sans&quot;, Roboto, Noto, sans-serif; font-size: 18px; font-weight: 400; letter-spacing: normal; padding-left: 3px; padding-right: 4px; white-space: pre;">sentiment-analysis-on-amazon-product-reviews.ipynb_</colab-input-sizer>
            <!--?lit$896484614$-->
                  <div class="screenreader-only" id="star-status" aria-live="polite">Notebook unstarred</div>
                  <md-icon-button id="star-icon" command="toggle-star" aria-describedby="star-icon-tooltip" data-aria-label="Star" value=""><template shadowrootmode="open" shadowrootdelegatesfocus><!----><button id="button" class="icon-button  standard " aria-label="Star" tabindex="-1">
        <!--?lit$896484614$--><md-focus-ring part="focus-ring" for="button" aria-hidden="true"><template shadowrootmode="open"><!----></template></md-focus-ring>
        <!--?lit$896484614$--><md-ripple aria-hidden="true"><template shadowrootmode="open"><!----><div class="surface   "></div></template></md-ripple>
        <!--?lit$896484614$--><span class="icon"><slot></slot></span>
        <!--?lit$896484614$-->
        <!--?lit$896484614$--><span class="touch"></span>
        <!--?lit$896484614$-->
  </button></template>
                    <md-icon aria-hidden="true"><template shadowrootmode="open"><!----><slot></slot></template>star</md-icon>
                  </md-icon-button><colab-tooltip-trigger aria-hidden="true" for="star-icon" id="star-icon-tooltip"><template shadowrootmode="open"><!----><!--?lit$896484614$--><!----><div><!--?lit$896484614$-->Star notebook in Google Drive</div><!----><!--?--></template>
        </colab-tooltip-trigger>
                
          </div>
        <div class="menubar-wrapper"><div><!----><div id="top-menubar" class="goog-menubar format-lightborder" role="menubar" style="user-select: none;"><!--?lit$896484614$--><div class="goog-menu-button goog-inline-block" id="file-menu-button" role="button" aria-expanded="false" aria-haspopup="true" style="user-select: none;"><div class="goog-inline-block goog-menu-button-outer-box" style="user-select: none;"><div class="goog-inline-block goog-menu-button-inner-box" style="user-select: none;"><div class="goog-inline-block goog-menu-button-caption" style="user-select: none;"><!--?lit$896484614$-->File</div><div class="goog-inline-block goog-menu-button-dropdown" style="user-select: none;">&nbsp;</div></div></div></div><div class="goog-menu-button goog-inline-block" id="edit-menu-button" role="button" aria-expanded="false" aria-haspopup="true" style="user-select: none;"><div class="goog-inline-block goog-menu-button-outer-box" style="user-select: none;"><div class="goog-inline-block goog-menu-button-inner-box" style="user-select: none;"><div class="goog-inline-block goog-menu-button-caption" style="user-select: none;"><!--?lit$896484614$-->Edit</div><div class="goog-inline-block goog-menu-button-dropdown" style="user-select: none;">&nbsp;</div></div></div></div><div class="goog-menu-button goog-inline-block" id="view-menu-button" role="button" aria-expanded="false" aria-haspopup="true" style="user-select: none;"><div class="goog-inline-block goog-menu-button-outer-box" style="user-select: none;"><div class="goog-inline-block goog-menu-button-inner-box" style="user-select: none;"><div class="goog-inline-block goog-menu-button-caption" style="user-select: none;"><!--?lit$896484614$-->View</div><div class="goog-inline-block goog-menu-button-dropdown" style="user-select: none;">&nbsp;</div></div></div></div><div class="goog-menu-button goog-inline-block" id="insert-menu-button" role="button" aria-expanded="false" aria-haspopup="true" style="user-select: none;"><div class="goog-inline-block goog-menu-button-outer-box" style="user-select: none;"><div class="goog-inline-block goog-menu-button-inner-box" style="user-select: none;"><div class="goog-inline-block goog-menu-button-caption" style="user-select: none;"><!--?lit$896484614$-->Insert</div><div class="goog-inline-block goog-menu-button-dropdown" style="user-select: none;">&nbsp;</div></div></div></div><div class="goog-menu-button goog-inline-block" id="runtime-menu-button" role="button" aria-expanded="false" aria-haspopup="true" style="user-select: none;"><div class="goog-inline-block goog-menu-button-outer-box" style="user-select: none;"><div class="goog-inline-block goog-menu-button-inner-box" style="user-select: none;"><div class="goog-inline-block goog-menu-button-caption" style="user-select: none;"><!--?lit$896484614$-->Runtime</div><div class="goog-inline-block goog-menu-button-dropdown" style="user-select: none;">&nbsp;</div></div></div></div><div class="goog-menu-button goog-inline-block" id="tools-menu-button" role="button" aria-expanded="false" aria-haspopup="true" style="user-select: none;"><div class="goog-inline-block goog-menu-button-outer-box" style="user-select: none;"><div class="goog-inline-block goog-menu-button-inner-box" style="user-select: none;"><div class="goog-inline-block goog-menu-button-caption" style="user-select: none;"><!--?lit$896484614$-->Tools</div><div class="goog-inline-block goog-menu-button-dropdown" style="user-select: none;">&nbsp;</div></div></div></div><div class="goog-menu-button goog-inline-block" id="help-menu-button" role="button" aria-expanded="false" aria-haspopup="true" style="user-select: none;"><div class="goog-inline-block goog-menu-button-outer-box" style="user-select: none;"><div class="goog-inline-block goog-menu-button-inner-box" style="user-select: none;"><div class="goog-inline-block goog-menu-button-caption" style="user-select: none;"><!--?lit$896484614$-->Help</div><div class="goog-inline-block goog-menu-button-dropdown" style="user-select: none;">&nbsp;</div></div></div></div></div>
    <div id="colab-menu-cover" style="left: 65px; top: 61px; width: 34px; display: none;"> </div></div><!----><colab-last-saved-indicator aria-live="polite" aria-atomic="true" title="You do not have permission to save this notebook. To keep your changes, make a copy of the notebook."><template shadowrootmode="open"><!----><button class=" save-message " tabindex="-1"><!--?lit$896484614$-->Changes will not be saved</button></template></colab-last-saved-indicator></div></div>
        <div id="header-right">
          <!--?lit$896484614$-->
    <colab-collaborator-bar id="collaborator-bar"><template shadowrootmode="open"><!----> <div class="collaborator-bar">
      <!--?lit$896484614$-->
      <!--?lit$896484614$-->
    </div></template></colab-collaborator-bar>
  
          <!--?lit$896484614$-->
          <!--?lit$896484614$--> <md-text-button id="share-toolbar-button" command="share" aria-describedby="share-toolbar-button-tooltip" value="" has-icon=""><template shadowrootmode="open" shadowrootdelegatesfocus><!---->
      <!--?lit$896484614$-->
      <div class="background"></div>
      <md-focus-ring part="focus-ring" for="button" aria-hidden="true"><template shadowrootmode="open"><!----></template></md-focus-ring>
      <md-ripple part="ripple" for="button" aria-hidden="true"><template shadowrootmode="open"><!----><div class="surface   "></div></template></md-ripple>
      <!--?lit$896484614$--><button id="button" class="button" tabindex="-1">
      <!--?lit$896484614$-->
      <span class="touch"></span>
      <!--?lit$896484614$--><slot name="icon"></slot>
      <span class="label"><slot></slot></span>
      <!--?lit$896484614$-->
    
    </button>
    </template>
                <md-icon slot="icon" aria-hidden="true"><template shadowrootmode="open"><!----><slot></slot></template><!--?lit$896484614$-->people</md-icon>
                <!--?lit$896484614$-->Share
              </md-text-button><colab-tooltip-trigger aria-hidden="true" for="share-toolbar-button" id="share-toolbar-button-tooltip"><template shadowrootmode="open"><!----><!--?lit$896484614$--><!----><div><!--?lit$896484614$-->Share notebook</div><!----><!--?--></template>
        </colab-tooltip-trigger>
          <!--?lit$896484614$--> <md-icon-button id="settings-cog" command="preferences" title="Open settings" data-aria-label="Open settings" value=""><template shadowrootmode="open" shadowrootdelegatesfocus><!----><button id="button" class="icon-button  standard " aria-label="Open settings" tabindex="-1">
        <!--?lit$896484614$--><md-focus-ring part="focus-ring" for="button" aria-hidden="true"><template shadowrootmode="open"><!----></template></md-focus-ring>
        <!--?lit$896484614$--><md-ripple aria-hidden="true"><template shadowrootmode="open"><!----><div class="surface   "></div></template></md-ripple>
        <!--?lit$896484614$--><span class="icon"><slot></slot></span>
        <!--?lit$896484614$-->
        <!--?lit$896484614$--><span class="touch"></span>
        <!--?lit$896484614$-->
  </button></template>
                <md-icon aria-hidden="true"><template shadowrootmode="open"><!----><slot></slot></template>settings</md-icon>
              </md-icon-button>
          <div class="header-onegoogle-container"><div class="onegoogle"><div class="gb_ha gb_dd gb_9a gb_Sc" id="gb"><div class="gb_ud gb_7a gb_id" ng-non-bindable="" data-ogsr-up="" style="padding:0;height:auto;display:block"><div class="gb_Ld" style="display:block"><div class="gb_Zc"></div><div class="gb_b gb_Fd gb_Pf gb_A"><div class="gb_f gb_6a gb_Pf gb_A"><a class="gb_d gb_za gb_A" aria-label="Google Account: Neha Kotagiri  
(kotagirineha09@gmail.com)" href="https://accounts.google.com/SignOutOptions?hl=en&amp;continue=https://colab.research.google.com/drive/1t3MxhL-UGpniI56v79xwwTF6j2P-G-km&amp;ec=GBRAqQM" tabindex="-1" role="button"><img class="gb_q gbii" src="./Sentiment-analysis-on-amazon-product-reviews_files/unnamed.png" srcset="https://lh3.google.com/u/0/ogw/AF2bZyhNlptUc2KTOFcNnnqnI-HnShcDVvoRelSAhejCZIaVjA=s32-c-mo 1x, https://lh3.google.com/u/0/ogw/AF2bZyhNlptUc2KTOFcNnnqnI-HnShcDVvoRelSAhejCZIaVjA=s64-c-mo 2x " alt="" aria-hidden="true" data-noaft=""></a></div></div></div><div style="overflow: hidden; position: absolute; top: 0px; visibility: hidden; width: 436px; z-index: 991; height: 0px; margin-top: 57px; right: 0px; margin-right: 4px;"></div><div style="overflow: hidden; position: absolute; top: 0px; visibility: hidden; width: 420px; z-index: 991; height: 280px; margin-top: 70px; right: 0px; margin-right: 25px;"></div></div></div><script nonce="">this.gbar_=this.gbar_||{};(function(_){var window=this;
try{
_.Fd=function(a,b,c){if(!a.j)if(c instanceof Array)for(var d of c)_.Fd(a,b,d);else{d=(0,_.z)(a.C,a,b);const e=a.v+c;a.v++;b.dataset.eqid=e;a.B[e]=d;b&&b.addEventListener?b.addEventListener(c,d,!1):b&&b.attachEvent?b.attachEvent("on"+c,d):a.o.log(Error("z`"+b))}};
}catch(e){_._DumpException(e)}
try{
var Gd=document.querySelector(".gb_k .gb_d"),Hd=document.querySelector("#gb.gb_Pc");Gd&&!Hd&&_.Fd(_.pd,Gd,"click");
}catch(e){_._DumpException(e)}
try{
_.Ah=function(a){const b=[];let c=0;for(const d in a)b[c++]=a[d];return b};_.Bh=function(a){if(a.v)return a.v;for(const b in a.i)if(a.i[b].ma()&&a.i[b].B())return a.i[b];return null};_.Ch=function(a,b){a.i[b.K()]=b};var Dh=new class extends _.R{constructor(){var a=_.Zc;super();this.B=a;this.v=null;this.o={};this.C={};this.i={};this.j=null}A(a){this.i[a]&&(_.Bh(this)&&_.Bh(this).K()==a||this.i[a].P(!0))}Ua(a){this.j=a;for(const b in this.i)this.i[b].ma()&&this.i[b].Ua(a)}kc(a){return a in this.i?this.i[a]:null}};_.sd("dd",Dh);
}catch(e){_._DumpException(e)}
try{
_.Ti=function(a,b){return _.M(a,36,b)};
}catch(e){_._DumpException(e)}
try{
var Ui=document.querySelector(".gb_b .gb_d"),Vi=document.querySelector("#gb.gb_Pc");Ui&&!Vi&&_.Fd(_.pd,Ui,"click");
}catch(e){_._DumpException(e)}
})(this.gbar_);
// Google Inc.
</script></div></div>
        </div>
      </div>
    </div>
  </div></div><div class="notebook-horizontal">
        <!--?lit$896484614$--><colab-left-pane role="complementary" aria-label="left pane"><!----><div class="colab-left-pane-nib layout vertical" role="toolbar" aria-orientation="vertical">
        <div class="left-pane-top"><!----><div class="left-pane-button">
        <!--?lit$896484614$--><md-icon-button toggle="" command="show-toc-pane" data-aria-label="Table of contents" title="Table of contents" value=""><template shadowrootmode="open" shadowrootdelegatesfocus><!----><button id="button" class="icon-button  standard " aria-label="Table of contents" aria-pressed="false" tabindex="-1">
        <!--?lit$896484614$--><md-focus-ring part="focus-ring" for="button" aria-hidden="true"><template shadowrootmode="open"><!----></template></md-focus-ring>
        <!--?lit$896484614$--><md-ripple aria-hidden="true"><template shadowrootmode="open"><!----><div class="surface   "></div></template></md-ripple>
        <!--?lit$896484614$--><span class="icon"><slot></slot></span>
        <!--?lit$896484614$-->
        <!--?lit$896484614$--><span class="touch"></span>
        <!--?lit$896484614$-->
  </button></template>
      <md-icon aria-hidden="true"><template shadowrootmode="open"><!----><slot></slot></template><!--?lit$896484614$-->format_list_bulleted</md-icon>
    </md-icon-button> <!--?lit$896484614$-->
      </div><!----><div class="left-pane-button">
        <!--?lit$896484614$--><md-icon-button toggle="" command="find" data-aria-label="Find and replace" title="Find and replace" value=""><template shadowrootmode="open" shadowrootdelegatesfocus><!----><button id="button" class="icon-button  standard " aria-label="Find and replace" aria-pressed="false" tabindex="-1">
        <!--?lit$896484614$--><md-focus-ring part="focus-ring" for="button" aria-hidden="true"><template shadowrootmode="open"><!----></template></md-focus-ring>
        <!--?lit$896484614$--><md-ripple aria-hidden="true"><template shadowrootmode="open"><!----><div class="surface   "></div></template></md-ripple>
        <!--?lit$896484614$--><span class="icon"><slot></slot></span>
        <!--?lit$896484614$-->
        <!--?lit$896484614$--><span class="touch"></span>
        <!--?lit$896484614$-->
  </button></template>
      <md-icon aria-hidden="true"><template shadowrootmode="open"><!----><slot></slot></template><!--?lit$896484614$-->search</md-icon>
    </md-icon-button> <!--?lit$896484614$-->
      </div><!----><div class="left-pane-button">
        <!--?lit$896484614$--><md-icon-button toggle="" command="show-variables" data-aria-label="Variables" title="Variables" value=""><template shadowrootmode="open" shadowrootdelegatesfocus><!----><button id="button" class="icon-button  standard " aria-label="Variables" aria-pressed="false" tabindex="-1">
        <!--?lit$896484614$--><md-focus-ring part="focus-ring" for="button" aria-hidden="true"><template shadowrootmode="open"><!----></template></md-focus-ring>
        <!--?lit$896484614$--><md-ripple aria-hidden="true"><template shadowrootmode="open"><!----><div class="surface   "></div></template></md-ripple>
        <!--?lit$896484614$--><span class="icon"><slot></slot></span>
        <!--?lit$896484614$-->
        <!--?lit$896484614$--><span class="touch"></span>
        <!--?lit$896484614$-->
  </button></template>
      <md-icon aria-hidden="true"><template shadowrootmode="open"><!----><slot></slot></template><!--?lit$896484614$--><svg viewBox="0 0 24 24"><!--?lit$896484614$-->
      <path d="M4.51,9.44V6.08c0-1.34.37-1.85,1.6-2.17l.22-.06V3.13l-.27,0-.44,0a4.46,4.46,0,0,0-2.2.59,2.78,2.78,0,0,0-1,2.51V9.74c0,1.26-.26,1.61-1.49,2L0,12l.94.29c1.21.38,1.49.75,1.49,2v3.5a2.94,2.94,0,0,0,1,2.6,4.39,4.39,0,0,0,2.14.56l.46,0,.27,0v-.72l-.22-.06c-1.24-.32-1.6-.81-1.6-2.17V14.58c0-1.43-.3-2.13-1.25-2.57C4.2,11.57,4.51,10.87,4.51,9.44Z"></path>
      <path d="M23.06,11.71c-1.22-.36-1.49-.71-1.49-2l0-3.5a3,3,0,0,0-1-2.6,4.38,4.38,0,0,0-2.14-.56l-.46,0-.27,0v.72l.22.06c1.24.32,1.6.81,1.6,2.17V9.44c0,1.44.3,2.13,1.25,2.57-1,.44-1.25,1.14-1.25,2.57v3.36c0,1.34-.37,1.85-1.6,2.17l-.22.06v.72l.27,0,.44,0a4.47,4.47,0,0,0,2.2-.59,2.82,2.82,0,0,0,1-2.51V14.28c0-1.26.26-1.61,1.49-2L24,12Z"></path>
      <path d="M15.16,8.22a.88.88,0,0,1,.46.16,1.25,1.25,0,0,0,.69.2h0A1,1,0,0,0,17,8.23a1.06,1.06,0,0,0,.24-.8,1.1,1.1,0,0,0-1.15-1h0c-1,0-1.73.64-3,2.57l-.12-.51c-.28-1.36-.56-2-1.39-2h0A8,8,0,0,0,9,7.08l-.47.16.16.91L9.41,8a3.22,3.22,0,0,1,.73-.14c.34,0,.43,0,.71,1.2l.56,2.47L9.76,13.82a3.6,3.6,0,0,1-.8.88.9.9,0,0,1-.38-.13,1.83,1.83,0,0,0-.88-.28,1,1,0,0,0-1,1.06A1.15,1.15,0,0,0,8,16.53c.85,0,1.35-.35,2.24-1.55l1.49-2,.46,1.88c.23,1,.46,1.66,1.53,1.66s1.66-.75,2.81-2.53l.17-.26-.81-.48-.16.2-.25.34-.19.25c-.45.57-.62.73-.76.73s-.28-.4-.34-.63l-.67-2.83a4.2,4.2,0,0,1-.15-.79C13.84,9.78,14.74,8.22,15.16,8.22Z"></path></svg></md-icon>
    </md-icon-button> <!--?lit$896484614$-->
      </div><!----><div class="left-pane-button">
        <!--?lit$896484614$--><md-icon-button toggle="" command="open-user-secrets" data-aria-label="Secrets" title="Secrets" value=""><template shadowrootmode="open" shadowrootdelegatesfocus><!----><button id="button" class="icon-button  standard " aria-label="Secrets" aria-pressed="false" tabindex="-1">
        <!--?lit$896484614$--><md-focus-ring part="focus-ring" for="button" aria-hidden="true"><template shadowrootmode="open"><!----></template></md-focus-ring>
        <!--?lit$896484614$--><md-ripple aria-hidden="true"><template shadowrootmode="open"><!----><div class="surface   "></div></template></md-ripple>
        <!--?lit$896484614$--><span class="icon"><slot></slot></span>
        <!--?lit$896484614$-->
        <!--?lit$896484614$--><span class="touch"></span>
        <!--?lit$896484614$-->
  </button></template>
      <md-icon aria-hidden="true"><template shadowrootmode="open"><!----><slot></slot></template><!--?lit$896484614$-->vpn_key</md-icon>
    </md-icon-button> <!--?lit$896484614$-->
      </div><!----><div class="left-pane-button">
        <!--?lit$896484614$--><md-icon-button toggle="" command="show-files" data-aria-label="Files" title="Files" value=""><template shadowrootmode="open" shadowrootdelegatesfocus><!----><button id="button" class="icon-button  standard " aria-label="Files" aria-pressed="false" tabindex="-1">
        <!--?lit$896484614$--><md-focus-ring part="focus-ring" for="button" aria-hidden="true"><template shadowrootmode="open"><!----></template></md-focus-ring>
        <!--?lit$896484614$--><md-ripple aria-hidden="true"><template shadowrootmode="open"><!----><div class="surface   "></div></template></md-ripple>
        <!--?lit$896484614$--><span class="icon"><slot></slot></span>
        <!--?lit$896484614$-->
        <!--?lit$896484614$--><span class="touch"></span>
        <!--?lit$896484614$-->
  </button></template>
      <md-icon aria-hidden="true"><template shadowrootmode="open"><!----><slot></slot></template><!--?lit$896484614$-->folder</md-icon>
    </md-icon-button> <!--?lit$896484614$-->
      </div></div>
        <div class="left-pane-bottom"><!----><div class="left-pane-button">
        <!--?lit$896484614$--><md-icon-button command="snippets" data-aria-label="Code snippets" title="Code snippets" value=""><template shadowrootmode="open" shadowrootdelegatesfocus><!----><button id="button" class="icon-button  standard " aria-label="Code snippets" tabindex="-1">
        <!--?lit$896484614$--><md-focus-ring part="focus-ring" for="button" aria-hidden="true"><template shadowrootmode="open"><!----></template></md-focus-ring>
        <!--?lit$896484614$--><md-ripple aria-hidden="true"><template shadowrootmode="open"><!----><div class="surface   "></div></template></md-ripple>
        <!--?lit$896484614$--><span class="icon"><slot></slot></span>
        <!--?lit$896484614$-->
        <!--?lit$896484614$--><span class="touch"></span>
        <!--?lit$896484614$-->
  </button></template>
      <md-icon aria-hidden="true"><template shadowrootmode="open"><!----><slot></slot></template><!--?lit$896484614$-->code</md-icon>
    </md-icon-button> <!--?lit$896484614$-->
      </div><!----><div class="left-pane-button">
        <!--?lit$896484614$--><md-icon-button command="show-command-palette" data-aria-label="Command palette" title="Command palette" value=""><template shadowrootmode="open" shadowrootdelegatesfocus><!----><button id="button" class="icon-button  standard " aria-label="Command palette" tabindex="-1">
        <!--?lit$896484614$--><md-focus-ring part="focus-ring" for="button" aria-hidden="true"><template shadowrootmode="open"><!----></template></md-focus-ring>
        <!--?lit$896484614$--><md-ripple aria-hidden="true"><template shadowrootmode="open"><!----><div class="surface   "></div></template></md-ripple>
        <!--?lit$896484614$--><span class="icon"><slot></slot></span>
        <!--?lit$896484614$-->
        <!--?lit$896484614$--><span class="touch"></span>
        <!--?lit$896484614$-->
  </button></template>
      <md-icon aria-hidden="true"><template shadowrootmode="open"><!----><slot></slot></template><!--?lit$896484614$--><svg viewBox="0 0 24 24"><!--?lit$896484614$-->
      <path d="M21,3H3A2,2,0,0,0,1,5V17a2,2,0,0,0,2,2H21a2,2,0,0,0,2-2V5A2,2,0,0,0,21,3Zm0,2V17H3V5"></path>
      <rect x="5" y="12" width="11" height="2"></rect>
      <rect x="5" y="8" width="11" height="2"></rect>
      <rect x="17" y="8" width="2" height="2"></rect>
      <rect x="17" y="12" width="2" height="2"></rect></svg></md-icon>
    </md-icon-button> <!--?lit$896484614$-->
      </div><!----><div class="left-pane-button">
        <!--?lit$896484614$--><md-icon-button command="show-terminal" data-aria-label="Terminal" title="Terminal" value=""><template shadowrootmode="open" shadowrootdelegatesfocus><!----><button id="button" class="icon-button  standard " aria-label="Terminal" tabindex="-1">
        <!--?lit$896484614$--><md-focus-ring part="focus-ring" for="button" aria-hidden="true"><template shadowrootmode="open"><!----></template></md-focus-ring>
        <!--?lit$896484614$--><md-ripple aria-hidden="true"><template shadowrootmode="open"><!----><div class="surface   "></div></template></md-ripple>
        <!--?lit$896484614$--><span class="icon"><slot></slot></span>
        <!--?lit$896484614$-->
        <!--?lit$896484614$--><span class="touch"></span>
        <!--?lit$896484614$-->
  </button></template>
      <md-icon aria-hidden="true"><template shadowrootmode="open"><!----><slot></slot></template><!--?lit$896484614$-->terminal</md-icon>
    </md-icon-button> <!--?lit$896484614$-->
      </div></div>
      </div></colab-left-pane>
        <div class="layout vertical grow">
          <colab-notebook-toolbar id="top-toolbar" class="horizontal layout center noshrink"><!----> <!--?lit$896484614$-->
          <colab-toolbar-button command="insert-cell-below" icon="add" id="toolbar-add-code"><template shadowrootmode="open"><!----><md-text-button id="button" data-aria-disabled="false" value="" has-icon=""><template shadowrootmode="open" shadowrootdelegatesfocus><!---->
      <!--?lit$896484614$-->
      <div class="background"></div>
      <md-focus-ring part="focus-ring" for="button" aria-hidden="true"><template shadowrootmode="open"><!----></template></md-focus-ring>
      <md-ripple part="ripple" for="button" aria-hidden="true"><template shadowrootmode="open"><!----><div class="surface   "></div></template></md-ripple>
      <!--?lit$896484614$--><button id="button" class="button" tabindex="-1">
      <!--?lit$896484614$-->
      <span class="touch"></span>
      <!--?lit$896484614$--><slot name="icon"></slot>
      <span class="label"><slot></slot></span>
      <!--?lit$896484614$-->
    
    </button>
    </template>
        <!--?lit$896484614$--><md-icon slot="icon" aria-hidden="true"><template shadowrootmode="open"><!----><slot></slot></template><!--?lit$896484614$-->add</md-icon>
        <span class="button-content"><slot></slot></span>
        <!--?lit$896484614$--><span class="screenreader-only"><!--?lit$896484614$-->Insert code cell below <!--?lit$896484614$-->Ctrl+M B</span>
      </md-text-button>
      <!--?lit$896484614$--> <colab-tooltip-trigger for="button" aria-hidden="true" id="tooltip" message="Insert code cell below" shortcut="Ctrl+M B"><template shadowrootmode="open"><!----><!--?lit$896484614$--><!----><div><!--?lit$896484614$-->Insert code cell below (Ctrl+M B)</div><!----><!--?--></template>
          </colab-tooltip-trigger><!--?--></template>
            <!--?lit$896484614$-->Code
          </colab-toolbar-button>
          <!--?lit$896484614$-->
          <colab-toolbar-button command="add-text" icon="add" id="toolbar-add-text"><template shadowrootmode="open"><!----><md-text-button id="button" data-aria-disabled="false" value="" has-icon=""><template shadowrootmode="open" shadowrootdelegatesfocus><!---->
      <!--?lit$896484614$-->
      <div class="background"></div>
      <md-focus-ring part="focus-ring" for="button" aria-hidden="true"><template shadowrootmode="open"><!----></template></md-focus-ring>
      <md-ripple part="ripple" for="button" aria-hidden="true"><template shadowrootmode="open"><!----><div class="surface   "></div></template></md-ripple>
      <!--?lit$896484614$--><button id="button" class="button" tabindex="-1">
      <!--?lit$896484614$-->
      <span class="touch"></span>
      <!--?lit$896484614$--><slot name="icon"></slot>
      <span class="label"><slot></slot></span>
      <!--?lit$896484614$-->
    
    </button>
    </template>
        <!--?lit$896484614$--><md-icon slot="icon" aria-hidden="true"><template shadowrootmode="open"><!----><slot></slot></template><!--?lit$896484614$-->add</md-icon>
        <span class="button-content"><slot></slot></span>
        <!--?lit$896484614$--><span class="screenreader-only"><!--?lit$896484614$-->Add text cell <!--?lit$896484614$--></span>
      </md-text-button>
      <!--?lit$896484614$--> <colab-tooltip-trigger for="button" aria-hidden="true" id="tooltip" message="Add text cell" shortcut=""><template shadowrootmode="open"><!----><!--?lit$896484614$--><!----><div><!--?lit$896484614$-->Add text cell</div><!----><!--?--></template>
          </colab-tooltip-trigger><!--?--></template>
            <!--?lit$896484614$-->Text
          </colab-toolbar-button>
          <!--?lit$896484614$-->
        
    <!--?lit$896484614$-->
    <!--?lit$896484614$--> <span class="expanded-options">
          <span class="colab-separator"></span>
          <colab-toolbar-button command="clone"><template shadowrootmode="open"><!----><md-text-button id="button" data-aria-disabled="false" value=""><template shadowrootmode="open" shadowrootdelegatesfocus><!---->
      <!--?lit$896484614$-->
      <div class="background"></div>
      <md-focus-ring part="focus-ring" for="button" aria-hidden="true"><template shadowrootmode="open"><!----></template></md-focus-ring>
      <md-ripple part="ripple" for="button" aria-hidden="true"><template shadowrootmode="open"><!----><div class="surface   "></div></template></md-ripple>
      <!--?lit$896484614$--><button id="button" class="button" tabindex="-1">
      <!--?lit$896484614$-->
      <span class="touch"></span>
      <!--?lit$896484614$--><slot name="icon"></slot>
      <span class="label"><slot></slot></span>
      <!--?lit$896484614$-->
    
    </button>
    </template>
        <!--?lit$896484614$-->
        <span class="button-content"><slot></slot></span>
        <!--?lit$896484614$--><span class="screenreader-only"><!--?lit$896484614$--> <!--?lit$896484614$--></span>
      </md-text-button>
      <!--?lit$896484614$--><!--?--></template>
            <!--?lit$896484614$-->Copy to Drive
          </colab-toolbar-button>
        </span>
    <!--?lit$896484614$-->
    <!--?lit$896484614$-->
    <!--?lit$896484614$--> <span class="collapsed-options">
          <colab-last-saved-indicator aria-live="polite" aria-atomic="true" title="You do not have permission to save this notebook. To keep your changes, make a copy of the notebook."><template shadowrootmode="open"><!----><button class=" save-message " tabindex="-1"><!--?lit$896484614$-->Changes will not be saved</button></template></colab-last-saved-indicator>
        </span>

    <span class="flex"></span>
    <!--?lit$896484614$--><colab-connect-warning-button><template shadowrootmode="open"><!----><!--?lit$896484614$--><!--?--><!--?--></template></colab-connect-warning-button>
    <!--?lit$896484614$--><!--?lit$896484614$--><colab-connect-button><template shadowrootmode="open"><!----> <!--?lit$896484614$--><!--?-->
      <colab-toolbar-button id="connect" tooltipid="colab-connect-tooltip" tooltiptext="Connect to a new runtime"><template shadowrootmode="open"><!----><md-text-button id="button" data-aria-disabled="false" value=""><template shadowrootmode="open" shadowrootdelegatesfocus><!---->
      <!--?lit$896484614$-->
      <div class="background"></div>
      <md-focus-ring part="focus-ring" for="button" aria-hidden="true"><template shadowrootmode="open"><!----></template></md-focus-ring>
      <md-ripple part="ripple" for="button" aria-hidden="true"><template shadowrootmode="open"><!----><div class="surface   "></div></template></md-ripple>
      <!--?lit$896484614$--><button id="button" class="button" tabindex="-1">
      <!--?lit$896484614$-->
      <span class="touch"></span>
      <!--?lit$896484614$--><slot name="icon"></slot>
      <span class="label"><slot></slot></span>
      <!--?lit$896484614$-->
    
    </button>
    </template>
        <!--?lit$896484614$-->
        <span class="button-content"><slot></slot></span>
        <!--?lit$896484614$--><span class="screenreader-only"><!--?lit$896484614$-->Connect to a new runtime <!--?lit$896484614$--></span>
      </md-text-button>
      <!--?lit$896484614$--> <colab-tooltip-trigger for="button" aria-hidden="true" id="colab-connect-tooltip" message="Connect to a new runtime" shortcut=""><template shadowrootmode="open"><!----><!--?lit$896484614$--><!----><div><!--?lit$896484614$-->Connect to a new runtime</div><!----><!--?--></template>
          </colab-tooltip-trigger><!--?--></template>
        <!--?lit$896484614$-->Connect
      </colab-toolbar-button>
      <!--?lit$896484614$--> <md-icon-button id="connect-dropdown" data-aria-expanded="false" data-aria-haspopup="menu" data-aria-label="Additional connection options" value=""><template shadowrootmode="open" shadowrootdelegatesfocus><!----><button id="button" class="icon-button  standard " aria-label="Additional connection options" aria-haspopup="menu" aria-expanded="false" tabindex="-1">
        <!--?lit$896484614$--><md-focus-ring part="focus-ring" for="button" aria-hidden="true"><template shadowrootmode="open"><!----></template></md-focus-ring>
        <!--?lit$896484614$--><md-ripple aria-hidden="true"><template shadowrootmode="open"><!----><div class="surface   "></div></template></md-ripple>
        <!--?lit$896484614$--><span class="icon"><slot></slot></span>
        <!--?lit$896484614$-->
        <!--?lit$896484614$--><span class="touch"></span>
        <!--?lit$896484614$-->
  </button></template>
        <md-icon aria-hidden="true"><template shadowrootmode="open"><!----><slot></slot></template>arrow_drop_down</md-icon>
      </md-icon-button>
      <colab-tooltip-trigger for="connect-dropdown" id="connect-dropdown-tooltip" aria-hidden="true" message="Additional connection options"><template shadowrootmode="open"><!----><!--?lit$896484614$--><!----><div><!--?lit$896484614$-->Additional connection options</div><!----><!--?--></template>
      </colab-tooltip-trigger><!--?--></template></colab-connect-button><!--?-->
    <!--?lit$896484614$--> <span class="colab-separator"></span>
          <colab-toolbar-button command="show-chat" icon="spark"><template shadowrootmode="open"><!----><md-text-button id="button" data-aria-disabled="false" value="" has-icon=""><template shadowrootmode="open" shadowrootdelegatesfocus><!---->
      <!--?lit$896484614$-->
      <div class="background"></div>
      <md-focus-ring part="focus-ring" for="button" aria-hidden="true"><template shadowrootmode="open"><!----></template></md-focus-ring>
      <md-ripple part="ripple" for="button" aria-hidden="true"><template shadowrootmode="open"><!----><div class="surface   "></div></template></md-ripple>
      <!--?lit$896484614$--><button id="button" class="button" tabindex="-1">
      <!--?lit$896484614$-->
      <span class="touch"></span>
      <!--?lit$896484614$--><slot name="icon"></slot>
      <span class="label"><slot></slot></span>
      <!--?lit$896484614$-->
    
    </button>
    </template>
        <!--?lit$896484614$--><md-icon slot="icon" aria-hidden="true"><template shadowrootmode="open"><!----><slot></slot></template><!--?lit$896484614$-->spark</md-icon>
        <span class="button-content"><slot></slot></span>
        <!--?lit$896484614$--><span class="screenreader-only"><!--?lit$896484614$--> <!--?lit$896484614$--></span>
      </md-text-button>
      <!--?lit$896484614$--><!--?--></template>
            <!--?lit$896484614$-->Gemini
          </colab-toolbar-button>
    <!--?lit$896484614$-->
    <span class="collapsed-options">
      <!--?lit$896484614$--><span class="colab-separator"></span>
      <!--?lit$896484614$--> <md-icon-button command="share" title="Share notebook" data-aria-label="Share notebook" value=""><template shadowrootmode="open" shadowrootdelegatesfocus><!----><button id="button" class="icon-button  standard " aria-label="Share notebook" tabindex="-1">
        <!--?lit$896484614$--><md-focus-ring part="focus-ring" for="button" aria-hidden="true"><template shadowrootmode="open"><!----></template></md-focus-ring>
        <!--?lit$896484614$--><md-ripple aria-hidden="true"><template shadowrootmode="open"><!----><div class="surface   "></div></template></md-ripple>
        <!--?lit$896484614$--><span class="icon"><slot></slot></span>
        <!--?lit$896484614$-->
        <!--?lit$896484614$--><span class="touch"></span>
        <!--?lit$896484614$-->
  </button></template>
            <md-icon filled="" aria-hidden="true"><template shadowrootmode="open"><!----><slot></slot></template><!--?lit$896484614$-->people</md-icon>
          </md-icon-button><md-icon-button command="preferences" data-aria-label="Open settings" title="Open settings" value=""><template shadowrootmode="open" shadowrootdelegatesfocus><!----><button id="button" class="icon-button  standard " aria-label="Open settings" tabindex="-1">
        <!--?lit$896484614$--><md-focus-ring part="focus-ring" for="button" aria-hidden="true"><template shadowrootmode="open"><!----></template></md-focus-ring>
        <!--?lit$896484614$--><md-ripple aria-hidden="true"><template shadowrootmode="open"><!----><div class="surface   "></div></template></md-ripple>
        <!--?lit$896484614$--><span class="icon"><slot></slot></span>
        <!--?lit$896484614$-->
        <!--?lit$896484614$--><span class="touch"></span>
        <!--?lit$896484614$-->
  </button></template>
        <md-icon filled="" aria-hidden="true"><template shadowrootmode="open"><!----><slot></slot></template>settings</md-icon>
      </md-icon-button>
    </span>
    <span class="colab-separator"></span>
    <!--?lit$896484614$--><md-icon-button toggle="" command="toggle-header" id="toggle-header-button" data-aria-label="Toggle header visibility" aria-describedby="toggle-header-button-tooltip" value=""><template shadowrootmode="open" shadowrootdelegatesfocus><!----><button id="button" class="icon-button  standard " aria-label="Toggle header visibility" aria-pressed="false" tabindex="-1">
        <!--?lit$896484614$--><md-focus-ring part="focus-ring" for="button" aria-hidden="true"><template shadowrootmode="open"><!----></template></md-focus-ring>
        <!--?lit$896484614$--><md-ripple aria-hidden="true"><template shadowrootmode="open"><!----><div class="surface   "></div></template></md-ripple>
        <!--?lit$896484614$--><span class="icon"><slot></slot></span>
        <!--?lit$896484614$-->
        <!--?lit$896484614$--><span class="touch"></span>
        <!--?lit$896484614$-->
  </button></template>
    <md-icon aria-hidden="true"><template shadowrootmode="open"><!----><slot></slot></template>expand_less</md-icon>
    <md-icon slot="selected" aria-hidden="true"><template shadowrootmode="open"><!----><slot></slot></template>expand_more</md-icon>
  </md-icon-button><colab-tooltip-trigger aria-hidden="true" for="toggle-header-button" id="toggle-header-button-tooltip"><template shadowrootmode="open"><!----><!--?lit$896484614$--><!----><div><!--?lit$896484614$-->Toggle header visibility</div><!----><!--?--></template>
        </colab-tooltip-trigger><!--?--></colab-notebook-toolbar><colab-tab-layout-container class="layout horizontal grow flexible-tabs"><!----> <div class="layout horizontal tab-pane-parent">
      <!--?lit$896484614$--> <div class="layout vertical tab-pane-parent">
      <!--?lit$896484614$--><colab-tab-pane class="layout vertical grow no-header focused" align="horizontal"><!----> <div class="layout vertical grow">
    <div class="tab-pane-header layout horizontal noshrink">
      <md-tabs><template shadowrootmode="open"><!---->
      <div class="tabs">
        <slot></slot>
      </div>
      <md-divider part="divider"><template shadowrootmode="open"><!----></template></md-divider>
    </template><md-primary-tab noink="" title="" aria-labelledby="tab-title-UUkzjCBvDtQ9" class="selected-tab" md-tab="" active="" tabindex="0"><template shadowrootmode="open"><!----><div class="button" role="presentation">
      <md-focus-ring part="focus-ring" inward="" aria-hidden="true"><template shadowrootmode="open"><!----></template></md-focus-ring>
      <md-elevation part="elevation" aria-hidden="true"><template shadowrootmode="open"><!----><span class="shadow"></span></template></md-elevation>
      <md-ripple aria-hidden="true"><template shadowrootmode="open"><!----><div class="surface   "></div></template></md-ripple>
      <div role="presentation" class="content  has-label stacked ">
        <slot name="icon"></slot>
        <slot></slot>
        <!--?lit$896484614$--><div class="indicator"></div>
      </div>
      <!--?lit$896484614$-->
    </div></template>
          <div class="colab-tab-header">
            <span class="colab-tab-title" id="tab-title-UUkzjCBvDtQ9"><!--?lit$896484614$--><!--?lit$896484614$-->Notebook<!--?--></span>
            <!--?lit$896484614$-->
          </div>
        </md-primary-tab></md-tabs>
      <div class="layout grow"></div>
      <!--?lit$896484614$--> <md-icon-button data-aria-expanded="false" data-aria-haspopup="menu" title="More tab actions" data-aria-label="More tab actions" value=""><template shadowrootmode="open" shadowrootdelegatesfocus><!----><button id="button" class="icon-button  standard " aria-label="More tab actions" aria-haspopup="menu" aria-expanded="false" tabindex="-1">
        <!--?lit$896484614$--><md-focus-ring part="focus-ring" for="button" aria-hidden="true"><template shadowrootmode="open"><!----></template></md-focus-ring>
        <!--?lit$896484614$--><md-ripple aria-hidden="true"><template shadowrootmode="open"><!----><div class="surface   "></div></template></md-ripple>
        <!--?lit$896484614$--><span class="icon"><slot></slot></span>
        <!--?lit$896484614$-->
        <!--?lit$896484614$--><span class="touch"></span>
        <!--?lit$896484614$-->
  </button></template>
    <md-icon aria-hidden="true"><template shadowrootmode="open"><!----><slot></slot></template>more_horiz</md-icon>
  </md-icon-button>
    </div>
    <div class="layout vertical grow tab-pane-container"> <colab-tab class="layout vertical grow notebook-tab-content selected-tab"><!----> <div class="overflow-flexbox-workaround">
      <colab-shaded-scroller ignore-dom-changes="" role="main" class="notebook-container" aria-label="Notebook">
        <div class="notebook-scrolling-horizontal-container">
          <div class="notebook-scrolling-horizontal">
            <div class="notebook-content-background">
              <!--?lit$896484614$-->
              <div class="notebook-content ">
                <!--?lit$896484614$--><div class="add-cell">
      <hr>
    </div>
                <div class="notebook-cell-list"><div class="cell text focused" id="cell-c6da3fcd" role="region" aria-label="Cell 0: Text cell: Import Necessary Libraries" style=""><div class="cell-tag-editor sticky"></div><div class="cell-toolbar sticky"><colab-cell-toolbar><template shadowrootmode="open"><!----><!--?lit$896484614$--><!----> <md-icon-button class="colab-icon" title="Move cell up
Ctrl+M K" data-aria-label="Move cell up
Ctrl+M K" command="move-cell-up" disabled="" value=""><template shadowrootmode="open" shadowrootdelegatesfocus><!----><button id="button" class="icon-button  standard " aria-label="Move cell up
Ctrl+M K" disabled="">
        <!--?lit$896484614$--><md-focus-ring part="focus-ring" for="button" aria-hidden="true"><template shadowrootmode="open"><!----></template></md-focus-ring>
        <!--?lit$896484614$--><md-ripple disabled="" aria-hidden="true"><template shadowrootmode="open"><!----><div class="surface   "></div></template></md-ripple>
        <!--?lit$896484614$--><span class="icon"><slot></slot></span>
        <!--?lit$896484614$-->
        <!--?lit$896484614$--><span class="touch"></span>
        <!--?lit$896484614$-->
  </button></template>
          <md-icon aria-hidden="true"><template shadowrootmode="open"><!----><slot></slot></template><!--?lit$896484614$-->arrow_upward</md-icon>
          <!--?lit$896484614$-->
        </md-icon-button><!----><!----> <md-icon-button class="colab-icon" title="Move cell down
Ctrl+M J" data-aria-label="Move cell down
Ctrl+M J" command="move-cell-down" value=""><template shadowrootmode="open" shadowrootdelegatesfocus><!----><button id="button" class="icon-button  standard " aria-label="Move cell down
Ctrl+M J" tabindex="-1">
        <!--?lit$896484614$--><md-focus-ring part="focus-ring" for="button" aria-hidden="true"><template shadowrootmode="open"><!----></template></md-focus-ring>
        <!--?lit$896484614$--><md-ripple aria-hidden="true"><template shadowrootmode="open"><!----><div class="surface   "></div></template></md-ripple>
        <!--?lit$896484614$--><span class="icon"><slot></slot></span>
        <!--?lit$896484614$-->
        <!--?lit$896484614$--><span class="touch"></span>
        <!--?lit$896484614$-->
  </button></template>
          <md-icon aria-hidden="true"><template shadowrootmode="open"><!----><slot></slot></template><!--?lit$896484614$-->arrow_downward</md-icon>
          <!--?lit$896484614$-->
        </md-icon-button><!----><!----> <md-icon-button class="colab-icon" title="Copy link to cell" data-aria-label="Copy link to cell" command="copy-link-to-cell" value=""><template shadowrootmode="open" shadowrootdelegatesfocus><!----><button id="button" class="icon-button  standard " aria-label="Copy link to cell" tabindex="-1">
        <!--?lit$896484614$--><md-focus-ring part="focus-ring" for="button" aria-hidden="true"><template shadowrootmode="open"><!----></template></md-focus-ring>
        <!--?lit$896484614$--><md-ripple aria-hidden="true"><template shadowrootmode="open"><!----><div class="surface   "></div></template></md-ripple>
        <!--?lit$896484614$--><span class="icon"><slot></slot></span>
        <!--?lit$896484614$-->
        <!--?lit$896484614$--><span class="touch"></span>
        <!--?lit$896484614$-->
  </button></template>
          <md-icon aria-hidden="true"><template shadowrootmode="open"><!----><slot></slot></template><!--?lit$896484614$-->link</md-icon>
          <!--?lit$896484614$-->
        </md-icon-button><!----><!----> <md-icon-button class="colab-icon" title="Add a comment
Ctrl+Alt+M" data-aria-label="Add a comment
Ctrl+Alt+M" command="add-comment" style="display: none;" value=""><template shadowrootmode="open" shadowrootdelegatesfocus><!----><button id="button" class="icon-button  standard " aria-label="Add a comment
Ctrl+Alt+M" tabindex="-1">
        <!--?lit$896484614$--><md-focus-ring part="focus-ring" for="button" aria-hidden="true"><template shadowrootmode="open"><!----></template></md-focus-ring>
        <!--?lit$896484614$--><md-ripple aria-hidden="true"><template shadowrootmode="open"><!----><div class="surface   "></div></template></md-ripple>
        <!--?lit$896484614$--><span class="icon"><slot></slot></span>
        <!--?lit$896484614$-->
        <!--?lit$896484614$--><span class="touch"></span>
        <!--?lit$896484614$-->
  </button></template>
          <md-icon aria-hidden="true"><template shadowrootmode="open"><!----><slot></slot></template><!--?lit$896484614$-->comment</md-icon>
          <!--?lit$896484614$-->
        </md-icon-button><!----><!----> <md-icon-button class="colab-icon" title="Open editor settings" data-aria-label="Open editor settings" command="editor-preferences" style="display: none;" value=""><template shadowrootmode="open" shadowrootdelegatesfocus><!----><button id="button" class="icon-button  standard " aria-label="Open editor settings" tabindex="-1">
        <!--?lit$896484614$--><md-focus-ring part="focus-ring" for="button" aria-hidden="true"><template shadowrootmode="open"><!----></template></md-focus-ring>
        <!--?lit$896484614$--><md-ripple aria-hidden="true"><template shadowrootmode="open"><!----><div class="surface   "></div></template></md-ripple>
        <!--?lit$896484614$--><span class="icon"><slot></slot></span>
        <!--?lit$896484614$-->
        <!--?lit$896484614$--><span class="touch"></span>
        <!--?lit$896484614$-->
  </button></template>
          <md-icon filled="" aria-hidden="true"><template shadowrootmode="open"><!----><slot></slot></template><!--?lit$896484614$-->settings</md-icon>
          <!--?lit$896484614$-->
        </md-icon-button><!----><!----> <md-icon-button class="colab-icon" title="Edit" command="toggle-edit-markdown" toggle="" data-aria-label="Edit" value=""><template shadowrootmode="open" shadowrootdelegatesfocus><!----><button id="button" class="icon-button  standard " aria-label="Edit" aria-pressed="false" tabindex="-1">
        <!--?lit$896484614$--><md-focus-ring part="focus-ring" for="button" aria-hidden="true"><template shadowrootmode="open"><!----></template></md-focus-ring>
        <!--?lit$896484614$--><md-ripple aria-hidden="true"><template shadowrootmode="open"><!----><div class="surface   "></div></template></md-ripple>
        <!--?lit$896484614$--><span class="icon"><slot></slot></span>
        <!--?lit$896484614$-->
        <!--?lit$896484614$--><span class="touch"></span>
        <!--?lit$896484614$-->
  </button></template>
          <md-icon aria-hidden="true"><template shadowrootmode="open"><!----><slot></slot></template><!--?lit$896484614$-->edit</md-icon>
          <!--?lit$896484614$--><md-icon slot="selected" aria-hidden="true"><template shadowrootmode="open"><!----><slot></slot></template><!--?lit$896484614$-->edit_off</md-icon>
        </md-icon-button><!----><!----> <md-icon-button class="colab-icon" title="Mirror cell in tab" data-aria-label="Mirror cell in tab" command="mirror-cell-in-tab" value=""><template shadowrootmode="open" shadowrootdelegatesfocus><!----><button id="button" class="icon-button  standard " aria-label="Mirror cell in tab" tabindex="-1">
        <!--?lit$896484614$--><md-focus-ring part="focus-ring" for="button" aria-hidden="true"><template shadowrootmode="open"><!----></template></md-focus-ring>
        <!--?lit$896484614$--><md-ripple aria-hidden="true"><template shadowrootmode="open"><!----><div class="surface   "></div></template></md-ripple>
        <!--?lit$896484614$--><span class="icon"><slot></slot></span>
        <!--?lit$896484614$-->
        <!--?lit$896484614$--><span class="touch"></span>
        <!--?lit$896484614$-->
  </button></template>
          <md-icon aria-hidden="true"><template shadowrootmode="open"><!----><slot></slot></template><!--?lit$896484614$--><svg viewBox="0 0 24 24"><!--?lit$896484614$-->
      <g id="mirror-cell">
        <path d="M4,21V7H2V21a2,2,0,0,0,2,2H18V21Z"></path>
        <path d="M6,13v2H8.6L5,18.6,6.4,20,10,16.4V19h2V13Z"></path>
        <path d="M19,1H8A2,2,0,0,0,6,3v8H8V3H19V17H14v2h5a2,2,0,0,0,2-2V3A2,2,0,0,0,19,1Z"></path>
      </g></svg></md-icon>
          <!--?lit$896484614$-->
        </md-icon-button><!----><!----> <md-icon-button class="colab-icon" title="Delete cell
Ctrl+M D" data-aria-label="Delete cell
Ctrl+M D" command="delete-cell-or-selection" value=""><template shadowrootmode="open" shadowrootdelegatesfocus><!----><button id="button" class="icon-button  standard " aria-label="Delete cell
Ctrl+M D" tabindex="-1">
        <!--?lit$896484614$--><md-focus-ring part="focus-ring" for="button" aria-hidden="true"><template shadowrootmode="open"><!----></template></md-focus-ring>
        <!--?lit$896484614$--><md-ripple aria-hidden="true"><template shadowrootmode="open"><!----><div class="surface   "></div></template></md-ripple>
        <!--?lit$896484614$--><span class="icon"><slot></slot></span>
        <!--?lit$896484614$-->
        <!--?lit$896484614$--><span class="touch"></span>
        <!--?lit$896484614$-->
  </button></template>
          <md-icon aria-hidden="true"><template shadowrootmode="open"><!----><slot></slot></template><!--?lit$896484614$-->delete</md-icon>
          <!--?lit$896484614$-->
        </md-icon-button><!----><!--?lit$896484614$--><md-icon-button data-aria-expanded="false" data-aria-haspopup="menu" title="More cell actions" data-aria-label="More cell actions" class="colab-icon cell-toolbar-more" value=""><template shadowrootmode="open" shadowrootdelegatesfocus><!----><button id="button" class="icon-button  standard " aria-label="More cell actions" aria-haspopup="menu" aria-expanded="false" tabindex="-1">
        <!--?lit$896484614$--><md-focus-ring part="focus-ring" for="button" aria-hidden="true"><template shadowrootmode="open"><!----></template></md-focus-ring>
        <!--?lit$896484614$--><md-ripple aria-hidden="true"><template shadowrootmode="open"><!----><div class="surface   "></div></template></md-ripple>
        <!--?lit$896484614$--><span class="icon"><slot></slot></span>
        <!--?lit$896484614$-->
        <!--?lit$896484614$--><span class="touch"></span>
        <!--?lit$896484614$-->
  </button></template><md-icon aria-hidden="true"><template shadowrootmode="open"><!----><slot></slot></template>more_vert</md-icon>
    </md-icon-button><!--?--></template></colab-cell-toolbar></div><div class="main-content" elevation="2"><div class="cell-contents"><div class="cell-mask"></div><span class="imported-info-area"></span><!----> <div class="toolbar-root"></div>
      <div class="editor-container horizontal">
        <div class="editor-root"></div>
        <div class="text-top-div">
          <div class="markdown"><span><div class="text-cell-section-header layout horizontal center"><md-icon-button class="header-section-toggle" title="Collapse 1 child cell under Import Necessary Libraries (Press &lt;Shift&gt; to also collapse sibling sections)" data-aria-label="Collapse 1 child cell under Import Necessary Libraries (Press &lt;Shift&gt; to also collapse sibling sections)" value=""><template shadowrootmode="open" shadowrootdelegatesfocus><!----><button id="button" class="icon-button  standard " aria-label="Collapse 1 child cell under Import Necessary Libraries (Press &lt;Shift&gt; to also collapse sibling sections)" tabindex="-1">
        <!--?lit$896484614$--><md-focus-ring part="focus-ring" for="button" aria-hidden="true"><template shadowrootmode="open"><!----></template></md-focus-ring>
        <!--?lit$896484614$--><md-ripple aria-hidden="true"><template shadowrootmode="open"><!----><div class="surface   "></div></template></md-ripple>
        <!--?lit$896484614$--><span class="icon"><slot></slot></span>
        <!--?lit$896484614$-->
        <!--?lit$896484614$--><span class="touch"></span>
        <!--?lit$896484614$-->
  </button></template><md-icon aria-hidden="true"><template shadowrootmode="open"><!----><slot></slot></template>keyboard_arrow_down</md-icon></md-icon-button><h1>Import Necessary Libraries</h1></div>
</span></div>
        </div>
      </div>

      <div class="section-header" style="display: none;">
        <colab-run-button><template shadowrootmode="open"><!----> <div class=" cell-execution focused ">
      <button id="run-button" aria-label="Run cell" tabindex="-1">
        <span class="execution-count"><!--?lit$896484614$-->[ ]</span>
        <span aria-hidden="true" class="cell-execution-indicator"><!--?lit$896484614$-->
<svg xmlns="http://www.w3.org/2000/svg" viewBox="0 0 24 24">
  <!--?lit$896484614$-->
  <mask id="playSymbolMask">
    <rect width="100%" height="100%" fill="white"></rect>
    <polygon points="10,8 17,12 10,16" fill="black"></polygon>
  </mask>
  <circle cx="12" cy="12" r="7.8" mask="url(#playSymbolMask)" id="filledCircle"></circle>
</svg></span>
      </button>
      <!--?lit$896484614$--> <!--?lit$896484614$--><!--?-->
    </div></template></colab-run-button>
        <div class="section-header-container" title="click to expand">↳ 1 cell hidden</div>
      </div></div></div><div class="add-cell">
      <hr>
    </div></div><div class="cell code code-has-output icon-scrolling" id="cell-b9bd8512" role="region" aria-label="Cell 1: Code cell: " style=""><div class="cell-tag-editor sticky"></div><div class="cell-toolbar sticky"></div><div class="main-content" elevation="0"><div class="cell-contents"><div class="cell-mask"></div><span class="imported-info-area"></span><div class="codecell-input-output">
      <div class="inputarea horizontal layout code">
        <div class="cell-gutter">
          <!-- Bounding range for vertical scrolling of icons -->
          <div class="cell-execution-container">
            <colab-run-button title="Run cell (Ctrl+Enter)
cell has not been executed in this session

executed at unknown time"><template shadowrootmode="open"><!----> <div class="cell-execution stale">
      <button id="run-button" aria-label="Run cell" tabindex="-1">
        <span class="execution-count"><!--?lit$896484614$-->[ ]</span>
        <span aria-hidden="true" class="cell-execution-indicator"><!--?lit$896484614$-->
<svg xmlns="http://www.w3.org/2000/svg" viewBox="0 0 24 24">
  <!--?lit$896484614$-->
  <mask id="playSymbolMask">
    <rect width="100%" height="100%" fill="white"></rect>
    <polygon points="10,8 17,12 10,16" fill="black"></polygon>
  </mask>
  <circle cx="12" cy="12" r="7.8" mask="url(#playSymbolMask)" id="filledCircle"></circle>
</svg></span>
      </button>
      <!--?lit$896484614$--> <!--?lit$896484614$--><!--?-->
    </div></template></colab-run-button>
          </div>
        </div>
      <div class="editor flex lazy-editor" style=""><div class="editor flex monaco" data-keybinding-context="1" data-mode-id="notebook-python" style="height: 542px; --vscode-editorCodeLens-lineHeight: 16px; --vscode-editorCodeLens-fontSize: 12px; --vscode-editorCodeLens-fontFeatureSettings: &quot;liga&quot; off, &quot;calt&quot; off;"><div class="monaco-editor no-user-select  showUnused showDeprecated vs" role="code" data-uri="inmemory://model/4" style="width: 1240px; height: 542px;"><div data-mprt="3" class="overflow-guard" style="width: 1240px; height: 542px; overflow: clip;"><div class="margin" role="presentation" aria-hidden="true" style="position: absolute; contain: strict; will-change: unset; top: 0px; height: 542px; width: 6px;"><div class="glyph-margin" style="left: 0px; width: 0px; height: 542px;"></div><div class="margin-view-zones" role="presentation" aria-hidden="true" style="position: absolute;"></div><div class="margin-view-overlays" role="presentation" aria-hidden="true" style="position: absolute; font-family: monospace, Consolas, &quot;Courier New&quot;, monospace; font-weight: normal; font-size: 14px; font-feature-settings: &quot;liga&quot; 0, &quot;calt&quot; 0; font-variation-settings: normal; line-height: 19px; letter-spacing: 0px; width: 6px; height: 542px;"><div style="position:absolute;top:0px;width:100%;height:19px;"><div class="current-line current-line-margin-both" style="width:6px; height:19px;"></div></div><div style="position:absolute;top:19px;width:100%;height:19px;"></div><div style="position:absolute;top:38px;width:100%;height:19px;"></div><div style="position:absolute;top:57px;width:100%;height:19px;"></div><div style="position:absolute;top:76px;width:100%;height:19px;"></div><div style="position:absolute;top:95px;width:100%;height:19px;"></div><div style="position:absolute;top:114px;width:100%;height:19px;"></div><div style="position:absolute;top:133px;width:100%;height:19px;"></div><div style="position:absolute;top:152px;width:100%;height:19px;"></div><div style="position:absolute;top:171px;width:100%;height:19px;"></div><div style="position:absolute;top:190px;width:100%;height:19px;"></div><div style="position:absolute;top:209px;width:100%;height:19px;"></div><div style="position:absolute;top:228px;width:100%;height:19px;"></div><div style="position:absolute;top:247px;width:100%;height:19px;"></div><div style="position:absolute;top:266px;width:100%;height:19px;"></div><div style="position:absolute;top:285px;width:100%;height:19px;"></div><div style="position:absolute;top:304px;width:100%;height:19px;"></div><div style="position:absolute;top:323px;width:100%;height:19px;"></div><div style="position:absolute;top:342px;width:100%;height:19px;"></div><div style="position:absolute;top:361px;width:100%;height:19px;"></div><div style="position:absolute;top:380px;width:100%;height:19px;"></div><div style="position:absolute;top:399px;width:100%;height:19px;"></div><div style="position:absolute;top:418px;width:100%;height:19px;"></div><div style="position:absolute;top:437px;width:100%;height:19px;"></div><div style="position:absolute;top:456px;width:100%;height:19px;"></div><div style="position:absolute;top:475px;width:100%;height:19px;"></div><div style="position:absolute;top:494px;width:100%;height:19px;"></div><div style="position:absolute;top:513px;width:100%;height:19px;"></div></div><div class="glyph-margin-widgets" style="position: absolute; top: 0px;"></div></div><div class="monaco-scrollable-element editor-scrollable vs" role="presentation" data-mprt="5" style="position: absolute; overflow: hidden; left: 6px; width: 1234px; height: 542px;"><div class="lines-content monaco-editor-background" style="position: absolute; overflow: hidden; width: 1e+06px; height: 542px; contain: strict; will-change: unset; top: 0px; left: 0px;"><div class="view-overlays" role="presentation" aria-hidden="true" style="position: absolute; font-family: monospace, Consolas, &quot;Courier New&quot;, monospace; font-weight: normal; font-size: 14px; font-feature-settings: &quot;liga&quot; 0, &quot;calt&quot; 0; font-variation-settings: normal; line-height: 19px; letter-spacing: 0px; height: 0px; width: 1234px;"><div style="position:absolute;top:0px;width:100%;height:19px;"><div class="current-line" style="width:1234px; height:19px;"></div></div><div style="position:absolute;top:19px;width:100%;height:19px;"></div><div style="position:absolute;top:38px;width:100%;height:19px;"></div><div style="position:absolute;top:57px;width:100%;height:19px;"></div><div style="position:absolute;top:76px;width:100%;height:19px;"></div><div style="position:absolute;top:95px;width:100%;height:19px;"></div><div style="position:absolute;top:114px;width:100%;height:19px;"></div><div style="position:absolute;top:133px;width:100%;height:19px;"></div><div style="position:absolute;top:152px;width:100%;height:19px;"></div><div style="position:absolute;top:171px;width:100%;height:19px;"></div><div style="position:absolute;top:190px;width:100%;height:19px;"></div><div style="position:absolute;top:209px;width:100%;height:19px;"></div><div style="position:absolute;top:228px;width:100%;height:19px;"></div><div style="position:absolute;top:247px;width:100%;height:19px;"></div><div style="position:absolute;top:266px;width:100%;height:19px;"></div><div style="position:absolute;top:285px;width:100%;height:19px;"></div><div style="position:absolute;top:304px;width:100%;height:19px;"></div><div style="position:absolute;top:323px;width:100%;height:19px;"></div><div style="position:absolute;top:342px;width:100%;height:19px;"></div><div style="position:absolute;top:361px;width:100%;height:19px;"></div><div style="position:absolute;top:380px;width:100%;height:19px;"></div><div style="position:absolute;top:399px;width:100%;height:19px;"></div><div style="position:absolute;top:418px;width:100%;height:19px;"></div><div style="position:absolute;top:437px;width:100%;height:19px;"></div><div style="position:absolute;top:456px;width:100%;height:19px;"></div><div style="position:absolute;top:475px;width:100%;height:19px;"></div><div style="position:absolute;top:494px;width:100%;height:19px;"></div><div style="position:absolute;top:513px;width:100%;height:19px;"></div></div><div role="presentation" aria-hidden="true" class="view-rulers"><div class="view-ruler" style="width: 2px; height: 542px; left: 615.938px;"></div></div><div class="view-zones" role="presentation" aria-hidden="true" style="position: absolute;"></div><div class="view-lines monaco-mouse-cursor-text" role="presentation" aria-hidden="true" data-mprt="7" style="position: absolute; font-family: monospace, Consolas, &quot;Courier New&quot;, monospace; font-weight: normal; font-size: 14px; font-feature-settings: &quot;liga&quot; 0, &quot;calt&quot; 0; font-variation-settings: normal; line-height: 19px; letter-spacing: 0px; width: 1234px; height: 542px;"><div style="top:0px;height:19px;" class="view-line"><span><span class="mtk6">!</span><span class="mtk1">pip&nbsp;install&nbsp;nltk</span></span></div><div style="top:19px;height:19px;" class="view-line"><span><span class="mtk6">!</span><span class="mtk1">pip&nbsp;install&nbsp;textblob</span></span></div><div style="top:38px;height:19px;" class="view-line"><span><span class="mtk6">!</span><span class="mtk1">pip&nbsp;install&nbsp;wordcloud</span></span></div><div style="top:57px;height:19px;" class="view-line"><span><span></span></span></div><div style="top:76px;height:19px;" class="view-line"><span><span class="mtk19">from</span><span class="mtk1">&nbsp;warnings&nbsp;</span><span class="mtk19">import</span><span class="mtk1">&nbsp;filterwarnings</span></span></div><div style="top:95px;height:19px;" class="view-line"><span><span class="mtk19">import</span><span class="mtk1">&nbsp;numpy&nbsp;</span><span class="mtk19">as</span><span class="mtk1">&nbsp;np</span></span></div><div style="top:114px;height:19px;" class="view-line"><span><span class="mtk19">import</span><span class="mtk1">&nbsp;pandas&nbsp;</span><span class="mtk19">as</span><span class="mtk1">&nbsp;pd</span></span></div><div style="top:133px;height:19px;" class="view-line"><span><span class="mtk19">import</span><span class="mtk1">&nbsp;seaborn&nbsp;</span><span class="mtk19">as</span><span class="mtk1">&nbsp;sns</span></span></div><div style="top:152px;height:19px;" class="view-line"><span><span class="mtk19">import</span><span class="mtk1">&nbsp;matplotlib.pyplot&nbsp;</span><span class="mtk19">as</span><span class="mtk1">&nbsp;plt</span></span></div><div style="top:171px;height:19px;" class="view-line"><span><span class="mtk19">from</span><span class="mtk1">&nbsp;PIL&nbsp;</span><span class="mtk19">import</span><span class="mtk1">&nbsp;Image</span></span></div><div style="top:190px;height:19px;" class="view-line"><span><span class="mtk19">from</span><span class="mtk1">&nbsp;nltk.corpus&nbsp;</span><span class="mtk19">import</span><span class="mtk1">&nbsp;stopwords</span></span></div><div style="top:209px;height:19px;" class="view-line"><span><span class="mtk19">from</span><span class="mtk1">&nbsp;nltk.sentiment&nbsp;</span><span class="mtk19">import</span><span class="mtk1">&nbsp;SentimentIntensityAnalyzer</span></span></div><div style="top:228px;height:19px;" class="view-line"><span><span class="mtk19">from</span><span class="mtk1">&nbsp;sklearn.ensemble&nbsp;</span><span class="mtk19">import</span><span class="mtk1">&nbsp;RandomForestClassifier</span></span></div><div style="top:247px;height:19px;" class="view-line"><span><span class="mtk19">from</span><span class="mtk1">&nbsp;sklearn.linear_model&nbsp;</span><span class="mtk19">import</span><span class="mtk1">&nbsp;LogisticRegression</span></span></div><div style="top:266px;height:19px;" class="view-line"><span><span class="mtk19">from</span><span class="mtk1">&nbsp;sklearn.model_selection&nbsp;</span><span class="mtk19">import</span><span class="mtk1">&nbsp;cross_val_score,&nbsp;GridSearchCV,&nbsp;cross_validate,&nbsp;tr</span><span class="mtk1">ain_test_split</span></span></div><div style="top:285px;height:19px;" class="view-line"><span><span class="mtk19">from</span><span class="mtk1">&nbsp;sklearn.preprocessing&nbsp;</span><span class="mtk19">import</span><span class="mtk1">&nbsp;LabelEncoder</span></span></div><div style="top:304px;height:19px;" class="view-line"><span><span class="mtk19">from</span><span class="mtk1">&nbsp;textblob&nbsp;</span><span class="mtk19">import</span><span class="mtk1">&nbsp;Word,&nbsp;TextBlob</span></span></div><div style="top:323px;height:19px;" class="view-line"><span><span class="mtk19">from</span><span class="mtk1">&nbsp;wordcloud&nbsp;</span><span class="mtk19">import</span><span class="mtk1">&nbsp;WordCloud</span></span></div><div style="top:342px;height:19px;" class="view-line"><span><span class="mtk19">from</span><span class="mtk1">&nbsp;sklearn.feature_extraction.text&nbsp;</span><span class="mtk19">import</span><span class="mtk1">&nbsp;TfidfVectorizer,&nbsp;CountVectorizer</span></span></div><div style="top:361px;height:19px;" class="view-line"><span><span class="mtk19">import</span><span class="mtk1">&nbsp;nltk</span></span></div><div style="top:380px;height:19px;" class="view-line"><span><span class="mtk1">nltk.download</span><span class="mtk1 bracket-highlighting-0">(</span><span class="mtk26">"stopwords"</span><span class="mtk1 bracket-highlighting-0">)</span></span></div><div style="top:399px;height:19px;" class="view-line"><span><span class="mtk1">nltk.download</span><span class="mtk1 bracket-highlighting-0">(</span><span class="mtk26">"wordnet"</span><span class="mtk1 bracket-highlighting-0">)</span></span></div><div style="top:418px;height:19px;" class="view-line"><span><span class="mtk1">nltk.download</span><span class="mtk1 bracket-highlighting-0">(</span><span class="mtk26">"vader_lexicon"</span><span class="mtk1 bracket-highlighting-0">)</span></span></div><div style="top:437px;height:19px;" class="view-line"><span><span></span></span></div><div style="top:456px;height:19px;" class="view-line"><span><span class="mtk1">filterwarnings</span><span class="mtk1 bracket-highlighting-0">(</span><span class="mtk26">"ignore"</span><span class="mtk1 bracket-highlighting-0">)</span></span></div><div style="top:475px;height:19px;" class="view-line"><span><span class="mtk1">pd.set_option</span><span class="mtk1 bracket-highlighting-0">(</span><span class="mtk26">"display.max_columns"</span><span class="mtk1">,&nbsp;</span><span class="mtk6">None</span><span class="mtk1 bracket-highlighting-0">)</span></span></div><div style="top:494px;height:19px;" class="view-line"><span><span class="mtk1">pd.set_option</span><span class="mtk1 bracket-highlighting-0">(</span><span class="mtk26">"display.width"</span><span class="mtk1">,&nbsp;</span><span class="mtk12">500</span><span class="mtk1 bracket-highlighting-0">)</span></span></div><div style="top:513px;height:19px;" class="view-line"><span><span class="mtk1">pd.set_option</span><span class="mtk1 bracket-highlighting-0">(</span><span class="mtk26">"display.float_format"</span><span class="mtk1">,&nbsp;</span><span class="mtk6">lambda</span><span class="mtk1">&nbsp;x:&nbsp;</span><span class="mtk26">'%.2f'</span><span class="mtk1">&nbsp;%&nbsp;x</span><span class="mtk1 bracket-highlighting-0">)</span></span></div></div><div data-mprt="1" class="contentWidgets" style="position: absolute; top: 0px;"></div><div role="presentation" aria-hidden="true" class="cursors-layer cursor-line-style cursor-solid"><div class="cursor monaco-mouse-cursor-text " style="height: 19px; top: 0px; left: 0px; font-family: monospace, Consolas, &quot;Courier New&quot;, monospace; font-weight: normal; font-size: 14px; font-feature-settings: &quot;liga&quot; 0, &quot;calt&quot; 0; font-variation-settings: normal; line-height: 19px; letter-spacing: 0px; display: block; visibility: hidden; padding-left: 0px; width: 2px;"></div></div></div><div role="presentation" aria-hidden="true" class="invisible scrollbar horizontal" style="position: absolute; width: 1220px; height: 10px; left: 0px; bottom: 0px;"><div class="slider" style="position: absolute; top: 0px; left: 0px; height: 10px; transform: translate3d(0px, 0px, 0px); contain: strict; will-change: unset; width: 1220px;"></div></div><canvas class="decorationsOverviewRuler" aria-hidden="true" width="14" height="542" style="position: absolute; transform: translate3d(0px, 0px, 0px); contain: strict; top: 0px; right: 0px; width: 14px; height: 542px; will-change: unset; display: block;"></canvas><div role="presentation" aria-hidden="true" class="invisible scrollbar vertical" style="position: absolute; width: 14px; height: 542px; right: 0px; top: 0px;"><div class="slider" style="position: absolute; top: 0px; left: 0px; width: 14px; transform: translate3d(0px, 0px, 0px); contain: strict; will-change: unset; height: 542px;"></div></div></div><div role="presentation" aria-hidden="true" style="width: 1240px;"></div><textarea data-mprt="6" class="inputarea monaco-mouse-cursor-text" wrap="on" autocorrect="off" autocapitalize="off" autocomplete="off" spellcheck="false" aria-label="Editor content;Press Alt+F1 for Accessibility Options." tabindex="-1" role="textbox" aria-roledescription="editor" aria-multiline="true" aria-haspopup="false" aria-autocomplete="both" style="tab-size: 15.3984px; font-family: monospace, Consolas, &quot;Courier New&quot;, monospace; font-weight: normal; font-size: 14px; font-feature-settings: &quot;liga&quot; 0, &quot;calt&quot; 0; font-variation-settings: normal; line-height: 19px; letter-spacing: 0px; top: 0px; left: 6px; width: 76992px; height: 1px;"></textarea><div class="monaco-editor-background textAreaCover" style="position: absolute; top: 0px; left: 0px; width: 0px; height: 0px;"></div><div data-mprt="4" class="overlayWidgets" style="width: 1240px;"><div widgetid="editor.contrib.quickInputWidget" style="position: absolute; top: 0px; right: 50%;"></div></div><div data-mprt="8" class="minimap slider-mouseover" role="presentation" aria-hidden="true" style="position: absolute; left: 0px; width: 0px; height: 542px;"><div class="minimap-shadow-hidden" style="height: 542px;"></div><canvas width="0" height="542" style="position: absolute; left: 0px; width: 0px; height: 542px;"></canvas><canvas class="minimap-decorations-layer" width="0" height="542" style="position: absolute; left: 0px; width: 0px; height: 542px;"></canvas><div class="minimap-slider" style="position: absolute; transform: translate3d(0px, 0px, 0px); contain: strict; width: 0px; will-change: unset;"><div class="minimap-slider-horizontal" style="position: absolute; width: 0px; height: 0px;"></div></div></div><div role="presentation" aria-hidden="true" class="blockDecorations-container"></div></div><div data-mprt="2" class="overflowingContentWidgets"><div widgetid="editor.contrib.resizableContentHoverWidget" style="position: fixed; height: 10px; width: 10px; z-index: 50; display: none; visibility: hidden; max-width: 1366px;"><div class="monaco-sash vertical" style="left: 8px;"></div><div class="monaco-sash vertical" style="left: -2px;"></div><div class="monaco-sash orthogonal-edge-north horizontal" style="top: -2px;"><div class="orthogonal-drag-handle start"></div><div class="orthogonal-drag-handle end"></div></div><div class="monaco-sash orthogonal-edge-south horizontal" style="top: 8px;"><div class="orthogonal-drag-handle start"></div><div class="orthogonal-drag-handle end"></div></div><div class="monaco-hover hidden" role="tooltip"><div class="monaco-scrollable-element " role="presentation" style="position: relative; overflow: hidden;"><div class="monaco-hover-content" style="overflow: hidden; font-size: 14px; line-height: 1.35714; max-width: 818.4px; max-height: 250px;"></div><div role="presentation" aria-hidden="true" class="invisible scrollbar horizontal" style="position: absolute;"><div class="slider" style="position: absolute; top: 0px; left: 0px; height: 10px; transform: translate3d(0px, 0px, 0px); contain: strict;"></div></div><div role="presentation" aria-hidden="true" class="invisible scrollbar vertical" style="position: absolute;"><div class="slider" style="position: absolute; top: 0px; left: 0px; width: 10px; transform: translate3d(0px, 0px, 0px); contain: strict;"></div></div><div class="shadow"></div><div class="shadow"></div><div class="shadow"></div></div></div></div></div><div class=".in-cell-overflowing"></div></div></div></div><colab-form class="formview vertical layout flex"><div class="widget-area vertical layout"></div></colab-form></div>
    <div class="output" aria-label="Cell 1 output" role="region"><!----> <div class="output-header"> </div>
        <div class="output-content">
          <div class="output-info"><colab-output-info><template shadowrootmode="open"><!----><md-icon-button data-aria-expanded="false" data-aria-haspopup="menu" title="Code cell output actions" data-aria-label="Code cell output actions" value=""><template shadowrootmode="open" shadowrootdelegatesfocus><!----><button id="button" class="icon-button  standard " aria-label="Code cell output actions" aria-haspopup="menu" aria-expanded="false" tabindex="-1">
        <!--?lit$896484614$--><md-focus-ring part="focus-ring" for="button" aria-hidden="true"><template shadowrootmode="open"><!----></template></md-focus-ring>
        <!--?lit$896484614$--><md-ripple aria-hidden="true"><template shadowrootmode="open"><!----><div class="surface   "></div></template></md-ripple>
        <!--?lit$896484614$--><span class="icon"><slot></slot></span>
        <!--?lit$896484614$-->
        <!--?lit$896484614$--><span class="touch"></span>
        <!--?lit$896484614$-->
  </button></template>
      <md-icon aria-hidden="true"><template shadowrootmode="open"><!----><slot></slot></template><!--?lit$896484614$--><svg viewBox="0 0 24 24"><!--?lit$896484614$--><path d="m15.9 3.07c-4.32 0.0742-8.64-0.0355-13 0.0568-1.37 0.307-1.74 2.1-1.41 3.26 0.469 0.606 1.86 0.384 1.66-0.525 0.0448-0.329-0.183-0.93 0.354-0.766h13.3v1.53h1.71c0.0709-1.13 0.141-2.62-0.968-3.3-0.511-0.264-1.11-0.252-1.67-0.259zm2.94 6.84v4.87c1.62-1.62 3.24-3.24 4.87-4.87h-4.87zm0 0h-1.71v3.43l1.57 1.57c0.32-1.65 0.0556-3.34 0.135-5zm-1.71 3.43v-3.43h-3.43c1.14 1.14 2.29 2.29 3.43 3.43zm1.4 4.27h-1.71v1.48h-13.6v-1.48h-1.71c-0.0473 1.15-0.16 2.72 1.09 3.29 1.47 0.506 3.02 0.0265 4.53 0.192 3.34-0.0051 6.68 0.0336 10-0.0245 1.49-0.366 1.56-2.22 1.42-3.45zm-10.1-1.12c-0.398-0.483-0.796-0.967-1.19-1.45 0.59-0.683 1.18-1.37 1.77-2.05h-8.67v-2h8.67c-0.59-0.683-1.18-1.37-1.77-2.05 0.398-0.483 0.796-0.967 1.19-1.45 1.28 1.5 2.56 3 3.84 4.5-1.28 1.5-2.56 3-3.84 4.5z"></path></svg></md-icon>
    </md-icon-button></template></colab-output-info></div>
          <div class="output-iframe-container">
            <div class="output-iframe-sizer"> <div><div><colab-static-output-renderer role="group"><div><div class="stream output_text"><pre>Collecting nltk
  Using cached nltk-3.8.1-py3-none-any.whl (1.5 MB)
Requirement already satisfied: click in c:\users\manid\appdata\local\programs\python\python311\lib\site-packages (from nltk) (8.1.7)
Requirement already satisfied: joblib in c:\users\manid\appdata\local\programs\python\python311\lib\site-packages (from nltk) (1.3.2)
Collecting regex&gt;=2021.8.3
  Downloading regex-2023.12.25-cp311-cp311-win_amd64.whl (269 kB)
     ------------------------------------ 269.5/269.5 kB 534.5 kB/s eta 0:00:00
Requirement already satisfied: tqdm in c:\users\manid\appdata\local\programs\python\python311\lib\site-packages (from nltk) (4.66.1)
Requirement already satisfied: colorama in c:\users\manid\appdata\local\programs\python\python311\lib\site-packages (from click-&gt;nltk) (0.4.6)
Installing collected packages: regex, nltk
Successfully installed nltk-3.8.1 regex-2023.12.25
</pre></div><div class="stream output_text"><pre>
[notice] A new release of pip available: 22.3.1 -&gt; 24.0
[notice] To update, run: python.exe -m pip install --upgrade pip
</pre></div><div class="stream output_text"><pre>Collecting textblob
  Downloading textblob-0.18.0.post0-py3-none-any.whl (626 kB)
     ------------------------------------ 626.3/626.3 kB 240.4 kB/s eta 0:00:00
Requirement already satisfied: nltk&gt;=3.8 in c:\users\manid\appdata\local\programs\python\python311\lib\site-packages (from textblob) (3.8.1)
Requirement already satisfied: click in c:\users\manid\appdata\local\programs\python\python311\lib\site-packages (from nltk&gt;=3.8-&gt;textblob) (8.1.7)
Requirement already satisfied: joblib in c:\users\manid\appdata\local\programs\python\python311\lib\site-packages (from nltk&gt;=3.8-&gt;textblob) (1.3.2)
Requirement already satisfied: regex&gt;=2021.8.3 in c:\users\manid\appdata\local\programs\python\python311\lib\site-packages (from nltk&gt;=3.8-&gt;textblob) (2023.12.25)
Requirement already satisfied: tqdm in c:\users\manid\appdata\local\programs\python\python311\lib\site-packages (from nltk&gt;=3.8-&gt;textblob) (4.66.1)
Requirement already satisfied: colorama in c:\users\manid\appdata\local\programs\python\python311\lib\site-packages (from click-&gt;nltk&gt;=3.8-&gt;textblob) (0.4.6)
Installing collected packages: textblob
Successfully installed textblob-0.18.0.post0
</pre></div><div class="stream output_text"><pre>
[notice] A new release of pip available: 22.3.1 -&gt; 24.0
[notice] To update, run: python.exe -m pip install --upgrade pip

[notice] A new release of pip available: 22.3.1 -&gt; 24.0
[notice] To update, run: python.exe -m pip install --upgrade pip
</pre></div><div class="stream output_text"><pre>Collecting wordcloud
  Downloading wordcloud-1.9.3-cp311-cp311-win_amd64.whl (300 kB)
     ------------------------------------ 300.2/300.2 kB 229.2 kB/s eta 0:00:00
Requirement already satisfied: numpy&gt;=1.6.1 in c:\users\manid\appdata\local\programs\python\python311\lib\site-packages (from wordcloud) (1.24.2)
Requirement already satisfied: pillow in c:\users\manid\appdata\local\programs\python\python311\lib\site-packages (from wordcloud) (10.1.0)
Requirement already satisfied: matplotlib in c:\users\manid\appdata\local\programs\python\python311\lib\site-packages (from wordcloud) (3.8.2)
Requirement already satisfied: contourpy&gt;=1.0.1 in c:\users\manid\appdata\local\programs\python\python311\lib\site-packages (from matplotlib-&gt;wordcloud) (1.2.0)
Requirement already satisfied: cycler&gt;=0.10 in c:\users\manid\appdata\local\programs\python\python311\lib\site-packages (from matplotlib-&gt;wordcloud) (0.12.1)
Requirement already satisfied: fonttools&gt;=4.22.0 in c:\users\manid\appdata\local\programs\python\python311\lib\site-packages (from matplotlib-&gt;wordcloud) (4.47.2)
Requirement already satisfied: kiwisolver&gt;=1.3.1 in c:\users\manid\appdata\local\programs\python\python311\lib\site-packages (from matplotlib-&gt;wordcloud) (1.4.5)
Requirement already satisfied: packaging&gt;=20.0 in c:\users\manid\appdata\local\programs\python\python311\lib\site-packages (from matplotlib-&gt;wordcloud) (23.2)
Requirement already satisfied: pyparsing&gt;=2.3.1 in c:\users\manid\appdata\local\programs\python\python311\lib\site-packages (from matplotlib-&gt;wordcloud) (3.1.1)
Requirement already satisfied: python-dateutil&gt;=2.7 in c:\users\manid\appdata\local\programs\python\python311\lib\site-packages (from matplotlib-&gt;wordcloud) (2.8.2)
Requirement already satisfied: six&gt;=1.5 in c:\users\manid\appdata\local\programs\python\python311\lib\site-packages (from python-dateutil&gt;=2.7-&gt;matplotlib-&gt;wordcloud) (1.16.0)
Installing collected packages: wordcloud
Successfully installed wordcloud-1.9.3
</pre></div><div class="stream output_text"><pre>[nltk_data] Downloading package stopwords to
[nltk_data]     C:\Users\manid\AppData\Roaming\nltk_data...
[nltk_data]   Unzipping corpora\stopwords.zip.
[nltk_data] Downloading package wordnet to
[nltk_data]     C:\Users\manid\AppData\Roaming\nltk_data...
[nltk_data] Downloading package vader_lexicon to
[nltk_data]     C:\Users\manid\AppData\Roaming\nltk_data...
</pre></div></div><div></div></colab-static-output-renderer></div></div></div>
          </div>
        </div></div></div><colab-cell-next-steps><template shadowrootmode="open"><!----></template></colab-cell-next-steps></div></div><div class="add-cell">
      <hr>
    </div></div><div class="cell text" id="cell-08a3428f" role="region" aria-label="Cell 2: Text cell: Import Dataset" style=""><div class="cell-tag-editor sticky"></div><div class="cell-toolbar sticky"></div><div class="main-content" elevation="0"><div class="cell-contents"><div class="cell-mask"></div><span class="imported-info-area"></span><!----> <div class="toolbar-root"></div>
      <div class="editor-container horizontal">
        <div class="editor-root"></div>
        <div class="text-top-div">
          <div class="markdown"><span><div class="text-cell-section-header layout horizontal center"><md-icon-button class="header-section-toggle" title="Collapse 1 child cell under Import Dataset (Press &lt;Shift&gt; to also collapse sibling sections)" data-aria-label="Collapse 1 child cell under Import Dataset (Press &lt;Shift&gt; to also collapse sibling sections)" value=""><template shadowrootmode="open" shadowrootdelegatesfocus><!----><button id="button" class="icon-button  standard " aria-label="Collapse 1 child cell under Import Dataset (Press &lt;Shift&gt; to also collapse sibling sections)" tabindex="-1">
        <!--?lit$896484614$--><md-focus-ring part="focus-ring" for="button" aria-hidden="true"><template shadowrootmode="open"><!----></template></md-focus-ring>
        <!--?lit$896484614$--><md-ripple aria-hidden="true"><template shadowrootmode="open"><!----><div class="surface   "></div></template></md-ripple>
        <!--?lit$896484614$--><span class="icon"><slot></slot></span>
        <!--?lit$896484614$-->
        <!--?lit$896484614$--><span class="touch"></span>
        <!--?lit$896484614$-->
  </button></template><md-icon aria-hidden="true"><template shadowrootmode="open"><!----><slot></slot></template>keyboard_arrow_down</md-icon></md-icon-button><h1>Import Dataset</h1></div>
</span></div>
        </div>
      </div>

      <div class="section-header" style="display: none;">
        <colab-run-button><template shadowrootmode="open"><!----> <div class=" cell-execution ">
      <button id="run-button" aria-label="Run cell" tabindex="-1">
        <span class="execution-count"><!--?lit$896484614$-->[ ]</span>
        <span aria-hidden="true" class="cell-execution-indicator"><!--?lit$896484614$-->
<svg xmlns="http://www.w3.org/2000/svg" viewBox="0 0 24 24">
  <!--?lit$896484614$-->
  <mask id="playSymbolMask">
    <rect width="100%" height="100%" fill="white"></rect>
    <polygon points="10,8 17,12 10,16" fill="black"></polygon>
  </mask>
  <circle cx="12" cy="12" r="7.8" mask="url(#playSymbolMask)" id="filledCircle"></circle>
</svg></span>
      </button>
      <!--?lit$896484614$--> <!--?lit$896484614$--><!--?-->
    </div></template></colab-run-button>
        <div class="section-header-container" title="click to expand">↳ 1 cell hidden</div>
      </div></div></div><div class="add-cell">
      <hr>
    </div></div><div class="cell code code-has-output icon-scrolling" id="cell-a6f5f7db" role="region" aria-label="Cell 3: Code cell: " style=""><div class="cell-tag-editor sticky"></div><div class="cell-toolbar sticky"></div><div class="main-content" elevation="0"><div class="cell-contents"><div class="cell-mask"></div><span class="imported-info-area"></span><div class="codecell-input-output">
      <div class="inputarea horizontal layout code">
        <div class="cell-gutter">
          <!-- Bounding range for vertical scrolling of icons -->
          <div class="cell-execution-container">
            <colab-run-button title="Run cell (Ctrl+Enter)
cell has not been executed in this session

executed at unknown time"><template shadowrootmode="open"><!----> <div class=" cell-execution stale ">
      <button id="run-button" aria-label="Run cell" tabindex="-1">
        <span class="execution-count"><!--?lit$896484614$-->[ ]</span>
        <span aria-hidden="true" class="cell-execution-indicator"><!--?lit$896484614$-->
<svg xmlns="http://www.w3.org/2000/svg" viewBox="0 0 24 24">
  <!--?lit$896484614$-->
  <mask id="playSymbolMask">
    <rect width="100%" height="100%" fill="white"></rect>
    <polygon points="10,8 17,12 10,16" fill="black"></polygon>
  </mask>
  <circle cx="12" cy="12" r="7.8" mask="url(#playSymbolMask)" id="filledCircle"></circle>
</svg></span>
      </button>
      <!--?lit$896484614$--> <!--?lit$896484614$--><!--?-->
    </div></template></colab-run-button>
          </div>
        </div>
      <div class="editor flex lazy-editor" style=""><pre class="lazy-virtualized" style="font-size: 14px; line-height: 19px;"><pre class="lazy-gutter"></pre><pre class="monaco-colorized colab colab" data-lang="notebook-python"><span><span class="mtk1">df&nbsp;=&nbsp;pd.read_csv(</span><span class="mtk26">"reviews1.csv"</span><span class="mtk1">,&nbsp;sep=</span><span class="mtk26">","</span><span class="mtk1">)</span></span><br><span><span class="mtk1">df</span></span><br></pre><colab-read-only-cell-placeholder style="display: none;"><template shadowrootmode="open"><!----><div><!--?lit$896484614$-->Start coding or <span role="button" class="link">generate</span> with AI.</div></template></colab-read-only-cell-placeholder></pre></div><colab-form class="formview vertical layout flex"><div class="widget-area vertical layout"></div></colab-form></div>
    <div class="output" aria-label="Cell 3 output" role="region"><!----> <div class="output-header"> </div>
        <div class="output-content">
          <div class="output-info"><colab-output-info><template shadowrootmode="open"><!----><md-icon-button data-aria-expanded="false" data-aria-haspopup="menu" title="Code cell output actions" data-aria-label="Code cell output actions" value=""><template shadowrootmode="open" shadowrootdelegatesfocus><!----><button id="button" class="icon-button  standard " aria-label="Code cell output actions" aria-haspopup="menu" aria-expanded="false" tabindex="-1">
        <!--?lit$896484614$--><md-focus-ring part="focus-ring" for="button" aria-hidden="true"><template shadowrootmode="open"><!----></template></md-focus-ring>
        <!--?lit$896484614$--><md-ripple aria-hidden="true"><template shadowrootmode="open"><!----><div class="surface   "></div></template></md-ripple>
        <!--?lit$896484614$--><span class="icon"><slot></slot></span>
        <!--?lit$896484614$-->
        <!--?lit$896484614$--><span class="touch"></span>
        <!--?lit$896484614$-->
  </button></template>
      <md-icon aria-hidden="true"><template shadowrootmode="open"><!----><slot></slot></template><!--?lit$896484614$--><svg viewBox="0 0 24 24"><!--?lit$896484614$--><path d="m15.9 3.07c-4.32 0.0742-8.64-0.0355-13 0.0568-1.37 0.307-1.74 2.1-1.41 3.26 0.469 0.606 1.86 0.384 1.66-0.525 0.0448-0.329-0.183-0.93 0.354-0.766h13.3v1.53h1.71c0.0709-1.13 0.141-2.62-0.968-3.3-0.511-0.264-1.11-0.252-1.67-0.259zm2.94 6.84v4.87c1.62-1.62 3.24-3.24 4.87-4.87h-4.87zm0 0h-1.71v3.43l1.57 1.57c0.32-1.65 0.0556-3.34 0.135-5zm-1.71 3.43v-3.43h-3.43c1.14 1.14 2.29 2.29 3.43 3.43zm1.4 4.27h-1.71v1.48h-13.6v-1.48h-1.71c-0.0473 1.15-0.16 2.72 1.09 3.29 1.47 0.506 3.02 0.0265 4.53 0.192 3.34-0.0051 6.68 0.0336 10-0.0245 1.49-0.366 1.56-2.22 1.42-3.45zm-10.1-1.12c-0.398-0.483-0.796-0.967-1.19-1.45 0.59-0.683 1.18-1.37 1.77-2.05h-8.67v-2h8.67c-0.59-0.683-1.18-1.37-1.77-2.05 0.398-0.483 0.796-0.967 1.19-1.45 1.28 1.5 2.56 3 3.84 4.5-1.28 1.5-2.56 3-3.84 4.5z"></path></svg></md-icon>
    </md-icon-button></template></colab-output-info></div>
          <div class="output-iframe-container">
            <div class="output-iframe-sizer"> <div style="height: 565px;"><div class="outputview" style="height: 424px;"><colab-dom-lifecycle-events style="display: none;"></colab-dom-lifecycle-events><iframe allow="" sandbox="allow-downloads allow-forms allow-pointer-lock allow-popups allow-same-origin allow-scripts allow-storage-access-by-user-activation allow-popups-to-escape-sandbox" src="./Sentiment-analysis-on-amazon-product-reviews_files/outputframe.html" class="" tabindex="-1" style="height: 424px;"></iframe></div></div></div>
          </div>
        </div></div></div><colab-cell-next-steps><template shadowrootmode="open"><!----></template></colab-cell-next-steps></div></div><div class="add-cell">
      <hr>
    </div></div><div class="cell text" id="cell-1544e96c" role="region" aria-label="Cell 4: Text cell: Text Processing" style=""><div class="cell-tag-editor sticky"></div><div class="cell-toolbar sticky"></div><div class="main-content" elevation="0"><div class="cell-contents"><div class="cell-mask"></div><span class="imported-info-area"></span><!----> <div class="toolbar-root"></div>
      <div class="editor-container horizontal">
        <div class="editor-root"></div>
        <div class="text-top-div">
          <div class="markdown"><span><div class="text-cell-section-header layout horizontal center"><md-icon-button class="header-section-toggle" title="Collapse 3 child cells under Text Processing (Press &lt;Shift&gt; to also collapse sibling sections)" data-aria-label="Collapse 3 child cells under Text Processing (Press &lt;Shift&gt; to also collapse sibling sections)" value=""><template shadowrootmode="open" shadowrootdelegatesfocus><!----><button id="button" class="icon-button  standard " aria-label="Collapse 3 child cells under Text Processing (Press &lt;Shift&gt; to also collapse sibling sections)" tabindex="-1">
        <!--?lit$896484614$--><md-focus-ring part="focus-ring" for="button" aria-hidden="true"><template shadowrootmode="open"><!----></template></md-focus-ring>
        <!--?lit$896484614$--><md-ripple aria-hidden="true"><template shadowrootmode="open"><!----><div class="surface   "></div></template></md-ripple>
        <!--?lit$896484614$--><span class="icon"><slot></slot></span>
        <!--?lit$896484614$-->
        <!--?lit$896484614$--><span class="touch"></span>
        <!--?lit$896484614$-->
  </button></template><md-icon aria-hidden="true"><template shadowrootmode="open"><!----><slot></slot></template>keyboard_arrow_down</md-icon></md-icon-button><h1>Text Processing</h1></div>
</span></div>
        </div>
      </div>

      <div class="section-header" style="display: none;">
        <colab-run-button><template shadowrootmode="open"><!----> <div class=" cell-execution ">
      <button id="run-button" aria-label="Run cell" tabindex="-1">
        <span class="execution-count"><!--?lit$896484614$-->[ ]</span>
        <span aria-hidden="true" class="cell-execution-indicator"><!--?lit$896484614$-->
<svg xmlns="http://www.w3.org/2000/svg" viewBox="0 0 24 24">
  <!--?lit$896484614$-->
  <mask id="playSymbolMask">
    <rect width="100%" height="100%" fill="white"></rect>
    <polygon points="10,8 17,12 10,16" fill="black"></polygon>
  </mask>
  <circle cx="12" cy="12" r="7.8" mask="url(#playSymbolMask)" id="filledCircle"></circle>
</svg></span>
      </button>
      <!--?lit$896484614$--> <!--?lit$896484614$--><!--?-->
    </div></template></colab-run-button>
        <div class="section-header-container" title="click to expand">↳ 3 cells hidden</div>
      </div></div></div><div class="add-cell">
      <hr>
    </div></div><div class="cell code icon-scrolling" id="cell-ff7bb02e" role="region" aria-label="Cell 5: Code cell: " style=""><div class="cell-tag-editor sticky"></div><div class="cell-toolbar sticky"></div><div class="main-content" elevation="0"><div class="cell-contents"><div class="cell-mask"></div><span class="imported-info-area"></span><div class="codecell-input-output">
      <div class="inputarea horizontal layout code">
        <div class="cell-gutter">
          <!-- Bounding range for vertical scrolling of icons -->
          <div class="cell-execution-container">
            <colab-run-button title="Run cell (Ctrl+Enter)
cell has not been executed in this session"><template shadowrootmode="open"><!----> <div class=" cell-execution stale ">
      <button id="run-button" aria-label="Run cell" tabindex="-1">
        <span class="execution-count"><!--?lit$896484614$-->[ ]</span>
        <span aria-hidden="true" class="cell-execution-indicator"><!--?lit$896484614$-->
<svg xmlns="http://www.w3.org/2000/svg" viewBox="0 0 24 24">
  <!--?lit$896484614$-->
  <mask id="playSymbolMask">
    <rect width="100%" height="100%" fill="white"></rect>
    <polygon points="10,8 17,12 10,16" fill="black"></polygon>
  </mask>
  <circle cx="12" cy="12" r="7.8" mask="url(#playSymbolMask)" id="filledCircle"></circle>
</svg></span>
      </button>
      <!--?lit$896484614$--> <!--?lit$896484614$--><!--?-->
    </div></template></colab-run-button>
          </div>
        </div>
      <div class="editor flex lazy-editor" style=""><pre class="lazy-virtualized" style="font-size: 14px; line-height: 19px;"><pre class="lazy-gutter"></pre><pre class="monaco-colorized colab colab" data-lang="notebook-python"><span><span class="mtk6">def</span><span class="mtk1">&nbsp;</span><span class="mtk15">text_preprocessing</span><span class="mtk1">(</span><span class="mtk16">dataframe</span><span class="mtk1">,&nbsp;</span><span class="mtk16">dependent_var</span><span class="mtk1">):</span></span><br><span><span class="mtk1">&nbsp;&nbsp;</span><span class="mtk8">#&nbsp;Normalizing&nbsp;Case&nbsp;Folding&nbsp;-&nbsp;Uppercase&nbsp;to&nbsp;Lowercas</span><span class="mtk8">e</span></span><br><span><span class="mtk1">&nbsp;&nbsp;dataframe[dependent_var]&nbsp;=&nbsp;dataframe[dependent_v</span><span class="mtk1">ar].apply(</span><span class="mtk6">lambda</span><span class="mtk1">&nbsp;x:&nbsp;</span><span class="mtk26">"&nbsp;"</span><span class="mtk1">.join(x.lower()&nbsp;</span><span class="mtk19">for</span><span class="mtk1">&nbsp;x&nbsp;</span><span class="mtk6">in</span><span class="mtk1">&nbsp;</span><span class="mtk14">str</span><span class="mtk1">(x).split()))</span></span><br><span><span></span></span><br><span><span class="mtk1">&nbsp;&nbsp;</span><span class="mtk8">#&nbsp;Removing&nbsp;Punctuation</span></span><br><span><span class="mtk1">&nbsp;&nbsp;dataframe[dependent_var]&nbsp;=&nbsp;dataframe[dependent_v</span><span class="mtk1">ar].</span><span class="mtk14">str</span><span class="mtk1">.replace(</span><span class="mtk26">'[^\w\s]'</span><span class="mtk1">,</span><span class="mtk26">''</span><span class="mtk1">)</span></span><br><span><span></span></span><br><span><span class="mtk1">&nbsp;&nbsp;</span><span class="mtk8">#&nbsp;Removing&nbsp;Numbers</span></span><br><span><span class="mtk1">&nbsp;&nbsp;dataframe[dependent_var]&nbsp;=&nbsp;dataframe[dependent_v</span><span class="mtk1">ar].</span><span class="mtk14">str</span><span class="mtk1">.replace(</span><span class="mtk26">'\d'</span><span class="mtk1">,</span><span class="mtk26">''</span><span class="mtk1">)</span></span><br><span><span></span></span><br><span><span class="mtk1">&nbsp;&nbsp;</span><span class="mtk8">#&nbsp;StopWords</span></span><br><span><span class="mtk1">&nbsp;&nbsp;sw&nbsp;=&nbsp;stopwords.words(</span><span class="mtk26">'english'</span><span class="mtk1">)</span></span><br><span><span class="mtk1">&nbsp;&nbsp;dataframe[dependent_var]&nbsp;=&nbsp;dataframe[dependent_v</span><span class="mtk1">ar].apply(</span><span class="mtk6">lambda</span><span class="mtk1">&nbsp;x:&nbsp;</span><span class="mtk26">"&nbsp;"</span><span class="mtk1">.join(x&nbsp;</span><span class="mtk19">for</span><span class="mtk1">&nbsp;x&nbsp;</span><span class="mtk6">in</span><span class="mtk1">&nbsp;x.split()&nbsp;</span><span class="mtk19">if</span><span class="mtk1">&nbsp;x&nbsp;</span><span class="mtk6">not</span><span class="mtk1">&nbsp;</span><span class="mtk6">in</span><span class="mtk1">&nbsp;sw))</span></span><br><span><span></span></span><br><span><span class="mtk1">&nbsp;&nbsp;</span><span class="mtk8">#&nbsp;Remove&nbsp;Rare&nbsp;Words</span></span><br><span><span class="mtk1">&nbsp;&nbsp;temp_df&nbsp;=&nbsp;pd.Series(</span><span class="mtk26">'&nbsp;'</span><span class="mtk1">.join(dataframe[dependent_var]).split()).value_cou</span><span class="mtk1">nts()</span></span><br><span><span class="mtk1">&nbsp;&nbsp;drops&nbsp;=&nbsp;temp_df[temp_df&nbsp;&lt;=&nbsp;</span><span class="mtk12">1</span><span class="mtk1">]</span></span><br><span><span class="mtk1">&nbsp;&nbsp;dataframe[dependent_var]&nbsp;=&nbsp;dataframe[dependent_v</span><span class="mtk1">ar].apply(</span><span class="mtk6">lambda</span><span class="mtk1">&nbsp;x:&nbsp;</span><span class="mtk26">"&nbsp;"</span><span class="mtk1">.join(x&nbsp;</span><span class="mtk19">for</span><span class="mtk1">&nbsp;x&nbsp;</span><span class="mtk6">in</span><span class="mtk1">&nbsp;</span><span class="mtk14">str</span><span class="mtk1">(x).split()&nbsp;</span><span class="mtk19">if</span><span class="mtk1">&nbsp;x&nbsp;</span><span class="mtk6">not</span><span class="mtk1">&nbsp;</span><span class="mtk6">in</span><span class="mtk1">&nbsp;drops))</span></span><br><span><span></span></span><br><span><span class="mtk1">&nbsp;&nbsp;</span><span class="mtk8">#&nbsp;Lemmatize</span></span><br><span><span class="mtk1">&nbsp;&nbsp;dataframe[dependent_var]&nbsp;=&nbsp;dataframe[dependent_v</span><span class="mtk1">ar].apply(</span><span class="mtk6">lambda</span><span class="mtk1">&nbsp;x:&nbsp;</span><span class="mtk26">"&nbsp;"</span><span class="mtk1">.join([Word(word).lemmatize()&nbsp;</span><span class="mtk19">for</span><span class="mtk1">&nbsp;word&nbsp;</span><span class="mtk6">in</span><span class="mtk1">&nbsp;x.split()]))</span></span><br><span><span></span></span><br><span><span class="mtk1">&nbsp;&nbsp;</span><span class="mtk19">return</span><span class="mtk1">&nbsp;dataframe</span></span><br></pre><colab-read-only-cell-placeholder style="display: none;"><template shadowrootmode="open"><!----><div><!--?lit$896484614$-->Start coding or <span role="button" class="link">generate</span> with AI.</div></template></colab-read-only-cell-placeholder></pre></div><colab-form class="formview vertical layout flex"><div class="widget-area vertical layout"></div></colab-form></div>
    <div class="output" aria-label="Cell 5 output" role="region"><!----> <div class="output-header"> </div>
        <div class="output-content" hidden="">
          <div class="output-info"> </div>
          <div class="output-iframe-container" hidden="">
            <div class="output-iframe-sizer"> </div>
          </div>
        </div></div></div><colab-cell-next-steps><template shadowrootmode="open"><!----></template></colab-cell-next-steps></div></div><div class="add-cell">
      <hr>
    </div></div><div class="cell code icon-scrolling" id="cell-a3f56514" role="region" aria-label="Cell 6: Code cell: " style=""><div class="cell-tag-editor sticky"></div><div class="cell-toolbar sticky"></div><div class="main-content" elevation="0"><div class="cell-contents"><div class="cell-mask"></div><span class="imported-info-area"></span><div class="codecell-input-output">
      <div class="inputarea horizontal layout code">
        <div class="cell-gutter">
          <!-- Bounding range for vertical scrolling of icons -->
          <div class="cell-execution-container">
            <colab-run-button title="Run cell (Ctrl+Enter)
cell has not been executed in this session"><template shadowrootmode="open"><!----> <div class=" cell-execution stale ">
      <button id="run-button" aria-label="Run cell" tabindex="-1">
        <span class="execution-count"><!--?lit$896484614$-->[ ]</span>
        <span aria-hidden="true" class="cell-execution-indicator"><!--?lit$896484614$-->
<svg xmlns="http://www.w3.org/2000/svg" viewBox="0 0 24 24">
  <!--?lit$896484614$-->
  <mask id="playSymbolMask">
    <rect width="100%" height="100%" fill="white"></rect>
    <polygon points="10,8 17,12 10,16" fill="black"></polygon>
  </mask>
  <circle cx="12" cy="12" r="7.8" mask="url(#playSymbolMask)" id="filledCircle"></circle>
</svg></span>
      </button>
      <!--?lit$896484614$--> <!--?lit$896484614$--><!--?-->
    </div></template></colab-run-button>
          </div>
        </div>
      <div class="editor flex lazy-editor" style=""><pre class="lazy-virtualized" style="font-size: 14px; line-height: 19px;"><pre class="lazy-gutter"></pre><pre class="monaco-colorized colab colab" data-lang="notebook-python"><span><span class="mtk1">df&nbsp;=&nbsp;text_preprocessing(df,&nbsp;</span><span class="mtk26">"Description"</span><span class="mtk1">)</span></span><br></pre><colab-read-only-cell-placeholder style="display: none;"><template shadowrootmode="open"><!----><div><!--?lit$896484614$-->Start coding or <span role="button" class="link">generate</span> with AI.</div></template></colab-read-only-cell-placeholder></pre></div><colab-form class="formview vertical layout flex"><div class="widget-area vertical layout"></div></colab-form></div>
    <div class="output" aria-label="Cell 6 output" role="region"><!----> <div class="output-header"> </div>
        <div class="output-content" hidden="">
          <div class="output-info"> </div>
          <div class="output-iframe-container" hidden="">
            <div class="output-iframe-sizer"> </div>
          </div>
        </div></div></div><colab-cell-next-steps><template shadowrootmode="open"><!----></template></colab-cell-next-steps></div></div><div class="add-cell">
      <hr>
    </div></div><div class="cell code code-has-output icon-scrolling" id="cell-2394cd19" role="region" aria-label="Cell 7: Code cell: " style=""><div class="cell-tag-editor sticky"></div><div class="cell-toolbar sticky"></div><div class="main-content" elevation="0"><div class="cell-contents"><div class="cell-mask"></div><span class="imported-info-area"></span><div class="codecell-input-output">
      <div class="inputarea horizontal layout code">
        <div class="cell-gutter">
          <!-- Bounding range for vertical scrolling of icons -->
          <div class="cell-execution-container">
            <colab-run-button title="Run cell (Ctrl+Enter)
cell has not been executed in this session

executed at unknown time"><template shadowrootmode="open"><!----> <div class=" cell-execution stale ">
      <button id="run-button" aria-label="Run cell" tabindex="-1">
        <span class="execution-count"><!--?lit$896484614$-->[ ]</span>
        <span aria-hidden="true" class="cell-execution-indicator"><!--?lit$896484614$-->
<svg xmlns="http://www.w3.org/2000/svg" viewBox="0 0 24 24">
  <!--?lit$896484614$-->
  <mask id="playSymbolMask">
    <rect width="100%" height="100%" fill="white"></rect>
    <polygon points="10,8 17,12 10,16" fill="black"></polygon>
  </mask>
  <circle cx="12" cy="12" r="7.8" mask="url(#playSymbolMask)" id="filledCircle"></circle>
</svg></span>
      </button>
      <!--?lit$896484614$--> <!--?lit$896484614$--><!--?-->
    </div></template></colab-run-button>
          </div>
        </div>
      <div class="editor flex lazy-editor" style=""><pre class="lazy-virtualized" style="font-size: 14px; line-height: 19px;"><pre class="lazy-gutter"></pre><pre class="monaco-colorized colab colab" data-lang="notebook-python"><span><span class="mtk1">df[</span><span class="mtk26">"Description"</span><span class="mtk1">].head()</span></span><br></pre><colab-read-only-cell-placeholder style="display: none;"><template shadowrootmode="open"><!----><div><!--?lit$896484614$-->Start coding or <span role="button" class="link">generate</span> with AI.</div></template></colab-read-only-cell-placeholder></pre></div><colab-form class="formview vertical layout flex"><div class="widget-area vertical layout"></div></colab-form></div>
    <div class="output" aria-label="Cell 7 output" role="region"><!----> <div class="output-header"> </div>
        <div class="output-content">
          <div class="output-info"><colab-output-info><template shadowrootmode="open"><!----><md-icon-button data-aria-expanded="false" data-aria-haspopup="menu" title="Code cell output actions" data-aria-label="Code cell output actions" value=""><template shadowrootmode="open" shadowrootdelegatesfocus><!----><button id="button" class="icon-button  standard " aria-label="Code cell output actions" aria-haspopup="menu" aria-expanded="false" tabindex="-1">
        <!--?lit$896484614$--><md-focus-ring part="focus-ring" for="button" aria-hidden="true"><template shadowrootmode="open"><!----></template></md-focus-ring>
        <!--?lit$896484614$--><md-ripple aria-hidden="true"><template shadowrootmode="open"><!----><div class="surface   "></div></template></md-ripple>
        <!--?lit$896484614$--><span class="icon"><slot></slot></span>
        <!--?lit$896484614$-->
        <!--?lit$896484614$--><span class="touch"></span>
        <!--?lit$896484614$-->
  </button></template>
      <md-icon aria-hidden="true"><template shadowrootmode="open"><!----><slot></slot></template><!--?lit$896484614$--><svg viewBox="0 0 24 24"><!--?lit$896484614$--><path d="m15.9 3.07c-4.32 0.0742-8.64-0.0355-13 0.0568-1.37 0.307-1.74 2.1-1.41 3.26 0.469 0.606 1.86 0.384 1.66-0.525 0.0448-0.329-0.183-0.93 0.354-0.766h13.3v1.53h1.71c0.0709-1.13 0.141-2.62-0.968-3.3-0.511-0.264-1.11-0.252-1.67-0.259zm2.94 6.84v4.87c1.62-1.62 3.24-3.24 4.87-4.87h-4.87zm0 0h-1.71v3.43l1.57 1.57c0.32-1.65 0.0556-3.34 0.135-5zm-1.71 3.43v-3.43h-3.43c1.14 1.14 2.29 2.29 3.43 3.43zm1.4 4.27h-1.71v1.48h-13.6v-1.48h-1.71c-0.0473 1.15-0.16 2.72 1.09 3.29 1.47 0.506 3.02 0.0265 4.53 0.192 3.34-0.0051 6.68 0.0336 10-0.0245 1.49-0.366 1.56-2.22 1.42-3.45zm-10.1-1.12c-0.398-0.483-0.796-0.967-1.19-1.45 0.59-0.683 1.18-1.37 1.77-2.05h-8.67v-2h8.67c-0.59-0.683-1.18-1.37-1.77-2.05 0.398-0.483 0.796-0.967 1.19-1.45 1.28 1.5 2.56 3 3.84 4.5-1.28 1.5-2.56 3-3.84 4.5z"></path></svg></md-icon>
    </md-icon-button></template></colab-output-info></div>
          <div class="output-iframe-container">
            <div class="output-iframe-sizer"> <div><div><colab-static-output-renderer role="group"><div><div class="execute_result output_text"><pre>0    product great using several week constantly ap...
1    im kind freak organization label everything th...
2    obsessed little thing cute compact easy use go...
3                                 fácil e prático read
4    label pretty easy make dont label bold come lo...
Name: Description, dtype: object</pre></div></div><div></div></colab-static-output-renderer></div></div></div>
          </div>
        </div></div></div><colab-cell-next-steps><template shadowrootmode="open"><!----></template></colab-cell-next-steps></div></div><div class="add-cell">
      <hr>
    </div></div><div class="cell text" id="cell-ed3c7e69" role="region" aria-label="Cell 8: Text cell: Text Visualization" style=""><div class="cell-tag-editor sticky"></div><div class="cell-toolbar sticky"></div><div class="main-content" elevation="0"><div class="cell-contents"><div class="cell-mask"></div><span class="imported-info-area"></span><!----> <div class="toolbar-root"></div>
      <div class="editor-container horizontal">
        <div class="editor-root"></div>
        <div class="text-top-div">
          <div class="markdown"><span><div class="text-cell-section-header layout horizontal center"><md-icon-button class="header-section-toggle" title="Collapse 2 child cells under Text Visualization (Press &lt;Shift&gt; to also collapse sibling sections)" data-aria-label="Collapse 2 child cells under Text Visualization (Press &lt;Shift&gt; to also collapse sibling sections)" value=""><template shadowrootmode="open" shadowrootdelegatesfocus><!----><button id="button" class="icon-button  standard " aria-label="Collapse 2 child cells under Text Visualization (Press &lt;Shift&gt; to also collapse sibling sections)" tabindex="-1">
        <!--?lit$896484614$--><md-focus-ring part="focus-ring" for="button" aria-hidden="true"><template shadowrootmode="open"><!----></template></md-focus-ring>
        <!--?lit$896484614$--><md-ripple aria-hidden="true"><template shadowrootmode="open"><!----><div class="surface   "></div></template></md-ripple>
        <!--?lit$896484614$--><span class="icon"><slot></slot></span>
        <!--?lit$896484614$-->
        <!--?lit$896484614$--><span class="touch"></span>
        <!--?lit$896484614$-->
  </button></template><md-icon aria-hidden="true"><template shadowrootmode="open"><!----><slot></slot></template>keyboard_arrow_down</md-icon></md-icon-button><h1>Text Visualization</h1></div>
</span></div>
        </div>
      </div>

      <div class="section-header" style="display: none;">
        <colab-run-button><template shadowrootmode="open"><!----> <div class=" cell-execution ">
      <button id="run-button" aria-label="Run cell" tabindex="-1">
        <span class="execution-count"><!--?lit$896484614$-->[ ]</span>
        <span aria-hidden="true" class="cell-execution-indicator"><!--?lit$896484614$-->
<svg xmlns="http://www.w3.org/2000/svg" viewBox="0 0 24 24">
  <!--?lit$896484614$-->
  <mask id="playSymbolMask">
    <rect width="100%" height="100%" fill="white"></rect>
    <polygon points="10,8 17,12 10,16" fill="black"></polygon>
  </mask>
  <circle cx="12" cy="12" r="7.8" mask="url(#playSymbolMask)" id="filledCircle"></circle>
</svg></span>
      </button>
      <!--?lit$896484614$--> <!--?lit$896484614$--><!--?-->
    </div></template></colab-run-button>
        <div class="section-header-container" title="click to expand">↳ 2 cells hidden</div>
      </div></div></div><div class="add-cell">
      <hr>
    </div></div><div class="cell code icon-scrolling" id="cell-481df0af" role="region" aria-label="Cell 9: Code cell: " style=""><div class="cell-tag-editor sticky"></div><div class="cell-toolbar sticky"></div><div class="main-content" elevation="0"><div class="cell-contents"><div class="cell-mask"></div><span class="imported-info-area"></span><div class="codecell-input-output">
      <div class="inputarea horizontal layout code">
        <div class="cell-gutter">
          <!-- Bounding range for vertical scrolling of icons -->
          <div class="cell-execution-container">
            <colab-run-button title="Run cell (Ctrl+Enter)
cell has not been executed in this session"><template shadowrootmode="open"><!----> <div class=" cell-execution stale ">
      <button id="run-button" aria-label="Run cell" tabindex="-1">
        <span class="execution-count"><!--?lit$896484614$-->[ ]</span>
        <span aria-hidden="true" class="cell-execution-indicator"><!--?lit$896484614$-->
<svg xmlns="http://www.w3.org/2000/svg" viewBox="0 0 24 24">
  <!--?lit$896484614$-->
  <mask id="playSymbolMask">
    <rect width="100%" height="100%" fill="white"></rect>
    <polygon points="10,8 17,12 10,16" fill="black"></polygon>
  </mask>
  <circle cx="12" cy="12" r="7.8" mask="url(#playSymbolMask)" id="filledCircle"></circle>
</svg></span>
      </button>
      <!--?lit$896484614$--> <!--?lit$896484614$--><!--?-->
    </div></template></colab-run-button>
          </div>
        </div>
      <div class="editor flex lazy-editor" style=""><pre class="lazy-virtualized" style="font-size: 14px; line-height: 19px;"><pre class="lazy-gutter"></pre><pre class="monaco-colorized colab colab" data-lang="notebook-python"><span><span class="mtk6">def</span><span class="mtk1">&nbsp;</span><span class="mtk15">text_visulaization</span><span class="mtk1">(</span><span class="mtk16">dataframe</span><span class="mtk1">,&nbsp;</span><span class="mtk16">dependent_var</span><span class="mtk1">,&nbsp;</span><span class="mtk16">barplot</span><span class="mtk1">=</span><span class="mtk6">True</span><span class="mtk1">,&nbsp;</span><span class="mtk16">wordcloud</span><span class="mtk1">=</span><span class="mtk6">True</span><span class="mtk1">):</span></span><br><span><span class="mtk1">&nbsp;&nbsp;</span><span class="mtk8">#&nbsp;Calculation&nbsp;of&nbsp;Term&nbsp;Frequencies</span></span><br><span><span class="mtk1">&nbsp;&nbsp;tf&nbsp;=&nbsp;dataframe[dependent_var].apply(</span><span class="mtk6">lambda</span><span class="mtk1">&nbsp;x:&nbsp;pd.value_counts(x.split(</span><span class="mtk26">"&nbsp;"</span><span class="mtk1">))).</span><span class="mtk15">sum</span><span class="mtk1">(axis=</span><span class="mtk12">0</span><span class="mtk1">).reset_index()</span></span><br><span><span class="mtk1">&nbsp;&nbsp;tf.columns&nbsp;=&nbsp;[</span><span class="mtk26">"words"</span><span class="mtk1">,&nbsp;</span><span class="mtk26">"tf"</span><span class="mtk1">]</span></span><br><span><span></span></span><br><span><span class="mtk1">&nbsp;&nbsp;</span><span class="mtk19">if</span><span class="mtk1">&nbsp;barplot:</span></span><br><span><span class="mtk1">&nbsp;&nbsp;&nbsp;&nbsp;</span><span class="mtk8">#&nbsp;Bar&nbsp;Plot</span></span><br><span><span class="mtk1">&nbsp;&nbsp;&nbsp;&nbsp;tf[tf[</span><span class="mtk26">"tf"</span><span class="mtk1">]&gt;</span><span class="mtk12">1000</span><span class="mtk1">].plot.barh(x=</span><span class="mtk26">"words"</span><span class="mtk1">,&nbsp;y=</span><span class="mtk26">"tf"</span><span class="mtk1">)</span></span><br><span><span class="mtk1">&nbsp;&nbsp;&nbsp;&nbsp;plt.title(</span><span class="mtk26">"Calculation&nbsp;of&nbsp;Term&nbsp;Frequencies&nbsp;:&nbsp;barplot"</span><span class="mtk1">)</span></span><br><span><span class="mtk1">&nbsp;&nbsp;&nbsp;&nbsp;plt.show()</span></span><br><span><span></span></span><br><span><span class="mtk1">&nbsp;&nbsp;</span><span class="mtk19">if</span><span class="mtk1">&nbsp;wordcloud:</span></span><br><span><span class="mtk1">&nbsp;&nbsp;&nbsp;&nbsp;</span><span class="mtk8">#&nbsp;WordCloud</span></span><br><span><span class="mtk1">&nbsp;&nbsp;&nbsp;&nbsp;text&nbsp;=&nbsp;</span><span class="mtk26">"&nbsp;"</span><span class="mtk1">.join(i&nbsp;</span><span class="mtk19">for</span><span class="mtk1">&nbsp;i&nbsp;</span><span class="mtk6">in</span><span class="mtk1">&nbsp;dataframe[dependent_var])</span></span><br><span><span class="mtk1">&nbsp;&nbsp;&nbsp;&nbsp;wordcloud&nbsp;=&nbsp;WordCloud(max_font_size=</span><span class="mtk12">100</span><span class="mtk1">,&nbsp;max_words=</span><span class="mtk12">1000</span><span class="mtk1">,&nbsp;background_color=</span><span class="mtk26">"white"</span><span class="mtk1">).generate(text)</span></span><br><span><span class="mtk1">&nbsp;&nbsp;&nbsp;&nbsp;plt.figure(figsize=[</span><span class="mtk12">10</span><span class="mtk1">,&nbsp;</span><span class="mtk12">10</span><span class="mtk1">])</span></span><br><span><span class="mtk1">&nbsp;&nbsp;&nbsp;&nbsp;plt.imshow(wordcloud,&nbsp;interpolation=</span><span class="mtk26">"bilinear"</span><span class="mtk1">)</span></span><br><span><span class="mtk1">&nbsp;&nbsp;&nbsp;&nbsp;plt.axis(</span><span class="mtk26">"off"</span><span class="mtk1">)</span></span><br><span><span class="mtk1">&nbsp;&nbsp;&nbsp;&nbsp;plt.title(</span><span class="mtk26">"Calculation&nbsp;of&nbsp;Term&nbsp;Frequencies&nbsp;:&nbsp;wordcloud"</span><span class="mtk1">)</span></span><br><span><span class="mtk1">&nbsp;&nbsp;&nbsp;&nbsp;plt.show()</span></span><br><span><span class="mtk1">&nbsp;&nbsp;&nbsp;&nbsp;wordcloud.to_file(</span><span class="mtk26">"wordcloud.png"</span><span class="mtk1">)</span></span><br><span><span></span></span><br></pre><colab-read-only-cell-placeholder style="display: none;"><template shadowrootmode="open"><!----><div><!--?lit$896484614$-->Start coding or <span role="button" class="link">generate</span> with AI.</div></template></colab-read-only-cell-placeholder></pre></div><colab-form class="formview vertical layout flex"><div class="widget-area vertical layout"></div></colab-form></div>
    <div class="output" aria-label="Cell 9 output" role="region"><!----> <div class="output-header"> </div>
        <div class="output-content" hidden="">
          <div class="output-info"> </div>
          <div class="output-iframe-container" hidden="">
            <div class="output-iframe-sizer"> </div>
          </div>
        </div></div></div><colab-cell-next-steps><template shadowrootmode="open"><!----></template></colab-cell-next-steps></div></div><div class="add-cell">
      <hr>
    </div></div><div class="cell code code-has-output icon-scrolling" id="cell-e87da8d3" role="region" aria-label="Cell 10: Code cell: " style=""><div class="cell-tag-editor sticky"></div><div class="cell-toolbar sticky"></div><div class="main-content" elevation="0"><div class="cell-contents"><div class="cell-mask"></div><span class="imported-info-area"></span><div class="codecell-input-output">
      <div class="inputarea horizontal layout code">
        <div class="cell-gutter">
          <!-- Bounding range for vertical scrolling of icons -->
          <div class="cell-execution-container">
            <colab-run-button title="Run cell (Ctrl+Enter)
cell has not been executed in this session

executed at unknown time"><template shadowrootmode="open"><!----> <div class=" cell-execution stale ">
      <button id="run-button" aria-label="Run cell" tabindex="-1">
        <span class="execution-count"><!--?lit$896484614$-->[ ]</span>
        <span aria-hidden="true" class="cell-execution-indicator"><!--?lit$896484614$-->
<svg xmlns="http://www.w3.org/2000/svg" viewBox="0 0 24 24">
  <!--?lit$896484614$-->
  <mask id="playSymbolMask">
    <rect width="100%" height="100%" fill="white"></rect>
    <polygon points="10,8 17,12 10,16" fill="black"></polygon>
  </mask>
  <circle cx="12" cy="12" r="7.8" mask="url(#playSymbolMask)" id="filledCircle"></circle>
</svg></span>
      </button>
      <!--?lit$896484614$--> <!--?lit$896484614$--><!--?-->
    </div></template></colab-run-button>
          </div>
        </div>
      <div class="editor flex lazy-editor" style=""><pre class="lazy-virtualized" style="font-size: 14px; line-height: 19px;"><pre class="lazy-gutter"></pre><pre class="monaco-colorized colab colab" data-lang="notebook-python"><span><span class="mtk1">text_visulaization(df,&nbsp;</span><span class="mtk26">"Description"</span><span class="mtk1">)</span></span><br></pre><colab-read-only-cell-placeholder style="display: none;"><template shadowrootmode="open"><!----><div><!--?lit$896484614$-->Start coding or <span role="button" class="link">generate</span> with AI.</div></template></colab-read-only-cell-placeholder></pre></div><colab-form class="formview vertical layout flex"><div class="widget-area vertical layout"></div></colab-form></div>
    <div class="output" aria-label="Cell 10 output" role="region"><!----> <div class="output-header"> </div>
        <div class="output-content">
          <div class="output-info"><colab-output-info><template shadowrootmode="open"><!----><md-icon-button data-aria-expanded="false" data-aria-haspopup="menu" title="Code cell output actions" data-aria-label="Code cell output actions" value=""><template shadowrootmode="open" shadowrootdelegatesfocus><!----><button id="button" class="icon-button  standard " aria-label="Code cell output actions" aria-haspopup="menu" aria-expanded="false" tabindex="-1">
        <!--?lit$896484614$--><md-focus-ring part="focus-ring" for="button" aria-hidden="true"><template shadowrootmode="open"><!----></template></md-focus-ring>
        <!--?lit$896484614$--><md-ripple aria-hidden="true"><template shadowrootmode="open"><!----><div class="surface   "></div></template></md-ripple>
        <!--?lit$896484614$--><span class="icon"><slot></slot></span>
        <!--?lit$896484614$-->
        <!--?lit$896484614$--><span class="touch"></span>
        <!--?lit$896484614$-->
  </button></template>
      <md-icon aria-hidden="true"><template shadowrootmode="open"><!----><slot></slot></template><!--?lit$896484614$--><svg viewBox="0 0 24 24"><!--?lit$896484614$--><path d="m15.9 3.07c-4.32 0.0742-8.64-0.0355-13 0.0568-1.37 0.307-1.74 2.1-1.41 3.26 0.469 0.606 1.86 0.384 1.66-0.525 0.0448-0.329-0.183-0.93 0.354-0.766h13.3v1.53h1.71c0.0709-1.13 0.141-2.62-0.968-3.3-0.511-0.264-1.11-0.252-1.67-0.259zm2.94 6.84v4.87c1.62-1.62 3.24-3.24 4.87-4.87h-4.87zm0 0h-1.71v3.43l1.57 1.57c0.32-1.65 0.0556-3.34 0.135-5zm-1.71 3.43v-3.43h-3.43c1.14 1.14 2.29 2.29 3.43 3.43zm1.4 4.27h-1.71v1.48h-13.6v-1.48h-1.71c-0.0473 1.15-0.16 2.72 1.09 3.29 1.47 0.506 3.02 0.0265 4.53 0.192 3.34-0.0051 6.68 0.0336 10-0.0245 1.49-0.366 1.56-2.22 1.42-3.45zm-10.1-1.12c-0.398-0.483-0.796-0.967-1.19-1.45 0.59-0.683 1.18-1.37 1.77-2.05h-8.67v-2h8.67c-0.59-0.683-1.18-1.37-1.77-2.05 0.398-0.483 0.796-0.967 1.19-1.45 1.28 1.5 2.56 3 3.84 4.5-1.28 1.5-2.56 3-3.84 4.5z"></path></svg></md-icon>
    </md-icon-button></template></colab-output-info></div>
          <div class="output-iframe-container">
            <div class="output-iframe-sizer"> <div style="height: 881px;"><div class="outputview" style="height: 881px;"><colab-dom-lifecycle-events style="display: none;"></colab-dom-lifecycle-events><iframe allow="" sandbox="allow-downloads allow-forms allow-pointer-lock allow-popups allow-same-origin allow-scripts allow-storage-access-by-user-activation allow-popups-to-escape-sandbox" src="./Sentiment-analysis-on-amazon-product-reviews_files/outputframe(1).html" class="" tabindex="-1" style="height: 881px;"></iframe></div></div></div>
          </div>
        </div></div></div><colab-cell-next-steps><template shadowrootmode="open"><!----></template></colab-cell-next-steps></div></div><div class="add-cell">
      <hr>
    </div></div><div class="cell text" id="cell-1e06f195" role="region" aria-label="Cell 11: Text cell: Sentiment Analysis" style=""><div class="cell-tag-editor sticky"></div><div class="cell-toolbar sticky"></div><div class="main-content" elevation="0"><div class="cell-contents"><div class="cell-mask"></div><span class="imported-info-area"></span><!----> <div class="toolbar-root"></div>
      <div class="editor-container horizontal">
        <div class="editor-root"></div>
        <div class="text-top-div">
          <div class="markdown"><span><div class="text-cell-section-header layout horizontal center"><md-icon-button class="header-section-toggle" title="Collapse 3 child cells under Sentiment Analysis (Press &lt;Shift&gt; to also collapse sibling sections)" data-aria-label="Collapse 3 child cells under Sentiment Analysis (Press &lt;Shift&gt; to also collapse sibling sections)" value=""><template shadowrootmode="open" shadowrootdelegatesfocus><!----><button id="button" class="icon-button  standard " aria-label="Collapse 3 child cells under Sentiment Analysis (Press &lt;Shift&gt; to also collapse sibling sections)" tabindex="-1">
        <!--?lit$896484614$--><md-focus-ring part="focus-ring" for="button" aria-hidden="true"><template shadowrootmode="open"><!----></template></md-focus-ring>
        <!--?lit$896484614$--><md-ripple aria-hidden="true"><template shadowrootmode="open"><!----><div class="surface   "></div></template></md-ripple>
        <!--?lit$896484614$--><span class="icon"><slot></slot></span>
        <!--?lit$896484614$-->
        <!--?lit$896484614$--><span class="touch"></span>
        <!--?lit$896484614$-->
  </button></template><md-icon aria-hidden="true"><template shadowrootmode="open"><!----><slot></slot></template>keyboard_arrow_down</md-icon></md-icon-button><h1>Sentiment Analysis</h1></div>
</span></div>
        </div>
      </div>

      <div class="section-header" style="display: none;">
        <colab-run-button><template shadowrootmode="open"><!----> <div class=" cell-execution ">
      <button id="run-button" aria-label="Run cell" tabindex="-1">
        <span class="execution-count"><!--?lit$896484614$-->[ ]</span>
        <span aria-hidden="true" class="cell-execution-indicator"><!--?lit$896484614$-->
<svg xmlns="http://www.w3.org/2000/svg" viewBox="0 0 24 24">
  <!--?lit$896484614$-->
  <mask id="playSymbolMask">
    <rect width="100%" height="100%" fill="white"></rect>
    <polygon points="10,8 17,12 10,16" fill="black"></polygon>
  </mask>
  <circle cx="12" cy="12" r="7.8" mask="url(#playSymbolMask)" id="filledCircle"></circle>
</svg></span>
      </button>
      <!--?lit$896484614$--> <!--?lit$896484614$--><!--?-->
    </div></template></colab-run-button>
        <div class="section-header-container" title="click to expand">↳ 3 cells hidden</div>
      </div></div></div><div class="add-cell">
      <hr>
    </div></div><div class="cell code icon-scrolling" id="cell-89641e28" role="region" aria-label="Cell 12: Code cell: " style=""><div class="cell-tag-editor sticky"></div><div class="cell-toolbar sticky"></div><div class="main-content" elevation="0"><div class="cell-contents"><div class="cell-mask"></div><span class="imported-info-area"></span><div class="codecell-input-output">
      <div class="inputarea horizontal layout code">
        <div class="cell-gutter">
          <!-- Bounding range for vertical scrolling of icons -->
          <div class="cell-execution-container">
            <colab-run-button title="Run cell (Ctrl+Enter)
cell has not been executed in this session"><template shadowrootmode="open"><!----> <div class=" cell-execution stale ">
      <button id="run-button" aria-label="Run cell" tabindex="-1">
        <span class="execution-count"><!--?lit$896484614$-->[ ]</span>
        <span aria-hidden="true" class="cell-execution-indicator"><!--?lit$896484614$-->
<svg xmlns="http://www.w3.org/2000/svg" viewBox="0 0 24 24">
  <!--?lit$896484614$-->
  <mask id="playSymbolMask">
    <rect width="100%" height="100%" fill="white"></rect>
    <polygon points="10,8 17,12 10,16" fill="black"></polygon>
  </mask>
  <circle cx="12" cy="12" r="7.8" mask="url(#playSymbolMask)" id="filledCircle"></circle>
</svg></span>
      </button>
      <!--?lit$896484614$--> <!--?lit$896484614$--><!--?-->
    </div></template></colab-run-button>
          </div>
        </div>
      <div class="editor flex lazy-editor" style=""><pre class="lazy-virtualized" style="font-size: 14px; line-height: 19px;"><pre class="lazy-gutter"></pre><pre class="monaco-colorized colab colab" data-lang="notebook-python"><span><span class="mtk6">def</span><span class="mtk1">&nbsp;</span><span class="mtk15">create_polarity_scores</span><span class="mtk1">(</span><span class="mtk16">dataframe</span><span class="mtk1">,&nbsp;</span><span class="mtk16">dependent_var</span><span class="mtk1">):</span></span><br><span><span class="mtk1">&nbsp;&nbsp;sia&nbsp;=&nbsp;SentimentIntensityAnalyzer()</span></span><br><span><span class="mtk1">&nbsp;&nbsp;dataframe[</span><span class="mtk26">"polarity_score"</span><span class="mtk1">]&nbsp;=&nbsp;dataframe[dependent_var].apply(</span><span class="mtk6">lambda</span><span class="mtk1">&nbsp;x:&nbsp;sia.polarity_scores(x)[</span><span class="mtk26">"compound"</span><span class="mtk1">])</span></span><br></pre><colab-read-only-cell-placeholder style="display: none;"><template shadowrootmode="open"><!----><div><!--?lit$896484614$-->Start coding or <span role="button" class="link">generate</span> with AI.</div></template></colab-read-only-cell-placeholder></pre></div><colab-form class="formview vertical layout flex"><div class="widget-area vertical layout"></div></colab-form></div>
    <div class="output" aria-label="Cell 12 output" role="region"><!----> <div class="output-header"> </div>
        <div class="output-content" hidden="">
          <div class="output-info"> </div>
          <div class="output-iframe-container" hidden="">
            <div class="output-iframe-sizer"> </div>
          </div>
        </div></div></div><colab-cell-next-steps><template shadowrootmode="open"><!----></template></colab-cell-next-steps></div></div><div class="add-cell">
      <hr>
    </div></div><div class="cell code icon-scrolling" id="cell-cd1b8046" role="region" aria-label="Cell 13: Code cell: " style=""><div class="cell-tag-editor sticky"></div><div class="cell-toolbar sticky"></div><div class="main-content" elevation="0"><div class="cell-contents"><div class="cell-mask"></div><span class="imported-info-area"></span><div class="codecell-input-output">
      <div class="inputarea horizontal layout code">
        <div class="cell-gutter">
          <!-- Bounding range for vertical scrolling of icons -->
          <div class="cell-execution-container">
            <colab-run-button title="Run cell (Ctrl+Enter)
cell has not been executed in this session"><template shadowrootmode="open"><!----> <div class=" cell-execution stale ">
      <button id="run-button" aria-label="Run cell" tabindex="-1">
        <span class="execution-count"><!--?lit$896484614$-->[ ]</span>
        <span aria-hidden="true" class="cell-execution-indicator"><!--?lit$896484614$-->
<svg xmlns="http://www.w3.org/2000/svg" viewBox="0 0 24 24">
  <!--?lit$896484614$-->
  <mask id="playSymbolMask">
    <rect width="100%" height="100%" fill="white"></rect>
    <polygon points="10,8 17,12 10,16" fill="black"></polygon>
  </mask>
  <circle cx="12" cy="12" r="7.8" mask="url(#playSymbolMask)" id="filledCircle"></circle>
</svg></span>
      </button>
      <!--?lit$896484614$--> <!--?lit$896484614$--><!--?-->
    </div></template></colab-run-button>
          </div>
        </div>
      <div class="editor flex lazy-editor" style=""><pre class="lazy-virtualized" style="font-size: 14px; line-height: 19px;"><pre class="lazy-gutter"></pre><pre class="monaco-colorized colab colab" data-lang="notebook-python"><span><span class="mtk1">create_polarity_scores(df,&nbsp;</span><span class="mtk26">"Description"</span><span class="mtk1">)</span></span><br></pre><colab-read-only-cell-placeholder style="display: none;"><template shadowrootmode="open"><!----><div><!--?lit$896484614$-->Start coding or <span role="button" class="link">generate</span> with AI.</div></template></colab-read-only-cell-placeholder></pre></div><colab-form class="formview vertical layout flex"><div class="widget-area vertical layout"></div></colab-form></div>
    <div class="output" aria-label="Cell 13 output" role="region"><!----> <div class="output-header"> </div>
        <div class="output-content" hidden="">
          <div class="output-info"> </div>
          <div class="output-iframe-container" hidden="">
            <div class="output-iframe-sizer"> </div>
          </div>
        </div></div></div><colab-cell-next-steps><template shadowrootmode="open"><!----></template></colab-cell-next-steps></div></div><div class="add-cell">
      <hr>
    </div></div><div class="cell code code-has-output icon-scrolling" id="cell-74d0262b" role="region" aria-label="Cell 14: Code cell: " style=""><div class="cell-tag-editor sticky"></div><div class="cell-toolbar sticky"></div><div class="main-content" elevation="0"><div class="cell-contents"><div class="cell-mask"></div><span class="imported-info-area"></span><div class="codecell-input-output">
      <div class="inputarea horizontal layout code">
        <div class="cell-gutter">
          <!-- Bounding range for vertical scrolling of icons -->
          <div class="cell-execution-container">
            <colab-run-button title="Run cell (Ctrl+Enter)
cell has not been executed in this session

executed at unknown time"><template shadowrootmode="open"><!----> <div class=" cell-execution stale ">
      <button id="run-button" aria-label="Run cell" tabindex="-1">
        <span class="execution-count"><!--?lit$896484614$-->[ ]</span>
        <span aria-hidden="true" class="cell-execution-indicator"><!--?lit$896484614$-->
<svg xmlns="http://www.w3.org/2000/svg" viewBox="0 0 24 24">
  <!--?lit$896484614$-->
  <mask id="playSymbolMask">
    <rect width="100%" height="100%" fill="white"></rect>
    <polygon points="10,8 17,12 10,16" fill="black"></polygon>
  </mask>
  <circle cx="12" cy="12" r="7.8" mask="url(#playSymbolMask)" id="filledCircle"></circle>
</svg></span>
      </button>
      <!--?lit$896484614$--> <!--?lit$896484614$--><!--?-->
    </div></template></colab-run-button>
          </div>
        </div>
      <div class="editor flex lazy-editor" style=""><pre class="lazy-virtualized" style="font-size: 14px; line-height: 19px;"><pre class="lazy-gutter"></pre><pre class="monaco-colorized colab colab" data-lang="notebook-python"><span><span class="mtk1">df</span></span><br></pre><colab-read-only-cell-placeholder style="display: none;"><template shadowrootmode="open"><!----><div><!--?lit$896484614$-->Start coding or <span role="button" class="link">generate</span> with AI.</div></template></colab-read-only-cell-placeholder></pre></div><colab-form class="formview vertical layout flex"><div class="widget-area vertical layout"></div></colab-form></div>
    <div class="output" aria-label="Cell 14 output" role="region"><!----> <div class="output-header"> </div>
        <div class="output-content">
          <div class="output-info"><colab-output-info><template shadowrootmode="open"><!----><md-icon-button data-aria-expanded="false" data-aria-haspopup="menu" title="Code cell output actions" data-aria-label="Code cell output actions" value=""><template shadowrootmode="open" shadowrootdelegatesfocus><!----><button id="button" class="icon-button  standard " aria-label="Code cell output actions" aria-haspopup="menu" aria-expanded="false" tabindex="-1">
        <!--?lit$896484614$--><md-focus-ring part="focus-ring" for="button" aria-hidden="true"><template shadowrootmode="open"><!----></template></md-focus-ring>
        <!--?lit$896484614$--><md-ripple aria-hidden="true"><template shadowrootmode="open"><!----><div class="surface   "></div></template></md-ripple>
        <!--?lit$896484614$--><span class="icon"><slot></slot></span>
        <!--?lit$896484614$-->
        <!--?lit$896484614$--><span class="touch"></span>
        <!--?lit$896484614$-->
  </button></template>
      <md-icon aria-hidden="true"><template shadowrootmode="open"><!----><slot></slot></template><!--?lit$896484614$--><svg viewBox="0 0 24 24"><!--?lit$896484614$--><path d="m15.9 3.07c-4.32 0.0742-8.64-0.0355-13 0.0568-1.37 0.307-1.74 2.1-1.41 3.26 0.469 0.606 1.86 0.384 1.66-0.525 0.0448-0.329-0.183-0.93 0.354-0.766h13.3v1.53h1.71c0.0709-1.13 0.141-2.62-0.968-3.3-0.511-0.264-1.11-0.252-1.67-0.259zm2.94 6.84v4.87c1.62-1.62 3.24-3.24 4.87-4.87h-4.87zm0 0h-1.71v3.43l1.57 1.57c0.32-1.65 0.0556-3.34 0.135-5zm-1.71 3.43v-3.43h-3.43c1.14 1.14 2.29 2.29 3.43 3.43zm1.4 4.27h-1.71v1.48h-13.6v-1.48h-1.71c-0.0473 1.15-0.16 2.72 1.09 3.29 1.47 0.506 3.02 0.0265 4.53 0.192 3.34-0.0051 6.68 0.0336 10-0.0245 1.49-0.366 1.56-2.22 1.42-3.45zm-10.1-1.12c-0.398-0.483-0.796-0.967-1.19-1.45 0.59-0.683 1.18-1.37 1.77-2.05h-8.67v-2h8.67c-0.59-0.683-1.18-1.37-1.77-2.05 0.398-0.483 0.796-0.967 1.19-1.45 1.28 1.5 2.56 3 3.84 4.5-1.28 1.5-2.56 3-3.84 4.5z"></path></svg></md-icon>
    </md-icon-button></template></colab-output-info></div>
          <div class="output-iframe-container">
            <div class="output-iframe-sizer"> <div style="height: 617px;"><div class="outputview" style="height: 424px;"><colab-dom-lifecycle-events style="display: none;"></colab-dom-lifecycle-events><iframe allow="" sandbox="allow-downloads allow-forms allow-pointer-lock allow-popups allow-same-origin allow-scripts allow-storage-access-by-user-activation allow-popups-to-escape-sandbox" src="./Sentiment-analysis-on-amazon-product-reviews_files/outputframe(2).html" class="" tabindex="-1" style="height: 424px;"></iframe></div></div></div>
          </div>
        </div></div></div><colab-cell-next-steps><template shadowrootmode="open"><!----></template></colab-cell-next-steps></div></div><div class="add-cell">
      <hr>
    </div></div><div class="cell text" id="cell-d19eb69b" role="region" aria-label="Cell 15: Text cell: Feature Engineering" style=""><div class="cell-tag-editor sticky"></div><div class="cell-toolbar sticky"></div><div class="main-content" elevation="0"><div class="cell-contents"><div class="cell-mask"></div><span class="imported-info-area"></span><!----> <div class="toolbar-root"></div>
      <div class="editor-container horizontal">
        <div class="editor-root"></div>
        <div class="text-top-div">
          <div class="markdown"><span><div class="text-cell-section-header layout horizontal center"><md-icon-button class="header-section-toggle" title="Collapse 12 child cells under Feature Engineering (Press &lt;Shift&gt; to also collapse sibling sections)" data-aria-label="Collapse 12 child cells under Feature Engineering (Press &lt;Shift&gt; to also collapse sibling sections)" value=""><template shadowrootmode="open" shadowrootdelegatesfocus><!----><button id="button" class="icon-button  standard " aria-label="Collapse 12 child cells under Feature Engineering (Press &lt;Shift&gt; to also collapse sibling sections)" tabindex="-1">
        <!--?lit$896484614$--><md-focus-ring part="focus-ring" for="button" aria-hidden="true"><template shadowrootmode="open"><!----></template></md-focus-ring>
        <!--?lit$896484614$--><md-ripple aria-hidden="true"><template shadowrootmode="open"><!----><div class="surface   "></div></template></md-ripple>
        <!--?lit$896484614$--><span class="icon"><slot></slot></span>
        <!--?lit$896484614$-->
        <!--?lit$896484614$--><span class="touch"></span>
        <!--?lit$896484614$-->
  </button></template><md-icon aria-hidden="true"><template shadowrootmode="open"><!----><slot></slot></template>keyboard_arrow_down</md-icon></md-icon-button><h1>Feature Engineering</h1></div>
</span></div>
        </div>
      </div>

      <div class="section-header" style="display: none;">
        <colab-run-button><template shadowrootmode="open"><!----> <div class=" cell-execution ">
      <button id="run-button" aria-label="Run cell" tabindex="-1">
        <span class="execution-count"><!--?lit$896484614$-->[ ]</span>
        <span aria-hidden="true" class="cell-execution-indicator"><!--?lit$896484614$-->
<svg xmlns="http://www.w3.org/2000/svg" viewBox="0 0 24 24">
  <!--?lit$896484614$-->
  <mask id="playSymbolMask">
    <rect width="100%" height="100%" fill="white"></rect>
    <polygon points="10,8 17,12 10,16" fill="black"></polygon>
  </mask>
  <circle cx="12" cy="12" r="7.8" mask="url(#playSymbolMask)" id="filledCircle"></circle>
</svg></span>
      </button>
      <!--?lit$896484614$--> <!--?lit$896484614$--><!--?-->
    </div></template></colab-run-button>
        <div class="section-header-container" title="click to expand">↳ 12 cells hidden</div>
      </div></div></div><div class="add-cell">
      <hr>
    </div></div><div class="cell code icon-scrolling" id="cell-6e2061e2" role="region" aria-label="Cell 16: Code cell: " style=""><div class="cell-tag-editor sticky"></div><div class="cell-toolbar sticky"></div><div class="main-content" elevation="0"><div class="cell-contents"><div class="cell-mask"></div><span class="imported-info-area"></span><div class="codecell-input-output">
      <div class="inputarea horizontal layout code">
        <div class="cell-gutter">
          <!-- Bounding range for vertical scrolling of icons -->
          <div class="cell-execution-container">
            <colab-run-button title="Run cell (Ctrl+Enter)
cell has not been executed in this session"><template shadowrootmode="open"><!----> <div class=" cell-execution stale ">
      <button id="run-button" aria-label="Run cell" tabindex="-1">
        <span class="execution-count"><!--?lit$896484614$-->[ ]</span>
        <span aria-hidden="true" class="cell-execution-indicator"><!--?lit$896484614$-->
<svg xmlns="http://www.w3.org/2000/svg" viewBox="0 0 24 24">
  <!--?lit$896484614$-->
  <mask id="playSymbolMask">
    <rect width="100%" height="100%" fill="white"></rect>
    <polygon points="10,8 17,12 10,16" fill="black"></polygon>
  </mask>
  <circle cx="12" cy="12" r="7.8" mask="url(#playSymbolMask)" id="filledCircle"></circle>
</svg></span>
      </button>
      <!--?lit$896484614$--> <!--?lit$896484614$--><!--?-->
    </div></template></colab-run-button>
          </div>
        </div>
      <div class="editor flex lazy-editor" style=""><pre class="lazy-virtualized" style="font-size: 14px; line-height: 19px;"><pre class="lazy-gutter"></pre><pre class="monaco-colorized colab colab" data-lang="notebook-python"><span><span class="mtk8">#&nbsp;Create&nbsp;Lables</span></span><br><span><span class="mtk6">def</span><span class="mtk1">&nbsp;</span><span class="mtk15">create_label</span><span class="mtk1">(</span><span class="mtk16">dataframe</span><span class="mtk1">,&nbsp;</span><span class="mtk16">dependent_var</span><span class="mtk1">,&nbsp;</span><span class="mtk16">independent_var</span><span class="mtk1">):</span></span><br><span><span class="mtk1">&nbsp;&nbsp;sia&nbsp;=&nbsp;SentimentIntensityAnalyzer()</span></span><br><span><span class="mtk1">&nbsp;&nbsp;dataframe[independent_var]&nbsp;=&nbsp;dataframe[dependent</span><span class="mtk1">_var].apply(</span><span class="mtk6">lambda</span><span class="mtk1">&nbsp;x:&nbsp;</span><span class="mtk26">"pos"</span><span class="mtk1">&nbsp;</span><span class="mtk19">if</span><span class="mtk1">&nbsp;sia.polarity_scores(x)[</span><span class="mtk26">"compound"</span><span class="mtk1">]&nbsp;&gt;&nbsp;</span><span class="mtk12">0</span><span class="mtk1">&nbsp;</span><span class="mtk19">else</span><span class="mtk1">&nbsp;</span><span class="mtk26">"neg"</span><span class="mtk1">)</span></span><br><span><span class="mtk1">&nbsp;&nbsp;dataframe[independent_var]&nbsp;=&nbsp;LabelEncoder().fit_</span><span class="mtk1">transform(dataframe[independent_var])</span></span><br><span><span></span></span><br><span><span class="mtk1">&nbsp;&nbsp;X&nbsp;=&nbsp;dataframe[dependent_var]</span></span><br><span><span class="mtk1">&nbsp;&nbsp;y&nbsp;=&nbsp;dataframe[independent_var]</span></span><br><span><span></span></span><br><span><span class="mtk1">&nbsp;&nbsp;</span><span class="mtk19">return</span><span class="mtk1">&nbsp;X,&nbsp;y</span></span><br></pre><colab-read-only-cell-placeholder style="display: none;"><template shadowrootmode="open"><!----><div><!--?lit$896484614$-->Start coding or <span role="button" class="link">generate</span> with AI.</div></template></colab-read-only-cell-placeholder></pre></div><colab-form class="formview vertical layout flex"><div class="widget-area vertical layout"></div></colab-form></div>
    <div class="output" aria-label="Cell 16 output" role="region"><!----> <div class="output-header"> </div>
        <div class="output-content" hidden="">
          <div class="output-info"> </div>
          <div class="output-iframe-container" hidden="">
            <div class="output-iframe-sizer"> </div>
          </div>
        </div></div></div><colab-cell-next-steps><template shadowrootmode="open"><!----></template></colab-cell-next-steps></div></div><div class="add-cell">
      <hr>
    </div></div><div class="cell code icon-scrolling" id="cell-1f236490" role="region" aria-label="Cell 17: Code cell: " style=""><div class="cell-tag-editor sticky"></div><div class="cell-toolbar sticky"></div><div class="main-content" elevation="0"><div class="cell-contents"><div class="cell-mask"></div><span class="imported-info-area"></span><div class="codecell-input-output">
      <div class="inputarea horizontal layout code">
        <div class="cell-gutter">
          <!-- Bounding range for vertical scrolling of icons -->
          <div class="cell-execution-container">
            <colab-run-button title="Run cell (Ctrl+Enter)
cell has not been executed in this session"><template shadowrootmode="open"><!----> <div class=" cell-execution stale ">
      <button id="run-button" aria-label="Run cell" tabindex="-1">
        <span class="execution-count"><!--?lit$896484614$-->[ ]</span>
        <span aria-hidden="true" class="cell-execution-indicator"><!--?lit$896484614$-->
<svg xmlns="http://www.w3.org/2000/svg" viewBox="0 0 24 24">
  <!--?lit$896484614$-->
  <mask id="playSymbolMask">
    <rect width="100%" height="100%" fill="white"></rect>
    <polygon points="10,8 17,12 10,16" fill="black"></polygon>
  </mask>
  <circle cx="12" cy="12" r="7.8" mask="url(#playSymbolMask)" id="filledCircle"></circle>
</svg></span>
      </button>
      <!--?lit$896484614$--> <!--?lit$896484614$--><!--?-->
    </div></template></colab-run-button>
          </div>
        </div>
      <div class="editor flex lazy-editor" style=""><pre class="lazy-virtualized" style="font-size: 14px; line-height: 19px;"><pre class="lazy-gutter"></pre><pre class="monaco-colorized colab colab" data-lang="notebook-python"><span><span class="mtk1">X,&nbsp;y&nbsp;=&nbsp;create_label(df,&nbsp;</span><span class="mtk26">"Description"</span><span class="mtk1">,&nbsp;</span><span class="mtk26">"sentiment_label"</span><span class="mtk1">)</span></span><br></pre><colab-read-only-cell-placeholder style="display: none;"><template shadowrootmode="open"><!----><div><!--?lit$896484614$-->Start coding or <span role="button" class="link">generate</span> with AI.</div></template></colab-read-only-cell-placeholder></pre></div><colab-form class="formview vertical layout flex"><div class="widget-area vertical layout"></div></colab-form></div>
    <div class="output" aria-label="Cell 17 output" role="region"><!----> <div class="output-header"> </div>
        <div class="output-content" hidden="">
          <div class="output-info"> </div>
          <div class="output-iframe-container" hidden="">
            <div class="output-iframe-sizer"> </div>
          </div>
        </div></div></div><colab-cell-next-steps><template shadowrootmode="open"><!----></template></colab-cell-next-steps></div></div><div class="add-cell">
      <hr>
    </div></div><div class="cell code icon-scrolling" id="cell-a282dbf2" role="region" aria-label="Cell 18: Code cell: " style=""><div class="cell-tag-editor sticky"></div><div class="cell-toolbar sticky"></div><div class="main-content" elevation="0"><div class="cell-contents"><div class="cell-mask"></div><span class="imported-info-area"></span><div class="codecell-input-output">
      <div class="inputarea horizontal layout code">
        <div class="cell-gutter">
          <!-- Bounding range for vertical scrolling of icons -->
          <div class="cell-execution-container">
            <colab-run-button title="Run cell (Ctrl+Enter)
cell has not been executed in this session"><template shadowrootmode="open"><!----> <div class=" cell-execution stale ">
      <button id="run-button" aria-label="Run cell" tabindex="-1">
        <span class="execution-count"><!--?lit$896484614$-->[ ]</span>
        <span aria-hidden="true" class="cell-execution-indicator"><!--?lit$896484614$-->
<svg xmlns="http://www.w3.org/2000/svg" viewBox="0 0 24 24">
  <!--?lit$896484614$-->
  <mask id="playSymbolMask">
    <rect width="100%" height="100%" fill="white"></rect>
    <polygon points="10,8 17,12 10,16" fill="black"></polygon>
  </mask>
  <circle cx="12" cy="12" r="7.8" mask="url(#playSymbolMask)" id="filledCircle"></circle>
</svg></span>
      </button>
      <!--?lit$896484614$--> <!--?lit$896484614$--><!--?-->
    </div></template></colab-run-button>
          </div>
        </div>
      <div class="editor flex lazy-editor" style=""><pre class="lazy-virtualized" style="font-size: 14px; line-height: 19px;"><pre class="lazy-gutter"></pre><pre class="monaco-colorized colab colab" data-lang="notebook-python"><span><span class="mtk8">#&nbsp;Split&nbsp;Dataset</span></span><br><span><span class="mtk6">def</span><span class="mtk1">&nbsp;</span><span class="mtk15">split_dataset</span><span class="mtk1">(</span><span class="mtk16">dataframe</span><span class="mtk1">,&nbsp;</span><span class="mtk16">X</span><span class="mtk1">,&nbsp;</span><span class="mtk16">y</span><span class="mtk1">):</span></span><br><span><span class="mtk1">&nbsp;&nbsp;train_x,&nbsp;test_x,&nbsp;train_y,&nbsp;test_y&nbsp;=&nbsp;train_test_sp</span><span class="mtk1">lit(X,&nbsp;y,&nbsp;random_state=</span><span class="mtk12">1</span><span class="mtk1">)</span></span><br><span><span class="mtk1">&nbsp;&nbsp;</span><span class="mtk19">return</span><span class="mtk1">&nbsp;train_x,&nbsp;test_x,&nbsp;train_y,&nbsp;test_y</span></span><br></pre><colab-read-only-cell-placeholder style="display: none;"><template shadowrootmode="open"><!----><div><!--?lit$896484614$-->Start coding or <span role="button" class="link">generate</span> with AI.</div></template></colab-read-only-cell-placeholder></pre></div><colab-form class="formview vertical layout flex"><div class="widget-area vertical layout"></div></colab-form></div>
    <div class="output" aria-label="Cell 18 output" role="region"><!----> <div class="output-header"> </div>
        <div class="output-content" hidden="">
          <div class="output-info"> </div>
          <div class="output-iframe-container" hidden="">
            <div class="output-iframe-sizer"> </div>
          </div>
        </div></div></div><colab-cell-next-steps><template shadowrootmode="open"><!----></template></colab-cell-next-steps></div></div><div class="add-cell">
      <hr>
    </div></div><div class="cell code icon-scrolling" id="cell-ef52b73b" role="region" aria-label="Cell 19: Code cell: " style=""><div class="cell-tag-editor sticky"></div><div class="cell-toolbar sticky"></div><div class="main-content" elevation="0"><div class="cell-contents"><div class="cell-mask"></div><span class="imported-info-area"></span><div class="codecell-input-output">
      <div class="inputarea horizontal layout code">
        <div class="cell-gutter">
          <!-- Bounding range for vertical scrolling of icons -->
          <div class="cell-execution-container">
            <colab-run-button title="Run cell (Ctrl+Enter)
cell has not been executed in this session"><template shadowrootmode="open"><!----> <div class=" cell-execution stale ">
      <button id="run-button" aria-label="Run cell" tabindex="-1">
        <span class="execution-count"><!--?lit$896484614$-->[ ]</span>
        <span aria-hidden="true" class="cell-execution-indicator"><!--?lit$896484614$-->
<svg xmlns="http://www.w3.org/2000/svg" viewBox="0 0 24 24">
  <!--?lit$896484614$-->
  <mask id="playSymbolMask">
    <rect width="100%" height="100%" fill="white"></rect>
    <polygon points="10,8 17,12 10,16" fill="black"></polygon>
  </mask>
  <circle cx="12" cy="12" r="7.8" mask="url(#playSymbolMask)" id="filledCircle"></circle>
</svg></span>
      </button>
      <!--?lit$896484614$--> <!--?lit$896484614$--><!--?-->
    </div></template></colab-run-button>
          </div>
        </div>
      <div class="editor flex lazy-editor" style=""><pre class="lazy-virtualized" style="font-size: 14px; line-height: 19px;"><pre class="lazy-gutter"></pre><pre class="monaco-colorized colab colab" data-lang="notebook-python"><span><span class="mtk1">train_x,&nbsp;test_x,&nbsp;train_y,&nbsp;test_y&nbsp;=&nbsp;split_dataset(d</span><span class="mtk1">f,&nbsp;X,&nbsp;y)</span></span><br></pre><colab-read-only-cell-placeholder style="display: none;"><template shadowrootmode="open"><!----><div><!--?lit$896484614$-->Start coding or <span role="button" class="link">generate</span> with AI.</div></template></colab-read-only-cell-placeholder></pre></div><colab-form class="formview vertical layout flex"><div class="widget-area vertical layout"></div></colab-form></div>
    <div class="output" aria-label="Cell 19 output" role="region"><!----> <div class="output-header"> </div>
        <div class="output-content" hidden="">
          <div class="output-info"> </div>
          <div class="output-iframe-container" hidden="">
            <div class="output-iframe-sizer"> </div>
          </div>
        </div></div></div><colab-cell-next-steps><template shadowrootmode="open"><!----></template></colab-cell-next-steps></div></div><div class="add-cell">
      <hr>
    </div></div><div class="cell code icon-scrolling" id="cell-cd0e75e0" role="region" aria-label="Cell 20: Code cell: " style=""><div class="cell-tag-editor sticky"></div><div class="cell-toolbar sticky"></div><div class="main-content" elevation="0"><div class="cell-contents"><div class="cell-mask"></div><span class="imported-info-area"></span><div class="codecell-input-output">
      <div class="inputarea horizontal layout code">
        <div class="cell-gutter">
          <!-- Bounding range for vertical scrolling of icons -->
          <div class="cell-execution-container">
            <colab-run-button title="Run cell (Ctrl+Enter)
cell has not been executed in this session"><template shadowrootmode="open"><!----> <div class=" cell-execution stale ">
      <button id="run-button" aria-label="Run cell" tabindex="-1">
        <span class="execution-count"><!--?lit$896484614$-->[ ]</span>
        <span aria-hidden="true" class="cell-execution-indicator"><!--?lit$896484614$-->
<svg xmlns="http://www.w3.org/2000/svg" viewBox="0 0 24 24">
  <!--?lit$896484614$-->
  <mask id="playSymbolMask">
    <rect width="100%" height="100%" fill="white"></rect>
    <polygon points="10,8 17,12 10,16" fill="black"></polygon>
  </mask>
  <circle cx="12" cy="12" r="7.8" mask="url(#playSymbolMask)" id="filledCircle"></circle>
</svg></span>
      </button>
      <!--?lit$896484614$--> <!--?lit$896484614$--><!--?-->
    </div></template></colab-run-button>
          </div>
        </div>
      <div class="editor flex lazy-editor" style=""><pre class="lazy-virtualized" style="font-size: 14px; line-height: 19px;"><pre class="lazy-gutter"></pre><pre class="monaco-colorized colab colab" data-lang="notebook-python"><span><span class="mtk6">def</span><span class="mtk1">&nbsp;</span><span class="mtk15">create_features_count</span><span class="mtk1">(</span><span class="mtk16">train_x</span><span class="mtk1">,&nbsp;</span><span class="mtk16">test_x</span><span class="mtk1">):</span></span><br><span><span class="mtk1">&nbsp;&nbsp;</span><span class="mtk8">#&nbsp;Count&nbsp;Vectors</span></span><br><span><span class="mtk1">&nbsp;&nbsp;vectorizer&nbsp;=&nbsp;CountVectorizer()</span></span><br><span><span class="mtk1">&nbsp;&nbsp;x_train_count_vectorizer&nbsp;=&nbsp;vectorizer.fit_transf</span><span class="mtk1">orm(train_x)</span></span><br><span><span class="mtk1">&nbsp;&nbsp;x_test_count_vectorizer&nbsp;=&nbsp;vectorizer.fit_transfo</span><span class="mtk1">rm(test_x)</span></span><br><span><span></span></span><br><span><span class="mtk1">&nbsp;&nbsp;</span><span class="mtk19">return</span><span class="mtk1">&nbsp;x_train_count_vectorizer,&nbsp;x_test_count_vectorizer</span></span><br></pre><colab-read-only-cell-placeholder style="display: none;"><template shadowrootmode="open"><!----><div><!--?lit$896484614$-->Start coding or <span role="button" class="link">generate</span> with AI.</div></template></colab-read-only-cell-placeholder></pre></div><colab-form class="formview vertical layout flex"><div class="widget-area vertical layout"></div></colab-form></div>
    <div class="output" aria-label="Cell 20 output" role="region"><!----> <div class="output-header"> </div>
        <div class="output-content" hidden="">
          <div class="output-info"> </div>
          <div class="output-iframe-container" hidden="">
            <div class="output-iframe-sizer"> </div>
          </div>
        </div></div></div><colab-cell-next-steps><template shadowrootmode="open"><!----></template></colab-cell-next-steps></div></div><div class="add-cell">
      <hr>
    </div></div><div class="cell code icon-scrolling" id="cell-fae9153f" role="region" aria-label="Cell 21: Code cell: " style=""><div class="cell-tag-editor sticky"></div><div class="cell-toolbar sticky"></div><div class="main-content" elevation="0"><div class="cell-contents"><div class="cell-mask"></div><span class="imported-info-area"></span><div class="codecell-input-output">
      <div class="inputarea horizontal layout code">
        <div class="cell-gutter">
          <!-- Bounding range for vertical scrolling of icons -->
          <div class="cell-execution-container">
            <colab-run-button title="Run cell (Ctrl+Enter)
cell has not been executed in this session"><template shadowrootmode="open"><!----> <div class=" cell-execution stale ">
      <button id="run-button" aria-label="Run cell" tabindex="-1">
        <span class="execution-count"><!--?lit$896484614$-->[ ]</span>
        <span aria-hidden="true" class="cell-execution-indicator"><!--?lit$896484614$-->
<svg xmlns="http://www.w3.org/2000/svg" viewBox="0 0 24 24">
  <!--?lit$896484614$-->
  <mask id="playSymbolMask">
    <rect width="100%" height="100%" fill="white"></rect>
    <polygon points="10,8 17,12 10,16" fill="black"></polygon>
  </mask>
  <circle cx="12" cy="12" r="7.8" mask="url(#playSymbolMask)" id="filledCircle"></circle>
</svg></span>
      </button>
      <!--?lit$896484614$--> <!--?lit$896484614$--><!--?-->
    </div></template></colab-run-button>
          </div>
        </div>
      <div class="editor flex lazy-editor" style=""><pre class="lazy-virtualized" style="font-size: 14px; line-height: 19px;"><pre class="lazy-gutter"></pre><pre class="monaco-colorized colab colab" data-lang="notebook-python"><span><span class="mtk1">x_train_count_vectorizer,&nbsp;x_test_count_vectorizer&nbsp;</span><span class="mtk1">=&nbsp;create_features_count(train_x,&nbsp;test_x)</span></span><br></pre><colab-read-only-cell-placeholder style="display: none;"><template shadowrootmode="open"><!----><div><!--?lit$896484614$-->Start coding or <span role="button" class="link">generate</span> with AI.</div></template></colab-read-only-cell-placeholder></pre></div><colab-form class="formview vertical layout flex"><div class="widget-area vertical layout"></div></colab-form></div>
    <div class="output" aria-label="Cell 21 output" role="region"><!----> <div class="output-header"> </div>
        <div class="output-content" hidden="">
          <div class="output-info"> </div>
          <div class="output-iframe-container" hidden="">
            <div class="output-iframe-sizer"> </div>
          </div>
        </div></div></div><colab-cell-next-steps><template shadowrootmode="open"><!----></template></colab-cell-next-steps></div></div><div class="add-cell">
      <hr>
    </div></div><div class="cell code icon-scrolling" id="cell-a8803a1f" role="region" aria-label="Cell 22: Code cell: " style=""><div class="cell-tag-editor sticky"></div><div class="cell-toolbar sticky"></div><div class="main-content" elevation="0"><div class="cell-contents"><div class="cell-mask"></div><span class="imported-info-area"></span><div class="codecell-input-output">
      <div class="inputarea horizontal layout code">
        <div class="cell-gutter">
          <!-- Bounding range for vertical scrolling of icons -->
          <div class="cell-execution-container">
            <colab-run-button title="Run cell (Ctrl+Enter)
cell has not been executed in this session"><template shadowrootmode="open"><!----> <div class=" cell-execution stale ">
      <button id="run-button" aria-label="Run cell" tabindex="-1">
        <span class="execution-count"><!--?lit$896484614$-->[ ]</span>
        <span aria-hidden="true" class="cell-execution-indicator"><!--?lit$896484614$-->
<svg xmlns="http://www.w3.org/2000/svg" viewBox="0 0 24 24">
  <!--?lit$896484614$-->
  <mask id="playSymbolMask">
    <rect width="100%" height="100%" fill="white"></rect>
    <polygon points="10,8 17,12 10,16" fill="black"></polygon>
  </mask>
  <circle cx="12" cy="12" r="7.8" mask="url(#playSymbolMask)" id="filledCircle"></circle>
</svg></span>
      </button>
      <!--?lit$896484614$--> <!--?lit$896484614$--><!--?-->
    </div></template></colab-run-button>
          </div>
        </div>
      <div class="editor flex lazy-editor" style=""><pre class="lazy-virtualized" style="font-size: 14px; line-height: 19px;"><pre class="lazy-gutter"></pre><pre class="monaco-colorized colab colab" data-lang="notebook-python"><span><span class="mtk6">def</span><span class="mtk1">&nbsp;</span><span class="mtk15">create_features_TFIDF_word</span><span class="mtk1">(</span><span class="mtk16">train_x</span><span class="mtk1">,&nbsp;</span><span class="mtk16">test_x</span><span class="mtk1">):</span></span><br><span><span class="mtk1">&nbsp;&nbsp;</span><span class="mtk8">#&nbsp;TF-IDF&nbsp;word</span></span><br><span><span class="mtk1">&nbsp;&nbsp;tf_idf_word_vectorizer&nbsp;=&nbsp;TfidfVectorizer()</span></span><br><span><span class="mtk1">&nbsp;&nbsp;x_train_tf_idf_word&nbsp;=&nbsp;tf_idf_word_vectorizer.fit</span><span class="mtk1">_transform(train_x)</span></span><br><span><span class="mtk1">&nbsp;&nbsp;x_test_tf_idf_word&nbsp;=&nbsp;tf_idf_word_vectorizer.fit_</span><span class="mtk1">transform(test_x)</span></span><br><span><span></span></span><br><span><span class="mtk1">&nbsp;&nbsp;</span><span class="mtk19">return</span><span class="mtk1">&nbsp;x_train_tf_idf_word,&nbsp;x_test_tf_idf_word</span></span><br></pre><colab-read-only-cell-placeholder style="display: none;"><template shadowrootmode="open"><!----><div><!--?lit$896484614$-->Start coding or <span role="button" class="link">generate</span> with AI.</div></template></colab-read-only-cell-placeholder></pre></div><colab-form class="formview vertical layout flex"><div class="widget-area vertical layout"></div></colab-form></div>
    <div class="output" aria-label="Cell 22 output" role="region"><!----> <div class="output-header"> </div>
        <div class="output-content" hidden="">
          <div class="output-info"> </div>
          <div class="output-iframe-container" hidden="">
            <div class="output-iframe-sizer"> </div>
          </div>
        </div></div></div><colab-cell-next-steps><template shadowrootmode="open"><!----></template></colab-cell-next-steps></div></div><div class="add-cell">
      <hr>
    </div></div><div class="cell code icon-scrolling" id="cell-a1111d31" role="region" aria-label="Cell 23: Code cell: " style=""><div class="cell-tag-editor sticky"></div><div class="cell-toolbar sticky"></div><div class="main-content" elevation="0"><div class="cell-contents"><div class="cell-mask"></div><span class="imported-info-area"></span><div class="codecell-input-output">
      <div class="inputarea horizontal layout code">
        <div class="cell-gutter">
          <!-- Bounding range for vertical scrolling of icons -->
          <div class="cell-execution-container">
            <colab-run-button title="Run cell (Ctrl+Enter)
cell has not been executed in this session"><template shadowrootmode="open"><!----> <div class=" cell-execution stale ">
      <button id="run-button" aria-label="Run cell" tabindex="-1">
        <span class="execution-count"><!--?lit$896484614$-->[ ]</span>
        <span aria-hidden="true" class="cell-execution-indicator"><!--?lit$896484614$-->
<svg xmlns="http://www.w3.org/2000/svg" viewBox="0 0 24 24">
  <!--?lit$896484614$-->
  <mask id="playSymbolMask">
    <rect width="100%" height="100%" fill="white"></rect>
    <polygon points="10,8 17,12 10,16" fill="black"></polygon>
  </mask>
  <circle cx="12" cy="12" r="7.8" mask="url(#playSymbolMask)" id="filledCircle"></circle>
</svg></span>
      </button>
      <!--?lit$896484614$--> <!--?lit$896484614$--><!--?-->
    </div></template></colab-run-button>
          </div>
        </div>
      <div class="editor flex lazy-editor" style=""><pre class="lazy-virtualized" style="font-size: 14px; line-height: 19px;"><pre class="lazy-gutter"></pre><pre class="monaco-colorized colab colab" data-lang="notebook-python"><span><span class="mtk1">x_train_tf_idf_word,&nbsp;x_test_tf_idf_word&nbsp;=&nbsp;create_f</span><span class="mtk1">eatures_TFIDF_word(train_x,&nbsp;test_x)</span></span><br></pre><colab-read-only-cell-placeholder style="display: none;"><template shadowrootmode="open"><!----><div><!--?lit$896484614$-->Start coding or <span role="button" class="link">generate</span> with AI.</div></template></colab-read-only-cell-placeholder></pre></div><colab-form class="formview vertical layout flex"><div class="widget-area vertical layout"></div></colab-form></div>
    <div class="output" aria-label="Cell 23 output" role="region"><!----> <div class="output-header"> </div>
        <div class="output-content" hidden="">
          <div class="output-info"> </div>
          <div class="output-iframe-container" hidden="">
            <div class="output-iframe-sizer"> </div>
          </div>
        </div></div></div><colab-cell-next-steps><template shadowrootmode="open"><!----></template></colab-cell-next-steps></div></div><div class="add-cell">
      <hr>
    </div></div><div class="cell code icon-scrolling" id="cell-7eea3d50" role="region" aria-label="Cell 24: Code cell: " style=""><div class="cell-tag-editor sticky"></div><div class="cell-toolbar sticky"></div><div class="main-content" elevation="0"><div class="cell-contents"><div class="cell-mask"></div><span class="imported-info-area"></span><div class="codecell-input-output">
      <div class="inputarea horizontal layout code">
        <div class="cell-gutter">
          <!-- Bounding range for vertical scrolling of icons -->
          <div class="cell-execution-container">
            <colab-run-button title="Run cell (Ctrl+Enter)
cell has not been executed in this session"><template shadowrootmode="open"><!----> <div class=" cell-execution stale ">
      <button id="run-button" aria-label="Run cell" tabindex="-1">
        <span class="execution-count"><!--?lit$896484614$-->[ ]</span>
        <span aria-hidden="true" class="cell-execution-indicator"><!--?lit$896484614$-->
<svg xmlns="http://www.w3.org/2000/svg" viewBox="0 0 24 24">
  <!--?lit$896484614$-->
  <mask id="playSymbolMask">
    <rect width="100%" height="100%" fill="white"></rect>
    <polygon points="10,8 17,12 10,16" fill="black"></polygon>
  </mask>
  <circle cx="12" cy="12" r="7.8" mask="url(#playSymbolMask)" id="filledCircle"></circle>
</svg></span>
      </button>
      <!--?lit$896484614$--> <!--?lit$896484614$--><!--?-->
    </div></template></colab-run-button>
          </div>
        </div>
      <div class="editor flex lazy-editor" style=""><pre class="lazy-virtualized" style="font-size: 14px; line-height: 19px;"><pre class="lazy-gutter"></pre><pre class="monaco-colorized colab colab" data-lang="notebook-python"><span><span class="mtk6">def</span><span class="mtk1">&nbsp;</span><span class="mtk15">create_features_TFIDF_ngram</span><span class="mtk1">(</span><span class="mtk16">train_x</span><span class="mtk1">,&nbsp;</span><span class="mtk16">test_x</span><span class="mtk1">):</span></span><br><span><span class="mtk1">&nbsp;&nbsp;</span><span class="mtk8">#&nbsp;TF-IDF&nbsp;ngram</span></span><br><span><span class="mtk1">&nbsp;&nbsp;tf_idf_ngram_vectorizer&nbsp;=&nbsp;TfidfVectorizer(ngram_</span><span class="mtk1">range=(</span><span class="mtk12">2</span><span class="mtk1">,</span><span class="mtk12">3</span><span class="mtk1">))</span></span><br><span><span class="mtk1">&nbsp;&nbsp;x_train_tf_idf_ngram&nbsp;=&nbsp;tf_idf_ngram_vectorizer.f</span><span class="mtk1">it_transform(train_x)</span></span><br><span><span class="mtk1">&nbsp;&nbsp;x_test_tf_idf_ngram&nbsp;=&nbsp;tf_idf_ngram_vectorizer.fi</span><span class="mtk1">t_transform(test_x)</span></span><br><span><span></span></span><br><span><span class="mtk1">&nbsp;&nbsp;</span><span class="mtk19">return</span><span class="mtk1">&nbsp;x_train_tf_idf_ngram,&nbsp;x_test_tf_idf_ngram</span></span><br></pre><colab-read-only-cell-placeholder style="display: none;"><template shadowrootmode="open"><!----><div><!--?lit$896484614$-->Start coding or <span role="button" class="link">generate</span> with AI.</div></template></colab-read-only-cell-placeholder></pre></div><colab-form class="formview vertical layout flex"><div class="widget-area vertical layout"></div></colab-form></div>
    <div class="output" aria-label="Cell 24 output" role="region"><!----> <div class="output-header"> </div>
        <div class="output-content" hidden="">
          <div class="output-info"> </div>
          <div class="output-iframe-container" hidden="">
            <div class="output-iframe-sizer"> </div>
          </div>
        </div></div></div><colab-cell-next-steps><template shadowrootmode="open"><!----></template></colab-cell-next-steps></div></div><div class="add-cell">
      <hr>
    </div></div><div class="cell code icon-scrolling" id="cell-855efee6" role="region" aria-label="Cell 25: Code cell: " style=""><div class="cell-tag-editor sticky"></div><div class="cell-toolbar sticky"></div><div class="main-content" elevation="0"><div class="cell-contents"><div class="cell-mask"></div><span class="imported-info-area"></span><div class="codecell-input-output">
      <div class="inputarea horizontal layout code">
        <div class="cell-gutter">
          <!-- Bounding range for vertical scrolling of icons -->
          <div class="cell-execution-container">
            <colab-run-button title="Run cell (Ctrl+Enter)
cell has not been executed in this session"><template shadowrootmode="open"><!----> <div class=" cell-execution stale ">
      <button id="run-button" aria-label="Run cell" tabindex="-1">
        <span class="execution-count"><!--?lit$896484614$-->[ ]</span>
        <span aria-hidden="true" class="cell-execution-indicator"><!--?lit$896484614$-->
<svg xmlns="http://www.w3.org/2000/svg" viewBox="0 0 24 24">
  <!--?lit$896484614$-->
  <mask id="playSymbolMask">
    <rect width="100%" height="100%" fill="white"></rect>
    <polygon points="10,8 17,12 10,16" fill="black"></polygon>
  </mask>
  <circle cx="12" cy="12" r="7.8" mask="url(#playSymbolMask)" id="filledCircle"></circle>
</svg></span>
      </button>
      <!--?lit$896484614$--> <!--?lit$896484614$--><!--?-->
    </div></template></colab-run-button>
          </div>
        </div>
      <div class="editor flex lazy-editor" style=""><pre class="lazy-virtualized" style="font-size: 14px; line-height: 19px;"><pre class="lazy-gutter"></pre><pre class="monaco-colorized colab colab" data-lang="notebook-python"><span><span class="mtk1">x_train_tf_idf_ngram,&nbsp;x_test_tf_idf_ngram&nbsp;=&nbsp;create</span><span class="mtk1">_features_TFIDF_ngram(train_x,&nbsp;test_x)</span></span><br></pre><colab-read-only-cell-placeholder style="display: none;"><template shadowrootmode="open"><!----><div><!--?lit$896484614$-->Start coding or <span role="button" class="link">generate</span> with AI.</div></template></colab-read-only-cell-placeholder></pre></div><colab-form class="formview vertical layout flex"><div class="widget-area vertical layout"></div></colab-form></div>
    <div class="output" aria-label="Cell 25 output" role="region"><!----> <div class="output-header"> </div>
        <div class="output-content" hidden="">
          <div class="output-info"> </div>
          <div class="output-iframe-container" hidden="">
            <div class="output-iframe-sizer"> </div>
          </div>
        </div></div></div><colab-cell-next-steps><template shadowrootmode="open"><!----></template></colab-cell-next-steps></div></div><div class="add-cell">
      <hr>
    </div></div><div class="cell code icon-scrolling" id="cell-4e25693e" role="region" aria-label="Cell 26: Code cell: " style=""><div class="cell-tag-editor sticky"></div><div class="cell-toolbar sticky"></div><div class="main-content" elevation="0"><div class="cell-contents"><div class="cell-mask"></div><span class="imported-info-area"></span><div class="codecell-input-output">
      <div class="inputarea horizontal layout code">
        <div class="cell-gutter">
          <!-- Bounding range for vertical scrolling of icons -->
          <div class="cell-execution-container">
            <colab-run-button title="Run cell (Ctrl+Enter)
cell has not been executed in this session"><template shadowrootmode="open"><!----> <div class=" cell-execution stale ">
      <button id="run-button" aria-label="Run cell" tabindex="-1">
        <span class="execution-count"><!--?lit$896484614$-->[ ]</span>
        <span aria-hidden="true" class="cell-execution-indicator"><!--?lit$896484614$-->
<svg xmlns="http://www.w3.org/2000/svg" viewBox="0 0 24 24">
  <!--?lit$896484614$-->
  <mask id="playSymbolMask">
    <rect width="100%" height="100%" fill="white"></rect>
    <polygon points="10,8 17,12 10,16" fill="black"></polygon>
  </mask>
  <circle cx="12" cy="12" r="7.8" mask="url(#playSymbolMask)" id="filledCircle"></circle>
</svg></span>
      </button>
      <!--?lit$896484614$--> <!--?lit$896484614$--><!--?-->
    </div></template></colab-run-button>
          </div>
        </div>
      <div class="editor flex lazy-editor" style=""><pre class="lazy-virtualized" style="font-size: 14px; line-height: 19px;"><pre class="lazy-gutter"></pre><pre class="monaco-colorized colab colab" data-lang="notebook-python"><span><span class="mtk6">def</span><span class="mtk1">&nbsp;</span><span class="mtk15">create_features_TFIDF_chars</span><span class="mtk1">(</span><span class="mtk16">train_x</span><span class="mtk1">,&nbsp;</span><span class="mtk16">test_x</span><span class="mtk1">):</span></span><br><span><span class="mtk1">&nbsp;&nbsp;</span><span class="mtk8">#&nbsp;TF-IDF&nbsp;Characters</span></span><br><span><span class="mtk1">&nbsp;&nbsp;tf_idf_chars_vectorizer&nbsp;=&nbsp;TfidfVectorizer(analyz</span><span class="mtk1">er=</span><span class="mtk26">"char"</span><span class="mtk1">,&nbsp;ngram_range=(</span><span class="mtk12">2</span><span class="mtk1">,</span><span class="mtk12">3</span><span class="mtk1">))</span></span><br><span><span class="mtk1">&nbsp;&nbsp;x_train_tf_idf_chars&nbsp;=&nbsp;tf_idf_chars_vectorizer.f</span><span class="mtk1">it_transform(train_x)</span></span><br><span><span class="mtk1">&nbsp;&nbsp;x_test_tf_idf_chars&nbsp;=&nbsp;tf_idf_chars_vectorizer.fi</span><span class="mtk1">t_transform(test_x)</span></span><br><span><span></span></span><br><span><span class="mtk1">&nbsp;&nbsp;</span><span class="mtk19">return</span><span class="mtk1">&nbsp;x_train_tf_idf_chars,&nbsp;x_test_tf_idf_chars</span></span><br></pre><colab-read-only-cell-placeholder style="display: none;"><template shadowrootmode="open"><!----><div><!--?lit$896484614$-->Start coding or <span role="button" class="link">generate</span> with AI.</div></template></colab-read-only-cell-placeholder></pre></div><colab-form class="formview vertical layout flex"><div class="widget-area vertical layout"></div></colab-form></div>
    <div class="output" aria-label="Cell 26 output" role="region"><!----> <div class="output-header"> </div>
        <div class="output-content" hidden="">
          <div class="output-info"> </div>
          <div class="output-iframe-container" hidden="">
            <div class="output-iframe-sizer"> </div>
          </div>
        </div></div></div><colab-cell-next-steps><template shadowrootmode="open"><!----></template></colab-cell-next-steps></div></div><div class="add-cell">
      <hr>
    </div></div><div class="cell code icon-scrolling" id="cell-6618b4cf" role="region" aria-label="Cell 27: Code cell: " style=""><div class="cell-tag-editor sticky"></div><div class="cell-toolbar sticky"></div><div class="main-content" elevation="0"><div class="cell-contents"><div class="cell-mask"></div><span class="imported-info-area"></span><div class="codecell-input-output">
      <div class="inputarea horizontal layout code">
        <div class="cell-gutter">
          <!-- Bounding range for vertical scrolling of icons -->
          <div class="cell-execution-container">
            <colab-run-button title="Run cell (Ctrl+Enter)
cell has not been executed in this session"><template shadowrootmode="open"><!----> <div class=" cell-execution stale ">
      <button id="run-button" aria-label="Run cell" tabindex="-1">
        <span class="execution-count"><!--?lit$896484614$-->[ ]</span>
        <span aria-hidden="true" class="cell-execution-indicator"><!--?lit$896484614$-->
<svg xmlns="http://www.w3.org/2000/svg" viewBox="0 0 24 24">
  <!--?lit$896484614$-->
  <mask id="playSymbolMask">
    <rect width="100%" height="100%" fill="white"></rect>
    <polygon points="10,8 17,12 10,16" fill="black"></polygon>
  </mask>
  <circle cx="12" cy="12" r="7.8" mask="url(#playSymbolMask)" id="filledCircle"></circle>
</svg></span>
      </button>
      <!--?lit$896484614$--> <!--?lit$896484614$--><!--?-->
    </div></template></colab-run-button>
          </div>
        </div>
      <div class="editor flex lazy-editor" style=""><pre class="lazy-virtualized" style="font-size: 14px; line-height: 19px;"><pre class="lazy-gutter"></pre><pre class="monaco-colorized colab colab" data-lang="notebook-python"><span><span class="mtk1">x_train_tf_idf_chars,&nbsp;x_test_tf_idf_chars&nbsp;=&nbsp;create</span><span class="mtk1">_features_TFIDF_chars(train_x,&nbsp;test_x)</span></span><br></pre><colab-read-only-cell-placeholder style="display: none;"><template shadowrootmode="open"><!----><div><!--?lit$896484614$-->Start coding or <span role="button" class="link">generate</span> with AI.</div></template></colab-read-only-cell-placeholder></pre></div><colab-form class="formview vertical layout flex"><div class="widget-area vertical layout"></div></colab-form></div>
    <div class="output" aria-label="Cell 27 output" role="region"><!----> <div class="output-header"> </div>
        <div class="output-content" hidden="">
          <div class="output-info"> </div>
          <div class="output-iframe-container" hidden="">
            <div class="output-iframe-sizer"> </div>
          </div>
        </div></div></div><colab-cell-next-steps><template shadowrootmode="open"><!----></template></colab-cell-next-steps></div></div><div class="add-cell">
      <hr>
    </div></div><div class="cell text" id="cell-26856af0" role="region" aria-label="Cell 28: Text cell: Sentiment Modeling - Create Model" style=""><div class="cell-tag-editor sticky"></div><div class="cell-toolbar sticky"></div><div class="main-content" elevation="0"><div class="cell-contents"><div class="cell-mask"></div><span class="imported-info-area"></span><!----> <div class="toolbar-root"></div>
      <div class="editor-container horizontal">
        <div class="editor-root"></div>
        <div class="text-top-div">
          <div class="markdown"><span><div class="text-cell-section-header layout horizontal center"><md-icon-button class="header-section-toggle" title="Collapse 2 child cells under Sentiment Modeling - Create Model (Press &lt;Shift&gt; to also collapse sibling sections)" data-aria-label="Collapse 2 child cells under Sentiment Modeling - Create Model (Press &lt;Shift&gt; to also collapse sibling sections)" value=""><template shadowrootmode="open" shadowrootdelegatesfocus><!----><button id="button" class="icon-button  standard " aria-label="Collapse 2 child cells under Sentiment Modeling - Create Model (Press &lt;Shift&gt; to also collapse sibling sections)" tabindex="-1">
        <!--?lit$896484614$--><md-focus-ring part="focus-ring" for="button" aria-hidden="true"><template shadowrootmode="open"><!----></template></md-focus-ring>
        <!--?lit$896484614$--><md-ripple aria-hidden="true"><template shadowrootmode="open"><!----><div class="surface   "></div></template></md-ripple>
        <!--?lit$896484614$--><span class="icon"><slot></slot></span>
        <!--?lit$896484614$-->
        <!--?lit$896484614$--><span class="touch"></span>
        <!--?lit$896484614$-->
  </button></template><md-icon aria-hidden="true"><template shadowrootmode="open"><!----><slot></slot></template>keyboard_arrow_down</md-icon></md-icon-button><h1>Sentiment Modeling - Create Model</h1></div>
</span></div>
        </div>
      </div>

      <div class="section-header" style="display: none;">
        <colab-run-button><template shadowrootmode="open"><!----> <div class=" cell-execution ">
      <button id="run-button" aria-label="Run cell" tabindex="-1">
        <span class="execution-count"><!--?lit$896484614$-->[ ]</span>
        <span aria-hidden="true" class="cell-execution-indicator"><!--?lit$896484614$-->
<svg xmlns="http://www.w3.org/2000/svg" viewBox="0 0 24 24">
  <!--?lit$896484614$-->
  <mask id="playSymbolMask">
    <rect width="100%" height="100%" fill="white"></rect>
    <polygon points="10,8 17,12 10,16" fill="black"></polygon>
  </mask>
  <circle cx="12" cy="12" r="7.8" mask="url(#playSymbolMask)" id="filledCircle"></circle>
</svg></span>
      </button>
      <!--?lit$896484614$--> <!--?lit$896484614$--><!--?-->
    </div></template></colab-run-button>
        <div class="section-header-container" title="click to expand">↳ 2 cells hidden</div>
      </div></div></div><div class="add-cell">
      <hr>
    </div></div><div class="cell code icon-scrolling" id="cell-87ce25b0" role="region" aria-label="Cell 29: Code cell: " style=""><div class="cell-tag-editor sticky"></div><div class="cell-toolbar sticky"></div><div class="main-content" elevation="0"><div class="cell-contents"><div class="cell-mask"></div><span class="imported-info-area"></span><div class="codecell-input-output">
      <div class="inputarea horizontal layout code">
        <div class="cell-gutter">
          <!-- Bounding range for vertical scrolling of icons -->
          <div class="cell-execution-container">
            <colab-run-button title="Run cell (Ctrl+Enter)
cell has not been executed in this session"><template shadowrootmode="open"><!----> <div class=" cell-execution stale ">
      <button id="run-button" aria-label="Run cell" tabindex="-1">
        <span class="execution-count"><!--?lit$896484614$-->[ ]</span>
        <span aria-hidden="true" class="cell-execution-indicator"><!--?lit$896484614$-->
<svg xmlns="http://www.w3.org/2000/svg" viewBox="0 0 24 24">
  <!--?lit$896484614$-->
  <mask id="playSymbolMask">
    <rect width="100%" height="100%" fill="white"></rect>
    <polygon points="10,8 17,12 10,16" fill="black"></polygon>
  </mask>
  <circle cx="12" cy="12" r="7.8" mask="url(#playSymbolMask)" id="filledCircle"></circle>
</svg></span>
      </button>
      <!--?lit$896484614$--> <!--?lit$896484614$--><!--?-->
    </div></template></colab-run-button>
          </div>
        </div>
      <div class="editor flex lazy-editor" style=""><pre class="lazy-virtualized" style="font-size: 14px; line-height: 19px;"><pre class="lazy-gutter"></pre><pre class="monaco-colorized colab colab" data-lang="notebook-python"><span><span class="mtk8">#&nbsp;Random&nbsp;Forest</span></span><br><span><span class="mtk6">def</span><span class="mtk1">&nbsp;</span><span class="mtk15">crate_model_randomforest</span><span class="mtk1">(</span><span class="mtk16">train_x</span><span class="mtk1">,&nbsp;</span><span class="mtk16">test_x</span><span class="mtk1">):</span></span><br><span><span class="mtk1">&nbsp;&nbsp;</span><span class="mtk8">#&nbsp;Count</span></span><br><span><span class="mtk1">&nbsp;&nbsp;x_train_count_vectorizer,&nbsp;x_test_count_vectorize</span><span class="mtk1">r&nbsp;=&nbsp;create_features_count(train_x,&nbsp;test_x)</span></span><br><span><span class="mtk1">&nbsp;&nbsp;rf_count&nbsp;=&nbsp;RandomForestClassifier()</span></span><br><span><span class="mtk1">&nbsp;&nbsp;rf_model_count&nbsp;=&nbsp;rf_count.fit(x_train_count_vect</span><span class="mtk1">orizer,&nbsp;train_y)</span></span><br><span><span class="mtk1">&nbsp;&nbsp;accuracy_count&nbsp;=&nbsp;cross_val_score(rf_model_count,</span><span class="mtk1">&nbsp;x_test_count_vectorizer,&nbsp;test_y,&nbsp;cv=</span><span class="mtk12">10</span><span class="mtk1">).mean()</span></span><br><span><span class="mtk1">&nbsp;&nbsp;</span><span class="mtk15">print</span><span class="mtk1">(</span><span class="mtk26">"Accuracy&nbsp;-&nbsp;Count&nbsp;Vectors:&nbsp;%.3f"</span><span class="mtk1">&nbsp;%&nbsp;accuracy_count)</span></span><br><span><span></span></span><br><span><span class="mtk1">&nbsp;&nbsp;</span><span class="mtk8">#&nbsp;TF-IDF&nbsp;Word</span></span><br><span><span class="mtk1">&nbsp;&nbsp;x_train_tf_idf_word,&nbsp;x_test_tf_idf_word&nbsp;=&nbsp;create</span><span class="mtk1">_features_TFIDF_word(train_x,&nbsp;test_x)</span></span><br><span><span class="mtk1">&nbsp;&nbsp;rf_word&nbsp;=&nbsp;RandomForestClassifier()</span></span><br><span><span class="mtk1">&nbsp;&nbsp;rf_model_word&nbsp;=&nbsp;rf_word.fit(x_train_tf_idf_word,</span><span class="mtk1">&nbsp;train_y)</span></span><br><span><span class="mtk1">&nbsp;&nbsp;accuracy_word&nbsp;=&nbsp;cross_val_score(rf_model_word,&nbsp;x</span><span class="mtk1">_test_tf_idf_word,&nbsp;test_y,&nbsp;cv=</span><span class="mtk12">10</span><span class="mtk1">).mean()</span></span><br><span><span class="mtk1">&nbsp;&nbsp;</span><span class="mtk15">print</span><span class="mtk1">(</span><span class="mtk26">"Accuracy&nbsp;-&nbsp;TF-IDF&nbsp;Word:&nbsp;%.3f"</span><span class="mtk1">&nbsp;%&nbsp;accuracy_word)</span></span><br><span><span></span></span><br><span><span class="mtk1">&nbsp;&nbsp;</span><span class="mtk8">#&nbsp;TF-IDF&nbsp;ngram</span></span><br><span><span class="mtk1">&nbsp;&nbsp;x_train_tf_idf_ngram,&nbsp;x_test_tf_idf_ngram&nbsp;=&nbsp;crea</span><span class="mtk1">te_features_TFIDF_ngram(train_x,&nbsp;test_x)</span></span><br><span><span class="mtk1">&nbsp;&nbsp;rf_ngram&nbsp;=&nbsp;RandomForestClassifier()</span></span><br><span><span class="mtk1">&nbsp;&nbsp;rf_model_ngram&nbsp;=&nbsp;rf_ngram.fit(x_train_tf_idf_ngr</span><span class="mtk1">am,&nbsp;train_y)</span></span><br><span><span class="mtk1">&nbsp;&nbsp;accuracy_ngram&nbsp;=&nbsp;cross_val_score(rf_model_ngram,</span><span class="mtk1">&nbsp;x_test_tf_idf_ngram,&nbsp;test_y,&nbsp;cv=</span><span class="mtk12">10</span><span class="mtk1">).mean()</span></span><br><span><span class="mtk1">&nbsp;&nbsp;</span><span class="mtk15">print</span><span class="mtk1">(</span><span class="mtk26">"Accuracy&nbsp;TF-IDF&nbsp;ngram:&nbsp;%.3f"</span><span class="mtk1">&nbsp;%&nbsp;accuracy_ngram)</span></span><br><span><span></span></span><br><span><span class="mtk1">&nbsp;&nbsp;</span><span class="mtk8">#&nbsp;TF-IDF&nbsp;chars</span></span><br><span><span></span></span><br><span><span class="mtk1">&nbsp;&nbsp;rf_chars&nbsp;=&nbsp;RandomForestClassifier()</span></span><br><span><span class="mtk1">&nbsp;&nbsp;rf_model_chars&nbsp;=&nbsp;rf_chars.fit(x_train_tf_idf_cha</span><span class="mtk1">rs,&nbsp;train_y)</span></span><br><span><span class="mtk1">&nbsp;&nbsp;accuracy_chars&nbsp;=&nbsp;cross_val_score(rf_model_chars,</span><span class="mtk1">&nbsp;x_test_tf_idf_chars,&nbsp;test_y,&nbsp;cv=</span><span class="mtk12">10</span><span class="mtk1">).mean()</span></span><br><span><span class="mtk1">&nbsp;&nbsp;</span><span class="mtk15">print</span><span class="mtk1">(</span><span class="mtk26">"Accuracy&nbsp;TF-IDF&nbsp;Characters:&nbsp;%.3f"</span><span class="mtk1">&nbsp;%&nbsp;accuracy_chars)</span></span><br><span><span></span></span><br><span><span class="mtk1">&nbsp;&nbsp;</span><span class="mtk19">return</span><span class="mtk1">&nbsp;rf_model_count,&nbsp;rf_model_word,&nbsp;rf_model_ngram,&nbsp;rf</span><span class="mtk1">_model_chars</span></span><br></pre><colab-read-only-cell-placeholder style="display: none;"><template shadowrootmode="open"><!----><div><!--?lit$896484614$-->Start coding or <span role="button" class="link">generate</span> with AI.</div></template></colab-read-only-cell-placeholder></pre></div><colab-form class="formview vertical layout flex"><div class="widget-area vertical layout"></div></colab-form></div>
    <div class="output" aria-label="Cell 29 output" role="region"><!----> <div class="output-header"> </div>
        <div class="output-content" hidden="">
          <div class="output-info"> </div>
          <div class="output-iframe-container" hidden="">
            <div class="output-iframe-sizer"> </div>
          </div>
        </div></div></div><colab-cell-next-steps><template shadowrootmode="open"><!----></template></colab-cell-next-steps></div></div><div class="add-cell">
      <hr>
    </div></div><div class="cell code code-has-output icon-scrolling" id="cell-9a811297" role="region" aria-label="Cell 30: Code cell: " style=""><div class="cell-tag-editor sticky"></div><div class="cell-toolbar sticky"></div><div class="main-content" elevation="0"><div class="cell-contents"><div class="cell-mask"></div><span class="imported-info-area"></span><div class="codecell-input-output">
      <div class="inputarea horizontal layout code">
        <div class="cell-gutter">
          <!-- Bounding range for vertical scrolling of icons -->
          <div class="cell-execution-container">
            <colab-run-button title="Run cell (Ctrl+Enter)
cell has not been executed in this session

executed at unknown time"><template shadowrootmode="open"><!----> <div class=" cell-execution stale ">
      <button id="run-button" aria-label="Run cell" tabindex="-1">
        <span class="execution-count"><!--?lit$896484614$-->[ ]</span>
        <span aria-hidden="true" class="cell-execution-indicator"><!--?lit$896484614$-->
<svg xmlns="http://www.w3.org/2000/svg" viewBox="0 0 24 24">
  <!--?lit$896484614$-->
  <mask id="playSymbolMask">
    <rect width="100%" height="100%" fill="white"></rect>
    <polygon points="10,8 17,12 10,16" fill="black"></polygon>
  </mask>
  <circle cx="12" cy="12" r="7.8" mask="url(#playSymbolMask)" id="filledCircle"></circle>
</svg></span>
      </button>
      <!--?lit$896484614$--> <!--?lit$896484614$--><!--?-->
    </div></template></colab-run-button>
          </div>
        </div>
      <div class="editor flex lazy-editor" style=""><pre class="lazy-virtualized" style="font-size: 14px; line-height: 19px;"><pre class="lazy-gutter"></pre><pre class="monaco-colorized colab colab" data-lang="notebook-python"><span><span class="mtk1">rf_model_count,&nbsp;rf_model_word,&nbsp;rf_model_ngram,&nbsp;rf_</span><span class="mtk1">model_chars&nbsp;=&nbsp;crate_model_randomforest(train_x,&nbsp;te</span><span class="mtk1">st_x)</span></span><br></pre><colab-read-only-cell-placeholder style="display: none;"><template shadowrootmode="open"><!----><div><!--?lit$896484614$-->Start coding or <span role="button" class="link">generate</span> with AI.</div></template></colab-read-only-cell-placeholder></pre></div><colab-form class="formview vertical layout flex"><div class="widget-area vertical layout"></div></colab-form></div>
    <div class="output" aria-label="Cell 30 output" role="region"><!----> <div class="output-header"> </div>
        <div class="output-content">
          <div class="output-info"><colab-output-info><template shadowrootmode="open"><!----><md-icon-button data-aria-expanded="false" data-aria-haspopup="menu" title="Code cell output actions" data-aria-label="Code cell output actions" value=""><template shadowrootmode="open" shadowrootdelegatesfocus><!----><button id="button" class="icon-button  standard " aria-label="Code cell output actions" aria-haspopup="menu" aria-expanded="false" tabindex="-1">
        <!--?lit$896484614$--><md-focus-ring part="focus-ring" for="button" aria-hidden="true"><template shadowrootmode="open"><!----></template></md-focus-ring>
        <!--?lit$896484614$--><md-ripple aria-hidden="true"><template shadowrootmode="open"><!----><div class="surface   "></div></template></md-ripple>
        <!--?lit$896484614$--><span class="icon"><slot></slot></span>
        <!--?lit$896484614$-->
        <!--?lit$896484614$--><span class="touch"></span>
        <!--?lit$896484614$-->
  </button></template>
      <md-icon aria-hidden="true"><template shadowrootmode="open"><!----><slot></slot></template><!--?lit$896484614$--><svg viewBox="0 0 24 24"><!--?lit$896484614$--><path d="m15.9 3.07c-4.32 0.0742-8.64-0.0355-13 0.0568-1.37 0.307-1.74 2.1-1.41 3.26 0.469 0.606 1.86 0.384 1.66-0.525 0.0448-0.329-0.183-0.93 0.354-0.766h13.3v1.53h1.71c0.0709-1.13 0.141-2.62-0.968-3.3-0.511-0.264-1.11-0.252-1.67-0.259zm2.94 6.84v4.87c1.62-1.62 3.24-3.24 4.87-4.87h-4.87zm0 0h-1.71v3.43l1.57 1.57c0.32-1.65 0.0556-3.34 0.135-5zm-1.71 3.43v-3.43h-3.43c1.14 1.14 2.29 2.29 3.43 3.43zm1.4 4.27h-1.71v1.48h-13.6v-1.48h-1.71c-0.0473 1.15-0.16 2.72 1.09 3.29 1.47 0.506 3.02 0.0265 4.53 0.192 3.34-0.0051 6.68 0.0336 10-0.0245 1.49-0.366 1.56-2.22 1.42-3.45zm-10.1-1.12c-0.398-0.483-0.796-0.967-1.19-1.45 0.59-0.683 1.18-1.37 1.77-2.05h-8.67v-2h8.67c-0.59-0.683-1.18-1.37-1.77-2.05 0.398-0.483 0.796-0.967 1.19-1.45 1.28 1.5 2.56 3 3.84 4.5-1.28 1.5-2.56 3-3.84 4.5z"></path></svg></md-icon>
    </md-icon-button></template></colab-output-info></div>
          <div class="output-iframe-container">
            <div class="output-iframe-sizer"> <div><div><colab-static-output-renderer role="group"><div><div class="stream output_text"><pre>Accuracy - Count Vectors: 1.000
Accuracy - TF-IDF Word: 1.000
Accuracy TF-IDF ngram: 1.000
Accuracy TF-IDF Characters: 1.000
</pre></div></div><div></div></colab-static-output-renderer></div></div></div>
          </div>
        </div></div></div><colab-cell-next-steps><template shadowrootmode="open"><!----></template></colab-cell-next-steps></div></div><div class="add-cell">
      <hr>
    </div></div><div class="cell text" id="cell-a727710a" role="region" aria-label="Cell 31: Text cell: Model Tuning" style=""><div class="cell-tag-editor sticky"></div><div class="cell-toolbar sticky"></div><div class="main-content" elevation="0"><div class="cell-contents"><div class="cell-mask"></div><span class="imported-info-area"></span><!----> <div class="toolbar-root"></div>
      <div class="editor-container horizontal">
        <div class="editor-root"></div>
        <div class="text-top-div">
          <div class="markdown"><span><div class="text-cell-section-header layout horizontal center"><md-icon-button class="header-section-toggle" title="Collapse 2 child cells under Model Tuning (Press &lt;Shift&gt; to also collapse sibling sections)" data-aria-label="Collapse 2 child cells under Model Tuning (Press &lt;Shift&gt; to also collapse sibling sections)" value=""><template shadowrootmode="open" shadowrootdelegatesfocus><!----><button id="button" class="icon-button  standard " aria-label="Collapse 2 child cells under Model Tuning (Press &lt;Shift&gt; to also collapse sibling sections)" tabindex="-1">
        <!--?lit$896484614$--><md-focus-ring part="focus-ring" for="button" aria-hidden="true"><template shadowrootmode="open"><!----></template></md-focus-ring>
        <!--?lit$896484614$--><md-ripple aria-hidden="true"><template shadowrootmode="open"><!----><div class="surface   "></div></template></md-ripple>
        <!--?lit$896484614$--><span class="icon"><slot></slot></span>
        <!--?lit$896484614$-->
        <!--?lit$896484614$--><span class="touch"></span>
        <!--?lit$896484614$-->
  </button></template><md-icon aria-hidden="true"><template shadowrootmode="open"><!----><slot></slot></template>keyboard_arrow_down</md-icon></md-icon-button><h1>Model Tuning</h1></div>
</span></div>
        </div>
      </div>

      <div class="section-header" style="display: none;">
        <colab-run-button><template shadowrootmode="open"><!----> <div class=" cell-execution ">
      <button id="run-button" aria-label="Run cell" tabindex="-1">
        <span class="execution-count"><!--?lit$896484614$-->[ ]</span>
        <span aria-hidden="true" class="cell-execution-indicator"><!--?lit$896484614$-->
<svg xmlns="http://www.w3.org/2000/svg" viewBox="0 0 24 24">
  <!--?lit$896484614$-->
  <mask id="playSymbolMask">
    <rect width="100%" height="100%" fill="white"></rect>
    <polygon points="10,8 17,12 10,16" fill="black"></polygon>
  </mask>
  <circle cx="12" cy="12" r="7.8" mask="url(#playSymbolMask)" id="filledCircle"></circle>
</svg></span>
      </button>
      <!--?lit$896484614$--> <!--?lit$896484614$--><!--?-->
    </div></template></colab-run-button>
        <div class="section-header-container" title="click to expand">↳ 2 cells hidden</div>
      </div></div></div><div class="add-cell">
      <hr>
    </div></div><div class="cell code icon-scrolling" id="cell-37482036" role="region" aria-label="Cell 32: Code cell: " style=""><div class="cell-tag-editor sticky"></div><div class="cell-toolbar sticky"></div><div class="main-content" elevation="0"><div class="cell-contents"><div class="cell-mask"></div><span class="imported-info-area"></span><div class="codecell-input-output">
      <div class="inputarea horizontal layout code">
        <div class="cell-gutter">
          <!-- Bounding range for vertical scrolling of icons -->
          <div class="cell-execution-container">
            <colab-run-button title="Run cell (Ctrl+Enter)
cell has not been executed in this session"><template shadowrootmode="open"><!----> <div class=" cell-execution stale ">
      <button id="run-button" aria-label="Run cell" tabindex="-1">
        <span class="execution-count"><!--?lit$896484614$-->[ ]</span>
        <span aria-hidden="true" class="cell-execution-indicator"><!--?lit$896484614$-->
<svg xmlns="http://www.w3.org/2000/svg" viewBox="0 0 24 24">
  <!--?lit$896484614$-->
  <mask id="playSymbolMask">
    <rect width="100%" height="100%" fill="white"></rect>
    <polygon points="10,8 17,12 10,16" fill="black"></polygon>
  </mask>
  <circle cx="12" cy="12" r="7.8" mask="url(#playSymbolMask)" id="filledCircle"></circle>
</svg></span>
      </button>
      <!--?lit$896484614$--> <!--?lit$896484614$--><!--?-->
    </div></template></colab-run-button>
          </div>
        </div>
      <div class="editor flex lazy-editor" style=""><pre class="lazy-virtualized" style="font-size: 14px; line-height: 19px;"><pre class="lazy-gutter"></pre><pre class="monaco-colorized colab colab" data-lang="notebook-python"><span><span class="mtk6">def</span><span class="mtk1">&nbsp;</span><span class="mtk15">model_tuning_randomforest</span><span class="mtk1">(</span><span class="mtk16">train_x</span><span class="mtk1">,&nbsp;</span><span class="mtk16">test_x</span><span class="mtk1">):</span></span><br><span><span class="mtk1">&nbsp;&nbsp;</span><span class="mtk8">#&nbsp;Count</span></span><br><span><span class="mtk1">&nbsp;&nbsp;x_train_count_vectorizer,&nbsp;x_test_count_vectorize</span><span class="mtk1">r&nbsp;=&nbsp;create_features_count(train_x,&nbsp;test_x)</span></span><br><span><span class="mtk1">&nbsp;&nbsp;rf_model_count&nbsp;=&nbsp;RandomForestClassifier(random_s</span><span class="mtk1">tate=</span><span class="mtk12">1</span><span class="mtk1">)</span></span><br><span><span class="mtk1">&nbsp;&nbsp;rf_params&nbsp;=&nbsp;{</span><span class="mtk26">"max_depth"</span><span class="mtk1">:&nbsp;[</span><span class="mtk12">2</span><span class="mtk1">,</span><span class="mtk12">5</span><span class="mtk1">,</span><span class="mtk12">8</span><span class="mtk1">,&nbsp;</span><span class="mtk6">None</span><span class="mtk1">],</span></span><br><span><span class="mtk1">&nbsp;&nbsp;&nbsp;&nbsp;&nbsp;&nbsp;&nbsp;&nbsp;&nbsp;&nbsp;&nbsp;&nbsp;&nbsp;&nbsp;&nbsp;</span><span class="mtk26">"max_features"</span><span class="mtk1">:&nbsp;[</span><span class="mtk12">2</span><span class="mtk1">,</span><span class="mtk12">5</span><span class="mtk1">,</span><span class="mtk12">8</span><span class="mtk1">,&nbsp;</span><span class="mtk26">"auto"</span><span class="mtk1">],</span></span><br><span><span class="mtk1">&nbsp;&nbsp;&nbsp;&nbsp;&nbsp;&nbsp;&nbsp;&nbsp;&nbsp;&nbsp;&nbsp;&nbsp;&nbsp;&nbsp;&nbsp;</span><span class="mtk26">"n_estimators"</span><span class="mtk1">:&nbsp;[</span><span class="mtk12">100</span><span class="mtk1">,</span><span class="mtk12">500</span><span class="mtk1">,</span><span class="mtk12">1000</span><span class="mtk1">],</span></span><br><span><span class="mtk1">&nbsp;&nbsp;&nbsp;&nbsp;&nbsp;&nbsp;&nbsp;&nbsp;&nbsp;&nbsp;&nbsp;&nbsp;&nbsp;&nbsp;&nbsp;</span><span class="mtk26">"min_samples_split"</span><span class="mtk1">:&nbsp;[</span><span class="mtk12">2</span><span class="mtk1">,</span><span class="mtk12">5</span><span class="mtk1">,</span><span class="mtk12">10</span><span class="mtk1">]}</span></span><br><span><span class="mtk1">&nbsp;&nbsp;rf_best_grid&nbsp;=&nbsp;GridSearchCV(rf_model_count,&nbsp;rf_p</span><span class="mtk1">arams,&nbsp;cv=</span><span class="mtk12">10</span><span class="mtk1">,&nbsp;n_jobs=</span><span class="mtk12">-1</span><span class="mtk1">,&nbsp;verbose=</span><span class="mtk6">False</span><span class="mtk1">).fit(x_train_count_vectorizer,&nbsp;train_y)</span></span><br><span><span class="mtk1">&nbsp;&nbsp;rf_model_count_final&nbsp;=&nbsp;rf_model_count.set_params</span><span class="mtk1">(**rf_best_grid.best_params_,&nbsp;random_state=</span><span class="mtk12">1</span><span class="mtk1">).fit(x_train_count_vectorizer,&nbsp;train_y)</span></span><br><span><span class="mtk1">&nbsp;&nbsp;accuracy_count&nbsp;=&nbsp;cross_val_score(rf_model_count_</span><span class="mtk1">final,&nbsp;x_test_count_vectorizer,&nbsp;test_y,&nbsp;cv=</span><span class="mtk12">10</span><span class="mtk1">).mean()</span></span><br><span><span class="mtk1">&nbsp;&nbsp;</span><span class="mtk15">print</span><span class="mtk1">(</span><span class="mtk26">"Accuracy&nbsp;-&nbsp;Count&nbsp;Vectors:&nbsp;%.3f"</span><span class="mtk1">&nbsp;%&nbsp;accuracy_count)</span></span><br><span><span></span></span><br><span><span class="mtk1">&nbsp;&nbsp;</span><span class="mtk19">return</span><span class="mtk1">&nbsp;rf_model_count_final</span></span><br></pre><colab-read-only-cell-placeholder style="display: none;"><template shadowrootmode="open"><!----><div><!--?lit$896484614$-->Start coding or <span role="button" class="link">generate</span> with AI.</div></template></colab-read-only-cell-placeholder></pre></div><colab-form class="formview vertical layout flex"><div class="widget-area vertical layout"></div></colab-form></div>
    <div class="output" aria-label="Cell 32 output" role="region"><!----> <div class="output-header"> </div>
        <div class="output-content" hidden="">
          <div class="output-info"> </div>
          <div class="output-iframe-container" hidden="">
            <div class="output-iframe-sizer"> </div>
          </div>
        </div></div></div><colab-cell-next-steps><template shadowrootmode="open"><!----></template></colab-cell-next-steps></div></div><div class="add-cell">
      <hr>
    </div></div><div class="cell code code-has-output icon-scrolling" id="cell-0c45f4b5" role="region" aria-label="Cell 33: Code cell: " style=""><div class="cell-tag-editor sticky"></div><div class="cell-toolbar sticky"></div><div class="main-content" elevation="0"><div class="cell-contents"><div class="cell-mask"></div><span class="imported-info-area"></span><div class="codecell-input-output">
      <div class="inputarea horizontal layout code">
        <div class="cell-gutter">
          <!-- Bounding range for vertical scrolling of icons -->
          <div class="cell-execution-container">
            <colab-run-button title="Run cell (Ctrl+Enter)
cell has not been executed in this session

executed at unknown time"><template shadowrootmode="open"><!----> <div class=" cell-execution stale ">
      <button id="run-button" aria-label="Run cell" tabindex="-1">
        <span class="execution-count"><!--?lit$896484614$-->[ ]</span>
        <span aria-hidden="true" class="cell-execution-indicator"><!--?lit$896484614$-->
<svg xmlns="http://www.w3.org/2000/svg" viewBox="0 0 24 24">
  <!--?lit$896484614$-->
  <mask id="playSymbolMask">
    <rect width="100%" height="100%" fill="white"></rect>
    <polygon points="10,8 17,12 10,16" fill="black"></polygon>
  </mask>
  <circle cx="12" cy="12" r="7.8" mask="url(#playSymbolMask)" id="filledCircle"></circle>
</svg></span>
      </button>
      <!--?lit$896484614$--> <!--?lit$896484614$--><!--?-->
    </div></template></colab-run-button>
          </div>
        </div>
      <div class="editor flex lazy-editor" style=""><pre class="lazy-virtualized" style="font-size: 14px; line-height: 19px;"><pre class="lazy-gutter"></pre><pre class="monaco-colorized colab colab" data-lang="notebook-python"><span><span class="mtk1">rf_model_count_final&nbsp;=&nbsp;model_tuning_randomforest(t</span><span class="mtk1">rain_x,&nbsp;test_x)</span></span><br></pre><colab-read-only-cell-placeholder style="display: none;"><template shadowrootmode="open"><!----><div><!--?lit$896484614$-->Start coding or <span role="button" class="link">generate</span> with AI.</div></template></colab-read-only-cell-placeholder></pre></div><colab-form class="formview vertical layout flex"><div class="widget-area vertical layout"></div></colab-form></div>
    <div class="output" aria-label="Cell 33 output" role="region"><!----> <div class="output-header"> </div>
        <div class="output-content">
          <div class="output-info"><colab-output-info><template shadowrootmode="open"><!----><md-icon-button data-aria-expanded="false" data-aria-haspopup="menu" title="Code cell output actions" data-aria-label="Code cell output actions" value=""><template shadowrootmode="open" shadowrootdelegatesfocus><!----><button id="button" class="icon-button  standard " aria-label="Code cell output actions" aria-haspopup="menu" aria-expanded="false" tabindex="-1">
        <!--?lit$896484614$--><md-focus-ring part="focus-ring" for="button" aria-hidden="true"><template shadowrootmode="open"><!----></template></md-focus-ring>
        <!--?lit$896484614$--><md-ripple aria-hidden="true"><template shadowrootmode="open"><!----><div class="surface   "></div></template></md-ripple>
        <!--?lit$896484614$--><span class="icon"><slot></slot></span>
        <!--?lit$896484614$-->
        <!--?lit$896484614$--><span class="touch"></span>
        <!--?lit$896484614$-->
  </button></template>
      <md-icon aria-hidden="true"><template shadowrootmode="open"><!----><slot></slot></template><!--?lit$896484614$--><svg viewBox="0 0 24 24"><!--?lit$896484614$--><path d="m15.9 3.07c-4.32 0.0742-8.64-0.0355-13 0.0568-1.37 0.307-1.74 2.1-1.41 3.26 0.469 0.606 1.86 0.384 1.66-0.525 0.0448-0.329-0.183-0.93 0.354-0.766h13.3v1.53h1.71c0.0709-1.13 0.141-2.62-0.968-3.3-0.511-0.264-1.11-0.252-1.67-0.259zm2.94 6.84v4.87c1.62-1.62 3.24-3.24 4.87-4.87h-4.87zm0 0h-1.71v3.43l1.57 1.57c0.32-1.65 0.0556-3.34 0.135-5zm-1.71 3.43v-3.43h-3.43c1.14 1.14 2.29 2.29 3.43 3.43zm1.4 4.27h-1.71v1.48h-13.6v-1.48h-1.71c-0.0473 1.15-0.16 2.72 1.09 3.29 1.47 0.506 3.02 0.0265 4.53 0.192 3.34-0.0051 6.68 0.0336 10-0.0245 1.49-0.366 1.56-2.22 1.42-3.45zm-10.1-1.12c-0.398-0.483-0.796-0.967-1.19-1.45 0.59-0.683 1.18-1.37 1.77-2.05h-8.67v-2h8.67c-0.59-0.683-1.18-1.37-1.77-2.05 0.398-0.483 0.796-0.967 1.19-1.45 1.28 1.5 2.56 3 3.84 4.5-1.28 1.5-2.56 3-3.84 4.5z"></path></svg></md-icon>
    </md-icon-button></template></colab-output-info></div>
          <div class="output-iframe-container">
            <div class="output-iframe-sizer"> <div><div><colab-static-output-renderer role="group"><div><div class="stream output_text"><pre>Accuracy - Count Vectors: 1.000
</pre></div></div><div></div></colab-static-output-renderer></div></div></div>
          </div>
        </div></div></div><colab-cell-next-steps><template shadowrootmode="open"><!----></template></colab-cell-next-steps></div></div><div class="add-cell">
      <hr>
    </div></div><div class="cell text" id="cell-451db702" role="region" aria-label="Cell 34: Text cell: Prediction" style=""><div class="cell-tag-editor sticky"></div><div class="cell-toolbar sticky"></div><div class="main-content" elevation="0"><div class="cell-contents"><div class="cell-mask"></div><span class="imported-info-area"></span><!----> <div class="toolbar-root"></div>
      <div class="editor-container horizontal">
        <div class="editor-root"></div>
        <div class="text-top-div">
          <div class="markdown"><span><div class="text-cell-section-header layout horizontal center"><md-icon-button class="header-section-toggle" title="Collapse 7 child cells under Prediction (Press &lt;Shift&gt; to also collapse sibling sections)" data-aria-label="Collapse 7 child cells under Prediction (Press &lt;Shift&gt; to also collapse sibling sections)" value=""><template shadowrootmode="open" shadowrootdelegatesfocus><!----><button id="button" class="icon-button  standard " aria-label="Collapse 7 child cells under Prediction (Press &lt;Shift&gt; to also collapse sibling sections)" tabindex="-1">
        <!--?lit$896484614$--><md-focus-ring part="focus-ring" for="button" aria-hidden="true"><template shadowrootmode="open"><!----></template></md-focus-ring>
        <!--?lit$896484614$--><md-ripple aria-hidden="true"><template shadowrootmode="open"><!----><div class="surface   "></div></template></md-ripple>
        <!--?lit$896484614$--><span class="icon"><slot></slot></span>
        <!--?lit$896484614$-->
        <!--?lit$896484614$--><span class="touch"></span>
        <!--?lit$896484614$-->
  </button></template><md-icon aria-hidden="true"><template shadowrootmode="open"><!----><slot></slot></template>keyboard_arrow_down</md-icon></md-icon-button><h1>Prediction</h1></div>
</span></div>
        </div>
      </div>

      <div class="section-header" style="display: none;">
        <colab-run-button><template shadowrootmode="open"><!----> <div class=" cell-execution ">
      <button id="run-button" aria-label="Run cell" tabindex="-1">
        <span class="execution-count"><!--?lit$896484614$-->[ ]</span>
        <span aria-hidden="true" class="cell-execution-indicator"><!--?lit$896484614$-->
<svg xmlns="http://www.w3.org/2000/svg" viewBox="0 0 24 24">
  <!--?lit$896484614$-->
  <mask id="playSymbolMask">
    <rect width="100%" height="100%" fill="white"></rect>
    <polygon points="10,8 17,12 10,16" fill="black"></polygon>
  </mask>
  <circle cx="12" cy="12" r="7.8" mask="url(#playSymbolMask)" id="filledCircle"></circle>
</svg></span>
      </button>
      <!--?lit$896484614$--> <!--?lit$896484614$--><!--?-->
    </div></template></colab-run-button>
        <div class="section-header-container" title="click to expand">↳ 7 cells hidden</div>
      </div></div></div><div class="add-cell">
      <hr>
    </div></div><div class="cell code icon-scrolling" id="cell-6ea513a3" role="region" aria-label="Cell 35: Code cell: " style=""><div class="cell-tag-editor sticky"></div><div class="cell-toolbar sticky"></div><div class="main-content" elevation="0"><div class="cell-contents"><div class="cell-mask"></div><span class="imported-info-area"></span><div class="codecell-input-output">
      <div class="inputarea horizontal layout code">
        <div class="cell-gutter">
          <!-- Bounding range for vertical scrolling of icons -->
          <div class="cell-execution-container">
            <colab-run-button title="Run cell (Ctrl+Enter)
cell has not been executed in this session"><template shadowrootmode="open"><!----> <div class=" cell-execution stale ">
      <button id="run-button" aria-label="Run cell" tabindex="-1">
        <span class="execution-count"><!--?lit$896484614$-->[ ]</span>
        <span aria-hidden="true" class="cell-execution-indicator"><!--?lit$896484614$-->
<svg xmlns="http://www.w3.org/2000/svg" viewBox="0 0 24 24">
  <!--?lit$896484614$-->
  <mask id="playSymbolMask">
    <rect width="100%" height="100%" fill="white"></rect>
    <polygon points="10,8 17,12 10,16" fill="black"></polygon>
  </mask>
  <circle cx="12" cy="12" r="7.8" mask="url(#playSymbolMask)" id="filledCircle"></circle>
</svg></span>
      </button>
      <!--?lit$896484614$--> <!--?lit$896484614$--><!--?-->
    </div></template></colab-run-button>
          </div>
        </div>
      <div class="editor flex lazy-editor" style=""><pre class="lazy-virtualized" style="font-size: 14px; line-height: 19px;"><pre class="lazy-gutter"></pre><pre class="monaco-colorized colab colab" data-lang="notebook-python"><span><span class="mtk6">def</span><span class="mtk1">&nbsp;</span><span class="mtk15">predict_count</span><span class="mtk1">(</span><span class="mtk16">train_x</span><span class="mtk1">,&nbsp;</span><span class="mtk16">model</span><span class="mtk1">,&nbsp;</span><span class="mtk16">new_comment</span><span class="mtk1">):</span></span><br><span><span class="mtk1">&nbsp;&nbsp;new_comment=&nbsp;pd.Series(new_comment)</span></span><br><span><span class="mtk1">&nbsp;&nbsp;new_comment&nbsp;=&nbsp;CountVectorizer().fit(train_x).tra</span><span class="mtk1">nsform(new_comment)</span></span><br><span><span class="mtk1">&nbsp;&nbsp;result&nbsp;=&nbsp;model.predict(new_comment)</span></span><br><span><span class="mtk1">&nbsp;&nbsp;</span><span class="mtk8">#&nbsp;print(result)</span></span><br><span><span class="mtk1">&nbsp;&nbsp;</span><span class="mtk19">if</span><span class="mtk1">&nbsp;result==</span><span class="mtk12">1</span><span class="mtk1">:</span></span><br><span><span class="mtk1">&nbsp;&nbsp;&nbsp;&nbsp;</span><span class="mtk15">print</span><span class="mtk1">(</span><span class="mtk26">"Comment&nbsp;is&nbsp;Pozitive"</span><span class="mtk1">)</span></span><br><span><span class="mtk1">&nbsp;&nbsp;&nbsp;&nbsp;&nbsp;&nbsp;</span></span><br><span><span class="mtk1">&nbsp;&nbsp;</span><span class="mtk19">else</span><span class="mtk1">:&nbsp;</span></span><br><span><span class="mtk1">&nbsp;&nbsp;&nbsp;&nbsp;</span><span class="mtk15">print</span><span class="mtk1">(</span><span class="mtk26">"Comment&nbsp;is&nbsp;Negative"</span><span class="mtk1">)</span></span><br></pre><colab-read-only-cell-placeholder style="display: none;"><template shadowrootmode="open"><!----><div><!--?lit$896484614$-->Start coding or <span role="button" class="link">generate</span> with AI.</div></template></colab-read-only-cell-placeholder></pre></div><colab-form class="formview vertical layout flex"><div class="widget-area vertical layout"></div></colab-form></div>
    <div class="output" aria-label="Cell 35 output" role="region"><!----> <div class="output-header"> </div>
        <div class="output-content" hidden="">
          <div class="output-info"> </div>
          <div class="output-iframe-container" hidden="">
            <div class="output-iframe-sizer"> </div>
          </div>
        </div></div></div><colab-cell-next-steps><template shadowrootmode="open"><!----></template></colab-cell-next-steps></div></div><div class="add-cell">
      <hr>
    </div></div><div class="cell code code-has-output icon-scrolling" id="cell-d0551737" role="region" aria-label="Cell 36: Code cell: " style=""><div class="cell-tag-editor sticky"></div><div class="cell-toolbar sticky"></div><div class="main-content" elevation="0"><div class="cell-contents"><div class="cell-mask"></div><span class="imported-info-area"></span><div class="codecell-input-output">
      <div class="inputarea horizontal layout code">
        <div class="cell-gutter">
          <!-- Bounding range for vertical scrolling of icons -->
          <div class="cell-execution-container">
            <colab-run-button title="Run cell (Ctrl+Enter)
cell has not been executed in this session

executed at unknown time"><template shadowrootmode="open"><!----> <div class=" cell-execution stale ">
      <button id="run-button" aria-label="Run cell" tabindex="-1">
        <span class="execution-count"><!--?lit$896484614$-->[ ]</span>
        <span aria-hidden="true" class="cell-execution-indicator"><!--?lit$896484614$-->
<svg xmlns="http://www.w3.org/2000/svg" viewBox="0 0 24 24">
  <!--?lit$896484614$-->
  <mask id="playSymbolMask">
    <rect width="100%" height="100%" fill="white"></rect>
    <polygon points="10,8 17,12 10,16" fill="black"></polygon>
  </mask>
  <circle cx="12" cy="12" r="7.8" mask="url(#playSymbolMask)" id="filledCircle"></circle>
</svg></span>
      </button>
      <!--?lit$896484614$--> <!--?lit$896484614$--><!--?-->
    </div></template></colab-run-button>
          </div>
        </div>
      <div class="editor flex lazy-editor" style=""><pre class="lazy-virtualized" style="font-size: 14px; line-height: 19px;"><pre class="lazy-gutter"></pre><pre class="monaco-colorized colab colab" data-lang="notebook-python"><span><span class="mtk8">#&nbsp;Random&nbsp;Forest</span></span><br><span><span class="mtk1">predict_count(train_x,&nbsp;model=rf_model_word,&nbsp;new_co</span><span class="mtk1">mment=</span><span class="mtk26">"""For&nbsp;the&nbsp;last&nbsp;13&nbsp;years&nbsp;i&nbsp;have&nbsp;using&nbsp;the&nbsp;samsung&nbsp;</span><span class="mtk26">fully&nbsp;automatic&nbsp;washing&nbsp;machines&nbsp;that&nbsp;was&nbsp;gifted&nbsp;b</span><span class="mtk26">y&nbsp;my&nbsp;colloquies&nbsp;for&nbsp;my&nbsp;marriage.&nbsp;It&nbsp;worked&nbsp;for&nbsp;the</span><span class="mtk26">&nbsp;last&nbsp;12.5&nbsp;years&nbsp;successfully&nbsp;without&nbsp;any&nbsp;issue.It</span><span class="mtk26">s&nbsp;easy&nbsp;to&nbsp;handling&nbsp;and&nbsp;reduce&nbsp;our&nbsp;work&nbsp;load.I&nbsp;have</span><span class="mtk26">&nbsp;used&nbsp;the&nbsp;same&nbsp;type&nbsp;of&nbsp;machines&nbsp;last&nbsp;year&nbsp;in&nbsp;amazo</span><span class="mtk26">n&nbsp;that&nbsp;also&nbsp;working&nbsp;good.Now&nbsp;our&nbsp;team&nbsp;gifted&nbsp;this&nbsp;</span><span class="mtk26">machine&nbsp;to&nbsp;my&nbsp;colloquies&nbsp;to&nbsp;his&nbsp;marriage&nbsp;as&nbsp;gift.H</span><span class="mtk26">appy&nbsp;married&nbsp;life&nbsp;to&nbsp;them"""</span><span class="mtk1">)</span></span><br></pre><colab-read-only-cell-placeholder style="display: none;"><template shadowrootmode="open"><!----><div><!--?lit$896484614$-->Start coding or <span role="button" class="link">generate</span> with AI.</div></template></colab-read-only-cell-placeholder></pre></div><colab-form class="formview vertical layout flex"><div class="widget-area vertical layout"></div></colab-form></div>
    <div class="output" aria-label="Cell 36 output" role="region"><!----> <div class="output-header"> </div>
        <div class="output-content">
          <div class="output-info"><colab-output-info><template shadowrootmode="open"><!----><md-icon-button data-aria-expanded="false" data-aria-haspopup="menu" title="Code cell output actions" data-aria-label="Code cell output actions" value=""><template shadowrootmode="open" shadowrootdelegatesfocus><!----><button id="button" class="icon-button  standard " aria-label="Code cell output actions" aria-haspopup="menu" aria-expanded="false" tabindex="-1">
        <!--?lit$896484614$--><md-focus-ring part="focus-ring" for="button" aria-hidden="true"><template shadowrootmode="open"><!----></template></md-focus-ring>
        <!--?lit$896484614$--><md-ripple aria-hidden="true"><template shadowrootmode="open"><!----><div class="surface   "></div></template></md-ripple>
        <!--?lit$896484614$--><span class="icon"><slot></slot></span>
        <!--?lit$896484614$-->
        <!--?lit$896484614$--><span class="touch"></span>
        <!--?lit$896484614$-->
  </button></template>
      <md-icon aria-hidden="true"><template shadowrootmode="open"><!----><slot></slot></template><!--?lit$896484614$--><svg viewBox="0 0 24 24"><!--?lit$896484614$--><path d="m15.9 3.07c-4.32 0.0742-8.64-0.0355-13 0.0568-1.37 0.307-1.74 2.1-1.41 3.26 0.469 0.606 1.86 0.384 1.66-0.525 0.0448-0.329-0.183-0.93 0.354-0.766h13.3v1.53h1.71c0.0709-1.13 0.141-2.62-0.968-3.3-0.511-0.264-1.11-0.252-1.67-0.259zm2.94 6.84v4.87c1.62-1.62 3.24-3.24 4.87-4.87h-4.87zm0 0h-1.71v3.43l1.57 1.57c0.32-1.65 0.0556-3.34 0.135-5zm-1.71 3.43v-3.43h-3.43c1.14 1.14 2.29 2.29 3.43 3.43zm1.4 4.27h-1.71v1.48h-13.6v-1.48h-1.71c-0.0473 1.15-0.16 2.72 1.09 3.29 1.47 0.506 3.02 0.0265 4.53 0.192 3.34-0.0051 6.68 0.0336 10-0.0245 1.49-0.366 1.56-2.22 1.42-3.45zm-10.1-1.12c-0.398-0.483-0.796-0.967-1.19-1.45 0.59-0.683 1.18-1.37 1.77-2.05h-8.67v-2h8.67c-0.59-0.683-1.18-1.37-1.77-2.05 0.398-0.483 0.796-0.967 1.19-1.45 1.28 1.5 2.56 3 3.84 4.5-1.28 1.5-2.56 3-3.84 4.5z"></path></svg></md-icon>
    </md-icon-button></template></colab-output-info></div>
          <div class="output-iframe-container">
            <div class="output-iframe-sizer"> <div><div><colab-static-output-renderer role="group"><div><div class="stream output_text"><pre>Comment is Negative
</pre></div></div><div></div></colab-static-output-renderer></div></div></div>
          </div>
        </div></div></div><colab-cell-next-steps><template shadowrootmode="open"><!----></template></colab-cell-next-steps></div></div><div class="add-cell">
      <hr>
    </div></div><div class="cell code code-has-output icon-scrolling" id="cell-91216c23" role="region" aria-label="Cell 37: Code cell: " style=""><div class="cell-tag-editor sticky"></div><div class="cell-toolbar sticky"></div><div class="main-content" elevation="0"><div class="cell-contents"><div class="cell-mask"></div><span class="imported-info-area"></span><div class="codecell-input-output">
      <div class="inputarea horizontal layout code">
        <div class="cell-gutter">
          <!-- Bounding range for vertical scrolling of icons -->
          <div class="cell-execution-container">
            <colab-run-button title="Run cell (Ctrl+Enter)
cell has not been executed in this session

executed at unknown time"><template shadowrootmode="open"><!----> <div class=" cell-execution stale ">
      <button id="run-button" aria-label="Run cell" tabindex="-1">
        <span class="execution-count"><!--?lit$896484614$-->[ ]</span>
        <span aria-hidden="true" class="cell-execution-indicator"><!--?lit$896484614$-->
<svg xmlns="http://www.w3.org/2000/svg" viewBox="0 0 24 24">
  <!--?lit$896484614$-->
  <mask id="playSymbolMask">
    <rect width="100%" height="100%" fill="white"></rect>
    <polygon points="10,8 17,12 10,16" fill="black"></polygon>
  </mask>
  <circle cx="12" cy="12" r="7.8" mask="url(#playSymbolMask)" id="filledCircle"></circle>
</svg></span>
      </button>
      <!--?lit$896484614$--> <!--?lit$896484614$--><!--?-->
    </div></template></colab-run-button>
          </div>
        </div>
      <div class="editor flex lazy-editor" style=""><pre class="lazy-virtualized" style="font-size: 14px; line-height: 19px;"><pre class="lazy-gutter"></pre><pre class="monaco-colorized colab colab" data-lang="notebook-python"><span><span class="mtk8">#&nbsp;Sample&nbsp;Review</span></span><br><span><span class="mtk1">new_comment=pd.Series(df[</span><span class="mtk26">"Description"</span><span class="mtk1">].sample(</span><span class="mtk12">30</span><span class="mtk1">).values)</span></span><br><span><span class="mtk15">print</span><span class="mtk1">(new_comment[</span><span class="mtk12">1</span><span class="mtk1">])</span></span><br></pre><colab-read-only-cell-placeholder style="display: none;"><template shadowrootmode="open"><!----><div><!--?lit$896484614$-->Start coding or <span role="button" class="link">generate</span> with AI.</div></template></colab-read-only-cell-placeholder></pre></div><colab-form class="formview vertical layout flex"><div class="widget-area vertical layout"></div></colab-form></div>
    <div class="output" aria-label="Cell 37 output" role="region"><!----> <div class="output-header"> </div>
        <div class="output-content">
          <div class="output-info"><colab-output-info><template shadowrootmode="open"><!----><md-icon-button data-aria-expanded="false" data-aria-haspopup="menu" title="Code cell output actions" data-aria-label="Code cell output actions" value=""><template shadowrootmode="open" shadowrootdelegatesfocus><!----><button id="button" class="icon-button  standard " aria-label="Code cell output actions" aria-haspopup="menu" aria-expanded="false" tabindex="-1">
        <!--?lit$896484614$--><md-focus-ring part="focus-ring" for="button" aria-hidden="true"><template shadowrootmode="open"><!----></template></md-focus-ring>
        <!--?lit$896484614$--><md-ripple aria-hidden="true"><template shadowrootmode="open"><!----><div class="surface   "></div></template></md-ripple>
        <!--?lit$896484614$--><span class="icon"><slot></slot></span>
        <!--?lit$896484614$-->
        <!--?lit$896484614$--><span class="touch"></span>
        <!--?lit$896484614$-->
  </button></template>
      <md-icon aria-hidden="true"><template shadowrootmode="open"><!----><slot></slot></template><!--?lit$896484614$--><svg viewBox="0 0 24 24"><!--?lit$896484614$--><path d="m15.9 3.07c-4.32 0.0742-8.64-0.0355-13 0.0568-1.37 0.307-1.74 2.1-1.41 3.26 0.469 0.606 1.86 0.384 1.66-0.525 0.0448-0.329-0.183-0.93 0.354-0.766h13.3v1.53h1.71c0.0709-1.13 0.141-2.62-0.968-3.3-0.511-0.264-1.11-0.252-1.67-0.259zm2.94 6.84v4.87c1.62-1.62 3.24-3.24 4.87-4.87h-4.87zm0 0h-1.71v3.43l1.57 1.57c0.32-1.65 0.0556-3.34 0.135-5zm-1.71 3.43v-3.43h-3.43c1.14 1.14 2.29 2.29 3.43 3.43zm1.4 4.27h-1.71v1.48h-13.6v-1.48h-1.71c-0.0473 1.15-0.16 2.72 1.09 3.29 1.47 0.506 3.02 0.0265 4.53 0.192 3.34-0.0051 6.68 0.0336 10-0.0245 1.49-0.366 1.56-2.22 1.42-3.45zm-10.1-1.12c-0.398-0.483-0.796-0.967-1.19-1.45 0.59-0.683 1.18-1.37 1.77-2.05h-8.67v-2h8.67c-0.59-0.683-1.18-1.37-1.77-2.05 0.398-0.483 0.796-0.967 1.19-1.45 1.28 1.5 2.56 3 3.84 4.5-1.28 1.5-2.56 3-3.84 4.5z"></path></svg></md-icon>
    </md-icon-button></template></colab-output-info></div>
          <div class="output-iframe-container">
            <div class="output-iframe-sizer"> <div><div><colab-static-output-renderer role="group"><div><div class="stream output_text"><pre>obsessed little thing cute compact easy use got excited downloaded app night play around interface user friendly insane amount customizations good amount play around withonce got package opened used right away user error end like putting roll correct figuring margin needed print center barely looked user manual thats faultthe quality print incredible clearly make image cat sticker test printed see error margin second photo turned good fiance asked put snowboard course ill using make actual label hahai wish computer driver printer hopefully able use ipad well read
</pre></div></div><div></div></colab-static-output-renderer></div></div></div>
          </div>
        </div></div></div><colab-cell-next-steps><template shadowrootmode="open"><!----></template></colab-cell-next-steps></div></div><div class="add-cell">
      <hr>
    </div></div><div class="cell code code-has-output icon-scrolling" id="cell-701e8089" role="region" aria-label="Cell 38: Code cell: " style=""><div class="cell-tag-editor sticky"></div><div class="cell-toolbar sticky"></div><div class="main-content" elevation="0"><div class="cell-contents"><div class="cell-mask"></div><span class="imported-info-area"></span><div class="codecell-input-output">
      <div class="inputarea horizontal layout code">
        <div class="cell-gutter">
          <!-- Bounding range for vertical scrolling of icons -->
          <div class="cell-execution-container">
            <colab-run-button title="Run cell (Ctrl+Enter)
cell has not been executed in this session

executed at unknown time"><template shadowrootmode="open"><!----> <div class=" cell-execution stale ">
      <button id="run-button" aria-label="Run cell" tabindex="-1">
        <span class="execution-count"><!--?lit$896484614$-->[ ]</span>
        <span aria-hidden="true" class="cell-execution-indicator"><!--?lit$896484614$-->
<svg xmlns="http://www.w3.org/2000/svg" viewBox="0 0 24 24">
  <!--?lit$896484614$-->
  <mask id="playSymbolMask">
    <rect width="100%" height="100%" fill="white"></rect>
    <polygon points="10,8 17,12 10,16" fill="black"></polygon>
  </mask>
  <circle cx="12" cy="12" r="7.8" mask="url(#playSymbolMask)" id="filledCircle"></circle>
</svg></span>
      </button>
      <!--?lit$896484614$--> <!--?lit$896484614$--><!--?-->
    </div></template></colab-run-button>
          </div>
        </div>
      <div class="editor flex lazy-editor" style=""><pre class="lazy-virtualized" style="font-size: 14px; line-height: 19px;"><pre class="lazy-gutter"></pre><pre class="monaco-colorized colab colab" data-lang="notebook-python"><span><span class="mtk8">#&nbsp;Sample&nbsp;Review&nbsp;-&nbsp;Random&nbsp;Forest</span></span><br><span><span class="mtk19">for</span><span class="mtk1">&nbsp;i&nbsp;</span><span class="mtk6">in</span><span class="mtk1">&nbsp;</span><span class="mtk15">range</span><span class="mtk1">(</span><span class="mtk15">len</span><span class="mtk1">(new_comment)):</span></span><br><span><span class="mtk1">&nbsp;&nbsp;&nbsp;&nbsp;predict_count(train_x,&nbsp;model=rf_model_count,&nbsp;n</span><span class="mtk1">ew_comment=new_comment[i])</span></span><br></pre><colab-read-only-cell-placeholder style="display: none;"><template shadowrootmode="open"><!----><div><!--?lit$896484614$-->Start coding or <span role="button" class="link">generate</span> with AI.</div></template></colab-read-only-cell-placeholder></pre></div><colab-form class="formview vertical layout flex"><div class="widget-area vertical layout"></div></colab-form></div>
    <div class="output" aria-label="Cell 38 output" role="region"><!----> <div class="output-header"> </div>
        <div class="output-content">
          <div class="output-info"><colab-output-info><template shadowrootmode="open"><!----><md-icon-button data-aria-expanded="false" data-aria-haspopup="menu" title="Code cell output actions" data-aria-label="Code cell output actions" value=""><template shadowrootmode="open" shadowrootdelegatesfocus><!----><button id="button" class="icon-button  standard " aria-label="Code cell output actions" aria-haspopup="menu" aria-expanded="false" tabindex="-1">
        <!--?lit$896484614$--><md-focus-ring part="focus-ring" for="button" aria-hidden="true"><template shadowrootmode="open"><!----></template></md-focus-ring>
        <!--?lit$896484614$--><md-ripple aria-hidden="true"><template shadowrootmode="open"><!----><div class="surface   "></div></template></md-ripple>
        <!--?lit$896484614$--><span class="icon"><slot></slot></span>
        <!--?lit$896484614$-->
        <!--?lit$896484614$--><span class="touch"></span>
        <!--?lit$896484614$-->
  </button></template>
      <md-icon aria-hidden="true"><template shadowrootmode="open"><!----><slot></slot></template><!--?lit$896484614$--><svg viewBox="0 0 24 24"><!--?lit$896484614$--><path d="m15.9 3.07c-4.32 0.0742-8.64-0.0355-13 0.0568-1.37 0.307-1.74 2.1-1.41 3.26 0.469 0.606 1.86 0.384 1.66-0.525 0.0448-0.329-0.183-0.93 0.354-0.766h13.3v1.53h1.71c0.0709-1.13 0.141-2.62-0.968-3.3-0.511-0.264-1.11-0.252-1.67-0.259zm2.94 6.84v4.87c1.62-1.62 3.24-3.24 4.87-4.87h-4.87zm0 0h-1.71v3.43l1.57 1.57c0.32-1.65 0.0556-3.34 0.135-5zm-1.71 3.43v-3.43h-3.43c1.14 1.14 2.29 2.29 3.43 3.43zm1.4 4.27h-1.71v1.48h-13.6v-1.48h-1.71c-0.0473 1.15-0.16 2.72 1.09 3.29 1.47 0.506 3.02 0.0265 4.53 0.192 3.34-0.0051 6.68 0.0336 10-0.0245 1.49-0.366 1.56-2.22 1.42-3.45zm-10.1-1.12c-0.398-0.483-0.796-0.967-1.19-1.45 0.59-0.683 1.18-1.37 1.77-2.05h-8.67v-2h8.67c-0.59-0.683-1.18-1.37-1.77-2.05 0.398-0.483 0.796-0.967 1.19-1.45 1.28 1.5 2.56 3 3.84 4.5-1.28 1.5-2.56 3-3.84 4.5z"></path></svg></md-icon>
    </md-icon-button></template></colab-output-info></div>
          <div class="output-iframe-container">
            <div class="output-iframe-sizer"> <div><div><colab-static-output-renderer role="group"><div><div class="stream output_text"><pre>Comment is Pozitive
Comment is Pozitive
Comment is Pozitive
Comment is Pozitive
Comment is Pozitive
Comment is Pozitive
Comment is Pozitive
Comment is Pozitive
Comment is Pozitive
Comment is Pozitive
Comment is Pozitive
Comment is Pozitive
Comment is Negative
Comment is Negative
Comment is Pozitive
Comment is Negative
Comment is Negative
Comment is Negative
Comment is Pozitive
Comment is Pozitive
Comment is Negative
Comment is Pozitive
Comment is Pozitive
Comment is Negative
Comment is Pozitive
Comment is Pozitive
Comment is Pozitive
Comment is Pozitive
Comment is Pozitive
Comment is Pozitive
</pre></div></div><div></div></colab-static-output-renderer></div></div></div>
          </div>
        </div></div></div><colab-cell-next-steps><template shadowrootmode="open"><!----></template></colab-cell-next-steps></div></div><div class="add-cell">
      <hr>
    </div></div><div class="cell code code-has-output icon-scrolling" id="cell-85fa236f-09f3-4b90-8945-f59905ae4e9d" role="region" aria-label="Cell 39: Code cell: " style=""><div class="cell-tag-editor sticky"></div><div class="cell-toolbar sticky"></div><div class="main-content" elevation="0"><div class="cell-contents"><div class="cell-mask"></div><span class="imported-info-area"></span><div class="codecell-input-output">
      <div class="inputarea horizontal layout code">
        <div class="cell-gutter">
          <!-- Bounding range for vertical scrolling of icons -->
          <div class="cell-execution-container">
            <colab-run-button title="Run cell (Ctrl+Enter)
cell has not been executed in this session

executed at unknown time"><template shadowrootmode="open"><!----> <div class=" cell-execution stale ">
      <button id="run-button" aria-label="Run cell" tabindex="-1">
        <span class="execution-count"><!--?lit$896484614$-->[ ]</span>
        <span aria-hidden="true" class="cell-execution-indicator"><!--?lit$896484614$-->
<svg xmlns="http://www.w3.org/2000/svg" viewBox="0 0 24 24">
  <!--?lit$896484614$-->
  <mask id="playSymbolMask">
    <rect width="100%" height="100%" fill="white"></rect>
    <polygon points="10,8 17,12 10,16" fill="black"></polygon>
  </mask>
  <circle cx="12" cy="12" r="7.8" mask="url(#playSymbolMask)" id="filledCircle"></circle>
</svg></span>
      </button>
      <!--?lit$896484614$--> <!--?lit$896484614$--><!--?-->
    </div></template></colab-run-button>
          </div>
        </div>
      <div class="editor flex lazy-editor" style=""><pre class="lazy-virtualized" style="font-size: 14px; line-height: 19px;"><pre class="lazy-gutter"></pre><pre class="monaco-colorized colab colab" data-lang="notebook-python"><span><span class="mtk1">df[</span><span class="mtk26">'Description'</span><span class="mtk1">][</span><span class="mtk12">1</span><span class="mtk1">]</span></span><br></pre><colab-read-only-cell-placeholder style="display: none;"><template shadowrootmode="open"><!----><div><!--?lit$896484614$-->Start coding or <span role="button" class="link">generate</span> with AI.</div></template></colab-read-only-cell-placeholder></pre></div><colab-form class="formview vertical layout flex"><div class="widget-area vertical layout"></div></colab-form></div>
    <div class="output" aria-label="Cell 39 output" role="region"><!----> <div class="output-header"> </div>
        <div class="output-content">
          <div class="output-info"><colab-output-info><template shadowrootmode="open"><!----><md-icon-button data-aria-expanded="false" data-aria-haspopup="menu" title="Code cell output actions" data-aria-label="Code cell output actions" value=""><template shadowrootmode="open" shadowrootdelegatesfocus><!----><button id="button" class="icon-button  standard " aria-label="Code cell output actions" aria-haspopup="menu" aria-expanded="false" tabindex="-1">
        <!--?lit$896484614$--><md-focus-ring part="focus-ring" for="button" aria-hidden="true"><template shadowrootmode="open"><!----></template></md-focus-ring>
        <!--?lit$896484614$--><md-ripple aria-hidden="true"><template shadowrootmode="open"><!----><div class="surface   "></div></template></md-ripple>
        <!--?lit$896484614$--><span class="icon"><slot></slot></span>
        <!--?lit$896484614$-->
        <!--?lit$896484614$--><span class="touch"></span>
        <!--?lit$896484614$-->
  </button></template>
      <md-icon aria-hidden="true"><template shadowrootmode="open"><!----><slot></slot></template><!--?lit$896484614$--><svg viewBox="0 0 24 24"><!--?lit$896484614$--><path d="m15.9 3.07c-4.32 0.0742-8.64-0.0355-13 0.0568-1.37 0.307-1.74 2.1-1.41 3.26 0.469 0.606 1.86 0.384 1.66-0.525 0.0448-0.329-0.183-0.93 0.354-0.766h13.3v1.53h1.71c0.0709-1.13 0.141-2.62-0.968-3.3-0.511-0.264-1.11-0.252-1.67-0.259zm2.94 6.84v4.87c1.62-1.62 3.24-3.24 4.87-4.87h-4.87zm0 0h-1.71v3.43l1.57 1.57c0.32-1.65 0.0556-3.34 0.135-5zm-1.71 3.43v-3.43h-3.43c1.14 1.14 2.29 2.29 3.43 3.43zm1.4 4.27h-1.71v1.48h-13.6v-1.48h-1.71c-0.0473 1.15-0.16 2.72 1.09 3.29 1.47 0.506 3.02 0.0265 4.53 0.192 3.34-0.0051 6.68 0.0336 10-0.0245 1.49-0.366 1.56-2.22 1.42-3.45zm-10.1-1.12c-0.398-0.483-0.796-0.967-1.19-1.45 0.59-0.683 1.18-1.37 1.77-2.05h-8.67v-2h8.67c-0.59-0.683-1.18-1.37-1.77-2.05 0.398-0.483 0.796-0.967 1.19-1.45 1.28 1.5 2.56 3 3.84 4.5-1.28 1.5-2.56 3-3.84 4.5z"></path></svg></md-icon>
    </md-icon-button></template></colab-output-info></div>
          <div class="output-iframe-container">
            <div class="output-iframe-sizer"> <div><div><colab-static-output-renderer role="group"><div><div class="execute_result output_text"><pre>'im kind freak organization label everything thank goodness little printer almost effortless use similar size cell phone twice thick way lighter making easy pop purse backpack briefcase need biggest issue thermal printer normally loading paper correctly printer easy load seat spool onto raised circle feed end label narrow slot close lid press button top machine autofeed label correct position sacrificing first label thats typical experience doesnt matter feed little lot slot autofeed correctly set label regardless see picture end label perfectly centered autofeed setting positioning label right place border however pretty tight bottom label thats likely software issue print screen phone look perfectly centered paper seated properly printer print quality good find help text medium large relation size label best quality generally prefer label larger text anyway since point putting label something able identify glancethe us label printer virtually endless spice jar file folder everything need label make one printer another label printer similar one difficult get label tape perfectly installed plugged want use rechargeable printer rechargeable make big difference easily take kitchen office depending need us micro usb recharging charging cable included convenience mine arrived without usable charge take hour fully charge plugged charge around midday already charged checked around dinner time little cutout one end could easily attach lanyard included wanted might handy depending individual usage habitsthe app need create print label easy use there huge selection font icon border template also create save template particular type label make frequently find useful creating food storage label know date put something freezer pantry phomemo also lot different label style youre stuck plain old boring white one nice get different color showcase personal style there comprehensive list label compatible printer support thermal label range mm wide use either precut continuous label search label amazon youll see ton choice therethe device almost genius simplicity single light illuminates device turned blink charging turn solid red there problem like cover open label installed blink red youre running low power initially thought round black circle sort display unboxed printer purely decorative make printer look kind like vintage radio already described label easy load part device youll use charging port everything else controlled via appthe app lot offer anything new take time playing around discover feature apply open app youll see top section labeled operation guide click select model device youll see number topic help navigate get know software including create label center text click take instructional video infinitely useful reading manual want go found playing different setting feature worked well label made test review took around minute create pretty easy intuit way around hardware instruction well find entire instruction manual great event lose paper copy well video showing clean print head still need help contact u link profile page app well live chat need intimidated cute little machineall great label maker use throughout home office find using every week mostly foodrelated stuff also office need file folder labeled also great labeling thing storage label easy use easy remove thing youre putting food storage container intend refill even wash container label stay put smudge although wont well dishwasher really love im longer tethered computer make label compact rechargeable printer thing wish printer could recognize label size automatically maybe ai get u eventually hard love little cutie read'</pre></div></div><div></div></colab-static-output-renderer></div></div></div>
          </div>
        </div></div></div><colab-cell-next-steps><template shadowrootmode="open"><!----></template></colab-cell-next-steps></div></div><div class="add-cell">
      <hr>
    </div></div><div class="cell code icon-scrolling" id="cell-ec5c2bb7-9205-43fc-bec0-c5cd504e6f7d" role="region" aria-label="Cell 40: Code cell: " style=""><div class="cell-tag-editor sticky"></div><div class="cell-toolbar sticky"></div><div class="main-content" elevation="0"><div class="cell-contents"><div class="cell-mask"></div><span class="imported-info-area"></span><div class="codecell-input-output">
      <div class="inputarea horizontal layout code">
        <div class="cell-gutter">
          <!-- Bounding range for vertical scrolling of icons -->
          <div class="cell-execution-container">
            <colab-run-button title="Run cell (Ctrl+Enter)
cell has not been executed in this session"><template shadowrootmode="open"><!----> <div class=" cell-execution stale ">
      <button id="run-button" aria-label="Run cell" tabindex="-1">
        <span class="execution-count"><!--?lit$896484614$-->[ ]</span>
        <span aria-hidden="true" class="cell-execution-indicator"><!--?lit$896484614$-->
<svg xmlns="http://www.w3.org/2000/svg" viewBox="0 0 24 24">
  <!--?lit$896484614$-->
  <mask id="playSymbolMask">
    <rect width="100%" height="100%" fill="white"></rect>
    <polygon points="10,8 17,12 10,16" fill="black"></polygon>
  </mask>
  <circle cx="12" cy="12" r="7.8" mask="url(#playSymbolMask)" id="filledCircle"></circle>
</svg></span>
      </button>
      <!--?lit$896484614$--> <!--?lit$896484614$--><!--?-->
    </div></template></colab-run-button>
          </div>
        </div>
      <div class="editor flex lazy-editor" style=""><pre class="lazy-virtualized" style="font-size: 14px; line-height: 19px;"><pre class="lazy-gutter"></pre><pre class="monaco-colorized colab colab" data-lang="notebook-python"><span><span class="mtk19">import</span><span class="mtk1">&nbsp;pickle</span></span><br><span><span></span></span><br><span><span class="mtk19">with</span><span class="mtk1">&nbsp;</span><span class="mtk15">open</span><span class="mtk1">(</span><span class="mtk26">'Model.pkl'</span><span class="mtk1">,&nbsp;</span><span class="mtk26">'wb'</span><span class="mtk1">)&nbsp;</span><span class="mtk19">as</span><span class="mtk1">&nbsp;f:</span></span><br><span><span class="mtk1">&nbsp;&nbsp;&nbsp;&nbsp;pickle.dump(rf_model_word,&nbsp;f)</span></span><br></pre><colab-read-only-cell-placeholder style="display: none;"><template shadowrootmode="open"><!----><div><!--?lit$896484614$-->Start coding or <span role="button" class="link">generate</span> with AI.</div></template></colab-read-only-cell-placeholder></pre></div><colab-form class="formview vertical layout flex"><div class="widget-area vertical layout"></div></colab-form></div>
    <div class="output" aria-label="Cell 40 output" role="region"><!----> <div class="output-header"> </div>
        <div class="output-content" hidden="">
          <div class="output-info"> </div>
          <div class="output-iframe-container" hidden="">
            <div class="output-iframe-sizer"> </div>
          </div>
        </div></div></div><colab-cell-next-steps><template shadowrootmode="open"><!----></template></colab-cell-next-steps></div></div><div class="add-cell">
      <hr>
    </div></div><div class="cell code icon-scrolling" id="cell-fccdfa45-19ba-4710-95f1-249b35f518e4" role="region" aria-label="Cell 41: Code cell: " style=""><div class="cell-tag-editor sticky"></div><div class="cell-toolbar sticky"></div><div class="main-content" elevation="0"><div class="cell-contents"><div class="cell-mask"></div><span class="imported-info-area"></span><div class="codecell-input-output">
      <div class="inputarea horizontal layout code">
        <div class="cell-gutter">
          <!-- Bounding range for vertical scrolling of icons -->
          <div class="cell-execution-container">
            <colab-run-button title="Run cell (Ctrl+Enter)
cell has not been executed in this session"><template shadowrootmode="open"><!----> <div class=" cell-execution stale ">
      <button id="run-button" aria-label="Run cell" tabindex="-1">
        <span class="execution-count"><!--?lit$896484614$-->[ ]</span>
        <span aria-hidden="true" class="cell-execution-indicator"><!--?lit$896484614$-->
<svg xmlns="http://www.w3.org/2000/svg" viewBox="0 0 24 24">
  <!--?lit$896484614$-->
  <mask id="playSymbolMask">
    <rect width="100%" height="100%" fill="white"></rect>
    <polygon points="10,8 17,12 10,16" fill="black"></polygon>
  </mask>
  <circle cx="12" cy="12" r="7.8" mask="url(#playSymbolMask)" id="filledCircle"></circle>
</svg></span>
      </button>
      <!--?lit$896484614$--> <!--?lit$896484614$--><!--?-->
    </div></template></colab-run-button>
          </div>
        </div>
      <div class="editor flex lazy-editor" style=""><pre class="lazy-virtualized" style="font-size: 14px; line-height: 19px;"><pre class="lazy-gutter"></pre><pre class="monaco-colorized colab colab" data-lang="notebook-python"><span><span></span></span><br></pre><colab-read-only-cell-placeholder style="display: block;"><template shadowrootmode="open"><!----><div><!--?lit$896484614$-->Start coding or <span role="button" class="link">generate</span> with AI.</div></template></colab-read-only-cell-placeholder></pre></div><colab-form class="formview vertical layout flex"><div class="widget-area vertical layout"></div></colab-form></div>
    <div class="output" aria-label="Cell 41 output" role="region"><!----> <div class="output-header"> </div>
        <div class="output-content" hidden="">
          <div class="output-info"> </div>
          <div class="output-iframe-container" hidden="">
            <div class="output-iframe-sizer"> </div>
          </div>
        </div></div></div><colab-cell-next-steps><template shadowrootmode="open"><!----></template></colab-cell-next-steps></div></div><div class="add-cell">
      <hr>
    </div></div></div>
              </div>
            </div>
          </div>
          <!--?lit$896484614$--> <div class="footer-links">
      <a target="_blank" href="https://colab.research.google.com/signup?utm_source=footer&amp;utm_medium=link&amp;utm_campaign=footer_links" tabindex="-1">
        <!--?lit$896484614$-->Colab paid products
      </a>
      -
      <a href="https://colab.research.google.com/cancel-subscription" target="_blank" tabindex="-1">
        <!--?lit$896484614$-->Cancel contracts here
      </a>
    </div>
        </div>
      </colab-shaded-scroller>
      <div class="notebook-scroll-shadow"></div>
    </div></colab-tab></div>
  </div></colab-tab-pane>
      <colab-resizer style="height: 33.3%" class="sn-resize no-tabs"><div class="resizer-thumb"></div>
        <!--?lit$896484614$--><colab-tab-pane class="layout vertical grow no-tabs" align="horizontal"><!----> <div class="layout vertical grow">
    <div class="tab-pane-header layout horizontal noshrink">
      <md-tabs><template shadowrootmode="open"><!---->
      <div class="tabs">
        <slot></slot>
      </div>
      <md-divider part="divider"><template shadowrootmode="open"><!----></template></md-divider>
    </template></md-tabs>
      <div class="layout grow"></div>
      <!--?lit$896484614$--> <md-icon-button data-aria-expanded="false" data-aria-haspopup="menu" title="More tab actions" data-aria-label="More tab actions" value=""><template shadowrootmode="open" shadowrootdelegatesfocus><!----><button id="button" class="icon-button  standard " aria-label="More tab actions" aria-haspopup="menu" aria-expanded="false" tabindex="-1">
        <!--?lit$896484614$--><md-focus-ring part="focus-ring" for="button" aria-hidden="true"><template shadowrootmode="open"><!----></template></md-focus-ring>
        <!--?lit$896484614$--><md-ripple aria-hidden="true"><template shadowrootmode="open"><!----><div class="surface   "></div></template></md-ripple>
        <!--?lit$896484614$--><span class="icon"><slot></slot></span>
        <!--?lit$896484614$-->
        <!--?lit$896484614$--><span class="touch"></span>
        <!--?lit$896484614$-->
  </button></template>
    <md-icon aria-hidden="true"><template shadowrootmode="open"><!----><slot></slot></template>more_horiz</md-icon>
  </md-icon-button>
    </div>
    <div class="layout vertical grow tab-pane-container"> </div>
  </div></colab-tab-pane>
      </colab-resizer>
    </div>
      <colab-resizer style="width: 37%" class="we-resize no-tabs"><div class="resizer-thumb"></div>
        <!--?lit$896484614$--> <div class="layout vertical tab-pane-parent">
      <!--?lit$896484614$--><colab-tab-pane class="layout vertical grow no-tabs" align="horizontal"><!----> <div class="layout vertical grow">
    <div class="tab-pane-header layout horizontal noshrink">
      <md-tabs><template shadowrootmode="open"><!---->
      <div class="tabs">
        <slot></slot>
      </div>
      <md-divider part="divider"><template shadowrootmode="open"><!----></template></md-divider>
    </template></md-tabs>
      <div class="layout grow"></div>
      <!--?lit$896484614$--> <md-icon-button data-aria-expanded="false" data-aria-haspopup="menu" title="More tab actions" data-aria-label="More tab actions" value=""><template shadowrootmode="open" shadowrootdelegatesfocus><!----><button id="button" class="icon-button  standard " aria-label="More tab actions" aria-haspopup="menu" aria-expanded="false" tabindex="-1">
        <!--?lit$896484614$--><md-focus-ring part="focus-ring" for="button" aria-hidden="true"><template shadowrootmode="open"><!----></template></md-focus-ring>
        <!--?lit$896484614$--><md-ripple aria-hidden="true"><template shadowrootmode="open"><!----><div class="surface   "></div></template></md-ripple>
        <!--?lit$896484614$--><span class="icon"><slot></slot></span>
        <!--?lit$896484614$-->
        <!--?lit$896484614$--><span class="touch"></span>
        <!--?lit$896484614$-->
  </button></template>
    <md-icon aria-hidden="true"><template shadowrootmode="open"><!----><slot></slot></template>more_horiz</md-icon>
  </md-icon-button>
    </div>
    <div class="layout vertical grow tab-pane-container"> </div>
  </div></colab-tab-pane>
      <colab-resizer style="height: 33.3%" class="sn-resize no-tabs"><div class="resizer-thumb"></div>
        <!--?lit$896484614$--><colab-tab-pane class="layout vertical grow no-tabs" align="horizontal"><!----> <div class="layout vertical grow">
    <div class="tab-pane-header layout horizontal noshrink">
      <md-tabs><template shadowrootmode="open"><!---->
      <div class="tabs">
        <slot></slot>
      </div>
      <md-divider part="divider"><template shadowrootmode="open"><!----></template></md-divider>
    </template></md-tabs>
      <div class="layout grow"></div>
      <!--?lit$896484614$--> <md-icon-button data-aria-expanded="false" data-aria-haspopup="menu" title="More tab actions" data-aria-label="More tab actions" value=""><template shadowrootmode="open" shadowrootdelegatesfocus><!----><button id="button" class="icon-button  standard " aria-label="More tab actions" aria-haspopup="menu" aria-expanded="false" tabindex="-1">
        <!--?lit$896484614$--><md-focus-ring part="focus-ring" for="button" aria-hidden="true"><template shadowrootmode="open"><!----></template></md-focus-ring>
        <!--?lit$896484614$--><md-ripple aria-hidden="true"><template shadowrootmode="open"><!----><div class="surface   "></div></template></md-ripple>
        <!--?lit$896484614$--><span class="icon"><slot></slot></span>
        <!--?lit$896484614$-->
        <!--?lit$896484614$--><span class="touch"></span>
        <!--?lit$896484614$-->
  </button></template>
    <md-icon aria-hidden="true"><template shadowrootmode="open"><!----><slot></slot></template>more_horiz</md-icon>
  </md-icon-button>
    </div>
    <div class="layout vertical grow tab-pane-container"> </div>
  </div></colab-tab-pane>
      </colab-resizer>
    </div>
      </colab-resizer>
    </div></colab-tab-layout-container>
        </div>
        <div class="proxies"><div><colab-dom-lifecycle-events style="display: none;"></colab-dom-lifecycle-events><iframe allow="" sandbox="allow-downloads allow-forms allow-pointer-lock allow-popups allow-same-origin allow-scripts allow-storage-access-by-user-activation allow-popups-to-escape-sandbox" src="./Sentiment-analysis-on-amazon-product-reviews_files/outputframe(3).html" tabindex="-1" style="width: 1px; height: 1px; position: absolute; top: -100px;"></iframe></div><div><colab-dom-lifecycle-events style="display: none;"></colab-dom-lifecycle-events><iframe allow="accelerometer; autoplay; gyroscope; magnetometer; xr-spatial-tracking; clipboard-write" sandbox="allow-downloads allow-forms allow-pointer-lock allow-popups allow-same-origin allow-scripts allow-storage-access-by-user-activation allow-modals allow-popups-to-escape-sandbox" src="./Sentiment-analysis-on-amazon-product-reviews_files/outputframe(4).html" tabindex="-1" style="width: 1px; height: 1px; position: absolute; top: -100px;"></iframe></div></div>
      <colab-file-viewer-manager></colab-file-viewer-manager></div>
    <colab-status-bar role="region" aria-label="Runtime status bar" style="min-height: inherit;"><template shadowrootmode="open"><!----> <!--?lit$896484614$--><div class="frames"></div>
      <md-icon-button class="visible-on-closed" title="Runtime disconnected" data-aria-label="Runtime disconnected" disabled="" value=""><template shadowrootmode="open" shadowrootdelegatesfocus><!----><button id="button" class="icon-button  standard " aria-label="Runtime disconnected" disabled="">
        <!--?lit$896484614$--><md-focus-ring part="focus-ring" for="button" aria-hidden="true"><template shadowrootmode="open"><!----></template></md-focus-ring>
        <!--?lit$896484614$--><md-ripple disabled="" aria-hidden="true"><template shadowrootmode="open"><!----><div class="surface   "></div></template></md-ripple>
        <!--?lit$896484614$--><span class="icon"><slot></slot></span>
        <!--?lit$896484614$-->
        <!--?lit$896484614$--><span class="touch"></span>
        <!--?lit$896484614$-->
  </button></template>
        <md-icon filled="" class="visible-on-closed" status="" aria-hidden="true"><template shadowrootmode="open"><!----><slot></slot></template><!--?lit$896484614$-->fiber_manual_record</md-icon>
      </md-icon-button>
      <!--?lit$896484614$-->
      <md-icon-button title="Close" data-aria-label="Close" value=""><template shadowrootmode="open" shadowrootdelegatesfocus><!----><button id="button" class="icon-button  standard " aria-label="Close" tabindex="-1">
        <!--?lit$896484614$--><md-focus-ring part="focus-ring" for="button" aria-hidden="true"><template shadowrootmode="open"><!----></template></md-focus-ring>
        <!--?lit$896484614$--><md-ripple aria-hidden="true"><template shadowrootmode="open"><!----><div class="surface   "></div></template></md-ripple>
        <!--?lit$896484614$--><span class="icon"><slot></slot></span>
        <!--?lit$896484614$-->
        <!--?lit$896484614$--><span class="touch"></span>
        <!--?lit$896484614$-->
  </button></template>
        <md-icon aria-hidden="true"><template shadowrootmode="open"><!----><slot></slot></template>close</md-icon>
      </md-icon-button></template></colab-status-bar></div><div class="goog-menu colab-styled-scroller" id="file-menu" role="menu" aria-haspopup="true" inert="" aria-hidden="true" style="user-select: none; max-height: 574px; visibility: visible; left: 64px; top: 62px; display: none;"><!--?lit$896484614$--><div command="locate-in-drive" class="goog-menuitem" role="menuitem" id=":2" style="user-select: none;"><div class="goog-menuitem-content" style="user-select: none;"><!--?lit$896484614$-->Locate in Drive<!--?lit$896484614$--></div></div><div class="goog-menuseparator goog-menuitem-disabled" aria-disabled="true" role="separator" id=":3" style="user-select: none;"></div><div command="new" class="goog-menuitem" role="menuitem" id=":4" style="user-select: none;"><div class="goog-menuitem-content" style="user-select: none;"><!--?lit$896484614$-->New notebook in Drive<!--?lit$896484614$--></div></div><div command="open" class="goog-menuitem" role="menuitem" id=":5" style="user-select: none;"><div class="goog-menuitem-content" style="user-select: none;"><!--?lit$896484614$-->Open notebook<!--?lit$896484614$--><span class="goog-menuitem-accel">Ctrl+O</span></div></div><div command="import-notebook" class="goog-menuitem " role="menuitem" id=":6" style="user-select: none;"><div class="goog-menuitem-content" style="user-select: none;"><!--?lit$896484614$-->Upload notebook<!--?lit$896484614$--></div></div><div class="goog-menuseparator goog-menuitem-disabled" aria-disabled="true" role="separator" id=":7" style="user-select: none;"></div><div command="rename" class="goog-menuitem goog-menuitem-disabled" role="menuitem" id=":8" aria-disabled="true" style="user-select: none;"><div class="goog-menuitem-content" style="user-select: none;"><!--?lit$896484614$-->Rename<!--?lit$896484614$--></div></div><div command="move-notebook" class="goog-menuitem goog-menuitem-disabled" role="menuitem" id=":9" aria-disabled="true" style="user-select: none;"><div class="goog-menuitem-content" style="user-select: none;"><!--?lit$896484614$-->Move<!--?lit$896484614$--></div></div><div command="trash" class="goog-menuitem goog-menuitem-disabled" role="menuitem" id=":a" aria-disabled="true" style="user-select: none;"><div class="goog-menuitem-content" style="user-select: none;"><!--?lit$896484614$-->Move to trash<!--?lit$896484614$--></div></div><div class="goog-menuseparator goog-menuitem-disabled" aria-disabled="true" role="separator" id=":b" style="user-select: none;"></div><div command="clone" class="goog-menuitem " role="menuitem" id=":c" style="user-select: none;"><div class="goog-menuitem-content" style="user-select: none;"><!--?lit$896484614$-->Save a copy in Drive<!--?lit$896484614$--></div></div><div command="copy-to-gist" class="goog-menuitem " role="menuitem" id=":d" style="user-select: none;"><div class="goog-menuitem-content" style="user-select: none;"><!--?lit$896484614$-->Save a copy as a GitHub Gist<!--?lit$896484614$--></div></div><div command="copy-to-github" class="goog-menuitem " role="menuitem" id=":e" style="user-select: none;"><div class="goog-menuitem-content" style="user-select: none;"><!--?lit$896484614$-->Save a copy in GitHub<!--?lit$896484614$--></div></div><div class="goog-menuseparator goog-menuitem-disabled" aria-disabled="true" role="separator" id=":f" style="user-select: none;"></div><div command="save" class="goog-menuitem " role="menuitem" id=":g" style="user-select: none;"><div class="goog-menuitem-content" style="user-select: none;"><!--?lit$896484614$-->Save<!--?lit$896484614$--><span class="goog-menuitem-accel">Ctrl+S</span></div></div><div command="save-and-checkpoint" class="goog-menuitem goog-menuitem-disabled" role="menuitem" id=":h" aria-disabled="true" style="user-select: none;"><div class="goog-menuitem-content" style="user-select: none;"><!--?lit$896484614$-->Save and pin revision<!--?lit$896484614$--><span class="goog-menuitem-accel">Ctrl+M S</span></div></div><div command="show-history" class="goog-menuitem goog-menuitem-disabled" role="menuitem" id=":i" aria-disabled="true" style="user-select: none;"><div class="goog-menuitem-content" style="user-select: none;"><!--?lit$896484614$-->Revision history<!--?lit$896484614$--></div></div><div class="goog-menuseparator goog-menuitem-disabled" aria-disabled="true" role="separator" id=":j" style="user-select: none;"></div><div class="goog-submenu goog-menuitem" id="download-submenu-menu-button" role="menuitem" aria-haspopup="true" style="user-select: none;"><div class="goog-menuitem-content" style="user-select: none;">
      <!--?lit$896484614$-->Download
    <span class="goog-submenu-arrow" style="user-select: none;">►</span></div></div><div command="print" class="goog-menuitem " role="menuitem" id=":n" style="user-select: none;"><div class="goog-menuitem-content" style="user-select: none;"><!--?lit$896484614$-->Print<!--?lit$896484614$--><span class="goog-menuitem-accel">Ctrl+P</span></div></div></div><div class="goog-menu" id="download-submenu-menu" role="menu" aria-haspopup="true" inert="" aria-hidden="true" style="display: none; user-select: none;"><!--?lit$896484614$--><div command="download-ipynb" class="goog-menuitem " role="menuitem" id=":l" style="user-select: none;"><div class="goog-menuitem-content" style="user-select: none;"><!--?lit$896484614$-->Download .ipynb<!--?lit$896484614$--></div></div><div command="download-python" class="goog-menuitem " role="menuitem" id=":m" style="user-select: none;"><div class="goog-menuitem-content" style="user-select: none;"><!--?lit$896484614$-->Download .py<!--?lit$896484614$--></div></div></div><div class="goog-menu" id="edit-menu" role="menu" aria-haspopup="true" inert="" aria-hidden="true" style="display: none; user-select: none;"><!--?lit$896484614$--><div command="undo" class="goog-menuitem " role="menuitem" id=":p" style="user-select: none;"><div class="goog-menuitem-content" style="user-select: none;"><!--?lit$896484614$-->Undo<!--?lit$896484614$--></div></div><div command="redo" class="goog-menuitem " role="menuitem" id=":q" style="user-select: none;"><div class="goog-menuitem-content" style="user-select: none;"><!--?lit$896484614$-->Redo<!--?lit$896484614$--></div></div><div class="goog-menuseparator goog-menuitem-disabled" aria-disabled="true" role="separator" id=":r" style="user-select: none;"></div><div command="select-all" class="goog-menuitem " role="menuitem" id=":s" style="user-select: none;"><div class="goog-menuitem-content" style="user-select: none;"><!--?lit$896484614$-->Select all cells<!--?lit$896484614$--></div></div><div command="cut" class="goog-menuitem " role="menuitem" id=":t" style="user-select: none;"><div class="goog-menuitem-content" style="user-select: none;"><!--?lit$896484614$-->Cut cell or selection<!--?lit$896484614$--></div></div><div command="copy" class="goog-menuitem " role="menuitem" id=":u" style="user-select: none;"><div class="goog-menuitem-content" style="user-select: none;"><!--?lit$896484614$-->Copy cell or selection<!--?lit$896484614$--></div></div><div command="paste" class="goog-menuitem " role="menuitem" id=":v" style="user-select: none;"><div class="goog-menuitem-content" style="user-select: none;"><!--?lit$896484614$-->Paste<!--?lit$896484614$--></div></div><div command="delete-cell-or-selection" class="goog-menuitem " role="menuitem" id=":w" style="user-select: none;"><div class="goog-menuitem-content" style="user-select: none;"><!--?lit$896484614$-->Delete selected cells<!--?lit$896484614$--></div></div><div class="goog-menuseparator goog-menuitem-disabled" aria-disabled="true" role="separator" id=":x" style="user-select: none;"></div><div command="find" class="goog-menuitem " role="menuitem" id=":y" style="user-select: none;"><div class="goog-menuitem-content" style="user-select: none;"><!--?lit$896484614$-->Find and replace<!--?lit$896484614$--></div></div><div command="find-next" class="goog-menuitem " role="menuitem" id=":z" style="user-select: none;"><div class="goog-menuitem-content" style="user-select: none;"><!--?lit$896484614$-->Find next<!--?lit$896484614$--></div></div><div command="find-previous" class="goog-menuitem " role="menuitem" id=":10" style="user-select: none;"><div class="goog-menuitem-content" style="user-select: none;"><!--?lit$896484614$-->Find previous<!--?lit$896484614$--></div></div><div class="goog-menuseparator goog-menuitem-disabled" aria-disabled="true" role="separator" id=":11" style="user-select: none;"></div><div command="notebook-settings" class="goog-menuitem " role="menuitem" id=":12" style="user-select: none;"><div class="goog-menuitem-content" style="user-select: none;"><!--?lit$896484614$-->Notebook settings<!--?lit$896484614$--></div></div><div class="goog-menuseparator goog-menuitem-disabled" aria-disabled="true" role="separator" id=":13" style="user-select: none;"></div><div command="clear-outputs" class="goog-menuitem " role="menuitem" id=":14" style="user-select: none;"><div class="goog-menuitem-content" style="user-select: none;"><!--?lit$896484614$-->Clear all outputs<!--?lit$896484614$--></div></div></div><div class="goog-menu" id="view-menu" role="menu" aria-haspopup="true" inert="" aria-hidden="true" style="display: none; user-select: none;"><!--?lit$896484614$--><div command="show-toc-pane" class="goog-menuitem goog-option" role="menuitemcheckbox" aria-checked="false" id=":16" style="user-select: none;"><div class="goog-menuitem-content" style="user-select: none;"><div class="goog-menuitem-checkbox" style="user-select: none;"><!----><md-icon aria-hidden="true"><template shadowrootmode="open"><!----><slot></slot></template>check</md-icon> </div><!--?lit$896484614$-->Table of contents<!--?lit$896484614$--></div></div><div command="show-fileinfo" class="goog-menuitem " role="menuitem" id=":17" style="user-select: none;"><div class="goog-menuitem-content" style="user-select: none;"><!--?lit$896484614$-->Notebook info<!--?lit$896484614$--></div></div><div command="show-executedcode" class="goog-menuitem " role="menuitem" id=":18" style="user-select: none;"><div class="goog-menuitem-content" style="user-select: none;"><!--?lit$896484614$-->Executed code history<!--?lit$896484614$--></div></div><div command="toggle-comments-visibility" class="goog-menuitem goog-option" role="menuitemcheckbox" aria-checked="false" id=":19" style="user-select: none;"><div class="goog-menuitem-content" style="user-select: none;"><div class="goog-menuitem-checkbox" style="user-select: none;"><!----><md-icon aria-hidden="true"><template shadowrootmode="open"><!----><slot></slot></template>check</md-icon> </div><!--?lit$896484614$-->Comments sidebar<!--?lit$896484614$--></div></div><div class="goog-menuseparator goog-menuitem-disabled" aria-disabled="true" role="separator" id=":1a" style="user-select: none;"></div><div command="collapse-sections" class="goog-menuitem " role="menuitem" id=":1b" style="user-select: none;"><div class="goog-menuitem-content" style="user-select: none;"><!--?lit$896484614$-->Collapse sections<!--?lit$896484614$--></div></div><div command="expand-sections" class="goog-menuitem " role="menuitem" id=":1c" style="user-select: none;"><div class="goog-menuitem-content" style="user-select: none;"><!--?lit$896484614$-->Expand sections<!--?lit$896484614$--></div></div><div command="save-section-layout" class="goog-menuitem " role="menuitem" id=":1d" style="user-select: none;"><div class="goog-menuitem-content" style="user-select: none;"><!--?lit$896484614$-->Save collapsed section layout<!--?lit$896484614$--></div></div><div class="goog-menuseparator goog-menuitem-disabled" aria-disabled="true" role="separator" id=":1e" style="user-select: none;"></div><div command="hide-code" class="goog-menuitem " role="menuitem" id=":1f" style="user-select: none;"><div class="goog-menuitem-content" style="user-select: none;"><!--?lit$896484614$-->Show/hide code<!--?lit$896484614$--></div></div><div command="toggle-output" class="goog-menuitem " role="menuitem" id=":1g" style="user-select: none;"><div class="goog-menuitem-content" style="user-select: none;"><!--?lit$896484614$-->Show/hide output<!--?lit$896484614$--></div></div><div class="goog-menuseparator goog-menuitem-disabled" aria-disabled="true" role="separator" id=":1h" style="user-select: none;"></div><div command="focus-next-tab" class="goog-menuitem " role="menuitem" id=":1i" style="user-select: none;"><div class="goog-menuitem-content" style="user-select: none;"><!--?lit$896484614$-->Focus next tab<!--?lit$896484614$--></div></div><div command="focus-previous-tab" class="goog-menuitem " role="menuitem" id=":1j" style="user-select: none;"><div class="goog-menuitem-content" style="user-select: none;"><!--?lit$896484614$-->Focus previous tab<!--?lit$896484614$--></div></div><div command="move-tab-to-next" class="goog-menuitem " role="menuitem" id=":1k" style="user-select: none;"><div class="goog-menuitem-content" style="user-select: none;"><!--?lit$896484614$-->Move tab to next pane<!--?lit$896484614$--></div></div><div command="move-tab-to-prev" class="goog-menuitem " role="menuitem" id=":1l" style="user-select: none;"><div class="goog-menuitem-content" style="user-select: none;"><!--?lit$896484614$-->Move tab to previous pane<!--?lit$896484614$--></div></div></div><div class="goog-menu" id="insert-menu" role="menu" aria-haspopup="true" inert="" aria-hidden="true" style="display: none; user-select: none;"><!--?lit$896484614$--><div command="insert-cell-below" class="goog-menuitem " role="menuitem" id=":1n" style="user-select: none;"><div class="goog-menuitem-content" style="user-select: none;"><!--?lit$896484614$-->Code cell<!--?lit$896484614$--></div></div><div command="add-text" class="goog-menuitem " role="menuitem" id=":1o" style="user-select: none;"><div class="goog-menuitem-content" style="user-select: none;"><!--?lit$896484614$-->Text cell<!--?lit$896484614$--></div></div><div command="add-section-header" class="goog-menuitem " role="menuitem" id=":1p" style="user-select: none;"><div class="goog-menuitem-content" style="user-select: none;"><!--?lit$896484614$-->Section header cell<!--?lit$896484614$--></div></div><div class="goog-menuseparator goog-menuitem-disabled" aria-disabled="true" role="separator" id=":1q" style="user-select: none;"></div><div command="open-scratch-code-cell" class="goog-menuitem " role="menuitem" id=":1r" style="user-select: none;"><div class="goog-menuitem-content" style="user-select: none;"><!--?lit$896484614$-->Scratch code cell<!--?lit$896484614$--></div></div><div command="snippets" class="goog-menuitem " role="menuitem" id=":1s" style="user-select: none;"><div class="goog-menuitem-content" style="user-select: none;"><!--?lit$896484614$-->Code snippets<!--?lit$896484614$--></div></div><div class="goog-menuseparator goog-menuitem-disabled" aria-disabled="true" role="separator" id=":1t" style="user-select: none;"></div><div command="add-form-field" class="goog-menuitem " role="menuitem" id=":1u" style="user-select: none;"><div class="goog-menuitem-content" style="user-select: none;"><!--?lit$896484614$-->Add a form field<!--?lit$896484614$--></div></div></div><div class="goog-menu" id="runtime-menu" role="menu" aria-haspopup="true" inert="" aria-hidden="true" style="display: none; user-select: none;"><!--?lit$896484614$--><div command="runall" class="goog-menuitem " role="menuitem" id=":1w" style="user-select: none;"><div class="goog-menuitem-content" style="user-select: none;"><!--?lit$896484614$-->Run all<!--?lit$896484614$--></div></div><div command="runbefore" class="goog-menuitem " role="menuitem" id=":1x" style="user-select: none;"><div class="goog-menuitem-content" style="user-select: none;"><!--?lit$896484614$-->Run before<!--?lit$896484614$--></div></div><div command="runfocused" class="goog-menuitem " role="menuitem" id=":1y" style="user-select: none;"><div class="goog-menuitem-content" style="user-select: none;"><!--?lit$896484614$-->Run the focused cell<!--?lit$896484614$--></div></div><div command="runselected" class="goog-menuitem " role="menuitem" id=":1z" style="user-select: none;"><div class="goog-menuitem-content" style="user-select: none;"><!--?lit$896484614$-->Run selection<!--?lit$896484614$--></div></div><div command="runafter" class="goog-menuitem " role="menuitem" id=":20" style="user-select: none;"><div class="goog-menuitem-content" style="user-select: none;"><!--?lit$896484614$-->Run after<!--?lit$896484614$--></div></div><div class="goog-menuseparator goog-menuitem-disabled" aria-disabled="true" role="separator" id=":21" style="user-select: none;"></div><div command="interrupt" class="goog-menuitem " role="menuitem" id=":22" style="user-select: none;"><div class="goog-menuitem-content" style="user-select: none;"><!--?lit$896484614$-->Interrupt execution<!--?lit$896484614$--></div></div><div command="restart" class="goog-menuitem " role="menuitem" id=":23" style="user-select: none;"><div class="goog-menuitem-content" style="user-select: none;"><!--?lit$896484614$-->Restart session<!--?lit$896484614$--></div></div><div command="restart-and-run-all" class="goog-menuitem " role="menuitem" id=":24" style="user-select: none;"><div class="goog-menuitem-content" style="user-select: none;"><!--?lit$896484614$-->Restart session and run all<!--?lit$896484614$--></div></div><div command="powerwash-current-vm" class="goog-menuitem " role="menuitem" id=":25" style="user-select: none;"><div class="goog-menuitem-content" style="user-select: none;"><!--?lit$896484614$-->Disconnect and delete runtime<!--?lit$896484614$--></div></div><div class="goog-menuseparator goog-menuitem-disabled" aria-disabled="true" role="separator" id=":26" style="user-select: none;"></div><div command="change-runtime-type" class="goog-menuitem " role="menuitem" id=":27" style="user-select: none;"><div class="goog-menuitem-content" style="user-select: none;"><!--?lit$896484614$-->Change runtime type<!--?lit$896484614$--></div></div><div class="goog-menuseparator goog-menuitem-disabled" aria-disabled="true" role="separator" id=":28" style="user-select: none;"></div><div command="manage-sessions" class="goog-menuitem " role="menuitem" id=":29" style="user-select: none;"><div class="goog-menuitem-content" style="user-select: none;"><!--?lit$896484614$-->Manage sessions<!--?lit$896484614$--></div></div><div command="open-resource-viewer" class="goog-menuitem " role="menuitem" id=":2a" style="user-select: none;"><div class="goog-menuitem-content" style="user-select: none;"><!--?lit$896484614$-->View resources<!--?lit$896484614$--></div></div><div command="view-runtime-logs" class="goog-menuitem " role="menuitem" id=":2b" style="user-select: none;"><div class="goog-menuitem-content" style="user-select: none;"><!--?lit$896484614$-->View runtime logs<!--?lit$896484614$--></div></div></div><div class="goog-menu" id="tools-menu" role="menu" aria-haspopup="true" inert="" aria-hidden="true" style="display: none; user-select: none;"><!--?lit$896484614$--><div command="show-command-palette" class="goog-menuitem " role="menuitem" id=":2d" style="user-select: none;"><div class="goog-menuitem-content" style="user-select: none;"><!--?lit$896484614$-->Command palette<!--?lit$896484614$--></div></div><div class="goog-menuseparator goog-menuitem-disabled" aria-disabled="true" role="separator" id=":2e" style="user-select: none;"></div><div command="preferences" class="goog-menuitem " role="menuitem" id=":2f" style="user-select: none;"><div class="goog-menuitem-content" style="user-select: none;"><!--?lit$896484614$-->Settings<!--?lit$896484614$--></div></div><div command="shortcuts" class="goog-menuitem " role="menuitem" id=":2g" style="user-select: none;"><div class="goog-menuitem-content" style="user-select: none;"><!--?lit$896484614$-->Keyboard shortcuts<!--?lit$896484614$--></div></div><div class="goog-menuseparator goog-menuitem-disabled" aria-disabled="true" role="separator" id=":2h" style="user-select: none;"></div><div command="open-differ" class="goog-menuitem " role="menuitem" id=":2i" style="user-select: none;"><div class="goog-menuitem-content" style="user-select: none;"><!--?lit$896484614$-->Diff notebooks<!--?lit$896484614$--> <span class="screenreader-only" style="user-select: none;"><!--?lit$896484614$-->(opens in a new tab)</span></div></div></div><div class="goog-menu" id="help-menu" role="menu" aria-haspopup="true" inert="" aria-hidden="true" style="display: none; user-select: none;"><!--?lit$896484614$--><div command="faq" class="goog-menuitem " role="menuitem" id=":2k" style="user-select: none;"><div class="goog-menuitem-content" style="user-select: none;"><!--?lit$896484614$-->Frequently asked questions<!--?lit$896484614$--></div></div><div command="view-relnotes" class="goog-menuitem " role="menuitem" id=":2l" style="user-select: none;"><div class="goog-menuitem-content" style="user-select: none;"><!--?lit$896484614$-->View release notes<!--?lit$896484614$--></div></div><div command="snippets" class="goog-menuitem " role="menuitem" id=":2m" style="user-select: none;"><div class="goog-menuitem-content" style="user-select: none;"><!--?lit$896484614$-->Search code snippets<!--?lit$896484614$--></div></div><div class="goog-menuseparator goog-menuitem-disabled" aria-disabled="true" role="separator" id=":2n" style="user-select: none;"></div><div command="report-bug" class="goog-menuitem " role="menuitem" id=":2o" style="user-select: none;"><div class="goog-menuitem-content" style="user-select: none;"><!--?lit$896484614$-->Report a bug<!--?lit$896484614$--></div></div><div command="report-abuse" class="goog-menuitem " role="menuitem" id=":2p" style="user-select: none;"><div class="goog-menuitem-content" style="user-select: none;"><!--?lit$896484614$-->Report Drive abuse<!--?lit$896484614$--></div></div><div command="send-feedback" class="goog-menuitem " role="menuitem" id=":2q" style="user-select: none;"><div class="goog-menuitem-content" style="user-select: none;"><!--?lit$896484614$-->Send feedback<!--?lit$896484614$--></div></div><div command="view-tos" class="goog-menuitem " role="menuitem" id=":2r" style="user-select: none;"><div class="goog-menuitem-content" style="user-select: none;"><!--?lit$896484614$-->View terms of service<!--?lit$896484614$--></div></div></div><div class="thumbnail" inert="" aria-hidden="true"></div><iframe id="apiproxy59b2073d82bfa5c564f0ce0efec1e606d5c893d10.4250940894" name="apiproxy59b2073d82bfa5c564f0ce0efec1e606d5c893d10.4250940894" src="./Sentiment-analysis-on-amazon-product-reviews_files/proxy.html" tabindex="-1" aria-hidden="true" inert="" style="width: 1px; height: 1px; position: absolute; top: -100px; display: none;"></iframe><div class="monaco-aria-container" inert="" aria-hidden="true"><div class="monaco-alert" role="alert" aria-atomic="true"></div><div class="monaco-alert" role="alert" aria-atomic="true"></div><div class="monaco-status" role="complementary" aria-live="polite" aria-atomic="true"></div><div class="monaco-status" role="complementary" aria-live="polite" aria-atomic="true"></div></div><div inert="" aria-hidden="true" style="position: absolute; width: 0px; height: 0px; overflow: hidden; padding: 0px; border: 0px; margin: 0px;"><div id="MathJax_Font_Test" style="position: absolute; visibility: hidden; top: 0px; left: 0px; width: auto; min-width: 0px; max-width: none; padding: 0px; border: 0px; margin: 0px; white-space: nowrap; text-align: left; text-indent: 0px; text-transform: none; line-height: normal; letter-spacing: normal; word-spacing: normal; font-size: 40px; font-weight: normal; font-style: normal; font-size-adjust: none; font-family: MathJax_Size1, monospace;"></div></div><div inert="" aria-hidden="true"><div class="grecaptcha-badge" data-style="bottomright" style="width: 256px; height: 60px; position: fixed; visibility: hidden; display: block; transition: right 0.3s; bottom: 14px; right: -186px; box-shadow: gray 0px 0px 5px; border-radius: 2px; overflow: hidden;"><div class="grecaptcha-logo"><iframe title="reCAPTCHA" width="256" height="60" role="presentation" name="a-m47ztj4d4t8g" frameborder="0" scrolling="no" sandbox="allow-forms allow-popups allow-same-origin allow-scripts allow-top-navigation allow-modals allow-popups-to-escape-sandbox allow-storage-access-by-user-activation" src="./Sentiment-analysis-on-amazon-product-reviews_files/anchor.html" tabindex="-1"></iframe></div><div class="grecaptcha-error"></div><textarea id="g-recaptcha-response-100000" name="g-recaptcha-response" class="g-recaptcha-response" tabindex="-1" style="width: 250px; height: 40px; border: 1px solid rgb(193, 193, 193); margin: 10px 25px; padding: 0px; resize: none; display: none;"></textarea></div><iframe tabindex="-1" style="display: none;" src="./Sentiment-analysis-on-amazon-product-reviews_files/saved_resource.html"></iframe></div><iframe src="./Sentiment-analysis-on-amazon-product-reviews_files/bscframe.html" inert="" aria-hidden="true" tabindex="-1" style="display: none;"></iframe><iframe id="hfcr" src="./Sentiment-analysis-on-amazon-product-reviews_files/RotateCookiesPage.html" inert="" aria-hidden="true" tabindex="-1" style="display: none;"></iframe><mwc-dialog class="colab-side-tab-dialog very-wide colab-open-dialog" open=""><template shadowrootmode="open"><!---->
    <div role="dialog" aria-modal="true" class="mdc-dialog mdc-dialog--open" aria-label="Open notebook">
      <div class="mdc-dialog__container">
        <div class="mdc-dialog__surface">
          <!--?lit$896484614$-->
      <h2 id="title" class="mdc-dialog__title" style="border-top-width: 5px; border-image: linear-gradient(135deg, var(--colab-logo-dark) 0%, var(--colab-logo-dark) 5%, var(--colab-logo-light) 5%, var(--colab-logo-light) 75%, var(--colab-logo-dark) 75%, var(--colab-logo-dark) 100%) 1; border-top-style: solid;"><!--?lit$896484614$-->Open notebook</h2>
          <div id="content" class="mdc-dialog__content" style="padding: 0px;">
            <slot id="contentSlot"></slot>
          </div>
          <footer id="actions" class=" mdc-dialog__actions ">
            <span>
              <slot name="secondaryAction"></slot>
            </span>
            <span>
             <slot name="primaryAction"></slot>
            </span>
          </footer>
        </div>
      </div>
      <div class="mdc-dialog__scrim"></div>
    </div></template><!----><!----> <div class="dialog-content">
    <colab-side-tab-dialog-page-viewer insubmenu=""><template shadowrootmode="open"><!---->
      <div class="back">
        <mwc-button alt="Back"><template shadowrootmode="open"><!---->
      <button id="button" class="mdc-button   " aria-label="">
        <!--?lit$896484614$--><!--?-->
        <!--?lit$896484614$-->
        <span class="leading-icon">
          <slot name="icon">
            <!--?lit$896484614$-->
          </slot>
        </span>
        <span class="mdc-button__label"><!--?lit$896484614$--></span>
        <span class="slot-container   ">
          <slot></slot>
        </span>
        <span class="trailing-icon">
          <slot name="trailingIcon">
            <!--?lit$896484614$-->
          </slot>
        </span>
      </button></template>
          <md-icon aria-hidden="true"><template shadowrootmode="open"><!----><slot></slot></template>arrow_back</md-icon>
          <!--?lit$896484614$-->Back
        </mwc-button>
      </div>
      <div class="main-content">
        <md-list id="headings-menu"><template shadowrootmode="open"><!---->
      <slot>
      </slot>
    </template>
          <slot name="headings"></slot>
        </md-list>
        <slot name="pagecontent"></slot>
      </div>
    </template>
      <!--?lit$896484614$--><!---->
      <md-list-item type="button" slot="headings" md-list-item="" tabindex="-1"><template shadowrootmode="open" shadowrootdelegatesfocus><!---->
      <button id="item" role="listitem" tabindex="0" class="list-item   "><!--?lit$896484614$-->
      <md-item><template shadowrootmode="open"><!---->
      <slot name="container"></slot>
      <slot class="non-text" name="start"></slot>
      <div class="text">
        <slot name="overline"></slot>
        <slot class="default-slot"></slot>
        <slot name="headline"></slot>
        <slot name="supporting-text"></slot>
      </div>
      <slot class="non-text" name="trailing-supporting-text"></slot>
      <slot class="non-text" name="end"></slot>
    </template>
        <div slot="container">
          <!--?lit$896484614$--> <md-ripple part="ripple" for="item" aria-hidden="true"><template shadowrootmode="open"><!----><div class="surface   "></div></template></md-ripple> <!--?lit$896484614$--> <md-focus-ring part="focus-ring" for="item" inward="" aria-hidden="true"><template shadowrootmode="open"><!----></template></md-focus-ring>
        </div>
        <slot name="start" slot="start"></slot>
        <slot name="end" slot="end"></slot>
        <!--?lit$896484614$-->
      <slot></slot>
      <slot name="overline" slot="overline"></slot>
      <slot name="headline" slot="headline"></slot>
      <slot name="supporting-text" slot="supporting-text"></slot>
      <slot name="trailing-supporting-text" slot="trailing-supporting-text"></slot>
    
      </md-item>
    </button>
    </template>
        <span><!--?lit$896484614$-->Examples</span>
        <md-icon slot="end" aria-hidden="true"><template shadowrootmode="open"><!----><slot></slot></template>chevron_right</md-icon>
      </md-list-item>
    <!----><!---->
      <md-list-item type="button" slot="headings" dialoginitialfocus="" md-list-item="" tabindex="0"><template shadowrootmode="open" shadowrootdelegatesfocus><!---->
      <button id="item" role="listitem" tabindex="0" class="list-item   "><!--?lit$896484614$-->
      <md-item><template shadowrootmode="open"><!---->
      <slot name="container"></slot>
      <slot class="non-text" name="start"></slot>
      <div class="text">
        <slot name="overline"></slot>
        <slot class="default-slot"></slot>
        <slot name="headline"></slot>
        <slot name="supporting-text"></slot>
      </div>
      <slot class="non-text" name="trailing-supporting-text"></slot>
      <slot class="non-text" name="end"></slot>
    </template>
        <div slot="container">
          <!--?lit$896484614$--> <md-ripple part="ripple" for="item" aria-hidden="true"><template shadowrootmode="open"><!----><div class="surface   "></div></template></md-ripple> <!--?lit$896484614$--> <md-focus-ring part="focus-ring" for="item" inward="" aria-hidden="true"><template shadowrootmode="open"><!----></template></md-focus-ring>
        </div>
        <slot name="start" slot="start"></slot>
        <slot name="end" slot="end"></slot>
        <!--?lit$896484614$-->
      <slot></slot>
      <slot name="overline" slot="overline"></slot>
      <slot name="headline" slot="headline"></slot>
      <slot name="supporting-text" slot="supporting-text"></slot>
      <slot name="trailing-supporting-text" slot="trailing-supporting-text"></slot>
    
      </md-item>
    </button>
    </template>
        <span><!--?lit$896484614$-->Recent</span>
        <md-icon slot="end" aria-hidden="true"><template shadowrootmode="open"><!----><slot></slot></template>chevron_right</md-icon>
      </md-list-item>
    <!----><!---->
      <md-list-item type="button" slot="headings" md-list-item="" tabindex="-1"><template shadowrootmode="open" shadowrootdelegatesfocus><!---->
      <button id="item" role="listitem" tabindex="0" class="list-item   "><!--?lit$896484614$-->
      <md-item><template shadowrootmode="open"><!---->
      <slot name="container"></slot>
      <slot class="non-text" name="start"></slot>
      <div class="text">
        <slot name="overline"></slot>
        <slot class="default-slot"></slot>
        <slot name="headline"></slot>
        <slot name="supporting-text"></slot>
      </div>
      <slot class="non-text" name="trailing-supporting-text"></slot>
      <slot class="non-text" name="end"></slot>
    </template>
        <div slot="container">
          <!--?lit$896484614$--> <md-ripple part="ripple" for="item" aria-hidden="true"><template shadowrootmode="open"><!----><div class="surface"></div></template></md-ripple> <!--?lit$896484614$--> <md-focus-ring part="focus-ring" for="item" inward="" aria-hidden="true"><template shadowrootmode="open"><!----></template></md-focus-ring>
        </div>
        <slot name="start" slot="start"></slot>
        <slot name="end" slot="end"></slot>
        <!--?lit$896484614$-->
      <slot></slot>
      <slot name="overline" slot="overline"></slot>
      <slot name="headline" slot="headline"></slot>
      <slot name="supporting-text" slot="supporting-text"></slot>
      <slot name="trailing-supporting-text" slot="trailing-supporting-text"></slot>
    
      </md-item>
    </button>
    </template>
        <span><!--?lit$896484614$-->Google Drive</span>
        <md-icon slot="end" aria-hidden="true"><template shadowrootmode="open"><!----><slot></slot></template>chevron_right</md-icon>
      </md-list-item>
    <!----><!---->
      <md-list-item type="button" slot="headings" md-list-item="" tabindex="-1"><template shadowrootmode="open" shadowrootdelegatesfocus><!---->
      <button id="item" role="listitem" tabindex="0" class="list-item   "><!--?lit$896484614$-->
      <md-item><template shadowrootmode="open"><!---->
      <slot name="container"></slot>
      <slot class="non-text" name="start"></slot>
      <div class="text">
        <slot name="overline"></slot>
        <slot class="default-slot"></slot>
        <slot name="headline"></slot>
        <slot name="supporting-text"></slot>
      </div>
      <slot class="non-text" name="trailing-supporting-text"></slot>
      <slot class="non-text" name="end"></slot>
    </template>
        <div slot="container">
          <!--?lit$896484614$--> <md-ripple part="ripple" for="item" aria-hidden="true"><template shadowrootmode="open"><!----><div class="surface"></div></template></md-ripple> <!--?lit$896484614$--> <md-focus-ring part="focus-ring" for="item" inward="" aria-hidden="true"><template shadowrootmode="open"><!----></template></md-focus-ring>
        </div>
        <slot name="start" slot="start"></slot>
        <slot name="end" slot="end"></slot>
        <!--?lit$896484614$-->
      <slot></slot>
      <slot name="overline" slot="overline"></slot>
      <slot name="headline" slot="headline"></slot>
      <slot name="supporting-text" slot="supporting-text"></slot>
      <slot name="trailing-supporting-text" slot="trailing-supporting-text"></slot>
    
      </md-item>
    </button>
    </template>
        <span><!--?lit$896484614$-->GitHub</span>
        <md-icon slot="end" aria-hidden="true"><template shadowrootmode="open"><!----><slot></slot></template>chevron_right</md-icon>
      </md-list-item>
    <!----><!---->
      <md-list-item type="button" slot="headings" md-list-item="" tabindex="-1"><template shadowrootmode="open" shadowrootdelegatesfocus><!---->
      <button id="item" role="listitem" tabindex="0" class="list-item   "><!--?lit$896484614$-->
      <md-item><template shadowrootmode="open"><!---->
      <slot name="container"></slot>
      <slot class="non-text" name="start"></slot>
      <div class="text">
        <slot name="overline"></slot>
        <slot class="default-slot"></slot>
        <slot name="headline"></slot>
        <slot name="supporting-text"></slot>
      </div>
      <slot class="non-text" name="trailing-supporting-text"></slot>
      <slot class="non-text" name="end"></slot>
    </template>
        <div slot="container">
          <!--?lit$896484614$--> <md-ripple part="ripple" for="item" aria-hidden="true"><template shadowrootmode="open"><!----><div class="surface"></div></template></md-ripple> <!--?lit$896484614$--> <md-focus-ring part="focus-ring" for="item" inward="" aria-hidden="true"><template shadowrootmode="open"><!----></template></md-focus-ring>
        </div>
        <slot name="start" slot="start"></slot>
        <slot name="end" slot="end"></slot>
        <!--?lit$896484614$-->
      <slot></slot>
      <slot name="overline" slot="overline"></slot>
      <slot name="headline" slot="headline"></slot>
      <slot name="supporting-text" slot="supporting-text"></slot>
      <slot name="trailing-supporting-text" slot="trailing-supporting-text"></slot>
    
      </md-item>
    </button>
    </template>
        <span><!--?lit$896484614$-->Upload</span>
        <md-icon slot="end" aria-hidden="true"><template shadowrootmode="open"><!----><slot></slot></template>chevron_right</md-icon>
      </md-list-item>
    <!---->

      <colab-pages slot="pagecontent" class="colab-styled-scroller" selected="1"><template shadowrootmode="open"><!----><slot name="page-1"></slot></template>
        <!--?lit$896484614$--><!----><div class="pagecontent right-content" slot="page-0">
      </div><!----><!----><div class="pagecontent right-content selected-tab" slot="page-1">
      <!----><!--?lit$896484614$--><!--?lit$896484614$--><colab-notebook-list><template shadowrootmode="open"><!----> <div class="dialog-table-container">
      <section class="dialog-table-input-row">
        <md-outlined-text-field id="dialog-table-filter-input" label="Search notebooks" data-aria-label="Enter a search string to filter the list of notebooks shown below." inputmode="" type="text" autocomplete=""><template shadowrootmode="open" shadowrootdelegatesfocus><!---->
      <span class="text-field   ">
        <!--?lit$896484614$--><md-outlined-field class="field" count="0" error-text="" label="Search notebooks" max="-1" supporting-text="" has-end=""><template shadowrootmode="open"><!---->
      <div class="field with-end">
        <div class="container-overflow">
          <!--?lit$896484614$--> <!--?lit$896484614$--> <!--?lit$896484614$-->
      <div class="outline">
        <div class="outline-start"></div>
        <div class="outline-notch">
          <div class="outline-panel-inactive"></div>
          <div class="outline-panel-active"></div>
          <div class="outline-label"><!--?lit$896484614$-->
      <span class="label  hidden floating " aria-hidden="true"><!--?lit$896484614$-->Search notebooks</span>
    </div>
        </div>
        <div class="outline-end"></div>
      </div>
    
          <div class="container">
            <div class="start">
              <slot name="start"></slot>
            </div>
            <div class="middle">
              <div class="label-wrapper">
                <!--?lit$896484614$-->
      <span class="label  resting " aria-hidden="false"><!--?lit$896484614$-->Search notebooks</span>
     <!--?lit$896484614$-->
              </div>
              <div class="content">
                <slot></slot>
              </div>
            </div>
            <div class="end">
              <slot name="end"></slot>
            </div>
          </div>
        </div>
        <!--?lit$896484614$-->
      </div>
    </template>
      <!--?lit$896484614$-->
      <span class="icon leading" slot="start">
        <slot name="leading-icon"></slot>
      </span>
    
      <!--?lit$896484614$-->
      <div class="input-wrapper">
        <!--?lit$896484614$-->
        <input class="input" aria-describedby="description" aria-invalid="false" aria-label="Enter a search string to filter the list of notebooks shown below." type="text">
        <!--?lit$896484614$-->
      </div>
    
      <!--?lit$896484614$-->
      <span class="icon trailing" slot="end">
        <slot name="trailing-icon"></slot>
      </span>
    
      <div id="description" slot="aria-describedby"></div>
    </md-outlined-field>
      </span>
    </template>
          <md-icon slot="trailing-icon" aria-hidden="true"><template shadowrootmode="open"><!----><slot></slot></template>search</md-icon>
        </md-outlined-text-field>
        <div>
          <slot name="reload"></slot>
          <slot name="clearhistory"></slot>
        </div>
      </section>
      <div class="dialog-table" role="table" aria-label="Recent notebooks">
        <div role="rowgroup">
          <div role="row" class="dialog-table-header  ">
            <span class="icon-column" role="columnheader" aria-label="Icon"></span>
            <span class="title-column" role="columnheader"><!--?lit$896484614$-->Title</span>
            <!--?lit$896484614$-->
            <!--?lit$896484614$--><span role="columnheader" class="date-column date-column-last clickable" aria-sort="descending">
                  <button class="sort" title="Sort by when notebook was last accessed">
                    <!--?lit$896484614$-->Last opened
                    <md-icon aria-hidden="true"><template shadowrootmode="open"><!----><slot></slot></template><!--?lit$896484614$-->arrow_downward_alt</md-icon>
                  </button>
                </span>
            <!--?lit$896484614$--><span role="columnheader" class="date-column date-column-first clickable">
                  <button class="sort" title="Sort by when notebook was first opened">
                    <!--?lit$896484614$-->First opened
                    <md-icon aria-hidden="true"><template shadowrootmode="open"><!----><slot></slot></template><!--?lit$896484614$-->swap_vert</md-icon>
                  </button>
                </span>
            <span class="grow"></span>
            <span class="screenreader-only" role="columnheader"><!--?lit$896484614$-->Actions</span>
          </div>
        </div>
        <!--?lit$896484614$--><div id="num-results" aria-atomic="true" class="screenreader-only" aria-live="polite">
        <!--?lit$896484614$-->64 results
      </div>
      <mwc-list innerrole="rowgroup" itemroles="row" style="display: block; position: relative; contain: size layout; overflow: auto; min-height: 150px;"><template shadowrootmode="open"><!---->
      <!-- @ts-ignore -->
      <ul class="mdc-deprecated-list" tabindex="-1" role="rowgroup">
        <slot></slot>
        <!--?lit$896484614$-->
      </ul>
    </template>
        <!--?lit$896484614$--><!----><mwc-list-item twoline="" graphic="icon" mwc-list-item="" role="row" tabindex="0" aria-disabled="false" aria-selected="false" style="position: absolute; box-sizing: border-box; transform: translate(0px, 0px); top: 0px;"><template shadowrootmode="open"><!---->
      <!--?lit$896484614$-->
      <mwc-ripple><template shadowrootmode="open"><!---->
        <div class="mdc-ripple-surface mdc-ripple-upgraded mdc-ripple-upgraded--background-focused" style="--mdc-ripple-fg-scale: 1.7020087927079282; --mdc-ripple-fg-size: 396px; --mdc-ripple-fg-translate-end: 132.5px, -166.5px; --mdc-ripple-fg-translate-start: 83px, -179.5px;"></div></template>
      </mwc-ripple>
      <!--?lit$896484614$-->
      <span class="mdc-deprecated-list-item__graphic material-icons   ">
        <slot name="graphic"></slot>
      </span>
      <!--?lit$896484614$-->
      <span class="mdc-deprecated-list-item__text">
        <!--?lit$896484614$-->
      <span class="mdc-deprecated-list-item__primary-text">
        <slot></slot>
      </span>
      <span class="mdc-deprecated-list-item__secondary-text">
        <slot name="secondary"></slot>
      </span>
    
      </span>
      <!--?lit$896484614$--><!--?--><!--?--></template>
      <md-icon slot="graphic" role="cell" title="Notebook stored in Google Drive"><template shadowrootmode="open"><!----><slot></slot></template><!--?lit$896484614$-->
      <svg viewBox="0 0 192 192">
        <path d="M128.33,122l7.59,26.17l19.89,21.42c0,0,0,0,0,0v0c2.69-1.55,4.98-3.8,6.59-6.59l18.48-32 c1.61-2.78,2.41-5.89,2.41-9l-28.38-5.5L128.33,122z" fill="#EA4335"></path>
        <path d="M123.48,18.41c-2.69-1.55-5.78-2.41-9-2.41H77.53c-3.2,0-6.32,0.88-9,2.41l0,0l7.96,26.81l19.44,20.64 L96,66l0,0l19.58-20.89L123.48,18.41C123.48,18.41,123.48,18.41,123.48,18.41C123.48,18.41,123.48,18.41,123.48,18.41z" fill="#188038"></path>
        <path d="M63.67,122l-28.33-6.5L8.72,122c0,3.1,0.8,6.2,2.4,8.99L29.6,163c1.61,2.78,3.9,5.03,6.59,6.59 l19.59-20.18L63.67,122L63.67,122z" fill="#1967D2"></path>
        <path d="M155.47,69l-25.4-44c-1.61-2.79-3.9-5.04-6.59-6.59L96,66l32.33,56h54.95c0-3.11-0.8-6.21-2.41-9 L155.47,69z" fill="#FBBC04"></path><path d="M128.33,122H63.67l-27.48,47.59c2.69,1.55,5.78,2.41,9,2.41h101.61c3.22,0,6.31-0.86,9-2.41L128.33,122z" fill="#4285F4"></path>
        <path d="M96,66L68.53,18.41c-2.69,1.55-4.97,3.79-6.58,6.57l-50.83,88.05c-1.6,2.78-2.4,5.88-2.4,8.97h54.95L96,66 z" fill="#34A853"></path>
      </svg></md-icon>
      <div class="item-row   ">
        <div class="title-column multiline-column" role="cell">
          <a class="row-link" href="https://colab.research.google.com/drive/1t3MxhL-UGpniI56v79xwwTF6j2P-G-km#" title="sentiment-analysis-on-amazon-product-reviews.ipynb">
            <div class="row-link-text nowrap multiline-primary"><!--?lit$896484614$-->sentiment-analysis-on-amazon-product-reviews.ipynb</div>
          </a>
          <div class="secondary"><!--?lit$896484614$--><!--?lit$896484614$--></div>
        </div>
        <!--?lit$896484614$-->
        <!--?lit$896484614$--> <span role="cell" class="date-column date-column-last"><!--?lit$896484614$-->8:45 PM</span>
        <!--?lit$896484614$--> <span role="cell" class="date-column date-column-first"><!--?lit$896484614$-->January 5</span>
        <div class="grow"></div>
        <div class="small-icon-action-column" role="cell">
          <div class="small-icon-action">
            <!--?lit$896484614$--> <a target="_blank" href="https://drive.google.com/drive/?action=locate&amp;id=1t3MxhL-UGpniI56v79xwwTF6j2P-G-km&amp;authuser=0" aria-label="View &quot;sentiment-analysis-on-amazon-product-reviews.ipynb&quot; in Google Drive Link will open in a new tab" title="View &quot;sentiment-analysis-on-amazon-product-reviews.ipynb&quot; in Google Drive">
                  <md-icon filled="" class="small-icon" aria-hidden="true"><template shadowrootmode="open"><!----><slot></slot></template><!--?lit$896484614$--><svg viewBox="0 0 24 24"><!--?lit$896484614$-->
    <path d="M20,6H12L10,4H4A2,2,0,0,0,2,6V18a2,2,0,0,0,2,2H20a2,2,0,0,0,2-2V8A2,2,0,0,0,20,6ZM13.57,9.32,13,8.4l.34-.6h3.11l3.69,6.5H16.38M12.11,17l-.67,1.2h-1L9,15.42,12.72,9l2,3.46h0M19.3,18.2H12.09l.67-1.2,1.15-2h6.64l.34.6Z"></path></svg></md-icon>
                </a>
          </div>
          <div class="small-icon-action">
            <a target="_blank" href="https://colab.research.google.com/drive/1t3MxhL-UGpniI56v79xwwTF6j2P-G-km#" title="Open &quot;sentiment-analysis-on-amazon-product-reviews.ipynb&quot; in new tab">
              <md-icon class="small-icon" aria-hidden="true"><template shadowrootmode="open"><!----><slot></slot></template>open_in_new</md-icon>
            </a>
          </div>
        </div>
      </div>
    </mwc-list-item><!----><!----><mwc-list-item twoline="" graphic="icon" mwc-list-item="" role="row" tabindex="-1" aria-disabled="false" aria-selected="false" style="position: absolute; box-sizing: border-box; transform: translate(0px, 64px); top: 0px;"><template shadowrootmode="open"><!---->
      <!--?lit$896484614$-->
      <mwc-ripple><template shadowrootmode="open"><!---->
        <div class="mdc-ripple-surface mdc-ripple-upgraded"></div></template>
      </mwc-ripple>
      <!--?lit$896484614$-->
      <span class="mdc-deprecated-list-item__graphic material-icons   ">
        <slot name="graphic"></slot>
      </span>
      <!--?lit$896484614$-->
      <span class="mdc-deprecated-list-item__text">
        <!--?lit$896484614$-->
      <span class="mdc-deprecated-list-item__primary-text">
        <slot></slot>
      </span>
      <span class="mdc-deprecated-list-item__secondary-text">
        <slot name="secondary"></slot>
      </span>
    
      </span>
      <!--?lit$896484614$--><!--?--><!--?--></template>
      <md-icon slot="graphic" role="cell" title="Notebook stored in Google Drive"><template shadowrootmode="open"><!----><slot></slot></template><!--?lit$896484614$-->
      <svg viewBox="0 0 192 192">
        <path d="M128.33,122l7.59,26.17l19.89,21.42c0,0,0,0,0,0v0c2.69-1.55,4.98-3.8,6.59-6.59l18.48-32 c1.61-2.78,2.41-5.89,2.41-9l-28.38-5.5L128.33,122z" fill="#EA4335"></path>
        <path d="M123.48,18.41c-2.69-1.55-5.78-2.41-9-2.41H77.53c-3.2,0-6.32,0.88-9,2.41l0,0l7.96,26.81l19.44,20.64 L96,66l0,0l19.58-20.89L123.48,18.41C123.48,18.41,123.48,18.41,123.48,18.41C123.48,18.41,123.48,18.41,123.48,18.41z" fill="#188038"></path>
        <path d="M63.67,122l-28.33-6.5L8.72,122c0,3.1,0.8,6.2,2.4,8.99L29.6,163c1.61,2.78,3.9,5.03,6.59,6.59 l19.59-20.18L63.67,122L63.67,122z" fill="#1967D2"></path>
        <path d="M155.47,69l-25.4-44c-1.61-2.79-3.9-5.04-6.59-6.59L96,66l32.33,56h54.95c0-3.11-0.8-6.21-2.41-9 L155.47,69z" fill="#FBBC04"></path><path d="M128.33,122H63.67l-27.48,47.59c2.69,1.55,5.78,2.41,9,2.41h101.61c3.22,0,6.31-0.86,9-2.41L128.33,122z" fill="#4285F4"></path>
        <path d="M96,66L68.53,18.41c-2.69,1.55-4.97,3.79-6.58,6.57l-50.83,88.05c-1.6,2.78-2.4,5.88-2.4,8.97h54.95L96,66 z" fill="#34A853"></path>
      </svg></md-icon>
      <div class="item-row   ">
        <div class="title-column multiline-column" role="cell">
          <a class="row-link" href="https://colab.research.google.com/drive/1egIiaL41SS2-K-dulaK500Ya-Mje5QGA" title="Copy of sentiment-analysis-on-amazon-product-reviews.ipynb">
            <div class="row-link-text nowrap multiline-primary"><!--?lit$896484614$-->Copy of sentiment-analysis-on-amazon-product-reviews.ipynb</div>
          </a>
          <div class="secondary"><!--?lit$896484614$--><!--?lit$896484614$--></div>
        </div>
        <!--?lit$896484614$-->
        <!--?lit$896484614$--> <span role="cell" class="date-column date-column-last"><!--?lit$896484614$-->7:20 PM</span>
        <!--?lit$896484614$--> <span role="cell" class="date-column date-column-first"><!--?lit$896484614$-->7:07 PM</span>
        <div class="grow"></div>
        <div class="small-icon-action-column" role="cell">
          <div class="small-icon-action">
            <!--?lit$896484614$--> <a target="_blank" href="https://drive.google.com/drive/?action=locate&amp;id=1egIiaL41SS2-K-dulaK500Ya-Mje5QGA&amp;authuser=0" aria-label="View &quot;Copy of sentiment-analysis-on-amazon-product-reviews.ipynb&quot; in Google Drive Link will open in a new tab" title="View &quot;Copy of sentiment-analysis-on-amazon-product-reviews.ipynb&quot; in Google Drive">
                  <md-icon filled="" class="small-icon" aria-hidden="true"><template shadowrootmode="open"><!----><slot></slot></template><!--?lit$896484614$--><svg viewBox="0 0 24 24"><!--?lit$896484614$-->
    <path d="M20,6H12L10,4H4A2,2,0,0,0,2,6V18a2,2,0,0,0,2,2H20a2,2,0,0,0,2-2V8A2,2,0,0,0,20,6ZM13.57,9.32,13,8.4l.34-.6h3.11l3.69,6.5H16.38M12.11,17l-.67,1.2h-1L9,15.42,12.72,9l2,3.46h0M19.3,18.2H12.09l.67-1.2,1.15-2h6.64l.34.6Z"></path></svg></md-icon>
                </a>
          </div>
          <div class="small-icon-action">
            <a target="_blank" href="https://colab.research.google.com/drive/1egIiaL41SS2-K-dulaK500Ya-Mje5QGA" title="Open &quot;Copy of sentiment-analysis-on-amazon-product-reviews.ipynb&quot; in new tab">
              <md-icon class="small-icon" aria-hidden="true"><template shadowrootmode="open"><!----><slot></slot></template>open_in_new</md-icon>
            </a>
          </div>
        </div>
      </div>
    </mwc-list-item><!----><!----><mwc-list-item twoline="" graphic="icon" mwc-list-item="" role="row" tabindex="-1" aria-disabled="false" aria-selected="false" style="position: absolute; box-sizing: border-box; transform: translate(0px, 128px); top: 0px;"><template shadowrootmode="open"><!---->
      <!--?lit$896484614$-->
      <mwc-ripple><template shadowrootmode="open"><!---->
        <div class="mdc-ripple-surface mdc-ripple-upgraded"></div></template>
      </mwc-ripple>
      <!--?lit$896484614$-->
      <span class="mdc-deprecated-list-item__graphic material-icons   ">
        <slot name="graphic"></slot>
      </span>
      <!--?lit$896484614$-->
      <span class="mdc-deprecated-list-item__text">
        <!--?lit$896484614$-->
      <span class="mdc-deprecated-list-item__primary-text">
        <slot></slot>
      </span>
      <span class="mdc-deprecated-list-item__secondary-text">
        <slot name="secondary"></slot>
      </span>
    
      </span>
      <!--?lit$896484614$--><!--?--><!--?--></template>
      <md-icon slot="graphic" role="cell" title="Notebook stored in Google Drive"><template shadowrootmode="open"><!----><slot></slot></template><!--?lit$896484614$-->
      <svg viewBox="0 0 192 192">
        <path d="M128.33,122l7.59,26.17l19.89,21.42c0,0,0,0,0,0v0c2.69-1.55,4.98-3.8,6.59-6.59l18.48-32 c1.61-2.78,2.41-5.89,2.41-9l-28.38-5.5L128.33,122z" fill="#EA4335"></path>
        <path d="M123.48,18.41c-2.69-1.55-5.78-2.41-9-2.41H77.53c-3.2,0-6.32,0.88-9,2.41l0,0l7.96,26.81l19.44,20.64 L96,66l0,0l19.58-20.89L123.48,18.41C123.48,18.41,123.48,18.41,123.48,18.41C123.48,18.41,123.48,18.41,123.48,18.41z" fill="#188038"></path>
        <path d="M63.67,122l-28.33-6.5L8.72,122c0,3.1,0.8,6.2,2.4,8.99L29.6,163c1.61,2.78,3.9,5.03,6.59,6.59 l19.59-20.18L63.67,122L63.67,122z" fill="#1967D2"></path>
        <path d="M155.47,69l-25.4-44c-1.61-2.79-3.9-5.04-6.59-6.59L96,66l32.33,56h54.95c0-3.11-0.8-6.21-2.41-9 L155.47,69z" fill="#FBBC04"></path><path d="M128.33,122H63.67l-27.48,47.59c2.69,1.55,5.78,2.41,9,2.41h101.61c3.22,0,6.31-0.86,9-2.41L128.33,122z" fill="#4285F4"></path>
        <path d="M96,66L68.53,18.41c-2.69,1.55-4.97,3.79-6.58,6.57l-50.83,88.05c-1.6,2.78-2.4,5.88-2.4,8.97h54.95L96,66 z" fill="#34A853"></path>
      </svg></md-icon>
      <div class="item-row   ">
        <div class="title-column multiline-column" role="cell">
          <a class="row-link" href="https://colab.research.google.com/drive/1hAfBYR8dDH0GVdRnvIfI0_Un_0SWfiox" title="amazon_reviews_extraction.ipynb">
            <div class="row-link-text nowrap multiline-primary"><!--?lit$896484614$-->amazon_reviews_extraction.ipynb</div>
          </a>
          <div class="secondary"><!--?lit$896484614$--><!--?lit$896484614$--></div>
        </div>
        <!--?lit$896484614$-->
        <!--?lit$896484614$--> <span role="cell" class="date-column date-column-last"><!--?lit$896484614$-->August 7</span>
        <!--?lit$896484614$--> <span role="cell" class="date-column date-column-first"><!--?lit$896484614$-->January 5</span>
        <div class="grow"></div>
        <div class="small-icon-action-column" role="cell">
          <div class="small-icon-action">
            <!--?lit$896484614$--> <a target="_blank" href="https://drive.google.com/drive/?action=locate&amp;id=1hAfBYR8dDH0GVdRnvIfI0_Un_0SWfiox&amp;authuser=0" aria-label="View &quot;amazon_reviews_extraction.ipynb&quot; in Google Drive Link will open in a new tab" title="View &quot;amazon_reviews_extraction.ipynb&quot; in Google Drive">
                  <md-icon filled="" class="small-icon" aria-hidden="true"><template shadowrootmode="open"><!----><slot></slot></template><!--?lit$896484614$--><svg viewBox="0 0 24 24"><!--?lit$896484614$-->
    <path d="M20,6H12L10,4H4A2,2,0,0,0,2,6V18a2,2,0,0,0,2,2H20a2,2,0,0,0,2-2V8A2,2,0,0,0,20,6ZM13.57,9.32,13,8.4l.34-.6h3.11l3.69,6.5H16.38M12.11,17l-.67,1.2h-1L9,15.42,12.72,9l2,3.46h0M19.3,18.2H12.09l.67-1.2,1.15-2h6.64l.34.6Z"></path></svg></md-icon>
                </a>
          </div>
          <div class="small-icon-action">
            <a target="_blank" href="https://colab.research.google.com/drive/1hAfBYR8dDH0GVdRnvIfI0_Un_0SWfiox" title="Open &quot;amazon_reviews_extraction.ipynb&quot; in new tab">
              <md-icon class="small-icon" aria-hidden="true"><template shadowrootmode="open"><!----><slot></slot></template>open_in_new</md-icon>
            </a>
          </div>
        </div>
      </div>
    </mwc-list-item><!----><!----><mwc-list-item twoline="" graphic="icon" mwc-list-item="" role="row" tabindex="-1" aria-disabled="false" aria-selected="false" style="position: absolute; box-sizing: border-box; transform: translate(0px, 192px); top: 0px;"><template shadowrootmode="open"><!---->
      <!--?lit$896484614$-->
      <mwc-ripple><template shadowrootmode="open"><!---->
        <div class="mdc-ripple-surface mdc-ripple-upgraded"></div></template>
      </mwc-ripple>
      <!--?lit$896484614$-->
      <span class="mdc-deprecated-list-item__graphic material-icons   ">
        <slot name="graphic"></slot>
      </span>
      <!--?lit$896484614$-->
      <span class="mdc-deprecated-list-item__text">
        <!--?lit$896484614$-->
      <span class="mdc-deprecated-list-item__primary-text">
        <slot></slot>
      </span>
      <span class="mdc-deprecated-list-item__secondary-text">
        <slot name="secondary"></slot>
      </span>
    
      </span>
      <!--?lit$896484614$--><!--?--><!--?--></template>
      <md-icon slot="graphic" role="cell" title="Notebook stored in Google Drive"><template shadowrootmode="open"><!----><slot></slot></template><!--?lit$896484614$-->
      <svg viewBox="0 0 192 192">
        <path d="M128.33,122l7.59,26.17l19.89,21.42c0,0,0,0,0,0v0c2.69-1.55,4.98-3.8,6.59-6.59l18.48-32 c1.61-2.78,2.41-5.89,2.41-9l-28.38-5.5L128.33,122z" fill="#EA4335"></path>
        <path d="M123.48,18.41c-2.69-1.55-5.78-2.41-9-2.41H77.53c-3.2,0-6.32,0.88-9,2.41l0,0l7.96,26.81l19.44,20.64 L96,66l0,0l19.58-20.89L123.48,18.41C123.48,18.41,123.48,18.41,123.48,18.41C123.48,18.41,123.48,18.41,123.48,18.41z" fill="#188038"></path>
        <path d="M63.67,122l-28.33-6.5L8.72,122c0,3.1,0.8,6.2,2.4,8.99L29.6,163c1.61,2.78,3.9,5.03,6.59,6.59 l19.59-20.18L63.67,122L63.67,122z" fill="#1967D2"></path>
        <path d="M155.47,69l-25.4-44c-1.61-2.79-3.9-5.04-6.59-6.59L96,66l32.33,56h54.95c0-3.11-0.8-6.21-2.41-9 L155.47,69z" fill="#FBBC04"></path><path d="M128.33,122H63.67l-27.48,47.59c2.69,1.55,5.78,2.41,9,2.41h101.61c3.22,0,6.31-0.86,9-2.41L128.33,122z" fill="#4285F4"></path>
        <path d="M96,66L68.53,18.41c-2.69,1.55-4.97,3.79-6.58,6.57l-50.83,88.05c-1.6,2.78-2.4,5.88-2.4,8.97h54.95L96,66 z" fill="#34A853"></path>
      </svg></md-icon>
      <div class="item-row   ">
        <div class="title-column multiline-column" role="cell">
          <a class="row-link" href="https://colab.research.google.com/drive/1ptm-zUIfI-EcyIq7txv8tD1x1HMCfxkt" title="Project1.ipynb">
            <div class="row-link-text nowrap multiline-primary"><!--?lit$896484614$-->Project1.ipynb</div>
          </a>
          <div class="secondary"><!--?lit$896484614$--><!--?lit$896484614$--></div>
        </div>
        <!--?lit$896484614$-->
        <!--?lit$896484614$--> <span role="cell" class="date-column date-column-last"><!--?lit$896484614$-->January 6</span>
        <!--?lit$896484614$--> <span role="cell" class="date-column date-column-first"><!--?lit$896484614$-->January 5</span>
        <div class="grow"></div>
        <div class="small-icon-action-column" role="cell">
          <div class="small-icon-action">
            <!--?lit$896484614$--> <a target="_blank" href="https://drive.google.com/drive/?action=locate&amp;id=1ptm-zUIfI-EcyIq7txv8tD1x1HMCfxkt&amp;authuser=0" aria-label="View &quot;Project1.ipynb&quot; in Google Drive Link will open in a new tab" title="View &quot;Project1.ipynb&quot; in Google Drive">
                  <md-icon filled="" class="small-icon" aria-hidden="true"><template shadowrootmode="open"><!----><slot></slot></template><!--?lit$896484614$--><svg viewBox="0 0 24 24"><!--?lit$896484614$-->
    <path d="M20,6H12L10,4H4A2,2,0,0,0,2,6V18a2,2,0,0,0,2,2H20a2,2,0,0,0,2-2V8A2,2,0,0,0,20,6ZM13.57,9.32,13,8.4l.34-.6h3.11l3.69,6.5H16.38M12.11,17l-.67,1.2h-1L9,15.42,12.72,9l2,3.46h0M19.3,18.2H12.09l.67-1.2,1.15-2h6.64l.34.6Z"></path></svg></md-icon>
                </a>
          </div>
          <div class="small-icon-action">
            <a target="_blank" href="https://colab.research.google.com/drive/1ptm-zUIfI-EcyIq7txv8tD1x1HMCfxkt" title="Open &quot;Project1.ipynb&quot; in new tab">
              <md-icon class="small-icon" aria-hidden="true"><template shadowrootmode="open"><!----><slot></slot></template>open_in_new</md-icon>
            </a>
          </div>
        </div>
      </div>
    </mwc-list-item><!----><!----><mwc-list-item twoline="" graphic="icon" mwc-list-item="" role="row" tabindex="-1" aria-disabled="false" aria-selected="false" style="position: absolute; box-sizing: border-box; transform: translate(0px, 256px); top: 0px;"><template shadowrootmode="open"><!---->
      <!--?lit$896484614$-->
      <mwc-ripple><template shadowrootmode="open"><!---->
        <div class="mdc-ripple-surface mdc-ripple-upgraded"></div></template>
      </mwc-ripple>
      <!--?lit$896484614$-->
      <span class="mdc-deprecated-list-item__graphic material-icons   ">
        <slot name="graphic"></slot>
      </span>
      <!--?lit$896484614$-->
      <span class="mdc-deprecated-list-item__text">
        <!--?lit$896484614$-->
      <span class="mdc-deprecated-list-item__primary-text">
        <slot></slot>
      </span>
      <span class="mdc-deprecated-list-item__secondary-text">
        <slot name="secondary"></slot>
      </span>
    
      </span>
      <!--?lit$896484614$--><!--?--><!--?--></template>
      <md-icon slot="graphic" role="cell" title="Example notebook"><template shadowrootmode="open"><!----><slot></slot></template><!--?lit$896484614$--><svg viewBox="0 0 24 24"><!--?lit$896484614$-->
      <g id="colab-logo">
        <path d="M4.54,9.46,2.19,7.1a6.93,6.93,0,0,0,0,9.79l2.36-2.36A3.59,3.59,0,0,1,4.54,9.46Z" style="fill:var(--colab-logo-dark)"></path>
        <path d="M2.19,7.1,4.54,9.46a3.59,3.59,0,0,1,5.08,0l1.71-2.93h0l-.1-.08h0A6.93,6.93,0,0,0,2.19,7.1Z" style="fill:var(--colab-logo-light)"></path>
        <path d="M11.34,17.46h0L9.62,14.54a3.59,3.59,0,0,1-5.08,0L2.19,16.9a6.93,6.93,0,0,0,9,.65l.11-.09" style="fill:var(--colab-logo-light)"></path>
        <path d="M12,7.1a6.93,6.93,0,0,0,0,9.79l2.36-2.36a3.59,3.59,0,1,1,5.08-5.08L21.81,7.1A6.93,6.93,0,0,0,12,7.1Z" style="fill:var(--colab-logo-light)"></path>
        <path d="M21.81,7.1,19.46,9.46a3.59,3.59,0,0,1-5.08,5.08L12,16.9A6.93,6.93,0,0,0,21.81,7.1Z" style="fill:var(--colab-logo-dark)"></path>
      </g></svg></md-icon>
      <div class="item-row   ">
        <div class="title-column multiline-column" role="cell">
          <a class="row-link" href="https://colab.research.google.com/notebooks/intro.ipynb" title="Welcome To Colaboratory">
            <div class="row-link-text nowrap multiline-primary"><!--?lit$896484614$-->Welcome To Colaboratory</div>
          </a>
          <div class="secondary"><!--?lit$896484614$--><!--?lit$896484614$--></div>
        </div>
        <!--?lit$896484614$-->
        <!--?lit$896484614$--> <span role="cell" class="date-column date-column-last"><!--?lit$896484614$-->January 6</span>
        <!--?lit$896484614$--> <span role="cell" class="date-column date-column-first"><!--?lit$896484614$-->Mar 2, 2022</span>
        <div class="grow"></div>
        <div class="small-icon-action-column" role="cell">
          <div class="small-icon-action">
            <!--?lit$896484614$-->
          </div>
          <div class="small-icon-action">
            <a target="_blank" href="https://colab.research.google.com/notebooks/intro.ipynb" title="Open &quot;Welcome To Colaboratory&quot; in new tab">
              <md-icon class="small-icon" aria-hidden="true"><template shadowrootmode="open"><!----><slot></slot></template>open_in_new</md-icon>
            </a>
          </div>
        </div>
      </div>
    </mwc-list-item><!----><!----><mwc-list-item twoline="" graphic="icon" mwc-list-item="" role="row" tabindex="-1" aria-disabled="false" aria-selected="false" style="position: absolute; box-sizing: border-box; transform: translate(0px, 320px); top: 0px;"><template shadowrootmode="open"><!---->
      <!--?lit$896484614$-->
      <!--?lit$896484614$-->
      <span class="mdc-deprecated-list-item__graphic material-icons   ">
        <slot name="graphic"></slot>
      </span>
      <!--?lit$896484614$-->
      <span class="mdc-deprecated-list-item__text">
        <!--?lit$896484614$-->
      <span class="mdc-deprecated-list-item__primary-text">
        <slot></slot>
      </span>
      <span class="mdc-deprecated-list-item__secondary-text">
        <slot name="secondary"></slot>
      </span>
    
      </span>
      <!--?lit$896484614$--><!--?--><!--?--></template>
      <md-icon slot="graphic" role="cell" title="Notebook stored in Google Drive"><template shadowrootmode="open"><!----><slot></slot></template><!--?lit$896484614$-->
      <svg viewBox="0 0 192 192">
        <path d="M128.33,122l7.59,26.17l19.89,21.42c0,0,0,0,0,0v0c2.69-1.55,4.98-3.8,6.59-6.59l18.48-32 c1.61-2.78,2.41-5.89,2.41-9l-28.38-5.5L128.33,122z" fill="#EA4335"></path>
        <path d="M123.48,18.41c-2.69-1.55-5.78-2.41-9-2.41H77.53c-3.2,0-6.32,0.88-9,2.41l0,0l7.96,26.81l19.44,20.64 L96,66l0,0l19.58-20.89L123.48,18.41C123.48,18.41,123.48,18.41,123.48,18.41C123.48,18.41,123.48,18.41,123.48,18.41z" fill="#188038"></path>
        <path d="M63.67,122l-28.33-6.5L8.72,122c0,3.1,0.8,6.2,2.4,8.99L29.6,163c1.61,2.78,3.9,5.03,6.59,6.59 l19.59-20.18L63.67,122L63.67,122z" fill="#1967D2"></path>
        <path d="M155.47,69l-25.4-44c-1.61-2.79-3.9-5.04-6.59-6.59L96,66l32.33,56h54.95c0-3.11-0.8-6.21-2.41-9 L155.47,69z" fill="#FBBC04"></path><path d="M128.33,122H63.67l-27.48,47.59c2.69,1.55,5.78,2.41,9,2.41h101.61c3.22,0,6.31-0.86,9-2.41L128.33,122z" fill="#4285F4"></path>
        <path d="M96,66L68.53,18.41c-2.69,1.55-4.97,3.79-6.58,6.57l-50.83,88.05c-1.6,2.78-2.4,5.88-2.4,8.97h54.95L96,66 z" fill="#34A853"></path>
      </svg></md-icon>
      <div class="item-row   ">
        <div class="title-column multiline-column" role="cell">
          <a class="row-link" href="https://colab.research.google.com/drive/1F_Ez7ov2przBRF9bIyy-JoceMSUWmnGh" title="Project.ipynb">
            <div class="row-link-text nowrap multiline-primary"><!--?lit$896484614$-->Project.ipynb</div>
          </a>
          <div class="secondary"><!--?lit$896484614$--><!--?lit$896484614$--></div>
        </div>
        <!--?lit$896484614$-->
        <!--?lit$896484614$--> <span role="cell" class="date-column date-column-last"><!--?lit$896484614$-->January 5</span>
        <!--?lit$896484614$--> <span role="cell" class="date-column date-column-first"><!--?lit$896484614$-->January 5</span>
        <div class="grow"></div>
        <div class="small-icon-action-column" role="cell">
          <div class="small-icon-action">
            <!--?lit$896484614$--> <a target="_blank" href="https://drive.google.com/drive/?action=locate&amp;id=1F_Ez7ov2przBRF9bIyy-JoceMSUWmnGh&amp;authuser=0" aria-label="View &quot;Project.ipynb&quot; in Google Drive Link will open in a new tab" title="View &quot;Project.ipynb&quot; in Google Drive">
                  <md-icon filled="" class="small-icon" aria-hidden="true"><template shadowrootmode="open"><!----><slot></slot></template><!--?lit$896484614$--><svg viewBox="0 0 24 24"><!--?lit$896484614$-->
    <path d="M20,6H12L10,4H4A2,2,0,0,0,2,6V18a2,2,0,0,0,2,2H20a2,2,0,0,0,2-2V8A2,2,0,0,0,20,6ZM13.57,9.32,13,8.4l.34-.6h3.11l3.69,6.5H16.38M12.11,17l-.67,1.2h-1L9,15.42,12.72,9l2,3.46h0M19.3,18.2H12.09l.67-1.2,1.15-2h6.64l.34.6Z"></path></svg></md-icon>
                </a>
          </div>
          <div class="small-icon-action">
            <a target="_blank" href="https://colab.research.google.com/drive/1F_Ez7ov2przBRF9bIyy-JoceMSUWmnGh" title="Open &quot;Project.ipynb&quot; in new tab">
              <md-icon class="small-icon" aria-hidden="true"><template shadowrootmode="open"><!----><slot></slot></template>open_in_new</md-icon>
            </a>
          </div>
        </div>
      </div>
    </mwc-list-item><!----><!----><mwc-list-item twoline="" graphic="icon" mwc-list-item="" role="row" tabindex="-1" aria-disabled="false" aria-selected="false" style="position: absolute; box-sizing: border-box; transform: translate(0px, 384px); top: 0px;"><template shadowrootmode="open"><!---->
      <!--?lit$896484614$-->
      <!--?lit$896484614$-->
      <span class="mdc-deprecated-list-item__graphic material-icons   ">
        <slot name="graphic"></slot>
      </span>
      <!--?lit$896484614$-->
      <span class="mdc-deprecated-list-item__text">
        <!--?lit$896484614$-->
      <span class="mdc-deprecated-list-item__primary-text">
        <slot></slot>
      </span>
      <span class="mdc-deprecated-list-item__secondary-text">
        <slot name="secondary"></slot>
      </span>
    
      </span>
      <!--?lit$896484614$--><!--?--><!--?--></template>
      <md-icon slot="graphic" role="cell" title="Notebook stored in Google Drive"><template shadowrootmode="open"><!----><slot></slot></template><!--?lit$896484614$-->
      <svg viewBox="0 0 192 192">
        <path d="M128.33,122l7.59,26.17l19.89,21.42c0,0,0,0,0,0v0c2.69-1.55,4.98-3.8,6.59-6.59l18.48-32 c1.61-2.78,2.41-5.89,2.41-9l-28.38-5.5L128.33,122z" fill="#EA4335"></path>
        <path d="M123.48,18.41c-2.69-1.55-5.78-2.41-9-2.41H77.53c-3.2,0-6.32,0.88-9,2.41l0,0l7.96,26.81l19.44,20.64 L96,66l0,0l19.58-20.89L123.48,18.41C123.48,18.41,123.48,18.41,123.48,18.41C123.48,18.41,123.48,18.41,123.48,18.41z" fill="#188038"></path>
        <path d="M63.67,122l-28.33-6.5L8.72,122c0,3.1,0.8,6.2,2.4,8.99L29.6,163c1.61,2.78,3.9,5.03,6.59,6.59 l19.59-20.18L63.67,122L63.67,122z" fill="#1967D2"></path>
        <path d="M155.47,69l-25.4-44c-1.61-2.79-3.9-5.04-6.59-6.59L96,66l32.33,56h54.95c0-3.11-0.8-6.21-2.41-9 L155.47,69z" fill="#FBBC04"></path><path d="M128.33,122H63.67l-27.48,47.59c2.69,1.55,5.78,2.41,9,2.41h101.61c3.22,0,6.31-0.86,9-2.41L128.33,122z" fill="#4285F4"></path>
        <path d="M96,66L68.53,18.41c-2.69,1.55-4.97,3.79-6.58,6.57l-50.83,88.05c-1.6,2.78-2.4,5.88-2.4,8.97h54.95L96,66 z" fill="#34A853"></path>
      </svg></md-icon>
      <div class="item-row   ">
        <div class="title-column multiline-column" role="cell">
          <a class="row-link" href="https://colab.research.google.com/drive/1ZGQfYDX9aC9L6hTeGmiml_Rtd9b52bAE" title="amazon_reviews_extraction-checkpoint.ipynb">
            <div class="row-link-text nowrap multiline-primary"><!--?lit$896484614$-->amazon_reviews_extraction-checkpoint.ipynb</div>
          </a>
          <div class="secondary"><!--?lit$896484614$--><!--?lit$896484614$--></div>
        </div>
        <!--?lit$896484614$-->
        <!--?lit$896484614$--> <span role="cell" class="date-column date-column-last"><!--?lit$896484614$-->January 5</span>
        <!--?lit$896484614$--> <span role="cell" class="date-column date-column-first"><!--?lit$896484614$-->January 5</span>
        <div class="grow"></div>
        <div class="small-icon-action-column" role="cell">
          <div class="small-icon-action">
            <!--?lit$896484614$--> <a target="_blank" href="https://drive.google.com/drive/?action=locate&amp;id=1ZGQfYDX9aC9L6hTeGmiml_Rtd9b52bAE&amp;authuser=0" aria-label="View &quot;amazon_reviews_extraction-checkpoint.ipynb&quot; in Google Drive Link will open in a new tab" title="View &quot;amazon_reviews_extraction-checkpoint.ipynb&quot; in Google Drive">
                  <md-icon filled="" class="small-icon" aria-hidden="true"><template shadowrootmode="open"><!----><slot></slot></template><!--?lit$896484614$--><svg viewBox="0 0 24 24"><!--?lit$896484614$-->
    <path d="M20,6H12L10,4H4A2,2,0,0,0,2,6V18a2,2,0,0,0,2,2H20a2,2,0,0,0,2-2V8A2,2,0,0,0,20,6ZM13.57,9.32,13,8.4l.34-.6h3.11l3.69,6.5H16.38M12.11,17l-.67,1.2h-1L9,15.42,12.72,9l2,3.46h0M19.3,18.2H12.09l.67-1.2,1.15-2h6.64l.34.6Z"></path></svg></md-icon>
                </a>
          </div>
          <div class="small-icon-action">
            <a target="_blank" href="https://colab.research.google.com/drive/1ZGQfYDX9aC9L6hTeGmiml_Rtd9b52bAE" title="Open &quot;amazon_reviews_extraction-checkpoint.ipynb&quot; in new tab">
              <md-icon class="small-icon" aria-hidden="true"><template shadowrootmode="open"><!----><slot></slot></template>open_in_new</md-icon>
            </a>
          </div>
        </div>
      </div>
    </mwc-list-item><!----><!----><mwc-list-item twoline="" graphic="icon" mwc-list-item="" role="row" tabindex="-1" aria-disabled="false" aria-selected="false" style="position: absolute; box-sizing: border-box; transform: translate(0px, 448px); top: 0px;"><template shadowrootmode="open"><!---->
      <!--?lit$896484614$-->
      <!--?lit$896484614$-->
      <span class="mdc-deprecated-list-item__graphic material-icons   ">
        <slot name="graphic"></slot>
      </span>
      <!--?lit$896484614$-->
      <span class="mdc-deprecated-list-item__text">
        <!--?lit$896484614$-->
      <span class="mdc-deprecated-list-item__primary-text">
        <slot></slot>
      </span>
      <span class="mdc-deprecated-list-item__secondary-text">
        <slot name="secondary"></slot>
      </span>
    
      </span>
      <!--?lit$896484614$--><!--?--><!--?--></template>
      <md-icon slot="graphic" role="cell" title="Notebook stored in Google Drive"><template shadowrootmode="open"><!----><slot></slot></template><!--?lit$896484614$-->
      <svg viewBox="0 0 192 192">
        <path d="M128.33,122l7.59,26.17l19.89,21.42c0,0,0,0,0,0v0c2.69-1.55,4.98-3.8,6.59-6.59l18.48-32 c1.61-2.78,2.41-5.89,2.41-9l-28.38-5.5L128.33,122z" fill="#EA4335"></path>
        <path d="M123.48,18.41c-2.69-1.55-5.78-2.41-9-2.41H77.53c-3.2,0-6.32,0.88-9,2.41l0,0l7.96,26.81l19.44,20.64 L96,66l0,0l19.58-20.89L123.48,18.41C123.48,18.41,123.48,18.41,123.48,18.41C123.48,18.41,123.48,18.41,123.48,18.41z" fill="#188038"></path>
        <path d="M63.67,122l-28.33-6.5L8.72,122c0,3.1,0.8,6.2,2.4,8.99L29.6,163c1.61,2.78,3.9,5.03,6.59,6.59 l19.59-20.18L63.67,122L63.67,122z" fill="#1967D2"></path>
        <path d="M155.47,69l-25.4-44c-1.61-2.79-3.9-5.04-6.59-6.59L96,66l32.33,56h54.95c0-3.11-0.8-6.21-2.41-9 L155.47,69z" fill="#FBBC04"></path><path d="M128.33,122H63.67l-27.48,47.59c2.69,1.55,5.78,2.41,9,2.41h101.61c3.22,0,6.31-0.86,9-2.41L128.33,122z" fill="#4285F4"></path>
        <path d="M96,66L68.53,18.41c-2.69,1.55-4.97,3.79-6.58,6.57l-50.83,88.05c-1.6,2.78-2.4,5.88-2.4,8.97h54.95L96,66 z" fill="#34A853"></path>
      </svg></md-icon>
      <div class="item-row   ">
        <div class="title-column multiline-column" role="cell">
          <a class="row-link" href="https://colab.research.google.com/drive/12b4AR_A_QJDJsUqnwq9dPLeDQa0Eoan5" title="Untitled40.ipynb">
            <div class="row-link-text nowrap multiline-primary"><!--?lit$896484614$-->Untitled40.ipynb</div>
          </a>
          <div class="secondary"><!--?lit$896484614$--><!--?lit$896484614$--></div>
        </div>
        <!--?lit$896484614$-->
        <!--?lit$896484614$--> <span role="cell" class="date-column date-column-last"><!--?lit$896484614$-->Dec 16, 2023</span>
        <!--?lit$896484614$--> <span role="cell" class="date-column date-column-first"><!--?lit$896484614$-->Dec 16, 2023</span>
        <div class="grow"></div>
        <div class="small-icon-action-column" role="cell">
          <div class="small-icon-action">
            <!--?lit$896484614$--> <a target="_blank" href="https://drive.google.com/drive/?action=locate&amp;id=12b4AR_A_QJDJsUqnwq9dPLeDQa0Eoan5&amp;authuser=0" aria-label="View &quot;Untitled40.ipynb&quot; in Google Drive Link will open in a new tab" title="View &quot;Untitled40.ipynb&quot; in Google Drive">
                  <md-icon filled="" class="small-icon" aria-hidden="true"><template shadowrootmode="open"><!----><slot></slot></template><!--?lit$896484614$--><svg viewBox="0 0 24 24"><!--?lit$896484614$-->
    <path d="M20,6H12L10,4H4A2,2,0,0,0,2,6V18a2,2,0,0,0,2,2H20a2,2,0,0,0,2-2V8A2,2,0,0,0,20,6ZM13.57,9.32,13,8.4l.34-.6h3.11l3.69,6.5H16.38M12.11,17l-.67,1.2h-1L9,15.42,12.72,9l2,3.46h0M19.3,18.2H12.09l.67-1.2,1.15-2h6.64l.34.6Z"></path></svg></md-icon>
                </a>
          </div>
          <div class="small-icon-action">
            <a target="_blank" href="https://colab.research.google.com/drive/12b4AR_A_QJDJsUqnwq9dPLeDQa0Eoan5" title="Open &quot;Untitled40.ipynb&quot; in new tab">
              <md-icon class="small-icon" aria-hidden="true"><template shadowrootmode="open"><!----><slot></slot></template>open_in_new</md-icon>
            </a>
          </div>
        </div>
      </div>
    </mwc-list-item><!----><!----><mwc-list-item twoline="" graphic="icon" mwc-list-item="" role="row" tabindex="-1" aria-disabled="false" aria-selected="false" style="position: absolute; box-sizing: border-box; transform: translate(0px, 512px); top: 0px;"><template shadowrootmode="open"><!---->
      <!--?lit$896484614$-->
      <!--?lit$896484614$-->
      <span class="mdc-deprecated-list-item__graphic material-icons   ">
        <slot name="graphic"></slot>
      </span>
      <!--?lit$896484614$-->
      <span class="mdc-deprecated-list-item__text">
        <!--?lit$896484614$-->
      <span class="mdc-deprecated-list-item__primary-text">
        <slot></slot>
      </span>
      <span class="mdc-deprecated-list-item__secondary-text">
        <slot name="secondary"></slot>
      </span>
    
      </span>
      <!--?lit$896484614$--><!--?--><!--?--></template>
      <md-icon slot="graphic" role="cell" title="Notebook stored in Google Drive"><template shadowrootmode="open"><!----><slot></slot></template><!--?lit$896484614$-->
      <svg viewBox="0 0 192 192">
        <path d="M128.33,122l7.59,26.17l19.89,21.42c0,0,0,0,0,0v0c2.69-1.55,4.98-3.8,6.59-6.59l18.48-32 c1.61-2.78,2.41-5.89,2.41-9l-28.38-5.5L128.33,122z" fill="#EA4335"></path>
        <path d="M123.48,18.41c-2.69-1.55-5.78-2.41-9-2.41H77.53c-3.2,0-6.32,0.88-9,2.41l0,0l7.96,26.81l19.44,20.64 L96,66l0,0l19.58-20.89L123.48,18.41C123.48,18.41,123.48,18.41,123.48,18.41C123.48,18.41,123.48,18.41,123.48,18.41z" fill="#188038"></path>
        <path d="M63.67,122l-28.33-6.5L8.72,122c0,3.1,0.8,6.2,2.4,8.99L29.6,163c1.61,2.78,3.9,5.03,6.59,6.59 l19.59-20.18L63.67,122L63.67,122z" fill="#1967D2"></path>
        <path d="M155.47,69l-25.4-44c-1.61-2.79-3.9-5.04-6.59-6.59L96,66l32.33,56h54.95c0-3.11-0.8-6.21-2.41-9 L155.47,69z" fill="#FBBC04"></path><path d="M128.33,122H63.67l-27.48,47.59c2.69,1.55,5.78,2.41,9,2.41h101.61c3.22,0,6.31-0.86,9-2.41L128.33,122z" fill="#4285F4"></path>
        <path d="M96,66L68.53,18.41c-2.69,1.55-4.97,3.79-6.58,6.57l-50.83,88.05c-1.6,2.78-2.4,5.88-2.4,8.97h54.95L96,66 z" fill="#34A853"></path>
      </svg></md-icon>
      <div class="item-row   ">
        <div class="title-column multiline-column" role="cell">
          <a class="row-link" href="https://colab.research.google.com/drive/1lnnY2U-ASB0hjF0tfey7S_-FSod4YgPk" title="Untitled41.ipynb">
            <div class="row-link-text nowrap multiline-primary"><!--?lit$896484614$-->Untitled41.ipynb</div>
          </a>
          <div class="secondary"><!--?lit$896484614$--><!--?lit$896484614$--></div>
        </div>
        <!--?lit$896484614$-->
        <!--?lit$896484614$--> <span role="cell" class="date-column date-column-last"><!--?lit$896484614$-->Dec 16, 2023</span>
        <!--?lit$896484614$--> <span role="cell" class="date-column date-column-first"><!--?lit$896484614$-->Dec 16, 2023</span>
        <div class="grow"></div>
        <div class="small-icon-action-column" role="cell">
          <div class="small-icon-action">
            <!--?lit$896484614$--> <a target="_blank" href="https://drive.google.com/drive/?action=locate&amp;id=1lnnY2U-ASB0hjF0tfey7S_-FSod4YgPk&amp;authuser=0" aria-label="View &quot;Untitled41.ipynb&quot; in Google Drive Link will open in a new tab" title="View &quot;Untitled41.ipynb&quot; in Google Drive">
                  <md-icon filled="" class="small-icon" aria-hidden="true"><template shadowrootmode="open"><!----><slot></slot></template><!--?lit$896484614$--><svg viewBox="0 0 24 24"><!--?lit$896484614$-->
    <path d="M20,6H12L10,4H4A2,2,0,0,0,2,6V18a2,2,0,0,0,2,2H20a2,2,0,0,0,2-2V8A2,2,0,0,0,20,6ZM13.57,9.32,13,8.4l.34-.6h3.11l3.69,6.5H16.38M12.11,17l-.67,1.2h-1L9,15.42,12.72,9l2,3.46h0M19.3,18.2H12.09l.67-1.2,1.15-2h6.64l.34.6Z"></path></svg></md-icon>
                </a>
          </div>
          <div class="small-icon-action">
            <a target="_blank" href="https://colab.research.google.com/drive/1lnnY2U-ASB0hjF0tfey7S_-FSod4YgPk" title="Open &quot;Untitled41.ipynb&quot; in new tab">
              <md-icon class="small-icon" aria-hidden="true"><template shadowrootmode="open"><!----><slot></slot></template>open_in_new</md-icon>
            </a>
          </div>
        </div>
      </div>
    </mwc-list-item><!----><!----><mwc-list-item twoline="" graphic="icon" mwc-list-item="" role="row" tabindex="-1" aria-disabled="false" aria-selected="false" style="position: absolute; box-sizing: border-box; transform: translate(0px, 576px); top: 0px;"><template shadowrootmode="open"><!---->
      <!--?lit$896484614$-->
      <!--?lit$896484614$-->
      <span class="mdc-deprecated-list-item__graphic material-icons   ">
        <slot name="graphic"></slot>
      </span>
      <!--?lit$896484614$-->
      <span class="mdc-deprecated-list-item__text">
        <!--?lit$896484614$-->
      <span class="mdc-deprecated-list-item__primary-text">
        <slot></slot>
      </span>
      <span class="mdc-deprecated-list-item__secondary-text">
        <slot name="secondary"></slot>
      </span>
    
      </span>
      <!--?lit$896484614$--><!--?--><!--?--></template>
      <md-icon slot="graphic" role="cell" title="Notebook stored in Google Drive"><template shadowrootmode="open"><!----><slot></slot></template><!--?lit$896484614$-->
      <svg viewBox="0 0 192 192">
        <path d="M128.33,122l7.59,26.17l19.89,21.42c0,0,0,0,0,0v0c2.69-1.55,4.98-3.8,6.59-6.59l18.48-32 c1.61-2.78,2.41-5.89,2.41-9l-28.38-5.5L128.33,122z" fill="#EA4335"></path>
        <path d="M123.48,18.41c-2.69-1.55-5.78-2.41-9-2.41H77.53c-3.2,0-6.32,0.88-9,2.41l0,0l7.96,26.81l19.44,20.64 L96,66l0,0l19.58-20.89L123.48,18.41C123.48,18.41,123.48,18.41,123.48,18.41C123.48,18.41,123.48,18.41,123.48,18.41z" fill="#188038"></path>
        <path d="M63.67,122l-28.33-6.5L8.72,122c0,3.1,0.8,6.2,2.4,8.99L29.6,163c1.61,2.78,3.9,5.03,6.59,6.59 l19.59-20.18L63.67,122L63.67,122z" fill="#1967D2"></path>
        <path d="M155.47,69l-25.4-44c-1.61-2.79-3.9-5.04-6.59-6.59L96,66l32.33,56h54.95c0-3.11-0.8-6.21-2.41-9 L155.47,69z" fill="#FBBC04"></path><path d="M128.33,122H63.67l-27.48,47.59c2.69,1.55,5.78,2.41,9,2.41h101.61c3.22,0,6.31-0.86,9-2.41L128.33,122z" fill="#4285F4"></path>
        <path d="M96,66L68.53,18.41c-2.69,1.55-4.97,3.79-6.58,6.57l-50.83,88.05c-1.6,2.78-2.4,5.88-2.4,8.97h54.95L96,66 z" fill="#34A853"></path>
      </svg></md-icon>
      <div class="item-row   ">
        <div class="title-column multiline-column" role="cell">
          <a class="row-link" href="https://colab.research.google.com/drive/17NLhYd7i6Ba1AMLS_GBqTAvEcNJsvKVe" title="Web_Scrapping.ipynb">
            <div class="row-link-text nowrap multiline-primary"><!--?lit$896484614$-->Web_Scrapping.ipynb</div>
          </a>
          <div class="secondary"><!--?lit$896484614$--><!--?lit$896484614$--></div>
        </div>
        <!--?lit$896484614$-->
        <!--?lit$896484614$--> <span role="cell" class="date-column date-column-last"><!--?lit$896484614$-->Dec 16, 2023</span>
        <!--?lit$896484614$--> <span role="cell" class="date-column date-column-first"><!--?lit$896484614$-->Dec 16, 2023</span>
        <div class="grow"></div>
        <div class="small-icon-action-column" role="cell">
          <div class="small-icon-action">
            <!--?lit$896484614$--> <a target="_blank" href="https://drive.google.com/drive/?action=locate&amp;id=17NLhYd7i6Ba1AMLS_GBqTAvEcNJsvKVe&amp;authuser=0" aria-label="View &quot;Web_Scrapping.ipynb&quot; in Google Drive Link will open in a new tab" title="View &quot;Web_Scrapping.ipynb&quot; in Google Drive">
                  <md-icon filled="" class="small-icon" aria-hidden="true"><template shadowrootmode="open"><!----><slot></slot></template><!--?lit$896484614$--><svg viewBox="0 0 24 24"><!--?lit$896484614$-->
    <path d="M20,6H12L10,4H4A2,2,0,0,0,2,6V18a2,2,0,0,0,2,2H20a2,2,0,0,0,2-2V8A2,2,0,0,0,20,6ZM13.57,9.32,13,8.4l.34-.6h3.11l3.69,6.5H16.38M12.11,17l-.67,1.2h-1L9,15.42,12.72,9l2,3.46h0M19.3,18.2H12.09l.67-1.2,1.15-2h6.64l.34.6Z"></path></svg></md-icon>
                </a>
          </div>
          <div class="small-icon-action">
            <a target="_blank" href="https://colab.research.google.com/drive/17NLhYd7i6Ba1AMLS_GBqTAvEcNJsvKVe" title="Open &quot;Web_Scrapping.ipynb&quot; in new tab">
              <md-icon class="small-icon" aria-hidden="true"><template shadowrootmode="open"><!----><slot></slot></template>open_in_new</md-icon>
            </a>
          </div>
        </div>
      </div>
    </mwc-list-item><!----><!----><mwc-list-item twoline="" graphic="icon" mwc-list-item="" role="row" tabindex="-1" aria-disabled="false" aria-selected="false" style="position: absolute; box-sizing: border-box; transform: translate(0px, 640px); top: 0px;"><template shadowrootmode="open"><!---->
      <!--?lit$896484614$-->
      <!--?lit$896484614$-->
      <span class="mdc-deprecated-list-item__graphic material-icons   ">
        <slot name="graphic"></slot>
      </span>
      <!--?lit$896484614$-->
      <span class="mdc-deprecated-list-item__text">
        <!--?lit$896484614$-->
      <span class="mdc-deprecated-list-item__primary-text">
        <slot></slot>
      </span>
      <span class="mdc-deprecated-list-item__secondary-text">
        <slot name="secondary"></slot>
      </span>
    
      </span>
      <!--?lit$896484614$--><!--?--><!--?--></template>
      <md-icon slot="graphic" role="cell" title="Notebook stored in Google Drive"><template shadowrootmode="open"><!----><slot></slot></template><!--?lit$896484614$-->
      <svg viewBox="0 0 192 192">
        <path d="M128.33,122l7.59,26.17l19.89,21.42c0,0,0,0,0,0v0c2.69-1.55,4.98-3.8,6.59-6.59l18.48-32 c1.61-2.78,2.41-5.89,2.41-9l-28.38-5.5L128.33,122z" fill="#EA4335"></path>
        <path d="M123.48,18.41c-2.69-1.55-5.78-2.41-9-2.41H77.53c-3.2,0-6.32,0.88-9,2.41l0,0l7.96,26.81l19.44,20.64 L96,66l0,0l19.58-20.89L123.48,18.41C123.48,18.41,123.48,18.41,123.48,18.41C123.48,18.41,123.48,18.41,123.48,18.41z" fill="#188038"></path>
        <path d="M63.67,122l-28.33-6.5L8.72,122c0,3.1,0.8,6.2,2.4,8.99L29.6,163c1.61,2.78,3.9,5.03,6.59,6.59 l19.59-20.18L63.67,122L63.67,122z" fill="#1967D2"></path>
        <path d="M155.47,69l-25.4-44c-1.61-2.79-3.9-5.04-6.59-6.59L96,66l32.33,56h54.95c0-3.11-0.8-6.21-2.41-9 L155.47,69z" fill="#FBBC04"></path><path d="M128.33,122H63.67l-27.48,47.59c2.69,1.55,5.78,2.41,9,2.41h101.61c3.22,0,6.31-0.86,9-2.41L128.33,122z" fill="#4285F4"></path>
        <path d="M96,66L68.53,18.41c-2.69,1.55-4.97,3.79-6.58,6.57l-50.83,88.05c-1.6,2.78-2.4,5.88-2.4,8.97h54.95L96,66 z" fill="#34A853"></path>
      </svg></md-icon>
      <div class="item-row   ">
        <div class="title-column multiline-column" role="cell">
          <a class="row-link" href="https://colab.research.google.com/drive/1jJQydDN7jW8_jhgflu1uiYBApYIHqy9n" title="Untitled38.ipynb">
            <div class="row-link-text nowrap multiline-primary"><!--?lit$896484614$-->Untitled38.ipynb</div>
          </a>
          <div class="secondary"><!--?lit$896484614$--><!--?lit$896484614$--></div>
        </div>
        <!--?lit$896484614$-->
        <!--?lit$896484614$--> <span role="cell" class="date-column date-column-last"><!--?lit$896484614$-->Oct 31, 2023</span>
        <!--?lit$896484614$--> <span role="cell" class="date-column date-column-first"><!--?lit$896484614$-->Oct 31, 2023</span>
        <div class="grow"></div>
        <div class="small-icon-action-column" role="cell">
          <div class="small-icon-action">
            <!--?lit$896484614$--> <a target="_blank" href="https://drive.google.com/drive/?action=locate&amp;id=1jJQydDN7jW8_jhgflu1uiYBApYIHqy9n&amp;authuser=0" aria-label="View &quot;Untitled38.ipynb&quot; in Google Drive Link will open in a new tab" title="View &quot;Untitled38.ipynb&quot; in Google Drive">
                  <md-icon filled="" class="small-icon" aria-hidden="true"><template shadowrootmode="open"><!----><slot></slot></template><!--?lit$896484614$--><svg viewBox="0 0 24 24"><!--?lit$896484614$-->
    <path d="M20,6H12L10,4H4A2,2,0,0,0,2,6V18a2,2,0,0,0,2,2H20a2,2,0,0,0,2-2V8A2,2,0,0,0,20,6ZM13.57,9.32,13,8.4l.34-.6h3.11l3.69,6.5H16.38M12.11,17l-.67,1.2h-1L9,15.42,12.72,9l2,3.46h0M19.3,18.2H12.09l.67-1.2,1.15-2h6.64l.34.6Z"></path></svg></md-icon>
                </a>
          </div>
          <div class="small-icon-action">
            <a target="_blank" href="https://colab.research.google.com/drive/1jJQydDN7jW8_jhgflu1uiYBApYIHqy9n" title="Open &quot;Untitled38.ipynb&quot; in new tab">
              <md-icon class="small-icon" aria-hidden="true"><template shadowrootmode="open"><!----><slot></slot></template>open_in_new</md-icon>
            </a>
          </div>
        </div>
      </div>
    </mwc-list-item><!----><!----><mwc-list-item twoline="" graphic="icon" mwc-list-item="" role="row" tabindex="-1" aria-disabled="false" aria-selected="false" style="position: absolute; box-sizing: border-box; transform: translate(0px, 704px); top: 0px;"><template shadowrootmode="open"><!---->
      <!--?lit$896484614$-->
      <!--?lit$896484614$-->
      <span class="mdc-deprecated-list-item__graphic material-icons   ">
        <slot name="graphic"></slot>
      </span>
      <!--?lit$896484614$-->
      <span class="mdc-deprecated-list-item__text">
        <!--?lit$896484614$-->
      <span class="mdc-deprecated-list-item__primary-text">
        <slot></slot>
      </span>
      <span class="mdc-deprecated-list-item__secondary-text">
        <slot name="secondary"></slot>
      </span>
    
      </span>
      <!--?lit$896484614$--><!--?--><!--?--></template>
      <md-icon slot="graphic" role="cell" title="Notebook stored in Google Drive"><template shadowrootmode="open"><!----><slot></slot></template><!--?lit$896484614$-->
      <svg viewBox="0 0 192 192">
        <path d="M128.33,122l7.59,26.17l19.89,21.42c0,0,0,0,0,0v0c2.69-1.55,4.98-3.8,6.59-6.59l18.48-32 c1.61-2.78,2.41-5.89,2.41-9l-28.38-5.5L128.33,122z" fill="#EA4335"></path>
        <path d="M123.48,18.41c-2.69-1.55-5.78-2.41-9-2.41H77.53c-3.2,0-6.32,0.88-9,2.41l0,0l7.96,26.81l19.44,20.64 L96,66l0,0l19.58-20.89L123.48,18.41C123.48,18.41,123.48,18.41,123.48,18.41C123.48,18.41,123.48,18.41,123.48,18.41z" fill="#188038"></path>
        <path d="M63.67,122l-28.33-6.5L8.72,122c0,3.1,0.8,6.2,2.4,8.99L29.6,163c1.61,2.78,3.9,5.03,6.59,6.59 l19.59-20.18L63.67,122L63.67,122z" fill="#1967D2"></path>
        <path d="M155.47,69l-25.4-44c-1.61-2.79-3.9-5.04-6.59-6.59L96,66l32.33,56h54.95c0-3.11-0.8-6.21-2.41-9 L155.47,69z" fill="#FBBC04"></path><path d="M128.33,122H63.67l-27.48,47.59c2.69,1.55,5.78,2.41,9,2.41h101.61c3.22,0,6.31-0.86,9-2.41L128.33,122z" fill="#4285F4"></path>
        <path d="M96,66L68.53,18.41c-2.69,1.55-4.97,3.79-6.58,6.57l-50.83,88.05c-1.6,2.78-2.4,5.88-2.4,8.97h54.95L96,66 z" fill="#34A853"></path>
      </svg></md-icon>
      <div class="item-row   ">
        <div class="title-column multiline-column" role="cell">
          <a class="row-link" href="https://colab.research.google.com/drive/1FU0JKiTXcFRpscqYyX_qurMxFZgsMAxA" title="Web_Scrapping_2.ipynb">
            <div class="row-link-text nowrap multiline-primary"><!--?lit$896484614$-->Web_Scrapping_2.ipynb</div>
          </a>
          <div class="secondary"><!--?lit$896484614$--><!--?lit$896484614$--></div>
        </div>
        <!--?lit$896484614$-->
        <!--?lit$896484614$--> <span role="cell" class="date-column date-column-last"><!--?lit$896484614$-->Oct 31, 2023</span>
        <!--?lit$896484614$--> <span role="cell" class="date-column date-column-first"><!--?lit$896484614$-->Oct 4, 2023</span>
        <div class="grow"></div>
        <div class="small-icon-action-column" role="cell">
          <div class="small-icon-action">
            <!--?lit$896484614$--> <a target="_blank" href="https://drive.google.com/drive/?action=locate&amp;id=1FU0JKiTXcFRpscqYyX_qurMxFZgsMAxA&amp;authuser=0" aria-label="View &quot;Web_Scrapping_2.ipynb&quot; in Google Drive Link will open in a new tab" title="View &quot;Web_Scrapping_2.ipynb&quot; in Google Drive">
                  <md-icon filled="" class="small-icon" aria-hidden="true"><template shadowrootmode="open"><!----><slot></slot></template><!--?lit$896484614$--><svg viewBox="0 0 24 24"><!--?lit$896484614$-->
    <path d="M20,6H12L10,4H4A2,2,0,0,0,2,6V18a2,2,0,0,0,2,2H20a2,2,0,0,0,2-2V8A2,2,0,0,0,20,6ZM13.57,9.32,13,8.4l.34-.6h3.11l3.69,6.5H16.38M12.11,17l-.67,1.2h-1L9,15.42,12.72,9l2,3.46h0M19.3,18.2H12.09l.67-1.2,1.15-2h6.64l.34.6Z"></path></svg></md-icon>
                </a>
          </div>
          <div class="small-icon-action">
            <a target="_blank" href="https://colab.research.google.com/drive/1FU0JKiTXcFRpscqYyX_qurMxFZgsMAxA" title="Open &quot;Web_Scrapping_2.ipynb&quot; in new tab">
              <md-icon class="small-icon" aria-hidden="true"><template shadowrootmode="open"><!----><slot></slot></template>open_in_new</md-icon>
            </a>
          </div>
        </div>
      </div>
    </mwc-list-item><!----><!----><mwc-list-item twoline="" graphic="icon" mwc-list-item="" role="row" tabindex="-1" aria-disabled="false" aria-selected="false" style="position: absolute; box-sizing: border-box; transform: translate(0px, 768px); top: 0px;"><template shadowrootmode="open"><!---->
      <!--?lit$896484614$-->
      <!--?lit$896484614$-->
      <span class="mdc-deprecated-list-item__graphic material-icons   ">
        <slot name="graphic"></slot>
      </span>
      <!--?lit$896484614$-->
      <span class="mdc-deprecated-list-item__text">
        <!--?lit$896484614$-->
      <span class="mdc-deprecated-list-item__primary-text">
        <slot></slot>
      </span>
      <span class="mdc-deprecated-list-item__secondary-text">
        <slot name="secondary"></slot>
      </span>
    
      </span>
      <!--?lit$896484614$--><!--?--><!--?--></template>
      <md-icon slot="graphic" role="cell" title="Notebook stored in Google Drive"><template shadowrootmode="open"><!----><slot></slot></template><!--?lit$896484614$-->
      <svg viewBox="0 0 192 192">
        <path d="M128.33,122l7.59,26.17l19.89,21.42c0,0,0,0,0,0v0c2.69-1.55,4.98-3.8,6.59-6.59l18.48-32 c1.61-2.78,2.41-5.89,2.41-9l-28.38-5.5L128.33,122z" fill="#EA4335"></path>
        <path d="M123.48,18.41c-2.69-1.55-5.78-2.41-9-2.41H77.53c-3.2,0-6.32,0.88-9,2.41l0,0l7.96,26.81l19.44,20.64 L96,66l0,0l19.58-20.89L123.48,18.41C123.48,18.41,123.48,18.41,123.48,18.41C123.48,18.41,123.48,18.41,123.48,18.41z" fill="#188038"></path>
        <path d="M63.67,122l-28.33-6.5L8.72,122c0,3.1,0.8,6.2,2.4,8.99L29.6,163c1.61,2.78,3.9,5.03,6.59,6.59 l19.59-20.18L63.67,122L63.67,122z" fill="#1967D2"></path>
        <path d="M155.47,69l-25.4-44c-1.61-2.79-3.9-5.04-6.59-6.59L96,66l32.33,56h54.95c0-3.11-0.8-6.21-2.41-9 L155.47,69z" fill="#FBBC04"></path><path d="M128.33,122H63.67l-27.48,47.59c2.69,1.55,5.78,2.41,9,2.41h101.61c3.22,0,6.31-0.86,9-2.41L128.33,122z" fill="#4285F4"></path>
        <path d="M96,66L68.53,18.41c-2.69,1.55-4.97,3.79-6.58,6.57l-50.83,88.05c-1.6,2.78-2.4,5.88-2.4,8.97h54.95L96,66 z" fill="#34A853"></path>
      </svg></md-icon>
      <div class="item-row   ">
        <div class="title-column multiline-column" role="cell">
          <a class="row-link" href="https://colab.research.google.com/drive/13zq_FK9aZcCRDDZchV0V-jYW2ERlt2A5" title="Untitled39.ipynb">
            <div class="row-link-text nowrap multiline-primary"><!--?lit$896484614$-->Untitled39.ipynb</div>
          </a>
          <div class="secondary"><!--?lit$896484614$--><!--?lit$896484614$--></div>
        </div>
        <!--?lit$896484614$-->
        <!--?lit$896484614$--> <span role="cell" class="date-column date-column-last"><!--?lit$896484614$-->Oct 31, 2023</span>
        <!--?lit$896484614$--> <span role="cell" class="date-column date-column-first"><!--?lit$896484614$-->Oct 31, 2023</span>
        <div class="grow"></div>
        <div class="small-icon-action-column" role="cell">
          <div class="small-icon-action">
            <!--?lit$896484614$--> <a target="_blank" href="https://drive.google.com/drive/?action=locate&amp;id=13zq_FK9aZcCRDDZchV0V-jYW2ERlt2A5&amp;authuser=0" aria-label="View &quot;Untitled39.ipynb&quot; in Google Drive Link will open in a new tab" title="View &quot;Untitled39.ipynb&quot; in Google Drive">
                  <md-icon filled="" class="small-icon" aria-hidden="true"><template shadowrootmode="open"><!----><slot></slot></template><!--?lit$896484614$--><svg viewBox="0 0 24 24"><!--?lit$896484614$-->
    <path d="M20,6H12L10,4H4A2,2,0,0,0,2,6V18a2,2,0,0,0,2,2H20a2,2,0,0,0,2-2V8A2,2,0,0,0,20,6ZM13.57,9.32,13,8.4l.34-.6h3.11l3.69,6.5H16.38M12.11,17l-.67,1.2h-1L9,15.42,12.72,9l2,3.46h0M19.3,18.2H12.09l.67-1.2,1.15-2h6.64l.34.6Z"></path></svg></md-icon>
                </a>
          </div>
          <div class="small-icon-action">
            <a target="_blank" href="https://colab.research.google.com/drive/13zq_FK9aZcCRDDZchV0V-jYW2ERlt2A5" title="Open &quot;Untitled39.ipynb&quot; in new tab">
              <md-icon class="small-icon" aria-hidden="true"><template shadowrootmode="open"><!----><slot></slot></template>open_in_new</md-icon>
            </a>
          </div>
        </div>
      </div>
    </mwc-list-item><!----><!----><mwc-list-item twoline="" graphic="icon" mwc-list-item="" tabindex="-1" role="row" aria-disabled="false" aria-selected="false" style="position: absolute; box-sizing: border-box; transform: translate(0px, 832px); top: 0px;"><template shadowrootmode="open"><!---->
      <!--?lit$896484614$-->
      <!--?lit$896484614$-->
      <span class="mdc-deprecated-list-item__graphic material-icons   ">
        <slot name="graphic"></slot>
      </span>
      <!--?lit$896484614$-->
      <span class="mdc-deprecated-list-item__text">
        <!--?lit$896484614$-->
      <span class="mdc-deprecated-list-item__primary-text">
        <slot></slot>
      </span>
      <span class="mdc-deprecated-list-item__secondary-text">
        <slot name="secondary"></slot>
      </span>
    
      </span>
      <!--?lit$896484614$--><!--?--><!--?--></template>
      <md-icon slot="graphic" role="cell" title="Notebook stored in Google Drive"><template shadowrootmode="open"><!----><slot></slot></template><!--?lit$896484614$-->
      <svg viewBox="0 0 192 192">
        <path d="M128.33,122l7.59,26.17l19.89,21.42c0,0,0,0,0,0v0c2.69-1.55,4.98-3.8,6.59-6.59l18.48-32 c1.61-2.78,2.41-5.89,2.41-9l-28.38-5.5L128.33,122z" fill="#EA4335"></path>
        <path d="M123.48,18.41c-2.69-1.55-5.78-2.41-9-2.41H77.53c-3.2,0-6.32,0.88-9,2.41l0,0l7.96,26.81l19.44,20.64 L96,66l0,0l19.58-20.89L123.48,18.41C123.48,18.41,123.48,18.41,123.48,18.41C123.48,18.41,123.48,18.41,123.48,18.41z" fill="#188038"></path>
        <path d="M63.67,122l-28.33-6.5L8.72,122c0,3.1,0.8,6.2,2.4,8.99L29.6,163c1.61,2.78,3.9,5.03,6.59,6.59 l19.59-20.18L63.67,122L63.67,122z" fill="#1967D2"></path>
        <path d="M155.47,69l-25.4-44c-1.61-2.79-3.9-5.04-6.59-6.59L96,66l32.33,56h54.95c0-3.11-0.8-6.21-2.41-9 L155.47,69z" fill="#FBBC04"></path><path d="M128.33,122H63.67l-27.48,47.59c2.69,1.55,5.78,2.41,9,2.41h101.61c3.22,0,6.31-0.86,9-2.41L128.33,122z" fill="#4285F4"></path>
        <path d="M96,66L68.53,18.41c-2.69,1.55-4.97,3.79-6.58,6.57l-50.83,88.05c-1.6,2.78-2.4,5.88-2.4,8.97h54.95L96,66 z" fill="#34A853"></path>
      </svg></md-icon>
      <div class="item-row   ">
        <div class="title-column multiline-column" role="cell">
          <a class="row-link" href="https://colab.research.google.com/drive/1YlRZYwqrHfiI7R4K9rZSZkQFrF6tZxJH" title="Numpy.ipynb">
            <div class="row-link-text nowrap multiline-primary"><!--?lit$896484614$-->Numpy.ipynb</div>
          </a>
          <div class="secondary"><!--?lit$896484614$--><!--?lit$896484614$--></div>
        </div>
        <!--?lit$896484614$-->
        <!--?lit$896484614$--> <span role="cell" class="date-column date-column-last"><!--?lit$896484614$-->Oct 31, 2023</span>
        <!--?lit$896484614$--> <span role="cell" class="date-column date-column-first"><!--?lit$896484614$-->Oct 31, 2023</span>
        <div class="grow"></div>
        <div class="small-icon-action-column" role="cell">
          <div class="small-icon-action">
            <!--?lit$896484614$--> <a target="_blank" href="https://drive.google.com/drive/?action=locate&amp;id=1YlRZYwqrHfiI7R4K9rZSZkQFrF6tZxJH&amp;authuser=0" aria-label="View &quot;Numpy.ipynb&quot; in Google Drive Link will open in a new tab" title="View &quot;Numpy.ipynb&quot; in Google Drive">
                  <md-icon filled="" class="small-icon" aria-hidden="true"><template shadowrootmode="open"><!----><slot></slot></template><!--?lit$896484614$--><svg viewBox="0 0 24 24"><!--?lit$896484614$-->
    <path d="M20,6H12L10,4H4A2,2,0,0,0,2,6V18a2,2,0,0,0,2,2H20a2,2,0,0,0,2-2V8A2,2,0,0,0,20,6ZM13.57,9.32,13,8.4l.34-.6h3.11l3.69,6.5H16.38M12.11,17l-.67,1.2h-1L9,15.42,12.72,9l2,3.46h0M19.3,18.2H12.09l.67-1.2,1.15-2h6.64l.34.6Z"></path></svg></md-icon>
                </a>
          </div>
          <div class="small-icon-action">
            <a target="_blank" href="https://colab.research.google.com/drive/1YlRZYwqrHfiI7R4K9rZSZkQFrF6tZxJH" title="Open &quot;Numpy.ipynb&quot; in new tab">
              <md-icon class="small-icon" aria-hidden="true"><template shadowrootmode="open"><!----><slot></slot></template>open_in_new</md-icon>
            </a>
          </div>
        </div>
      </div>
    </mwc-list-item><!----><!----><mwc-list-item twoline="" graphic="icon" mwc-list-item="" role="row" tabindex="-1" aria-disabled="false" aria-selected="false" style="position: absolute; box-sizing: border-box; transform: translate(0px, 896px); top: 0px;"><template shadowrootmode="open"><!---->
      <!--?lit$896484614$-->
      <!--?lit$896484614$-->
      <span class="mdc-deprecated-list-item__graphic material-icons   ">
        <slot name="graphic"></slot>
      </span>
      <!--?lit$896484614$-->
      <span class="mdc-deprecated-list-item__text">
        <!--?lit$896484614$-->
      <span class="mdc-deprecated-list-item__primary-text">
        <slot></slot>
      </span>
      <span class="mdc-deprecated-list-item__secondary-text">
        <slot name="secondary"></slot>
      </span>
    
      </span>
      <!--?lit$896484614$--><!--?--><!--?--></template>
      <md-icon slot="graphic" role="cell" title="Notebook stored in Google Drive"><template shadowrootmode="open"><!----><slot></slot></template><!--?lit$896484614$-->
      <svg viewBox="0 0 192 192">
        <path d="M128.33,122l7.59,26.17l19.89,21.42c0,0,0,0,0,0v0c2.69-1.55,4.98-3.8,6.59-6.59l18.48-32 c1.61-2.78,2.41-5.89,2.41-9l-28.38-5.5L128.33,122z" fill="#EA4335"></path>
        <path d="M123.48,18.41c-2.69-1.55-5.78-2.41-9-2.41H77.53c-3.2,0-6.32,0.88-9,2.41l0,0l7.96,26.81l19.44,20.64 L96,66l0,0l19.58-20.89L123.48,18.41C123.48,18.41,123.48,18.41,123.48,18.41C123.48,18.41,123.48,18.41,123.48,18.41z" fill="#188038"></path>
        <path d="M63.67,122l-28.33-6.5L8.72,122c0,3.1,0.8,6.2,2.4,8.99L29.6,163c1.61,2.78,3.9,5.03,6.59,6.59 l19.59-20.18L63.67,122L63.67,122z" fill="#1967D2"></path>
        <path d="M155.47,69l-25.4-44c-1.61-2.79-3.9-5.04-6.59-6.59L96,66l32.33,56h54.95c0-3.11-0.8-6.21-2.41-9 L155.47,69z" fill="#FBBC04"></path><path d="M128.33,122H63.67l-27.48,47.59c2.69,1.55,5.78,2.41,9,2.41h101.61c3.22,0,6.31-0.86,9-2.41L128.33,122z" fill="#4285F4"></path>
        <path d="M96,66L68.53,18.41c-2.69,1.55-4.97,3.79-6.58,6.57l-50.83,88.05c-1.6,2.78-2.4,5.88-2.4,8.97h54.95L96,66 z" fill="#34A853"></path>
      </svg></md-icon>
      <div class="item-row   ">
        <div class="title-column multiline-column" role="cell">
          <a class="row-link" href="https://colab.research.google.com/drive/1hWfc4_Iz96nV9Km5bP0EEE7CkSzPoKwW" title="Web_Scrapping.ipynb">
            <div class="row-link-text nowrap multiline-primary"><!--?lit$896484614$-->Web_Scrapping.ipynb</div>
          </a>
          <div class="secondary"><!--?lit$896484614$--><!--?lit$896484614$--></div>
        </div>
        <!--?lit$896484614$-->
        <!--?lit$896484614$--> <span role="cell" class="date-column date-column-last"><!--?lit$896484614$-->Oct 13, 2023</span>
        <!--?lit$896484614$--> <span role="cell" class="date-column date-column-first"><!--?lit$896484614$-->Oct 13, 2023</span>
        <div class="grow"></div>
        <div class="small-icon-action-column" role="cell">
          <div class="small-icon-action">
            <!--?lit$896484614$--> <a target="_blank" href="https://drive.google.com/drive/?action=locate&amp;id=1hWfc4_Iz96nV9Km5bP0EEE7CkSzPoKwW&amp;authuser=0" aria-label="View &quot;Web_Scrapping.ipynb&quot; in Google Drive Link will open in a new tab" title="View &quot;Web_Scrapping.ipynb&quot; in Google Drive">
                  <md-icon filled="" class="small-icon" aria-hidden="true"><template shadowrootmode="open"><!----><slot></slot></template><!--?lit$896484614$--><svg viewBox="0 0 24 24"><!--?lit$896484614$-->
    <path d="M20,6H12L10,4H4A2,2,0,0,0,2,6V18a2,2,0,0,0,2,2H20a2,2,0,0,0,2-2V8A2,2,0,0,0,20,6ZM13.57,9.32,13,8.4l.34-.6h3.11l3.69,6.5H16.38M12.11,17l-.67,1.2h-1L9,15.42,12.72,9l2,3.46h0M19.3,18.2H12.09l.67-1.2,1.15-2h6.64l.34.6Z"></path></svg></md-icon>
                </a>
          </div>
          <div class="small-icon-action">
            <a target="_blank" href="https://colab.research.google.com/drive/1hWfc4_Iz96nV9Km5bP0EEE7CkSzPoKwW" title="Open &quot;Web_Scrapping.ipynb&quot; in new tab">
              <md-icon class="small-icon" aria-hidden="true"><template shadowrootmode="open"><!----><slot></slot></template>open_in_new</md-icon>
            </a>
          </div>
        </div>
      </div>
    </mwc-list-item><!----><!----><mwc-list-item twoline="" graphic="icon" mwc-list-item="" role="row" tabindex="-1" aria-disabled="false" aria-selected="false" style="position: absolute; box-sizing: border-box; transform: translate(0px, 960px); top: 0px;"><template shadowrootmode="open"><!---->
      <!--?lit$896484614$-->
      <!--?lit$896484614$-->
      <span class="mdc-deprecated-list-item__graphic material-icons   ">
        <slot name="graphic"></slot>
      </span>
      <!--?lit$896484614$-->
      <span class="mdc-deprecated-list-item__text">
        <!--?lit$896484614$-->
      <span class="mdc-deprecated-list-item__primary-text">
        <slot></slot>
      </span>
      <span class="mdc-deprecated-list-item__secondary-text">
        <slot name="secondary"></slot>
      </span>
    
      </span>
      <!--?lit$896484614$--><!--?--><!--?--></template>
      <md-icon slot="graphic" role="cell" title="Notebook stored in Google Drive"><template shadowrootmode="open"><!----><slot></slot></template><!--?lit$896484614$-->
      <svg viewBox="0 0 192 192">
        <path d="M128.33,122l7.59,26.17l19.89,21.42c0,0,0,0,0,0v0c2.69-1.55,4.98-3.8,6.59-6.59l18.48-32 c1.61-2.78,2.41-5.89,2.41-9l-28.38-5.5L128.33,122z" fill="#EA4335"></path>
        <path d="M123.48,18.41c-2.69-1.55-5.78-2.41-9-2.41H77.53c-3.2,0-6.32,0.88-9,2.41l0,0l7.96,26.81l19.44,20.64 L96,66l0,0l19.58-20.89L123.48,18.41C123.48,18.41,123.48,18.41,123.48,18.41C123.48,18.41,123.48,18.41,123.48,18.41z" fill="#188038"></path>
        <path d="M63.67,122l-28.33-6.5L8.72,122c0,3.1,0.8,6.2,2.4,8.99L29.6,163c1.61,2.78,3.9,5.03,6.59,6.59 l19.59-20.18L63.67,122L63.67,122z" fill="#1967D2"></path>
        <path d="M155.47,69l-25.4-44c-1.61-2.79-3.9-5.04-6.59-6.59L96,66l32.33,56h54.95c0-3.11-0.8-6.21-2.41-9 L155.47,69z" fill="#FBBC04"></path><path d="M128.33,122H63.67l-27.48,47.59c2.69,1.55,5.78,2.41,9,2.41h101.61c3.22,0,6.31-0.86,9-2.41L128.33,122z" fill="#4285F4"></path>
        <path d="M96,66L68.53,18.41c-2.69,1.55-4.97,3.79-6.58,6.57l-50.83,88.05c-1.6,2.78-2.4,5.88-2.4,8.97h54.95L96,66 z" fill="#34A853"></path>
      </svg></md-icon>
      <div class="item-row   ">
        <div class="title-column multiline-column" role="cell">
          <a class="row-link" href="https://colab.research.google.com/drive/1FIbDcOT4FphvbNGYqUtVQvUdJJuhp0jd" title="Untitled37.ipynb">
            <div class="row-link-text nowrap multiline-primary"><!--?lit$896484614$-->Untitled37.ipynb</div>
          </a>
          <div class="secondary"><!--?lit$896484614$--><!--?lit$896484614$--></div>
        </div>
        <!--?lit$896484614$-->
        <!--?lit$896484614$--> <span role="cell" class="date-column date-column-last"><!--?lit$896484614$-->Oct 11, 2023</span>
        <!--?lit$896484614$--> <span role="cell" class="date-column date-column-first"><!--?lit$896484614$-->Oct 11, 2023</span>
        <div class="grow"></div>
        <div class="small-icon-action-column" role="cell">
          <div class="small-icon-action">
            <!--?lit$896484614$--> <a target="_blank" href="https://drive.google.com/drive/?action=locate&amp;id=1FIbDcOT4FphvbNGYqUtVQvUdJJuhp0jd&amp;authuser=0" aria-label="View &quot;Untitled37.ipynb&quot; in Google Drive Link will open in a new tab" title="View &quot;Untitled37.ipynb&quot; in Google Drive">
                  <md-icon filled="" class="small-icon" aria-hidden="true"><template shadowrootmode="open"><!----><slot></slot></template><!--?lit$896484614$--><svg viewBox="0 0 24 24"><!--?lit$896484614$-->
    <path d="M20,6H12L10,4H4A2,2,0,0,0,2,6V18a2,2,0,0,0,2,2H20a2,2,0,0,0,2-2V8A2,2,0,0,0,20,6ZM13.57,9.32,13,8.4l.34-.6h3.11l3.69,6.5H16.38M12.11,17l-.67,1.2h-1L9,15.42,12.72,9l2,3.46h0M19.3,18.2H12.09l.67-1.2,1.15-2h6.64l.34.6Z"></path></svg></md-icon>
                </a>
          </div>
          <div class="small-icon-action">
            <a target="_blank" href="https://colab.research.google.com/drive/1FIbDcOT4FphvbNGYqUtVQvUdJJuhp0jd" title="Open &quot;Untitled37.ipynb&quot; in new tab">
              <md-icon class="small-icon" aria-hidden="true"><template shadowrootmode="open"><!----><slot></slot></template>open_in_new</md-icon>
            </a>
          </div>
        </div>
      </div>
    </mwc-list-item><!----><!----><mwc-list-item twoline="" graphic="icon" mwc-list-item="" role="row" tabindex="-1" aria-disabled="false" aria-selected="false" style="position: absolute; box-sizing: border-box; transform: translate(0px, 1024px); top: 0px;"><template shadowrootmode="open"><!---->
      <!--?lit$896484614$-->
      <!--?lit$896484614$-->
      <span class="mdc-deprecated-list-item__graphic material-icons   ">
        <slot name="graphic"></slot>
      </span>
      <!--?lit$896484614$-->
      <span class="mdc-deprecated-list-item__text">
        <!--?lit$896484614$-->
      <span class="mdc-deprecated-list-item__primary-text">
        <slot></slot>
      </span>
      <span class="mdc-deprecated-list-item__secondary-text">
        <slot name="secondary"></slot>
      </span>
    
      </span>
      <!--?lit$896484614$--><!--?--><!--?--></template>
      <md-icon slot="graphic" role="cell" title="Notebook stored in Google Drive"><template shadowrootmode="open"><!----><slot></slot></template><!--?lit$896484614$-->
      <svg viewBox="0 0 192 192">
        <path d="M128.33,122l7.59,26.17l19.89,21.42c0,0,0,0,0,0v0c2.69-1.55,4.98-3.8,6.59-6.59l18.48-32 c1.61-2.78,2.41-5.89,2.41-9l-28.38-5.5L128.33,122z" fill="#EA4335"></path>
        <path d="M123.48,18.41c-2.69-1.55-5.78-2.41-9-2.41H77.53c-3.2,0-6.32,0.88-9,2.41l0,0l7.96,26.81l19.44,20.64 L96,66l0,0l19.58-20.89L123.48,18.41C123.48,18.41,123.48,18.41,123.48,18.41C123.48,18.41,123.48,18.41,123.48,18.41z" fill="#188038"></path>
        <path d="M63.67,122l-28.33-6.5L8.72,122c0,3.1,0.8,6.2,2.4,8.99L29.6,163c1.61,2.78,3.9,5.03,6.59,6.59 l19.59-20.18L63.67,122L63.67,122z" fill="#1967D2"></path>
        <path d="M155.47,69l-25.4-44c-1.61-2.79-3.9-5.04-6.59-6.59L96,66l32.33,56h54.95c0-3.11-0.8-6.21-2.41-9 L155.47,69z" fill="#FBBC04"></path><path d="M128.33,122H63.67l-27.48,47.59c2.69,1.55,5.78,2.41,9,2.41h101.61c3.22,0,6.31-0.86,9-2.41L128.33,122z" fill="#4285F4"></path>
        <path d="M96,66L68.53,18.41c-2.69,1.55-4.97,3.79-6.58,6.57l-50.83,88.05c-1.6,2.78-2.4,5.88-2.4,8.97h54.95L96,66 z" fill="#34A853"></path>
      </svg></md-icon>
      <div class="item-row   ">
        <div class="title-column multiline-column" role="cell">
          <a class="row-link" href="https://colab.research.google.com/drive/1O8wAaP3flDhcoEqK3MJ2UXMtY3Y2TVn1" title="Untitled36.ipynb">
            <div class="row-link-text nowrap multiline-primary"><!--?lit$896484614$-->Untitled36.ipynb</div>
          </a>
          <div class="secondary"><!--?lit$896484614$--><!--?lit$896484614$--></div>
        </div>
        <!--?lit$896484614$-->
        <!--?lit$896484614$--> <span role="cell" class="date-column date-column-last"><!--?lit$896484614$-->Oct 11, 2023</span>
        <!--?lit$896484614$--> <span role="cell" class="date-column date-column-first"><!--?lit$896484614$-->Oct 11, 2023</span>
        <div class="grow"></div>
        <div class="small-icon-action-column" role="cell">
          <div class="small-icon-action">
            <!--?lit$896484614$--> <a target="_blank" href="https://drive.google.com/drive/?action=locate&amp;id=1O8wAaP3flDhcoEqK3MJ2UXMtY3Y2TVn1&amp;authuser=0" aria-label="View &quot;Untitled36.ipynb&quot; in Google Drive Link will open in a new tab" title="View &quot;Untitled36.ipynb&quot; in Google Drive">
                  <md-icon filled="" class="small-icon" aria-hidden="true"><template shadowrootmode="open"><!----><slot></slot></template><!--?lit$896484614$--><svg viewBox="0 0 24 24"><!--?lit$896484614$-->
    <path d="M20,6H12L10,4H4A2,2,0,0,0,2,6V18a2,2,0,0,0,2,2H20a2,2,0,0,0,2-2V8A2,2,0,0,0,20,6ZM13.57,9.32,13,8.4l.34-.6h3.11l3.69,6.5H16.38M12.11,17l-.67,1.2h-1L9,15.42,12.72,9l2,3.46h0M19.3,18.2H12.09l.67-1.2,1.15-2h6.64l.34.6Z"></path></svg></md-icon>
                </a>
          </div>
          <div class="small-icon-action">
            <a target="_blank" href="https://colab.research.google.com/drive/1O8wAaP3flDhcoEqK3MJ2UXMtY3Y2TVn1" title="Open &quot;Untitled36.ipynb&quot; in new tab">
              <md-icon class="small-icon" aria-hidden="true"><template shadowrootmode="open"><!----><slot></slot></template>open_in_new</md-icon>
            </a>
          </div>
        </div>
      </div>
    </mwc-list-item><!----><!----><mwc-list-item twoline="" graphic="icon" mwc-list-item="" role="row" tabindex="-1" aria-disabled="false" aria-selected="false" style="position: absolute; box-sizing: border-box; transform: translate(0px, 1088px); top: 0px;"><template shadowrootmode="open"><!---->
      <!--?lit$896484614$-->
      <!--?lit$896484614$-->
      <span class="mdc-deprecated-list-item__graphic material-icons   ">
        <slot name="graphic"></slot>
      </span>
      <!--?lit$896484614$-->
      <span class="mdc-deprecated-list-item__text">
        <!--?lit$896484614$-->
      <span class="mdc-deprecated-list-item__primary-text">
        <slot></slot>
      </span>
      <span class="mdc-deprecated-list-item__secondary-text">
        <slot name="secondary"></slot>
      </span>
    
      </span>
      <!--?lit$896484614$--><!--?--><!--?--></template>
      <md-icon slot="graphic" role="cell" title="Notebook stored in Google Drive"><template shadowrootmode="open"><!----><slot></slot></template><!--?lit$896484614$-->
      <svg viewBox="0 0 192 192">
        <path d="M128.33,122l7.59,26.17l19.89,21.42c0,0,0,0,0,0v0c2.69-1.55,4.98-3.8,6.59-6.59l18.48-32 c1.61-2.78,2.41-5.89,2.41-9l-28.38-5.5L128.33,122z" fill="#EA4335"></path>
        <path d="M123.48,18.41c-2.69-1.55-5.78-2.41-9-2.41H77.53c-3.2,0-6.32,0.88-9,2.41l0,0l7.96,26.81l19.44,20.64 L96,66l0,0l19.58-20.89L123.48,18.41C123.48,18.41,123.48,18.41,123.48,18.41C123.48,18.41,123.48,18.41,123.48,18.41z" fill="#188038"></path>
        <path d="M63.67,122l-28.33-6.5L8.72,122c0,3.1,0.8,6.2,2.4,8.99L29.6,163c1.61,2.78,3.9,5.03,6.59,6.59 l19.59-20.18L63.67,122L63.67,122z" fill="#1967D2"></path>
        <path d="M155.47,69l-25.4-44c-1.61-2.79-3.9-5.04-6.59-6.59L96,66l32.33,56h54.95c0-3.11-0.8-6.21-2.41-9 L155.47,69z" fill="#FBBC04"></path><path d="M128.33,122H63.67l-27.48,47.59c2.69,1.55,5.78,2.41,9,2.41h101.61c3.22,0,6.31-0.86,9-2.41L128.33,122z" fill="#4285F4"></path>
        <path d="M96,66L68.53,18.41c-2.69,1.55-4.97,3.79-6.58,6.57l-50.83,88.05c-1.6,2.78-2.4,5.88-2.4,8.97h54.95L96,66 z" fill="#34A853"></path>
      </svg></md-icon>
      <div class="item-row   ">
        <div class="title-column multiline-column" role="cell">
          <a class="row-link" href="https://colab.research.google.com/drive/1iKWmyqEQyYx4AC09UcmeUpcn-DmHOiaa" title="Untitled35.ipynb">
            <div class="row-link-text nowrap multiline-primary"><!--?lit$896484614$-->Untitled35.ipynb</div>
          </a>
          <div class="secondary"><!--?lit$896484614$--><!--?lit$896484614$--></div>
        </div>
        <!--?lit$896484614$-->
        <!--?lit$896484614$--> <span role="cell" class="date-column date-column-last"><!--?lit$896484614$-->Oct 10, 2023</span>
        <!--?lit$896484614$--> <span role="cell" class="date-column date-column-first"><!--?lit$896484614$-->Oct 10, 2023</span>
        <div class="grow"></div>
        <div class="small-icon-action-column" role="cell">
          <div class="small-icon-action">
            <!--?lit$896484614$--> <a target="_blank" href="https://drive.google.com/drive/?action=locate&amp;id=1iKWmyqEQyYx4AC09UcmeUpcn-DmHOiaa&amp;authuser=0" aria-label="View &quot;Untitled35.ipynb&quot; in Google Drive Link will open in a new tab" title="View &quot;Untitled35.ipynb&quot; in Google Drive">
                  <md-icon filled="" class="small-icon" aria-hidden="true"><template shadowrootmode="open"><!----><slot></slot></template><!--?lit$896484614$--><svg viewBox="0 0 24 24"><!--?lit$896484614$-->
    <path d="M20,6H12L10,4H4A2,2,0,0,0,2,6V18a2,2,0,0,0,2,2H20a2,2,0,0,0,2-2V8A2,2,0,0,0,20,6ZM13.57,9.32,13,8.4l.34-.6h3.11l3.69,6.5H16.38M12.11,17l-.67,1.2h-1L9,15.42,12.72,9l2,3.46h0M19.3,18.2H12.09l.67-1.2,1.15-2h6.64l.34.6Z"></path></svg></md-icon>
                </a>
          </div>
          <div class="small-icon-action">
            <a target="_blank" href="https://colab.research.google.com/drive/1iKWmyqEQyYx4AC09UcmeUpcn-DmHOiaa" title="Open &quot;Untitled35.ipynb&quot; in new tab">
              <md-icon class="small-icon" aria-hidden="true"><template shadowrootmode="open"><!----><slot></slot></template>open_in_new</md-icon>
            </a>
          </div>
        </div>
      </div>
    </mwc-list-item><!----><!----><mwc-list-item twoline="" graphic="icon" mwc-list-item="" role="row" tabindex="-1" aria-disabled="false" aria-selected="false" style="position: absolute; box-sizing: border-box; transform: translate(0px, 1152px); top: 0px;"><template shadowrootmode="open"><!---->
      <!--?lit$896484614$-->
      <!--?lit$896484614$-->
      <span class="mdc-deprecated-list-item__graphic material-icons   ">
        <slot name="graphic"></slot>
      </span>
      <!--?lit$896484614$-->
      <span class="mdc-deprecated-list-item__text">
        <!--?lit$896484614$-->
      <span class="mdc-deprecated-list-item__primary-text">
        <slot></slot>
      </span>
      <span class="mdc-deprecated-list-item__secondary-text">
        <slot name="secondary"></slot>
      </span>
    
      </span>
      <!--?lit$896484614$--><!--?--><!--?--></template>
      <md-icon slot="graphic" role="cell" title="Notebook stored in Google Drive"><template shadowrootmode="open"><!----><slot></slot></template><!--?lit$896484614$-->
      <svg viewBox="0 0 192 192">
        <path d="M128.33,122l7.59,26.17l19.89,21.42c0,0,0,0,0,0v0c2.69-1.55,4.98-3.8,6.59-6.59l18.48-32 c1.61-2.78,2.41-5.89,2.41-9l-28.38-5.5L128.33,122z" fill="#EA4335"></path>
        <path d="M123.48,18.41c-2.69-1.55-5.78-2.41-9-2.41H77.53c-3.2,0-6.32,0.88-9,2.41l0,0l7.96,26.81l19.44,20.64 L96,66l0,0l19.58-20.89L123.48,18.41C123.48,18.41,123.48,18.41,123.48,18.41C123.48,18.41,123.48,18.41,123.48,18.41z" fill="#188038"></path>
        <path d="M63.67,122l-28.33-6.5L8.72,122c0,3.1,0.8,6.2,2.4,8.99L29.6,163c1.61,2.78,3.9,5.03,6.59,6.59 l19.59-20.18L63.67,122L63.67,122z" fill="#1967D2"></path>
        <path d="M155.47,69l-25.4-44c-1.61-2.79-3.9-5.04-6.59-6.59L96,66l32.33,56h54.95c0-3.11-0.8-6.21-2.41-9 L155.47,69z" fill="#FBBC04"></path><path d="M128.33,122H63.67l-27.48,47.59c2.69,1.55,5.78,2.41,9,2.41h101.61c3.22,0,6.31-0.86,9-2.41L128.33,122z" fill="#4285F4"></path>
        <path d="M96,66L68.53,18.41c-2.69,1.55-4.97,3.79-6.58,6.57l-50.83,88.05c-1.6,2.78-2.4,5.88-2.4,8.97h54.95L96,66 z" fill="#34A853"></path>
      </svg></md-icon>
      <div class="item-row   ">
        <div class="title-column multiline-column" role="cell">
          <a class="row-link" href="https://colab.research.google.com/drive/199Ky2x2iXN2qfYK99tQio7k8vRJUyUsn" title="Untitled34.ipynb">
            <div class="row-link-text nowrap multiline-primary"><!--?lit$896484614$-->Untitled34.ipynb</div>
          </a>
          <div class="secondary"><!--?lit$896484614$--><!--?lit$896484614$--></div>
        </div>
        <!--?lit$896484614$-->
        <!--?lit$896484614$--> <span role="cell" class="date-column date-column-last"><!--?lit$896484614$-->Oct 10, 2023</span>
        <!--?lit$896484614$--> <span role="cell" class="date-column date-column-first"><!--?lit$896484614$-->Oct 10, 2023</span>
        <div class="grow"></div>
        <div class="small-icon-action-column" role="cell">
          <div class="small-icon-action">
            <!--?lit$896484614$--> <a target="_blank" href="https://drive.google.com/drive/?action=locate&amp;id=199Ky2x2iXN2qfYK99tQio7k8vRJUyUsn&amp;authuser=0" aria-label="View &quot;Untitled34.ipynb&quot; in Google Drive Link will open in a new tab" title="View &quot;Untitled34.ipynb&quot; in Google Drive">
                  <md-icon filled="" class="small-icon" aria-hidden="true"><template shadowrootmode="open"><!----><slot></slot></template><!--?lit$896484614$--><svg viewBox="0 0 24 24"><!--?lit$896484614$-->
    <path d="M20,6H12L10,4H4A2,2,0,0,0,2,6V18a2,2,0,0,0,2,2H20a2,2,0,0,0,2-2V8A2,2,0,0,0,20,6ZM13.57,9.32,13,8.4l.34-.6h3.11l3.69,6.5H16.38M12.11,17l-.67,1.2h-1L9,15.42,12.72,9l2,3.46h0M19.3,18.2H12.09l.67-1.2,1.15-2h6.64l.34.6Z"></path></svg></md-icon>
                </a>
          </div>
          <div class="small-icon-action">
            <a target="_blank" href="https://colab.research.google.com/drive/199Ky2x2iXN2qfYK99tQio7k8vRJUyUsn" title="Open &quot;Untitled34.ipynb&quot; in new tab">
              <md-icon class="small-icon" aria-hidden="true"><template shadowrootmode="open"><!----><slot></slot></template>open_in_new</md-icon>
            </a>
          </div>
        </div>
      </div>
    </mwc-list-item><!----><!----><mwc-list-item twoline="" graphic="icon" mwc-list-item="" role="row" tabindex="-1" aria-disabled="false" aria-selected="false" style="position: absolute; box-sizing: border-box; transform: translate(0px, 1216px); top: 0px;"><template shadowrootmode="open"><!---->
      <!--?lit$896484614$-->
      <!--?lit$896484614$-->
      <span class="mdc-deprecated-list-item__graphic material-icons   ">
        <slot name="graphic"></slot>
      </span>
      <!--?lit$896484614$-->
      <span class="mdc-deprecated-list-item__text">
        <!--?lit$896484614$-->
      <span class="mdc-deprecated-list-item__primary-text">
        <slot></slot>
      </span>
      <span class="mdc-deprecated-list-item__secondary-text">
        <slot name="secondary"></slot>
      </span>
    
      </span>
      <!--?lit$896484614$--><!--?--><!--?--></template>
      <md-icon slot="graphic" role="cell" title="Notebook stored in Google Drive"><template shadowrootmode="open"><!----><slot></slot></template><!--?lit$896484614$-->
      <svg viewBox="0 0 192 192">
        <path d="M128.33,122l7.59,26.17l19.89,21.42c0,0,0,0,0,0v0c2.69-1.55,4.98-3.8,6.59-6.59l18.48-32 c1.61-2.78,2.41-5.89,2.41-9l-28.38-5.5L128.33,122z" fill="#EA4335"></path>
        <path d="M123.48,18.41c-2.69-1.55-5.78-2.41-9-2.41H77.53c-3.2,0-6.32,0.88-9,2.41l0,0l7.96,26.81l19.44,20.64 L96,66l0,0l19.58-20.89L123.48,18.41C123.48,18.41,123.48,18.41,123.48,18.41C123.48,18.41,123.48,18.41,123.48,18.41z" fill="#188038"></path>
        <path d="M63.67,122l-28.33-6.5L8.72,122c0,3.1,0.8,6.2,2.4,8.99L29.6,163c1.61,2.78,3.9,5.03,6.59,6.59 l19.59-20.18L63.67,122L63.67,122z" fill="#1967D2"></path>
        <path d="M155.47,69l-25.4-44c-1.61-2.79-3.9-5.04-6.59-6.59L96,66l32.33,56h54.95c0-3.11-0.8-6.21-2.41-9 L155.47,69z" fill="#FBBC04"></path><path d="M128.33,122H63.67l-27.48,47.59c2.69,1.55,5.78,2.41,9,2.41h101.61c3.22,0,6.31-0.86,9-2.41L128.33,122z" fill="#4285F4"></path>
        <path d="M96,66L68.53,18.41c-2.69,1.55-4.97,3.79-6.58,6.57l-50.83,88.05c-1.6,2.78-2.4,5.88-2.4,8.97h54.95L96,66 z" fill="#34A853"></path>
      </svg></md-icon>
      <div class="item-row   ">
        <div class="title-column multiline-column" role="cell">
          <a class="row-link" href="https://colab.research.google.com/drive/1cYcX0NDHLjw4vBlrswqI0IKzYV7VAaNL" title="KNN.ipynb">
            <div class="row-link-text nowrap multiline-primary"><!--?lit$896484614$-->KNN.ipynb</div>
          </a>
          <div class="secondary"><!--?lit$896484614$--><!--?lit$896484614$--></div>
        </div>
        <!--?lit$896484614$-->
        <!--?lit$896484614$--> <span role="cell" class="date-column date-column-last"><!--?lit$896484614$-->Oct 10, 2023</span>
        <!--?lit$896484614$--> <span role="cell" class="date-column date-column-first"><!--?lit$896484614$-->Oct 10, 2023</span>
        <div class="grow"></div>
        <div class="small-icon-action-column" role="cell">
          <div class="small-icon-action">
            <!--?lit$896484614$--> <a target="_blank" href="https://drive.google.com/drive/?action=locate&amp;id=1cYcX0NDHLjw4vBlrswqI0IKzYV7VAaNL&amp;authuser=0" aria-label="View &quot;KNN.ipynb&quot; in Google Drive Link will open in a new tab" title="View &quot;KNN.ipynb&quot; in Google Drive">
                  <md-icon filled="" class="small-icon" aria-hidden="true"><template shadowrootmode="open"><!----><slot></slot></template><!--?lit$896484614$--><svg viewBox="0 0 24 24"><!--?lit$896484614$-->
    <path d="M20,6H12L10,4H4A2,2,0,0,0,2,6V18a2,2,0,0,0,2,2H20a2,2,0,0,0,2-2V8A2,2,0,0,0,20,6ZM13.57,9.32,13,8.4l.34-.6h3.11l3.69,6.5H16.38M12.11,17l-.67,1.2h-1L9,15.42,12.72,9l2,3.46h0M19.3,18.2H12.09l.67-1.2,1.15-2h6.64l.34.6Z"></path></svg></md-icon>
                </a>
          </div>
          <div class="small-icon-action">
            <a target="_blank" href="https://colab.research.google.com/drive/1cYcX0NDHLjw4vBlrswqI0IKzYV7VAaNL" title="Open &quot;KNN.ipynb&quot; in new tab">
              <md-icon class="small-icon" aria-hidden="true"><template shadowrootmode="open"><!----><slot></slot></template>open_in_new</md-icon>
            </a>
          </div>
        </div>
      </div>
    </mwc-list-item><!---->
      <div virtualizer-sizer="" style="position: absolute; margin: -2px 0px 0px; padding: 0px; visibility: hidden; font-size: 2px; transform: translate(0px, 4096px);">&amp;nbsp;</div></mwc-list>
      </div>
    </div></template><md-icon-button slot="clearhistory" class="colab-icon clear-history" data-aria-label="Clear history" title="Clear history" value=""><template shadowrootmode="open" shadowrootdelegatesfocus><!----><button id="button" class="icon-button  standard " aria-label="Clear history">
        <!--?lit$896484614$--><md-focus-ring part="focus-ring" for="button" aria-hidden="true"><template shadowrootmode="open"><!----></template></md-focus-ring>
        <!--?lit$896484614$--><md-ripple aria-hidden="true"><template shadowrootmode="open"><!----><div class="surface   "></div></template></md-ripple>
        <!--?lit$896484614$--><span class="icon"><slot></slot></span>
        <!--?lit$896484614$-->
        <!--?lit$896484614$--><span class="touch"></span>
        <!--?lit$896484614$-->
  </button></template>
        <md-icon aria-hidden="true"><template shadowrootmode="open"><!----><slot></slot></template>delete</md-icon>
      </md-icon-button></colab-notebook-list><!--?--><!--?--></div><!----><!----><div class="pagecontent right-content" slot="page-2">
      </div><!----><!----><div class="pagecontent right-content" slot="page-3">
      </div><!----><!----><div class="pagecontent right-content" slot="page-4">
      </div><!---->
      </colab-pages>
    </colab-side-tab-dialog-page-viewer>
  </div><!----><!----><!----> <md-text-button slot="primaryAction" class="dismiss" dialogaction="cancel" value=""><template shadowrootmode="open" shadowrootdelegatesfocus><!---->
      <!--?lit$896484614$-->
      <div class="background"></div>
      <md-focus-ring part="focus-ring" for="button" aria-hidden="true"><template shadowrootmode="open"><!----></template></md-focus-ring>
      <md-ripple part="ripple" for="button" aria-hidden="true"><template shadowrootmode="open"><!----><div class="surface   "></div></template></md-ripple>
      <!--?lit$896484614$--><button id="button" class="button">
      <!--?lit$896484614$-->
      <span class="touch"></span>
      <!--?lit$896484614$--><slot name="icon"></slot>
      <span class="label"><slot></slot></span>
      <!--?lit$896484614$-->
    
    </button>
    </template>
    <!--?lit$896484614$-->Cancel
  </md-text-button><!----><!----></mwc-dialog></body></html>